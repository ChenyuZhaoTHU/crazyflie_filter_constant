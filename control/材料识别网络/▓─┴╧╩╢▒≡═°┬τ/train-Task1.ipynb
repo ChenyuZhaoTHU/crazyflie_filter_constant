{
 "cells": [
  {
   "cell_type": "code",
   "execution_count": 65,
   "metadata": {},
   "outputs": [
    {
     "data": {
      "text/plain": [
       "{'divide': 'ignore', 'over': 'warn', 'under': 'ignore', 'invalid': 'ignore'}"
      ]
     },
     "execution_count": 65,
     "metadata": {},
     "output_type": "execute_result"
    }
   ],
   "source": [
    "import pandas as pd\n",
    "import os\n",
    "import time\n",
    "import shutil\n",
    "import utils, models\n",
    "import numpy as np\n",
    "import torch\n",
    "from torch import nn, optim\n",
    "import torch.nn.functional as F\n",
    "from torch.utils.data import Dataset\n",
    "from torch.utils.data import DataLoader\n",
    "from tqdm import tqdm\n",
    "import matplotlib.pyplot as plt\n",
    "import datetime\n",
    "# from tensorboard_logger import Logger\n",
    "import json\n",
    "import confuse_matrix as cm\n",
    "np.seterr(divide='ignore',invalid='ignore')\n"
   ]
  },
  {
   "cell_type": "code",
   "execution_count": 66,
   "metadata": {},
   "outputs": [],
   "source": [
    "def dataset_generate(directory):\n",
    "    # '''------------数据预处理相关--------------'''\n",
    "    # 加载数据集并分割数据测试集和验证集\n",
    "\n",
    "    # 训练集\n",
    "\n",
    "    on00_x = np.zeros((30,200,9))\n",
    "    for i in range(np.shape(on00_x)[0]):\n",
    "        on00_x[i,:,:] = np.loadtxt('/home/nuci7/project/cf2/crazyflie-firmware/control/train_data/on00_'+str(i+1)+'.txt')\n",
    "    on00_y = 0 * np.ones(on00_x.shape[0])\n",
    "\n",
    "\n",
    "    on45_x = np.zeros((30,200,9))\n",
    "    for i in range(np.shape(on45_x)[0]):\n",
    "        on45_x[i,:,:] = np.loadtxt('/home/nuci7/project/cf2/crazyflie-firmware/control/train_data/on45_'+str(i+1)+'.txt')\n",
    "    on45_y = 1 * np.ones(on45_x.shape[0])\n",
    "\n",
    "    on135_x = np.zeros((30,200,9))\n",
    "    for i in range(np.shape(on135_x)[0]):\n",
    "        on135_x[i,:,:] = np.loadtxt('/home/nuci7/project/cf2/crazyflie-firmware/control/train_data/on135_'+str(i+1)+'.txt')\n",
    "    on135_y = 2 * np.ones(on135_x.shape[0])\n",
    "\n",
    "\n",
    "    # epoxy_plate_x = np.load(train_val_save_dir + \"epoxy-plate.npy\")\n",
    "    # epoxy_plate_y = 3 * np.ones(epoxy_plate_x.shape[0])\n",
    "\n",
    "    # glass_x = np.load(train_val_save_dir + \"glass.npy\")\n",
    "    # glass_y = 4 * np.ones(glass_x.shape[0])\n",
    "    #     # 训练集\n",
    "    # leather_x = np.load(train_val_save_dir+\"leather.npy\")\n",
    "    # leather_y = 5 * np.ones(leather_x.shape[0])\n",
    "\n",
    "    # lint_x = np.load(train_val_save_dir+\"lint.npy\")\n",
    "    # lint_y = 6 * np.ones(lint_x.shape[0])\n",
    "\n",
    "    # nylon_x = np.load(train_val_save_dir+\"nylon.npy\")\n",
    "    # nylon_y = 7 * np.ones(nylon_x.shape[0])\n",
    "\n",
    "    # silicon_x = np.load(train_val_save_dir + \"silicon.npy\")\n",
    "    # silicon_y = 8* np.ones(silicon_x.shape[0])\n",
    "\n",
    "    # wood_x = np.load(train_val_save_dir + \"wood.npy\")\n",
    "    # wood_y = 9* np.ones(wood_x.shape[0])\n",
    "\n",
    "\n",
    "\n",
    "    X = np.concatenate((on00_x [0:30, :],\n",
    "                        on45_x [0:30, :],\n",
    "                        on135_x [0:30, :],),\n",
    "                        axis = 0)\n",
    "    y = np.concatenate((on00_y [0:30],\n",
    "                        on45_y [0:30],\n",
    "                        on135_y [0:30],),\n",
    "                        axis = 0)\n",
    "\n",
    "    X = np.delete(X, [7,8], axis=2)\n",
    "    X = X.reshape((X.shape[0],7, X.shape[1]))\n",
    "    print(X.shape)\n",
    "    print(y.shape)\n",
    "\n",
    "    on00_x = X[0:30]\n",
    "    on45_x = X[30:60]\n",
    "    on135_x = X[60:]\n",
    "\n",
    "\n",
    "    perm = np.random.permutation(X.shape[0])\n",
    "    X_shuffled = X[perm]\n",
    "    y_shuffled = y[perm]\n",
    "\n",
    "\n",
    "\n",
    "    # # 打乱顺序\n",
    "    # X_random = np.zeros((X.shape[0], X.shape[1], X.shape[2]))\n",
    "    # y_random = np.zeros((X.shape[0]))\n",
    "\n",
    "    # for i in range(X.shape[0]):\n",
    "    #     if i % 3 == 0:\n",
    "    #         X_random[i] = on00_x [i // 10, :]\n",
    "    #         y_random[i] = on00_y [i // 10]\n",
    "    #     elif i % 3 == 1:\n",
    "    #         X_random[i] = on45_x [i // 10, :]\n",
    "    #         y_random[i] = on45_y [i // 10]\n",
    "    #     elif i % 3 == 2:\n",
    "    #         X_random[i] = on135_x [i // 10, :]\n",
    "    #         y_random[i] = on135_y [i // 10]\n",
    "\n",
    "    # shuffle_indices = np.random.permutation(np.arange(len(y_random)))\n",
    "    # # X_shuffled = X_random[shuffle_indices]\n",
    "    # # y_shuffled = y_random[shuffle_indices]\n",
    "\n",
    "    # X_shuffled = X_random\n",
    "    # y_shuffled = y_random\n",
    "\n",
    "    print(X_shuffled.shape)\n",
    "    print(y_shuffled.shape)\n",
    "        # 数据归一化\n",
    "    for i in range(X_shuffled.shape[0]):\n",
    "        X_shuffled[i,0] = X_shuffled[i,0] / X_shuffled[i,0].max(axis=0).reshape(-1,1)\n",
    "\n",
    "    # 将numpy数据封装为pytorch上的.pth文件\n",
    "    X_train = X_shuffled[0:70, :,:].astype('float32')\n",
    "    y_train = y_shuffled[0:70].astype('float32')\n",
    "\n",
    "\n",
    "    X_val = X_shuffled[70:, :].astype('float32')\n",
    "    y_val = y_shuffled[70:].astype('float32')\n",
    "\n",
    "    dd = {'train': X_train,\n",
    "            'val': X_val,\n",
    "            'label_train': y_train,\n",
    "            'label_val': y_val}\n",
    "    # 保存数据集为.pth文件\n",
    "    print(np.shape(X_val))\n",
    "\n",
    "    torch.save(dd, directory)\n"
   ]
  },
  {
   "cell_type": "code",
   "execution_count": 67,
   "metadata": {},
   "outputs": [],
   "source": [
    "def save_ckpt(state, is_best, model_save_dir):\n",
    "    current_w = os.path.join(model_save_dir, 'current_w.pth')\n",
    "    best_w = os.path.join(model_save_dir, 'best_w.pth')\n",
    "    torch.save(state, current_w)\n",
    "    if is_best: shutil.copyfile(current_w, best_w)\n",
    "\n",
    "\n",
    "class TENGDataset(Dataset):\n",
    "    \"\"\"\n",
    "    A generic data loader where the samples are arranged in this way:\n",
    "    dd = {'train': train, 'val': val, \"idx2name\": idx2name, 'file2idx': file2idx}\n",
    "    \"\"\"\n",
    "\n",
    "    def __init__(self, path, train=True):\n",
    "        super(TENGDataset, self).__init__()\n",
    "        dd = torch.load(path)\n",
    "        self.train = train\n",
    "        self.data = dd['train'] if train else dd['val']\n",
    "        self.label = dd['label_train'] if train else dd['label_val']\n",
    "\n",
    "    def __getitem__(self, index):\n",
    "        x = self.data[index].astype('float32')\n",
    "        target = self.label[index]\n",
    "        return x, target\n",
    "\n",
    "    def __len__(self):\n",
    "        return len(self.data)\n",
    "\n",
    "\n",
    "def train_epoch(model, optimizer, train_dataloader, show_interval=10):\n",
    "    model.train()\n",
    "    acc_meter, loss_meter, it_count = 0, 0, 0\n",
    "    for inputs, target in tqdm(train_dataloader):\n",
    "        inputs = inputs.to(device)\n",
    "        target = target.to(device)\n",
    "        optimizer.zero_grad()\n",
    "        output = F.log_softmax(model(inputs), dim=1)\n",
    "#         print(torch.exp(output[0]))\n",
    "#         print(target[0])\n",
    "        loss = F.nll_loss(output, target.long())\n",
    "        loss.backward()\n",
    "        optimizer.step()\n",
    "        loss_meter += loss.item()\n",
    "        pred = output.argmax(dim=1)\n",
    "        acc = torch.eq(pred, target).sum().float().item() / len(inputs)\n",
    "        acc_meter += acc\n",
    "        it_count += 1\n",
    "#         if it_count != 0 and it_count % show_interval == 0:\n",
    "#             print(\"%d, loss: %.3e acc: %.3f\" % (it_count, loss.item(), acc))\n",
    "    return loss_meter / it_count, acc_meter / it_count\n",
    "\n",
    "\n",
    "def val_epoch(model, optimizer, val_dataloader):\n",
    "    model.eval()\n",
    "    acc_meter, loss_meter, it_count = 0, 0, 0\n",
    "    with torch.no_grad():\n",
    "        for inputs, target in val_dataloader:\n",
    "            inputs = inputs.to(device)\n",
    "            target = target.to(device)\n",
    "            optimizer.zero_grad()\n",
    "            output = F.log_softmax(model(inputs), dim=1)\n",
    "            loss = F.nll_loss(output, target.long())\n",
    "            loss_meter += loss.item()\n",
    "            pred = output.argmax(dim=1)\n",
    "            acc = torch.eq(pred, target).sum().float().item() / len(inputs)\n",
    "            acc_meter += acc\n",
    "            it_count += 1\n",
    "    return loss_meter / it_count, acc_meter / it_count\n",
    "\n",
    "# 训练结果可视化 准确率+损失\n",
    "def plot_accuracies_loss(history, figs_directory):\n",
    "    # 设置字体\n",
    "    SMALL_SIZE = 8\n",
    "    MEDIUM_SIZE = 10\n",
    "    BIGGER_SIZE = 12\n",
    "    plt.rc('font', size=BIGGER_SIZE)  # controls default text sizes\n",
    "    plt.rc('axes', titlesize=BIGGER_SIZE)  # fontsize of the axes title\n",
    "    plt.rc('axes', labelsize=BIGGER_SIZE)  # fontsize of the x and y labels\n",
    "    plt.rc('xtick', labelsize=SMALL_SIZE)  # fontsize of the tick labels\n",
    "    plt.rc('ytick', labelsize=SMALL_SIZE)  # fontsize of the tick labels\n",
    "    plt.rc('legend', fontsize=BIGGER_SIZE)  # legend fontsize\n",
    "    plt.rc('figure', titlesize=BIGGER_SIZE)  # fontsize of the figure title\n",
    "    Validation_accuracies = [x['val_accuracy'] for x in history]\n",
    "    Training_Accuracies = [x['train_accuracy'] for x in history]\n",
    "    train_losses = [x['train_loss'] for x in history]\n",
    "    val_losses = [x['val_loss'] for x in history]\n",
    "    plt.plot(Training_Accuracies, '-ro',linewidth=1)\n",
    "    plt.plot(Validation_accuracies, '-bo',linewidth=1)\n",
    "    plt.plot(train_losses, '-rx')\n",
    "    plt.plot(val_losses, '-bx')\n",
    "    plt.xlabel('Number of epochs')\n",
    "    plt.ylabel('accuracy/loss')\n",
    "    plt.legend(['Training_Accuracies', 'Validation_accuracies','train_losses','val_losses'])\n",
    "    plt.title('Accuracy/Loss vs. Number of epochs')\n",
    "    plt.savefig(figs_directory+'-plot_accuracies_loss.jpg', dpi=1000)  # 指定分辨率保存\n",
    "\n",
    "\n",
    "# 训练结果可视化 准确率+损失\n",
    "def plot_accuracies(history, figs_directory):\n",
    "    # 设置字体\n",
    "    SMALL_SIZE = 8\n",
    "    MEDIUM_SIZE = 10\n",
    "    BIGGER_SIZE = 12\n",
    "    plt.rc('font', size=BIGGER_SIZE)  # controls default text sizes\n",
    "    plt.rc('axes', titlesize=BIGGER_SIZE)  # fontsize of the axes title\n",
    "    plt.rc('axes', labelsize=BIGGER_SIZE)  # fontsize of the x and y labels\n",
    "    plt.rc('xtick', labelsize=SMALL_SIZE)  # fontsize of the tick labels\n",
    "    plt.rc('ytick', labelsize=SMALL_SIZE)  # fontsize of the tick labels\n",
    "    plt.rc('legend', fontsize=BIGGER_SIZE)  # legend fontsize\n",
    "    plt.rc('figure', titlesize=BIGGER_SIZE)  # fontsize of the figure title\n",
    "    \n",
    "\n",
    "    Validation_accuracies = [x['val_accuracy'] for x in history]\n",
    "    Training_Accuracies = [x['train_accuracy'] for x in history]\n",
    "    plt.plot(Training_Accuracies, '-ro',linewidth=1)\n",
    "    plt.plot(Validation_accuracies, '-bo',linewidth=1)\n",
    "    plt.xlabel('Number of epochs')\n",
    "    plt.ylabel('accuracy')\n",
    "    plt.legend(['Training', 'Validation'], loc='lower right')\n",
    "    plt.title('Accuracy vs. Number of epochs')\n",
    "    plt.savefig(figs_directory+'plot_accuracies.jpg', dpi=1000)  # 指定分辨率保存\n",
    "\n",
    "\n",
    "def plot_losses(history, figs_directory):\n",
    "    # 设置字体\n",
    "    SMALL_SIZE = 8\n",
    "    MEDIUM_SIZE = 10\n",
    "    BIGGER_SIZE = 12\n",
    "    plt.rc('font', size=BIGGER_SIZE)  # controls default text sizes\n",
    "    plt.rc('axes', titlesize=BIGGER_SIZE)  # fontsize of the axes title\n",
    "    plt.rc('axes', labelsize=BIGGER_SIZE)  # fontsize of the x and y labels\n",
    "    plt.rc('xtick', labelsize=SMALL_SIZE)  # fontsize of the tick labels\n",
    "    plt.rc('ytick', labelsize=SMALL_SIZE)  # fontsize of the tick labels\n",
    "    plt.rc('legend', fontsize=BIGGER_SIZE)  # legend fontsize\n",
    "    plt.rc('figure', titlesize=BIGGER_SIZE)  # fontsize of the figure title\n",
    "\n",
    "    train_losses = [x['train_loss'] for x in history]\n",
    "    val_losses = [x['val_loss'] for x in history]\n",
    "    plt.plot(train_losses, '-bx',linewidth=1)\n",
    "    plt.plot(val_losses, '-rx',linewidth=1)\n",
    "    plt.xlabel('epoch')\n",
    "    plt.ylabel('loss')\n",
    "    plt.legend(['Training', 'Validation'])\n",
    "    plt.title('Loss vs. No. of epochs')\n",
    "    plt.savefig(figs_directory+'-plot_losses.jpg', dpi=1000)  # 指定分辨率保存\n",
    "\n",
    "\n",
    "# 训练函数\n",
    "def train_main(model_select=\"1D-CNN\", inplanes=2, num_classes=4, batch_size=32, learning_rate=0.001, epoch_max=5):\n",
    "    # 数据集保存位置\n",
    "    directory = \"./\" + model_select + f'/Train_{datetime.datetime.now().strftime(\"%Y%m%d-%H%M\")}/'\n",
    "    if not os.path.exists(directory):\n",
    "        os.makedirs(directory)\n",
    "    data_directory = directory + f'data_{datetime.datetime.now().strftime(\"%Y%m%d-%H%M\")}.pth'\n",
    "    model_directory = directory + f'model_{datetime.datetime.now().strftime(\"%Y%m%d-%H%M\")}'\n",
    "    states_directory = directory + f'states_{datetime.datetime.now().strftime(\"%Y%m%d-%H%M\")}.pth'\n",
    "    history_directory = directory + f'history_{datetime.datetime.now().strftime(\"%Y%m%d-%H%M\")}.csv'\n",
    "    figs_directory = directory + f'/figs'\n",
    "    # 数据集生成\n",
    "    dataset_generate(data_directory)\n",
    "    # 数据集导入\n",
    "    train_dataset = TENGDataset(data_directory, train=True)\n",
    "    train_dataloader = DataLoader(train_dataset, batch_size, shuffle=True, num_workers=1)\n",
    "    val_dataset = TENGDataset(data_directory, train=False)\n",
    "    val_dataloader = DataLoader(val_dataset, batch_size, shuffle=True, num_workers=1)\n",
    "    print(\"train data size:\", len(train_dataset), \",val data size:\", len(val_dataset))\n",
    "\n",
    "    # 模型建立\n",
    "    if model_select == \"1D-CNN\":\n",
    "        model = models.Conv1dNet(inplanes, num_classes)\n",
    "    elif model_select == \"ResCNN\":\n",
    "        model = models.ResCNN_Net(inplanes, num_classes)\n",
    "    elif model_select == \"LSTM-FCN\":\n",
    "        model = models.LSTM_FCN_Net(inplanes, 1000, num_classes)\n",
    "    elif model_select == \"InceptionTime\":\n",
    "        model = models.InceptionTime_Net(inplanes, num_classes)\n",
    "    elif model_select == \"FR_CNN_Net\":\n",
    "        model = models.FR_CNN_Net(inplanes, num_classes)\n",
    "    else:\n",
    "        model = models.Conv1dNet(inplanes, num_classes)\n",
    "\n",
    "    model = model.to(device)\n",
    "    model_save_dir = model_directory\n",
    "    if not os.path.exists(model_save_dir):\n",
    "        os.makedirs(model_save_dir)\n",
    "    best_lost = 1e3\n",
    "    lr = learning_rate #1e-3\n",
    "    start_epoch = 0\n",
    "    stage = 1\n",
    "    # logger = Logger(logdir=model_save_dir, flush_secs=2)\n",
    "    states = []\n",
    "\n",
    "    optimizer = optim.SGD(model.parameters(), lr, momentum=0.9, weight_decay=1e-4)\n",
    "    scheduler = optim.lr_scheduler.ExponentialLR(optimizer, gamma=1)  # 0.95\n",
    "\n",
    "    history = []\n",
    "\n",
    "    for epoch in range(start_epoch, epoch_max):\n",
    "        since = time.time()\n",
    "        train_loss, train_acc = train_epoch(model, optimizer, train_dataloader)\n",
    "        val_loss, val_acc = val_epoch(model, optimizer, val_dataloader)\n",
    "\n",
    "        print('#epoch: %02d \\n train_loss: %.3e train_acc: %.3f \\n val_loss: %0.3e val_acc: %.3f time: %s\\n'\n",
    "              % (epoch, train_loss, train_acc, val_loss, val_acc,'56'))# utils.print_time_cost(since)))\n",
    "\n",
    "        # logger.log_value('train_loss', train_loss, step=epoch)\n",
    "        # logger.log_value('train_acc', train_acc, step=epoch)\n",
    "        # logger.log_value('val_loss', val_loss, step=epoch)\n",
    "        # logger.log_value('val_acc', val_acc, step=epoch)\n",
    "\n",
    "        state = {\"state_dict\": model.state_dict(), \"epoch\": epoch,\n",
    "                 \"loss\": val_loss, 'acc': val_acc, 'lr': lr, 'stage': stage}\n",
    "        states.append(state)\n",
    "\n",
    "        scheduler.step()\n",
    "        # for plot result\n",
    "        result = {}\n",
    "        result['train_loss'] = train_loss\n",
    "        result['train_accuracy'] = train_acc\n",
    "        result['val_loss'] = val_loss\n",
    "        result['val_accuracy'] = val_acc\n",
    "        history.append(result)\n",
    "\n",
    "        save_ckpt(state, best_lost > val_loss, model_save_dir)\n",
    "        best_lost = min(best_lost, val_loss)\n",
    "        if epoch in [5, 15, 25]:\n",
    "            stage += 1\n",
    "            lr /= 10\n",
    "            current_w = os.path.join(model_save_dir, 'current_w.pth')\n",
    "            model.load_state_dict(torch.load(current_w)['state_dict'])\n",
    "            print(\"*\" * 10, \"step into stage%02d lr %.3ef\" % (stage, lr))\n",
    "            # utils.adjust_learning_rate(optimizer, lr)\n",
    "\n",
    "    torch.save(states, states_directory)\n",
    "    \n",
    "    # 保存模型\n",
    "\n",
    "    torch.save(model.state_dict(),  directory +model_select+ \".model\")\n",
    "    torch.save(model, directory + model_select + \".pth\")\n",
    "    # 保存训练过程history 到txt 文件\n",
    "    # history_save_path = './History_' + datetime.datetime.now().strftime(\"%Y%m%d\") + '/'\n",
    "    # if not os.path.exists(history_save_path): \n",
    "    #     os.makedirs(history_save_path)\n",
    "\n",
    "\n",
    "    # filename = open(history_directory, 'w')\n",
    "    # for item in history:\n",
    "    #     filename.write(str(item))\n",
    "    #     filename.write(\"\\r\\n\")\n",
    "    # filename.close()\n",
    "\n",
    "    dataframe = pd.DataFrame(history)\n",
    "    # 将DataFrame存储为csv,index表示是否显示行名，default=True\n",
    "    dataframe.to_csv(history_directory, index=False, sep=',')\n",
    "\n",
    "\n",
    "    # # 训练结果可视化\n",
    "    # plot_accuracies(history, figs_directory)\n",
    "    # plt.show()\n",
    "    # plot_losses(history, figs_directory)\n",
    "    # plt.show()\n",
    "    # plot_accuracies_loss(history, figs_directory)\n",
    "    # plt.show()\n",
    "    # plot_confusion_matrix(data_directory,directory + model_select+ \".model\",model_select,figs_directory,batch_size,inplanes,num_classes,json_label_path='class_object.json')\n",
    "    # plt.show()\n",
    "\n",
    "\n",
    "\n",
    "\n",
    "# 测试函数\n",
    "def test_main(inplanes=19, num_classes=12, state_dict_file='./Train_20211230/con1d_20211230-115750/best_w.pth', dataset_file='./Train_20211230/train_20211230-1157.pth'):\n",
    "    model = models.Conv1dNet(inplanes, num_classes)\n",
    "    model = model.to(device)\n",
    "    model.load_state_dict(torch.load(state_dict_file)['state_dict'])\n",
    "    test_dataset = torch.load(dataset_file)['val']\n",
    "    test_label = torch.load(dataset_file)['label_val']\n",
    "    inputs = torch.Tensor(test_dataset).to(device)\n",
    "    output = F.log_softmax(model(inputs), dim=1)\n",
    "    pred = output.argmax(dim=1)\n",
    "    pred_new = pred.cpu().numpy()\n",
    "    # pred_count = []\n",
    "    # expand = 20\n",
    "    # for i in range(len(pred_new) // expand):\n",
    "    #     c = np.bincount(pred_new[i * expand:(i + 1) * expand])\n",
    "    #     pred_count.append(np.argmax(c))\n",
    "    #     print(pred_new[i * expand:(i + 1) * expand].tolist())\n",
    "    print(pred_new.tolist())\n",
    "    print(test_label)\n",
    "\n",
    "\n",
    "# 绘制混淆矩阵\n",
    "def plot_confusion_matrix(val_dataset_file, model_file, model_select,figs_directory,batch_size=32, inplanes=1, num_classes=4, json_label_path='class_material.json'):\n",
    "    # 绘制混淆矩阵\n",
    "    # load val dataloader\n",
    "    validate_dataset = TENGDataset(val_dataset_file, train=False)\n",
    "    validate_dataloader = DataLoader(validate_dataset, batch_size, shuffle=True, num_workers=1)\n",
    "    print(\"val data size:\", len(validate_dataset))\n",
    "\n",
    "    # 模型建立\n",
    "    if model_select == \"1D-CNN\":\n",
    "        net = models.Conv1dNet(inplanes, num_classes)\n",
    "    elif model_select == \"ResCNN\":\n",
    "        net = models.ResCNN_Net(inplanes, num_classes)\n",
    "    elif model_select == \"LSTM-FCN\":\n",
    "        net = models.LSTM_FCN_Net(inplanes, 1000, num_classes)\n",
    "    elif model_select == \"InceptionTime\":\n",
    "        net = models.InceptionTime_Net(inplanes, num_classes)\n",
    "    elif model_select == \"FR_CNN_Net\":\n",
    "        net = models.FR_CNN_Net(inplanes, num_classes)\n",
    "    else:\n",
    "        net = models.Conv1dNet(inplanes, num_classes)\n",
    "\n",
    "    # load pretrain weights\n",
    "    model_weight_path = model_file\n",
    "    assert os.path.exists(model_weight_path), \"cannot find {} file\".format(model_weight_path)\n",
    "    net.load_state_dict(torch.load(model_weight_path, map_location=device))\n",
    "    net.to(device)\n",
    "\n",
    "    # read class_indict\n",
    "    assert os.path.exists(json_label_path), \"cannot find {} file\".format(json_label_path)\n",
    "    json_file = open(json_label_path, 'r')\n",
    "    class_indict = json.load(json_file)\n",
    "\n",
    "    labels = [label for _, label in class_indict.items()]\n",
    "    model_select = figs_directory\n",
    "    confusion = cm.ConfusionMatrix(num_classes, labels=labels, model=model_select)\n",
    "    net.eval()\n",
    "    with torch.no_grad():\n",
    "        for val_data in tqdm(validate_dataloader):\n",
    "            val_images, val_labels = val_data\n",
    "            outputs = net(val_images.to(device))\n",
    "            outputs = torch.softmax(outputs, dim=1)\n",
    "            outputs = torch.argmax(outputs, dim=1)\n",
    "            confusion.update(outputs.to(\"cpu\").numpy(), val_labels.to(\"cpu\").numpy())\n",
    "    confusion.plot_probability()\n",
    "    # confusion.plot()\n",
    "    # confusion.summary()\n"
   ]
  },
  {
   "cell_type": "code",
   "execution_count": 68,
   "metadata": {},
   "outputs": [
    {
     "name": "stdout",
     "output_type": "stream",
     "text": [
      "(90, 7, 200)\n",
      "(90,)\n",
      "(90, 7, 200)\n",
      "(90,)\n",
      "(20, 7, 200)\n",
      "train data size: 70 ,val data size: 20\n"
     ]
    },
    {
     "name": "stderr",
     "output_type": "stream",
     "text": [
      "100%|██████████| 18/18 [00:00<00:00, 166.44it/s]\n"
     ]
    },
    {
     "name": "stdout",
     "output_type": "stream",
     "text": [
      "#epoch: 00 \n",
      " train_loss: 1.257e+00 train_acc: 0.264 \n",
      " val_loss: 1.297e+00 val_acc: 0.250 time: 56\n",
      "\n"
     ]
    },
    {
     "name": "stderr",
     "output_type": "stream",
     "text": [
      "100%|██████████| 18/18 [00:00<00:00, 180.39it/s]\n"
     ]
    },
    {
     "name": "stdout",
     "output_type": "stream",
     "text": [
      "#epoch: 01 \n",
      " train_loss: 1.246e+00 train_acc: 0.222 \n",
      " val_loss: 1.147e+00 val_acc: 0.350 time: 56\n",
      "\n"
     ]
    },
    {
     "name": "stderr",
     "output_type": "stream",
     "text": [
      "100%|██████████| 18/18 [00:00<00:00, 212.58it/s]\n"
     ]
    },
    {
     "name": "stdout",
     "output_type": "stream",
     "text": [
      "#epoch: 02 \n",
      " train_loss: 1.192e+00 train_acc: 0.306 \n",
      " val_loss: 1.355e+00 val_acc: 0.250 time: 56\n",
      "\n"
     ]
    },
    {
     "name": "stderr",
     "output_type": "stream",
     "text": [
      "100%|██████████| 18/18 [00:00<00:00, 165.45it/s]\n"
     ]
    },
    {
     "name": "stdout",
     "output_type": "stream",
     "text": [
      "#epoch: 03 \n",
      " train_loss: 1.177e+00 train_acc: 0.208 \n",
      " val_loss: 1.090e+00 val_acc: 0.450 time: 56\n",
      "\n"
     ]
    },
    {
     "name": "stderr",
     "output_type": "stream",
     "text": [
      "100%|██████████| 18/18 [00:00<00:00, 203.63it/s]\n"
     ]
    },
    {
     "name": "stdout",
     "output_type": "stream",
     "text": [
      "#epoch: 04 \n",
      " train_loss: 1.138e+00 train_acc: 0.319 \n",
      " val_loss: 1.114e+00 val_acc: 0.250 time: 56\n",
      "\n"
     ]
    },
    {
     "name": "stderr",
     "output_type": "stream",
     "text": [
      "100%|██████████| 18/18 [00:00<00:00, 174.96it/s]\n"
     ]
    },
    {
     "name": "stdout",
     "output_type": "stream",
     "text": [
      "#epoch: 05 \n",
      " train_loss: 1.100e+00 train_acc: 0.347 \n",
      " val_loss: 1.115e+00 val_acc: 0.350 time: 56\n",
      "\n",
      "********** step into stage02 lr 5.000e-03f\n"
     ]
    },
    {
     "name": "stderr",
     "output_type": "stream",
     "text": [
      "100%|██████████| 18/18 [00:00<00:00, 179.51it/s]\n"
     ]
    },
    {
     "name": "stdout",
     "output_type": "stream",
     "text": [
      "#epoch: 06 \n",
      " train_loss: 1.143e+00 train_acc: 0.361 \n",
      " val_loss: 1.100e+00 val_acc: 0.250 time: 56\n",
      "\n"
     ]
    },
    {
     "name": "stderr",
     "output_type": "stream",
     "text": [
      "100%|██████████| 18/18 [00:00<00:00, 187.59it/s]\n"
     ]
    },
    {
     "name": "stdout",
     "output_type": "stream",
     "text": [
      "#epoch: 07 \n",
      " train_loss: 1.114e+00 train_acc: 0.264 \n",
      " val_loss: 1.113e+00 val_acc: 0.350 time: 56\n",
      "\n"
     ]
    },
    {
     "name": "stderr",
     "output_type": "stream",
     "text": [
      "100%|██████████| 18/18 [00:00<00:00, 160.72it/s]\n"
     ]
    },
    {
     "name": "stdout",
     "output_type": "stream",
     "text": [
      "#epoch: 08 \n",
      " train_loss: 1.111e+00 train_acc: 0.319 \n",
      " val_loss: 1.092e+00 val_acc: 0.300 time: 56\n",
      "\n"
     ]
    },
    {
     "name": "stderr",
     "output_type": "stream",
     "text": [
      "100%|██████████| 18/18 [00:00<00:00, 192.82it/s]\n"
     ]
    },
    {
     "name": "stdout",
     "output_type": "stream",
     "text": [
      "#epoch: 09 \n",
      " train_loss: 1.115e+00 train_acc: 0.250 \n",
      " val_loss: 1.095e+00 val_acc: 0.300 time: 56\n",
      "\n"
     ]
    },
    {
     "name": "stderr",
     "output_type": "stream",
     "text": [
      "100%|██████████| 18/18 [00:00<00:00, 171.30it/s]\n"
     ]
    },
    {
     "name": "stdout",
     "output_type": "stream",
     "text": [
      "#epoch: 10 \n",
      " train_loss: 1.116e+00 train_acc: 0.208 \n",
      " val_loss: 1.096e+00 val_acc: 0.350 time: 56\n",
      "\n"
     ]
    },
    {
     "name": "stderr",
     "output_type": "stream",
     "text": [
      "100%|██████████| 18/18 [00:00<00:00, 205.82it/s]\n"
     ]
    },
    {
     "name": "stdout",
     "output_type": "stream",
     "text": [
      "#epoch: 11 \n",
      " train_loss: 1.119e+00 train_acc: 0.306 \n",
      " val_loss: 1.081e+00 val_acc: 0.350 time: 56\n",
      "\n"
     ]
    },
    {
     "name": "stderr",
     "output_type": "stream",
     "text": [
      "100%|██████████| 18/18 [00:00<00:00, 181.86it/s]\n"
     ]
    },
    {
     "name": "stdout",
     "output_type": "stream",
     "text": [
      "#epoch: 12 \n",
      " train_loss: 1.124e+00 train_acc: 0.250 \n",
      " val_loss: 1.096e+00 val_acc: 0.300 time: 56\n",
      "\n"
     ]
    },
    {
     "name": "stderr",
     "output_type": "stream",
     "text": [
      "100%|██████████| 18/18 [00:00<00:00, 213.09it/s]\n"
     ]
    },
    {
     "name": "stdout",
     "output_type": "stream",
     "text": [
      "#epoch: 13 \n",
      " train_loss: 1.112e+00 train_acc: 0.278 \n",
      " val_loss: 1.105e+00 val_acc: 0.300 time: 56\n",
      "\n"
     ]
    },
    {
     "name": "stderr",
     "output_type": "stream",
     "text": [
      "100%|██████████| 18/18 [00:00<00:00, 170.61it/s]\n"
     ]
    },
    {
     "name": "stdout",
     "output_type": "stream",
     "text": [
      "#epoch: 14 \n",
      " train_loss: 1.129e+00 train_acc: 0.347 \n",
      " val_loss: 1.090e+00 val_acc: 0.350 time: 56\n",
      "\n"
     ]
    },
    {
     "name": "stderr",
     "output_type": "stream",
     "text": [
      "100%|██████████| 18/18 [00:00<00:00, 168.22it/s]\n"
     ]
    },
    {
     "name": "stdout",
     "output_type": "stream",
     "text": [
      "#epoch: 15 \n",
      " train_loss: 1.112e+00 train_acc: 0.278 \n",
      " val_loss: 1.075e+00 val_acc: 0.400 time: 56\n",
      "\n",
      "********** step into stage03 lr 5.000e-04f\n"
     ]
    },
    {
     "name": "stderr",
     "output_type": "stream",
     "text": [
      "100%|██████████| 18/18 [00:00<00:00, 154.19it/s]\n"
     ]
    },
    {
     "name": "stdout",
     "output_type": "stream",
     "text": [
      "#epoch: 16 \n",
      " train_loss: 1.106e+00 train_acc: 0.375 \n",
      " val_loss: 1.103e+00 val_acc: 0.300 time: 56\n",
      "\n"
     ]
    },
    {
     "name": "stderr",
     "output_type": "stream",
     "text": [
      "100%|██████████| 18/18 [00:00<00:00, 170.34it/s]\n"
     ]
    },
    {
     "name": "stdout",
     "output_type": "stream",
     "text": [
      "#epoch: 17 \n",
      " train_loss: 1.125e+00 train_acc: 0.264 \n",
      " val_loss: 1.078e+00 val_acc: 0.400 time: 56\n",
      "\n"
     ]
    },
    {
     "name": "stderr",
     "output_type": "stream",
     "text": [
      "100%|██████████| 18/18 [00:00<00:00, 215.10it/s]\n"
     ]
    },
    {
     "name": "stdout",
     "output_type": "stream",
     "text": [
      "#epoch: 18 \n",
      " train_loss: 1.125e+00 train_acc: 0.208 \n",
      " val_loss: 1.089e+00 val_acc: 0.300 time: 56\n",
      "\n"
     ]
    },
    {
     "name": "stderr",
     "output_type": "stream",
     "text": [
      "100%|██████████| 18/18 [00:00<00:00, 197.97it/s]\n"
     ]
    },
    {
     "name": "stdout",
     "output_type": "stream",
     "text": [
      "#epoch: 19 \n",
      " train_loss: 1.120e+00 train_acc: 0.347 \n",
      " val_loss: 1.090e+00 val_acc: 0.300 time: 56\n",
      "\n"
     ]
    },
    {
     "name": "stderr",
     "output_type": "stream",
     "text": [
      "100%|██████████| 18/18 [00:00<00:00, 155.49it/s]\n"
     ]
    },
    {
     "name": "stdout",
     "output_type": "stream",
     "text": [
      "#epoch: 20 \n",
      " train_loss: 1.115e+00 train_acc: 0.236 \n",
      " val_loss: 1.070e+00 val_acc: 0.350 time: 56\n",
      "\n"
     ]
    },
    {
     "name": "stderr",
     "output_type": "stream",
     "text": [
      "100%|██████████| 18/18 [00:00<00:00, 160.36it/s]\n"
     ]
    },
    {
     "name": "stdout",
     "output_type": "stream",
     "text": [
      "#epoch: 21 \n",
      " train_loss: 1.106e+00 train_acc: 0.292 \n",
      " val_loss: 1.086e+00 val_acc: 0.300 time: 56\n",
      "\n"
     ]
    },
    {
     "name": "stderr",
     "output_type": "stream",
     "text": [
      "100%|██████████| 18/18 [00:00<00:00, 159.82it/s]\n"
     ]
    },
    {
     "name": "stdout",
     "output_type": "stream",
     "text": [
      "#epoch: 22 \n",
      " train_loss: 1.122e+00 train_acc: 0.250 \n",
      " val_loss: 1.059e+00 val_acc: 0.350 time: 56\n",
      "\n"
     ]
    },
    {
     "name": "stderr",
     "output_type": "stream",
     "text": [
      "100%|██████████| 18/18 [00:00<00:00, 168.73it/s]\n"
     ]
    },
    {
     "name": "stdout",
     "output_type": "stream",
     "text": [
      "#epoch: 23 \n",
      " train_loss: 1.133e+00 train_acc: 0.292 \n",
      " val_loss: 1.077e+00 val_acc: 0.350 time: 56\n",
      "\n"
     ]
    },
    {
     "name": "stderr",
     "output_type": "stream",
     "text": [
      "100%|██████████| 18/18 [00:00<00:00, 151.08it/s]\n"
     ]
    },
    {
     "name": "stdout",
     "output_type": "stream",
     "text": [
      "#epoch: 24 \n",
      " train_loss: 1.126e+00 train_acc: 0.333 \n",
      " val_loss: 1.080e+00 val_acc: 0.300 time: 56\n",
      "\n"
     ]
    },
    {
     "name": "stderr",
     "output_type": "stream",
     "text": [
      "100%|██████████| 18/18 [00:00<00:00, 144.52it/s]\n"
     ]
    },
    {
     "name": "stdout",
     "output_type": "stream",
     "text": [
      "#epoch: 25 \n",
      " train_loss: 1.094e+00 train_acc: 0.375 \n",
      " val_loss: 1.070e+00 val_acc: 0.350 time: 56\n",
      "\n",
      "********** step into stage04 lr 5.000e-05f\n"
     ]
    },
    {
     "name": "stderr",
     "output_type": "stream",
     "text": [
      "100%|██████████| 18/18 [00:00<00:00, 194.58it/s]\n"
     ]
    },
    {
     "name": "stdout",
     "output_type": "stream",
     "text": [
      "#epoch: 26 \n",
      " train_loss: 1.120e+00 train_acc: 0.236 \n",
      " val_loss: 1.048e+00 val_acc: 0.500 time: 56\n",
      "\n"
     ]
    },
    {
     "name": "stderr",
     "output_type": "stream",
     "text": [
      "100%|██████████| 18/18 [00:00<00:00, 185.88it/s]\n"
     ]
    },
    {
     "name": "stdout",
     "output_type": "stream",
     "text": [
      "#epoch: 27 \n",
      " train_loss: 1.103e+00 train_acc: 0.264 \n",
      " val_loss: 1.078e+00 val_acc: 0.300 time: 56\n",
      "\n"
     ]
    },
    {
     "name": "stderr",
     "output_type": "stream",
     "text": [
      "100%|██████████| 18/18 [00:00<00:00, 180.87it/s]\n"
     ]
    },
    {
     "name": "stdout",
     "output_type": "stream",
     "text": [
      "#epoch: 28 \n",
      " train_loss: 1.109e+00 train_acc: 0.333 \n",
      " val_loss: 1.071e+00 val_acc: 0.350 time: 56\n",
      "\n"
     ]
    },
    {
     "name": "stderr",
     "output_type": "stream",
     "text": [
      "100%|██████████| 18/18 [00:00<00:00, 149.69it/s]\n"
     ]
    },
    {
     "name": "stdout",
     "output_type": "stream",
     "text": [
      "#epoch: 29 \n",
      " train_loss: 1.105e+00 train_acc: 0.278 \n",
      " val_loss: 1.042e+00 val_acc: 0.300 time: 56\n",
      "\n"
     ]
    },
    {
     "name": "stderr",
     "output_type": "stream",
     "text": [
      "100%|██████████| 18/18 [00:00<00:00, 202.92it/s]\n"
     ]
    },
    {
     "name": "stdout",
     "output_type": "stream",
     "text": [
      "#epoch: 30 \n",
      " train_loss: 1.123e+00 train_acc: 0.278 \n",
      " val_loss: 1.092e+00 val_acc: 0.300 time: 56\n",
      "\n"
     ]
    },
    {
     "name": "stderr",
     "output_type": "stream",
     "text": [
      "100%|██████████| 18/18 [00:00<00:00, 189.27it/s]\n"
     ]
    },
    {
     "name": "stdout",
     "output_type": "stream",
     "text": [
      "#epoch: 31 \n",
      " train_loss: 1.125e+00 train_acc: 0.278 \n",
      " val_loss: 1.044e+00 val_acc: 0.350 time: 56\n",
      "\n"
     ]
    },
    {
     "name": "stderr",
     "output_type": "stream",
     "text": [
      "100%|██████████| 18/18 [00:00<00:00, 170.92it/s]\n"
     ]
    },
    {
     "name": "stdout",
     "output_type": "stream",
     "text": [
      "#epoch: 32 \n",
      " train_loss: 1.088e+00 train_acc: 0.361 \n",
      " val_loss: 1.082e+00 val_acc: 0.300 time: 56\n",
      "\n"
     ]
    },
    {
     "name": "stderr",
     "output_type": "stream",
     "text": [
      "100%|██████████| 18/18 [00:00<00:00, 178.38it/s]\n"
     ]
    },
    {
     "name": "stdout",
     "output_type": "stream",
     "text": [
      "#epoch: 33 \n",
      " train_loss: 1.116e+00 train_acc: 0.306 \n",
      " val_loss: 1.072e+00 val_acc: 0.300 time: 56\n",
      "\n"
     ]
    },
    {
     "name": "stderr",
     "output_type": "stream",
     "text": [
      "100%|██████████| 18/18 [00:00<00:00, 155.94it/s]\n"
     ]
    },
    {
     "name": "stdout",
     "output_type": "stream",
     "text": [
      "#epoch: 34 \n",
      " train_loss: 1.100e+00 train_acc: 0.361 \n",
      " val_loss: 1.053e+00 val_acc: 0.300 time: 56\n",
      "\n"
     ]
    },
    {
     "name": "stderr",
     "output_type": "stream",
     "text": [
      "100%|██████████| 18/18 [00:00<00:00, 152.55it/s]\n"
     ]
    },
    {
     "name": "stdout",
     "output_type": "stream",
     "text": [
      "#epoch: 35 \n",
      " train_loss: 1.105e+00 train_acc: 0.292 \n",
      " val_loss: 1.048e+00 val_acc: 0.350 time: 56\n",
      "\n"
     ]
    },
    {
     "name": "stderr",
     "output_type": "stream",
     "text": [
      "100%|██████████| 18/18 [00:00<00:00, 126.10it/s]\n"
     ]
    },
    {
     "name": "stdout",
     "output_type": "stream",
     "text": [
      "#epoch: 36 \n",
      " train_loss: 1.099e+00 train_acc: 0.292 \n",
      " val_loss: 1.069e+00 val_acc: 0.350 time: 56\n",
      "\n"
     ]
    },
    {
     "name": "stderr",
     "output_type": "stream",
     "text": [
      "100%|██████████| 18/18 [00:00<00:00, 155.10it/s]\n"
     ]
    },
    {
     "name": "stdout",
     "output_type": "stream",
     "text": [
      "#epoch: 37 \n",
      " train_loss: 1.113e+00 train_acc: 0.319 \n",
      " val_loss: 1.054e+00 val_acc: 0.300 time: 56\n",
      "\n"
     ]
    },
    {
     "name": "stderr",
     "output_type": "stream",
     "text": [
      "100%|██████████| 18/18 [00:00<00:00, 204.75it/s]\n"
     ]
    },
    {
     "name": "stdout",
     "output_type": "stream",
     "text": [
      "#epoch: 38 \n",
      " train_loss: 1.100e+00 train_acc: 0.375 \n",
      " val_loss: 1.075e+00 val_acc: 0.300 time: 56\n",
      "\n"
     ]
    },
    {
     "name": "stderr",
     "output_type": "stream",
     "text": [
      "100%|██████████| 18/18 [00:00<00:00, 204.40it/s]\n"
     ]
    },
    {
     "name": "stdout",
     "output_type": "stream",
     "text": [
      "#epoch: 39 \n",
      " train_loss: 1.109e+00 train_acc: 0.264 \n",
      " val_loss: 1.051e+00 val_acc: 0.350 time: 56\n",
      "\n"
     ]
    },
    {
     "name": "stderr",
     "output_type": "stream",
     "text": [
      "100%|██████████| 18/18 [00:00<00:00, 175.84it/s]\n"
     ]
    },
    {
     "name": "stdout",
     "output_type": "stream",
     "text": [
      "#epoch: 40 \n",
      " train_loss: 1.104e+00 train_acc: 0.278 \n",
      " val_loss: 1.068e+00 val_acc: 0.350 time: 56\n",
      "\n"
     ]
    },
    {
     "name": "stderr",
     "output_type": "stream",
     "text": [
      "100%|██████████| 18/18 [00:00<00:00, 175.03it/s]\n"
     ]
    },
    {
     "name": "stdout",
     "output_type": "stream",
     "text": [
      "#epoch: 41 \n",
      " train_loss: 1.123e+00 train_acc: 0.250 \n",
      " val_loss: 1.044e+00 val_acc: 0.400 time: 56\n",
      "\n"
     ]
    },
    {
     "name": "stderr",
     "output_type": "stream",
     "text": [
      "100%|██████████| 18/18 [00:00<00:00, 195.73it/s]\n"
     ]
    },
    {
     "name": "stdout",
     "output_type": "stream",
     "text": [
      "#epoch: 42 \n",
      " train_loss: 1.104e+00 train_acc: 0.361 \n",
      " val_loss: 1.150e+00 val_acc: 0.300 time: 56\n",
      "\n"
     ]
    },
    {
     "name": "stderr",
     "output_type": "stream",
     "text": [
      "100%|██████████| 18/18 [00:00<00:00, 155.44it/s]\n"
     ]
    },
    {
     "name": "stdout",
     "output_type": "stream",
     "text": [
      "#epoch: 43 \n",
      " train_loss: 1.118e+00 train_acc: 0.278 \n",
      " val_loss: 1.049e+00 val_acc: 0.450 time: 56\n",
      "\n"
     ]
    },
    {
     "name": "stderr",
     "output_type": "stream",
     "text": [
      "100%|██████████| 18/18 [00:00<00:00, 157.18it/s]\n"
     ]
    },
    {
     "name": "stdout",
     "output_type": "stream",
     "text": [
      "#epoch: 44 \n",
      " train_loss: 1.121e+00 train_acc: 0.292 \n",
      " val_loss: 1.070e+00 val_acc: 0.300 time: 56\n",
      "\n"
     ]
    },
    {
     "name": "stderr",
     "output_type": "stream",
     "text": [
      "100%|██████████| 18/18 [00:00<00:00, 188.78it/s]\n"
     ]
    },
    {
     "name": "stdout",
     "output_type": "stream",
     "text": [
      "#epoch: 45 \n",
      " train_loss: 1.099e+00 train_acc: 0.361 \n",
      " val_loss: 1.088e+00 val_acc: 0.350 time: 56\n",
      "\n"
     ]
    },
    {
     "name": "stderr",
     "output_type": "stream",
     "text": [
      "100%|██████████| 18/18 [00:00<00:00, 168.33it/s]\n"
     ]
    },
    {
     "name": "stdout",
     "output_type": "stream",
     "text": [
      "#epoch: 46 \n",
      " train_loss: 1.098e+00 train_acc: 0.319 \n",
      " val_loss: 1.057e+00 val_acc: 0.350 time: 56\n",
      "\n"
     ]
    },
    {
     "name": "stderr",
     "output_type": "stream",
     "text": [
      "100%|██████████| 18/18 [00:00<00:00, 178.10it/s]\n"
     ]
    },
    {
     "name": "stdout",
     "output_type": "stream",
     "text": [
      "#epoch: 47 \n",
      " train_loss: 1.111e+00 train_acc: 0.278 \n",
      " val_loss: 1.050e+00 val_acc: 0.300 time: 56\n",
      "\n"
     ]
    },
    {
     "name": "stderr",
     "output_type": "stream",
     "text": [
      "100%|██████████| 18/18 [00:00<00:00, 129.62it/s]\n"
     ]
    },
    {
     "name": "stdout",
     "output_type": "stream",
     "text": [
      "#epoch: 48 \n",
      " train_loss: 1.097e+00 train_acc: 0.319 \n",
      " val_loss: 1.033e+00 val_acc: 0.450 time: 56\n",
      "\n"
     ]
    },
    {
     "name": "stderr",
     "output_type": "stream",
     "text": [
      "100%|██████████| 18/18 [00:00<00:00, 162.89it/s]\n"
     ]
    },
    {
     "name": "stdout",
     "output_type": "stream",
     "text": [
      "#epoch: 49 \n",
      " train_loss: 1.116e+00 train_acc: 0.292 \n",
      " val_loss: 1.070e+00 val_acc: 0.450 time: 56\n",
      "\n"
     ]
    },
    {
     "name": "stderr",
     "output_type": "stream",
     "text": [
      "100%|██████████| 18/18 [00:00<00:00, 166.53it/s]\n"
     ]
    },
    {
     "name": "stdout",
     "output_type": "stream",
     "text": [
      "#epoch: 50 \n",
      " train_loss: 1.121e+00 train_acc: 0.389 \n",
      " val_loss: 1.067e+00 val_acc: 0.300 time: 56\n",
      "\n"
     ]
    },
    {
     "name": "stderr",
     "output_type": "stream",
     "text": [
      "100%|██████████| 18/18 [00:00<00:00, 211.09it/s]\n"
     ]
    },
    {
     "name": "stdout",
     "output_type": "stream",
     "text": [
      "#epoch: 51 \n",
      " train_loss: 1.115e+00 train_acc: 0.347 \n",
      " val_loss: 1.309e+00 val_acc: 0.450 time: 56\n",
      "\n"
     ]
    },
    {
     "name": "stderr",
     "output_type": "stream",
     "text": [
      "100%|██████████| 18/18 [00:00<00:00, 140.58it/s]\n"
     ]
    },
    {
     "name": "stdout",
     "output_type": "stream",
     "text": [
      "#epoch: 52 \n",
      " train_loss: 1.095e+00 train_acc: 0.375 \n",
      " val_loss: 1.067e+00 val_acc: 0.500 time: 56\n",
      "\n"
     ]
    },
    {
     "name": "stderr",
     "output_type": "stream",
     "text": [
      "100%|██████████| 18/18 [00:00<00:00, 150.23it/s]\n"
     ]
    },
    {
     "name": "stdout",
     "output_type": "stream",
     "text": [
      "#epoch: 53 \n",
      " train_loss: 1.135e+00 train_acc: 0.278 \n",
      " val_loss: 1.032e+00 val_acc: 0.450 time: 56\n",
      "\n"
     ]
    },
    {
     "name": "stderr",
     "output_type": "stream",
     "text": [
      "100%|██████████| 18/18 [00:00<00:00, 123.14it/s]\n"
     ]
    },
    {
     "name": "stdout",
     "output_type": "stream",
     "text": [
      "#epoch: 54 \n",
      " train_loss: 1.109e+00 train_acc: 0.403 \n",
      " val_loss: 1.097e+00 val_acc: 0.300 time: 56\n",
      "\n"
     ]
    },
    {
     "name": "stderr",
     "output_type": "stream",
     "text": [
      "100%|██████████| 18/18 [00:00<00:00, 197.36it/s]\n"
     ]
    },
    {
     "name": "stdout",
     "output_type": "stream",
     "text": [
      "#epoch: 55 \n",
      " train_loss: 1.138e+00 train_acc: 0.236 \n",
      " val_loss: 1.477e+00 val_acc: 0.350 time: 56\n",
      "\n"
     ]
    },
    {
     "name": "stderr",
     "output_type": "stream",
     "text": [
      "100%|██████████| 18/18 [00:00<00:00, 167.47it/s]\n"
     ]
    },
    {
     "name": "stdout",
     "output_type": "stream",
     "text": [
      "#epoch: 56 \n",
      " train_loss: 1.081e+00 train_acc: 0.375 \n",
      " val_loss: 1.175e+00 val_acc: 0.250 time: 56\n",
      "\n"
     ]
    },
    {
     "name": "stderr",
     "output_type": "stream",
     "text": [
      "100%|██████████| 18/18 [00:00<00:00, 142.62it/s]\n"
     ]
    },
    {
     "name": "stdout",
     "output_type": "stream",
     "text": [
      "#epoch: 57 \n",
      " train_loss: 1.148e+00 train_acc: 0.319 \n",
      " val_loss: 1.046e+00 val_acc: 0.600 time: 56\n",
      "\n"
     ]
    },
    {
     "name": "stderr",
     "output_type": "stream",
     "text": [
      "100%|██████████| 18/18 [00:00<00:00, 154.22it/s]\n"
     ]
    },
    {
     "name": "stdout",
     "output_type": "stream",
     "text": [
      "#epoch: 58 \n",
      " train_loss: 1.080e+00 train_acc: 0.389 \n",
      " val_loss: 1.058e+00 val_acc: 0.300 time: 56\n",
      "\n"
     ]
    },
    {
     "name": "stderr",
     "output_type": "stream",
     "text": [
      "100%|██████████| 18/18 [00:00<00:00, 182.19it/s]\n"
     ]
    },
    {
     "name": "stdout",
     "output_type": "stream",
     "text": [
      "#epoch: 59 \n",
      " train_loss: 1.160e+00 train_acc: 0.361 \n",
      " val_loss: 1.057e+00 val_acc: 0.300 time: 56\n",
      "\n"
     ]
    },
    {
     "name": "stderr",
     "output_type": "stream",
     "text": [
      "100%|██████████| 18/18 [00:00<00:00, 151.79it/s]\n"
     ]
    },
    {
     "name": "stdout",
     "output_type": "stream",
     "text": [
      "#epoch: 60 \n",
      " train_loss: 1.126e+00 train_acc: 0.306 \n",
      " val_loss: 1.058e+00 val_acc: 0.350 time: 56\n",
      "\n"
     ]
    },
    {
     "name": "stderr",
     "output_type": "stream",
     "text": [
      "100%|██████████| 18/18 [00:00<00:00, 169.54it/s]\n"
     ]
    },
    {
     "name": "stdout",
     "output_type": "stream",
     "text": [
      "#epoch: 61 \n",
      " train_loss: 1.102e+00 train_acc: 0.347 \n",
      " val_loss: 1.059e+00 val_acc: 0.300 time: 56\n",
      "\n"
     ]
    },
    {
     "name": "stderr",
     "output_type": "stream",
     "text": [
      "100%|██████████| 18/18 [00:00<00:00, 165.91it/s]\n"
     ]
    },
    {
     "name": "stdout",
     "output_type": "stream",
     "text": [
      "#epoch: 62 \n",
      " train_loss: 1.094e+00 train_acc: 0.333 \n",
      " val_loss: 1.044e+00 val_acc: 0.350 time: 56\n",
      "\n"
     ]
    },
    {
     "name": "stderr",
     "output_type": "stream",
     "text": [
      "100%|██████████| 18/18 [00:00<00:00, 198.41it/s]\n"
     ]
    },
    {
     "name": "stdout",
     "output_type": "stream",
     "text": [
      "#epoch: 63 \n",
      " train_loss: 1.107e+00 train_acc: 0.347 \n",
      " val_loss: 1.046e+00 val_acc: 0.300 time: 56\n",
      "\n"
     ]
    },
    {
     "name": "stderr",
     "output_type": "stream",
     "text": [
      "100%|██████████| 18/18 [00:00<00:00, 194.11it/s]\n"
     ]
    },
    {
     "name": "stdout",
     "output_type": "stream",
     "text": [
      "#epoch: 64 \n",
      " train_loss: 1.081e+00 train_acc: 0.431 \n",
      " val_loss: 1.092e+00 val_acc: 0.300 time: 56\n",
      "\n"
     ]
    },
    {
     "name": "stderr",
     "output_type": "stream",
     "text": [
      "100%|██████████| 18/18 [00:00<00:00, 147.09it/s]\n"
     ]
    },
    {
     "name": "stdout",
     "output_type": "stream",
     "text": [
      "#epoch: 65 \n",
      " train_loss: 1.120e+00 train_acc: 0.347 \n",
      " val_loss: 1.064e+00 val_acc: 0.300 time: 56\n",
      "\n"
     ]
    },
    {
     "name": "stderr",
     "output_type": "stream",
     "text": [
      "100%|██████████| 18/18 [00:00<00:00, 123.03it/s]\n"
     ]
    },
    {
     "name": "stdout",
     "output_type": "stream",
     "text": [
      "#epoch: 66 \n",
      " train_loss: 1.072e+00 train_acc: 0.403 \n",
      " val_loss: 1.038e+00 val_acc: 0.500 time: 56\n",
      "\n"
     ]
    },
    {
     "name": "stderr",
     "output_type": "stream",
     "text": [
      "100%|██████████| 18/18 [00:00<00:00, 176.24it/s]\n"
     ]
    },
    {
     "name": "stdout",
     "output_type": "stream",
     "text": [
      "#epoch: 67 \n",
      " train_loss: 1.117e+00 train_acc: 0.361 \n",
      " val_loss: 4.980e+00 val_acc: 0.350 time: 56\n",
      "\n"
     ]
    },
    {
     "name": "stderr",
     "output_type": "stream",
     "text": [
      "100%|██████████| 18/18 [00:00<00:00, 187.58it/s]\n"
     ]
    },
    {
     "name": "stdout",
     "output_type": "stream",
     "text": [
      "#epoch: 68 \n",
      " train_loss: 1.110e+00 train_acc: 0.375 \n",
      " val_loss: 1.019e+00 val_acc: 0.400 time: 56\n",
      "\n"
     ]
    },
    {
     "name": "stderr",
     "output_type": "stream",
     "text": [
      "100%|██████████| 18/18 [00:00<00:00, 209.10it/s]\n"
     ]
    },
    {
     "name": "stdout",
     "output_type": "stream",
     "text": [
      "#epoch: 69 \n",
      " train_loss: 1.119e+00 train_acc: 0.306 \n",
      " val_loss: 1.094e+00 val_acc: 0.300 time: 56\n",
      "\n"
     ]
    },
    {
     "name": "stderr",
     "output_type": "stream",
     "text": [
      "100%|██████████| 18/18 [00:00<00:00, 160.66it/s]\n"
     ]
    },
    {
     "name": "stdout",
     "output_type": "stream",
     "text": [
      "#epoch: 70 \n",
      " train_loss: 1.094e+00 train_acc: 0.347 \n",
      " val_loss: 1.103e+00 val_acc: 0.300 time: 56\n",
      "\n"
     ]
    },
    {
     "name": "stderr",
     "output_type": "stream",
     "text": [
      "100%|██████████| 18/18 [00:00<00:00, 194.24it/s]\n"
     ]
    },
    {
     "name": "stdout",
     "output_type": "stream",
     "text": [
      "#epoch: 71 \n",
      " train_loss: 1.129e+00 train_acc: 0.292 \n",
      " val_loss: 1.581e+00 val_acc: 0.350 time: 56\n",
      "\n"
     ]
    },
    {
     "name": "stderr",
     "output_type": "stream",
     "text": [
      "100%|██████████| 18/18 [00:00<00:00, 140.17it/s]\n"
     ]
    },
    {
     "name": "stdout",
     "output_type": "stream",
     "text": [
      "#epoch: 72 \n",
      " train_loss: 1.116e+00 train_acc: 0.347 \n",
      " val_loss: 1.229e+00 val_acc: 0.350 time: 56\n",
      "\n"
     ]
    },
    {
     "name": "stderr",
     "output_type": "stream",
     "text": [
      "100%|██████████| 18/18 [00:00<00:00, 165.45it/s]\n"
     ]
    },
    {
     "name": "stdout",
     "output_type": "stream",
     "text": [
      "#epoch: 73 \n",
      " train_loss: 1.104e+00 train_acc: 0.347 \n",
      " val_loss: 1.012e+00 val_acc: 0.500 time: 56\n",
      "\n"
     ]
    },
    {
     "name": "stderr",
     "output_type": "stream",
     "text": [
      "100%|██████████| 18/18 [00:00<00:00, 182.06it/s]\n"
     ]
    },
    {
     "name": "stdout",
     "output_type": "stream",
     "text": [
      "#epoch: 74 \n",
      " train_loss: 1.120e+00 train_acc: 0.347 \n",
      " val_loss: 1.064e+00 val_acc: 0.300 time: 56\n",
      "\n"
     ]
    },
    {
     "name": "stderr",
     "output_type": "stream",
     "text": [
      "100%|██████████| 18/18 [00:00<00:00, 156.62it/s]\n"
     ]
    },
    {
     "name": "stdout",
     "output_type": "stream",
     "text": [
      "#epoch: 75 \n",
      " train_loss: 1.081e+00 train_acc: 0.389 \n",
      " val_loss: 1.155e+00 val_acc: 0.250 time: 56\n",
      "\n"
     ]
    },
    {
     "name": "stderr",
     "output_type": "stream",
     "text": [
      "100%|██████████| 18/18 [00:00<00:00, 188.35it/s]\n"
     ]
    },
    {
     "name": "stdout",
     "output_type": "stream",
     "text": [
      "#epoch: 76 \n",
      " train_loss: 1.095e+00 train_acc: 0.431 \n",
      " val_loss: 2.846e+00 val_acc: 0.350 time: 56\n",
      "\n"
     ]
    },
    {
     "name": "stderr",
     "output_type": "stream",
     "text": [
      "100%|██████████| 18/18 [00:00<00:00, 193.82it/s]\n"
     ]
    },
    {
     "name": "stdout",
     "output_type": "stream",
     "text": [
      "#epoch: 77 \n",
      " train_loss: 1.098e+00 train_acc: 0.347 \n",
      " val_loss: 1.041e+00 val_acc: 0.350 time: 56\n",
      "\n"
     ]
    },
    {
     "name": "stderr",
     "output_type": "stream",
     "text": [
      "100%|██████████| 18/18 [00:00<00:00, 180.83it/s]\n"
     ]
    },
    {
     "name": "stdout",
     "output_type": "stream",
     "text": [
      "#epoch: 78 \n",
      " train_loss: 1.088e+00 train_acc: 0.389 \n",
      " val_loss: 1.123e+00 val_acc: 0.300 time: 56\n",
      "\n"
     ]
    },
    {
     "name": "stderr",
     "output_type": "stream",
     "text": [
      "100%|██████████| 18/18 [00:00<00:00, 200.45it/s]\n"
     ]
    },
    {
     "name": "stdout",
     "output_type": "stream",
     "text": [
      "#epoch: 79 \n",
      " train_loss: 1.045e+00 train_acc: 0.444 \n",
      " val_loss: 1.244e+00 val_acc: 0.300 time: 56\n",
      "\n"
     ]
    },
    {
     "name": "stderr",
     "output_type": "stream",
     "text": [
      "100%|██████████| 18/18 [00:00<00:00, 192.87it/s]\n"
     ]
    },
    {
     "name": "stdout",
     "output_type": "stream",
     "text": [
      "#epoch: 80 \n",
      " train_loss: 1.085e+00 train_acc: 0.375 \n",
      " val_loss: 1.287e+00 val_acc: 0.250 time: 56\n",
      "\n"
     ]
    },
    {
     "name": "stderr",
     "output_type": "stream",
     "text": [
      "100%|██████████| 18/18 [00:00<00:00, 157.45it/s]\n"
     ]
    },
    {
     "name": "stdout",
     "output_type": "stream",
     "text": [
      "#epoch: 81 \n",
      " train_loss: 1.120e+00 train_acc: 0.375 \n",
      " val_loss: 1.461e+00 val_acc: 0.350 time: 56\n",
      "\n"
     ]
    },
    {
     "name": "stderr",
     "output_type": "stream",
     "text": [
      "100%|██████████| 18/18 [00:00<00:00, 170.55it/s]\n"
     ]
    },
    {
     "name": "stdout",
     "output_type": "stream",
     "text": [
      "#epoch: 82 \n",
      " train_loss: 1.081e+00 train_acc: 0.375 \n",
      " val_loss: 1.015e+00 val_acc: 0.400 time: 56\n",
      "\n"
     ]
    },
    {
     "name": "stderr",
     "output_type": "stream",
     "text": [
      "100%|██████████| 18/18 [00:00<00:00, 161.06it/s]\n"
     ]
    },
    {
     "name": "stdout",
     "output_type": "stream",
     "text": [
      "#epoch: 83 \n",
      " train_loss: 1.109e+00 train_acc: 0.403 \n",
      " val_loss: 9.361e-01 val_acc: 0.500 time: 56\n",
      "\n"
     ]
    },
    {
     "name": "stderr",
     "output_type": "stream",
     "text": [
      "100%|██████████| 18/18 [00:00<00:00, 146.02it/s]\n"
     ]
    },
    {
     "name": "stdout",
     "output_type": "stream",
     "text": [
      "#epoch: 84 \n",
      " train_loss: 1.129e+00 train_acc: 0.333 \n",
      " val_loss: 1.048e+00 val_acc: 0.350 time: 56\n",
      "\n"
     ]
    },
    {
     "name": "stderr",
     "output_type": "stream",
     "text": [
      "100%|██████████| 18/18 [00:00<00:00, 164.69it/s]\n"
     ]
    },
    {
     "name": "stdout",
     "output_type": "stream",
     "text": [
      "#epoch: 85 \n",
      " train_loss: 1.045e+00 train_acc: 0.472 \n",
      " val_loss: 1.187e+00 val_acc: 0.250 time: 56\n",
      "\n"
     ]
    },
    {
     "name": "stderr",
     "output_type": "stream",
     "text": [
      "100%|██████████| 18/18 [00:00<00:00, 201.63it/s]\n"
     ]
    },
    {
     "name": "stdout",
     "output_type": "stream",
     "text": [
      "#epoch: 86 \n",
      " train_loss: 1.088e+00 train_acc: 0.458 \n",
      " val_loss: 5.283e+00 val_acc: 0.350 time: 56\n",
      "\n"
     ]
    },
    {
     "name": "stderr",
     "output_type": "stream",
     "text": [
      "100%|██████████| 18/18 [00:00<00:00, 124.81it/s]\n"
     ]
    },
    {
     "name": "stdout",
     "output_type": "stream",
     "text": [
      "#epoch: 87 \n",
      " train_loss: 1.078e+00 train_acc: 0.347 \n",
      " val_loss: 4.068e+00 val_acc: 0.350 time: 56\n",
      "\n"
     ]
    },
    {
     "name": "stderr",
     "output_type": "stream",
     "text": [
      "100%|██████████| 18/18 [00:00<00:00, 145.99it/s]\n"
     ]
    },
    {
     "name": "stdout",
     "output_type": "stream",
     "text": [
      "#epoch: 88 \n",
      " train_loss: 1.072e+00 train_acc: 0.458 \n",
      " val_loss: 1.127e+00 val_acc: 0.300 time: 56\n",
      "\n"
     ]
    },
    {
     "name": "stderr",
     "output_type": "stream",
     "text": [
      "100%|██████████| 18/18 [00:00<00:00, 179.26it/s]\n"
     ]
    },
    {
     "name": "stdout",
     "output_type": "stream",
     "text": [
      "#epoch: 89 \n",
      " train_loss: 1.058e+00 train_acc: 0.431 \n",
      " val_loss: 1.175e+00 val_acc: 0.250 time: 56\n",
      "\n"
     ]
    },
    {
     "name": "stderr",
     "output_type": "stream",
     "text": [
      "100%|██████████| 18/18 [00:00<00:00, 174.94it/s]\n"
     ]
    },
    {
     "name": "stdout",
     "output_type": "stream",
     "text": [
      "#epoch: 90 \n",
      " train_loss: 1.065e+00 train_acc: 0.319 \n",
      " val_loss: 1.090e+00 val_acc: 0.300 time: 56\n",
      "\n"
     ]
    },
    {
     "name": "stderr",
     "output_type": "stream",
     "text": [
      "100%|██████████| 18/18 [00:00<00:00, 136.80it/s]\n"
     ]
    },
    {
     "name": "stdout",
     "output_type": "stream",
     "text": [
      "#epoch: 91 \n",
      " train_loss: 1.091e+00 train_acc: 0.347 \n",
      " val_loss: 1.027e+00 val_acc: 0.450 time: 56\n",
      "\n"
     ]
    },
    {
     "name": "stderr",
     "output_type": "stream",
     "text": [
      "100%|██████████| 18/18 [00:00<00:00, 122.93it/s]\n"
     ]
    },
    {
     "name": "stdout",
     "output_type": "stream",
     "text": [
      "#epoch: 92 \n",
      " train_loss: 1.057e+00 train_acc: 0.417 \n",
      " val_loss: 1.240e+00 val_acc: 0.300 time: 56\n",
      "\n"
     ]
    },
    {
     "name": "stderr",
     "output_type": "stream",
     "text": [
      "100%|██████████| 18/18 [00:00<00:00, 163.59it/s]\n"
     ]
    },
    {
     "name": "stdout",
     "output_type": "stream",
     "text": [
      "#epoch: 93 \n",
      " train_loss: 1.048e+00 train_acc: 0.431 \n",
      " val_loss: 1.150e+00 val_acc: 0.250 time: 56\n",
      "\n"
     ]
    },
    {
     "name": "stderr",
     "output_type": "stream",
     "text": [
      "100%|██████████| 18/18 [00:00<00:00, 174.44it/s]\n"
     ]
    },
    {
     "name": "stdout",
     "output_type": "stream",
     "text": [
      "#epoch: 94 \n",
      " train_loss: 1.103e+00 train_acc: 0.347 \n",
      " val_loss: 1.245e+00 val_acc: 0.400 time: 56\n",
      "\n"
     ]
    },
    {
     "name": "stderr",
     "output_type": "stream",
     "text": [
      "100%|██████████| 18/18 [00:00<00:00, 133.43it/s]\n"
     ]
    },
    {
     "name": "stdout",
     "output_type": "stream",
     "text": [
      "#epoch: 95 \n",
      " train_loss: 1.141e+00 train_acc: 0.347 \n",
      " val_loss: 1.042e+00 val_acc: 0.500 time: 56\n",
      "\n"
     ]
    },
    {
     "name": "stderr",
     "output_type": "stream",
     "text": [
      "100%|██████████| 18/18 [00:00<00:00, 171.08it/s]\n"
     ]
    },
    {
     "name": "stdout",
     "output_type": "stream",
     "text": [
      "#epoch: 96 \n",
      " train_loss: 1.047e+00 train_acc: 0.458 \n",
      " val_loss: 1.084e+00 val_acc: 0.300 time: 56\n",
      "\n"
     ]
    },
    {
     "name": "stderr",
     "output_type": "stream",
     "text": [
      "100%|██████████| 18/18 [00:00<00:00, 190.48it/s]\n"
     ]
    },
    {
     "name": "stdout",
     "output_type": "stream",
     "text": [
      "#epoch: 97 \n",
      " train_loss: 1.095e+00 train_acc: 0.361 \n",
      " val_loss: 6.631e+00 val_acc: 0.350 time: 56\n",
      "\n"
     ]
    },
    {
     "name": "stderr",
     "output_type": "stream",
     "text": [
      "100%|██████████| 18/18 [00:00<00:00, 128.78it/s]\n"
     ]
    },
    {
     "name": "stdout",
     "output_type": "stream",
     "text": [
      "#epoch: 98 \n",
      " train_loss: 1.096e+00 train_acc: 0.306 \n",
      " val_loss: 1.095e+00 val_acc: 0.450 time: 56\n",
      "\n"
     ]
    },
    {
     "name": "stderr",
     "output_type": "stream",
     "text": [
      "100%|██████████| 18/18 [00:00<00:00, 187.65it/s]\n"
     ]
    },
    {
     "name": "stdout",
     "output_type": "stream",
     "text": [
      "#epoch: 99 \n",
      " train_loss: 1.064e+00 train_acc: 0.444 \n",
      " val_loss: 3.567e+00 val_acc: 0.350 time: 56\n",
      "\n"
     ]
    },
    {
     "name": "stderr",
     "output_type": "stream",
     "text": [
      "100%|██████████| 18/18 [00:00<00:00, 214.17it/s]\n"
     ]
    },
    {
     "name": "stdout",
     "output_type": "stream",
     "text": [
      "#epoch: 100 \n",
      " train_loss: 1.095e+00 train_acc: 0.431 \n",
      " val_loss: 1.116e+00 val_acc: 0.300 time: 56\n",
      "\n"
     ]
    },
    {
     "name": "stderr",
     "output_type": "stream",
     "text": [
      "100%|██████████| 18/18 [00:00<00:00, 173.07it/s]\n"
     ]
    },
    {
     "name": "stdout",
     "output_type": "stream",
     "text": [
      "#epoch: 101 \n",
      " train_loss: 1.136e+00 train_acc: 0.250 \n",
      " val_loss: 9.829e-01 val_acc: 0.500 time: 56\n",
      "\n"
     ]
    },
    {
     "name": "stderr",
     "output_type": "stream",
     "text": [
      "100%|██████████| 18/18 [00:00<00:00, 139.18it/s]\n"
     ]
    },
    {
     "name": "stdout",
     "output_type": "stream",
     "text": [
      "#epoch: 102 \n",
      " train_loss: 1.124e+00 train_acc: 0.389 \n",
      " val_loss: 1.140e+00 val_acc: 0.250 time: 56\n",
      "\n"
     ]
    },
    {
     "name": "stderr",
     "output_type": "stream",
     "text": [
      "100%|██████████| 18/18 [00:00<00:00, 207.20it/s]\n"
     ]
    },
    {
     "name": "stdout",
     "output_type": "stream",
     "text": [
      "#epoch: 103 \n",
      " train_loss: 1.105e+00 train_acc: 0.431 \n",
      " val_loss: 2.202e+00 val_acc: 0.350 time: 56\n",
      "\n"
     ]
    },
    {
     "name": "stderr",
     "output_type": "stream",
     "text": [
      "100%|██████████| 18/18 [00:00<00:00, 175.49it/s]\n"
     ]
    },
    {
     "name": "stdout",
     "output_type": "stream",
     "text": [
      "#epoch: 104 \n",
      " train_loss: 1.110e+00 train_acc: 0.361 \n",
      " val_loss: 2.163e+00 val_acc: 0.350 time: 56\n",
      "\n"
     ]
    },
    {
     "name": "stderr",
     "output_type": "stream",
     "text": [
      "100%|██████████| 18/18 [00:00<00:00, 189.83it/s]\n"
     ]
    },
    {
     "name": "stdout",
     "output_type": "stream",
     "text": [
      "#epoch: 105 \n",
      " train_loss: 1.133e+00 train_acc: 0.333 \n",
      " val_loss: 1.078e+00 val_acc: 0.500 time: 56\n",
      "\n"
     ]
    },
    {
     "name": "stderr",
     "output_type": "stream",
     "text": [
      "100%|██████████| 18/18 [00:00<00:00, 186.38it/s]\n"
     ]
    },
    {
     "name": "stdout",
     "output_type": "stream",
     "text": [
      "#epoch: 106 \n",
      " train_loss: 1.097e+00 train_acc: 0.319 \n",
      " val_loss: 1.031e+00 val_acc: 0.450 time: 56\n",
      "\n"
     ]
    },
    {
     "name": "stderr",
     "output_type": "stream",
     "text": [
      "100%|██████████| 18/18 [00:00<00:00, 173.28it/s]\n"
     ]
    },
    {
     "name": "stdout",
     "output_type": "stream",
     "text": [
      "#epoch: 107 \n",
      " train_loss: 1.111e+00 train_acc: 0.403 \n",
      " val_loss: 1.098e+00 val_acc: 0.300 time: 56\n",
      "\n"
     ]
    },
    {
     "name": "stderr",
     "output_type": "stream",
     "text": [
      "100%|██████████| 18/18 [00:00<00:00, 160.97it/s]\n"
     ]
    },
    {
     "name": "stdout",
     "output_type": "stream",
     "text": [
      "#epoch: 108 \n",
      " train_loss: 1.107e+00 train_acc: 0.347 \n",
      " val_loss: 1.116e+00 val_acc: 0.300 time: 56\n",
      "\n"
     ]
    },
    {
     "name": "stderr",
     "output_type": "stream",
     "text": [
      "100%|██████████| 18/18 [00:00<00:00, 173.47it/s]\n"
     ]
    },
    {
     "name": "stdout",
     "output_type": "stream",
     "text": [
      "#epoch: 109 \n",
      " train_loss: 1.057e+00 train_acc: 0.389 \n",
      " val_loss: 2.935e+00 val_acc: 0.350 time: 56\n",
      "\n"
     ]
    },
    {
     "name": "stderr",
     "output_type": "stream",
     "text": [
      "100%|██████████| 18/18 [00:00<00:00, 159.41it/s]\n"
     ]
    },
    {
     "name": "stdout",
     "output_type": "stream",
     "text": [
      "#epoch: 110 \n",
      " train_loss: 1.086e+00 train_acc: 0.292 \n",
      " val_loss: 1.098e+00 val_acc: 0.450 time: 56\n",
      "\n"
     ]
    },
    {
     "name": "stderr",
     "output_type": "stream",
     "text": [
      "100%|██████████| 18/18 [00:00<00:00, 149.82it/s]\n"
     ]
    },
    {
     "name": "stdout",
     "output_type": "stream",
     "text": [
      "#epoch: 111 \n",
      " train_loss: 1.078e+00 train_acc: 0.403 \n",
      " val_loss: 9.209e-01 val_acc: 0.500 time: 56\n",
      "\n"
     ]
    },
    {
     "name": "stderr",
     "output_type": "stream",
     "text": [
      "100%|██████████| 18/18 [00:00<00:00, 203.73it/s]\n"
     ]
    },
    {
     "name": "stdout",
     "output_type": "stream",
     "text": [
      "#epoch: 112 \n",
      " train_loss: 1.034e+00 train_acc: 0.389 \n",
      " val_loss: 1.277e+00 val_acc: 0.250 time: 56\n",
      "\n"
     ]
    },
    {
     "name": "stderr",
     "output_type": "stream",
     "text": [
      "100%|██████████| 18/18 [00:00<00:00, 153.12it/s]\n"
     ]
    },
    {
     "name": "stdout",
     "output_type": "stream",
     "text": [
      "#epoch: 113 \n",
      " train_loss: 9.992e-01 train_acc: 0.403 \n",
      " val_loss: 1.582e+01 val_acc: 0.350 time: 56\n",
      "\n"
     ]
    },
    {
     "name": "stderr",
     "output_type": "stream",
     "text": [
      "100%|██████████| 18/18 [00:00<00:00, 68.43it/s]\n"
     ]
    },
    {
     "name": "stdout",
     "output_type": "stream",
     "text": [
      "#epoch: 114 \n",
      " train_loss: 1.072e+00 train_acc: 0.319 \n",
      " val_loss: 1.095e+00 val_acc: 0.450 time: 56\n",
      "\n"
     ]
    },
    {
     "name": "stderr",
     "output_type": "stream",
     "text": [
      "100%|██████████| 18/18 [00:00<00:00, 64.89it/s]\n"
     ]
    },
    {
     "name": "stdout",
     "output_type": "stream",
     "text": [
      "#epoch: 115 \n",
      " train_loss: 1.084e+00 train_acc: 0.431 \n",
      " val_loss: 1.018e+00 val_acc: 0.450 time: 56\n",
      "\n"
     ]
    },
    {
     "name": "stderr",
     "output_type": "stream",
     "text": [
      "100%|██████████| 18/18 [00:00<00:00, 44.36it/s]\n"
     ]
    },
    {
     "name": "stdout",
     "output_type": "stream",
     "text": [
      "#epoch: 116 \n",
      " train_loss: 1.082e+00 train_acc: 0.319 \n",
      " val_loss: 9.342e-01 val_acc: 0.600 time: 56\n",
      "\n"
     ]
    },
    {
     "name": "stderr",
     "output_type": "stream",
     "text": [
      "100%|██████████| 18/18 [00:00<00:00, 136.68it/s]\n"
     ]
    },
    {
     "name": "stdout",
     "output_type": "stream",
     "text": [
      "#epoch: 117 \n",
      " train_loss: 1.045e+00 train_acc: 0.417 \n",
      " val_loss: 1.179e+00 val_acc: 0.300 time: 56\n",
      "\n"
     ]
    },
    {
     "name": "stderr",
     "output_type": "stream",
     "text": [
      "100%|██████████| 18/18 [00:00<00:00, 180.65it/s]\n"
     ]
    },
    {
     "name": "stdout",
     "output_type": "stream",
     "text": [
      "#epoch: 118 \n",
      " train_loss: 1.079e+00 train_acc: 0.389 \n",
      " val_loss: 7.220e+00 val_acc: 0.350 time: 56\n",
      "\n"
     ]
    },
    {
     "name": "stderr",
     "output_type": "stream",
     "text": [
      "100%|██████████| 18/18 [00:00<00:00, 195.73it/s]\n"
     ]
    },
    {
     "name": "stdout",
     "output_type": "stream",
     "text": [
      "#epoch: 119 \n",
      " train_loss: 1.029e+00 train_acc: 0.417 \n",
      " val_loss: 1.169e+00 val_acc: 0.400 time: 56\n",
      "\n"
     ]
    },
    {
     "name": "stderr",
     "output_type": "stream",
     "text": [
      "100%|██████████| 18/18 [00:00<00:00, 202.03it/s]\n"
     ]
    },
    {
     "name": "stdout",
     "output_type": "stream",
     "text": [
      "#epoch: 120 \n",
      " train_loss: 1.066e+00 train_acc: 0.333 \n",
      " val_loss: 1.174e+00 val_acc: 0.250 time: 56\n",
      "\n"
     ]
    },
    {
     "name": "stderr",
     "output_type": "stream",
     "text": [
      "100%|██████████| 18/18 [00:00<00:00, 189.83it/s]\n"
     ]
    },
    {
     "name": "stdout",
     "output_type": "stream",
     "text": [
      "#epoch: 121 \n",
      " train_loss: 1.040e+00 train_acc: 0.472 \n",
      " val_loss: 1.191e+00 val_acc: 0.250 time: 56\n",
      "\n"
     ]
    },
    {
     "name": "stderr",
     "output_type": "stream",
     "text": [
      "100%|██████████| 18/18 [00:00<00:00, 164.98it/s]\n"
     ]
    },
    {
     "name": "stdout",
     "output_type": "stream",
     "text": [
      "#epoch: 122 \n",
      " train_loss: 1.093e+00 train_acc: 0.333 \n",
      " val_loss: 1.194e+00 val_acc: 0.400 time: 56\n",
      "\n"
     ]
    },
    {
     "name": "stderr",
     "output_type": "stream",
     "text": [
      "100%|██████████| 18/18 [00:00<00:00, 189.51it/s]\n"
     ]
    },
    {
     "name": "stdout",
     "output_type": "stream",
     "text": [
      "#epoch: 123 \n",
      " train_loss: 1.046e+00 train_acc: 0.361 \n",
      " val_loss: 1.456e+00 val_acc: 0.400 time: 56\n",
      "\n"
     ]
    },
    {
     "name": "stderr",
     "output_type": "stream",
     "text": [
      "100%|██████████| 18/18 [00:00<00:00, 161.53it/s]\n"
     ]
    },
    {
     "name": "stdout",
     "output_type": "stream",
     "text": [
      "#epoch: 124 \n",
      " train_loss: 1.063e+00 train_acc: 0.444 \n",
      " val_loss: 7.283e+00 val_acc: 0.350 time: 56\n",
      "\n"
     ]
    },
    {
     "name": "stderr",
     "output_type": "stream",
     "text": [
      "100%|██████████| 18/18 [00:00<00:00, 180.40it/s]\n"
     ]
    },
    {
     "name": "stdout",
     "output_type": "stream",
     "text": [
      "#epoch: 125 \n",
      " train_loss: 1.007e+00 train_acc: 0.444 \n",
      " val_loss: 9.471e-01 val_acc: 0.500 time: 56\n",
      "\n"
     ]
    },
    {
     "name": "stderr",
     "output_type": "stream",
     "text": [
      "100%|██████████| 18/18 [00:00<00:00, 154.45it/s]\n"
     ]
    },
    {
     "name": "stdout",
     "output_type": "stream",
     "text": [
      "#epoch: 126 \n",
      " train_loss: 1.059e+00 train_acc: 0.403 \n",
      " val_loss: 1.260e+00 val_acc: 0.350 time: 56\n",
      "\n"
     ]
    },
    {
     "name": "stderr",
     "output_type": "stream",
     "text": [
      "100%|██████████| 18/18 [00:00<00:00, 170.29it/s]\n"
     ]
    },
    {
     "name": "stdout",
     "output_type": "stream",
     "text": [
      "#epoch: 127 \n",
      " train_loss: 9.702e-01 train_acc: 0.500 \n",
      " val_loss: 1.328e+00 val_acc: 0.250 time: 56\n",
      "\n"
     ]
    },
    {
     "name": "stderr",
     "output_type": "stream",
     "text": [
      "100%|██████████| 18/18 [00:00<00:00, 140.30it/s]\n"
     ]
    },
    {
     "name": "stdout",
     "output_type": "stream",
     "text": [
      "#epoch: 128 \n",
      " train_loss: 1.115e+00 train_acc: 0.319 \n",
      " val_loss: 1.047e+00 val_acc: 0.400 time: 56\n",
      "\n"
     ]
    },
    {
     "name": "stderr",
     "output_type": "stream",
     "text": [
      "100%|██████████| 18/18 [00:00<00:00, 200.86it/s]\n"
     ]
    },
    {
     "name": "stdout",
     "output_type": "stream",
     "text": [
      "#epoch: 129 \n",
      " train_loss: 1.048e+00 train_acc: 0.500 \n",
      " val_loss: 1.288e+00 val_acc: 0.250 time: 56\n",
      "\n"
     ]
    },
    {
     "name": "stderr",
     "output_type": "stream",
     "text": [
      "100%|██████████| 18/18 [00:00<00:00, 158.19it/s]\n"
     ]
    },
    {
     "name": "stdout",
     "output_type": "stream",
     "text": [
      "#epoch: 130 \n",
      " train_loss: 1.096e+00 train_acc: 0.403 \n",
      " val_loss: 6.205e+00 val_acc: 0.350 time: 56\n",
      "\n"
     ]
    },
    {
     "name": "stderr",
     "output_type": "stream",
     "text": [
      "100%|██████████| 18/18 [00:00<00:00, 191.14it/s]\n"
     ]
    },
    {
     "name": "stdout",
     "output_type": "stream",
     "text": [
      "#epoch: 131 \n",
      " train_loss: 1.059e+00 train_acc: 0.472 \n",
      " val_loss: 1.310e+00 val_acc: 0.250 time: 56\n",
      "\n"
     ]
    },
    {
     "name": "stderr",
     "output_type": "stream",
     "text": [
      "100%|██████████| 18/18 [00:00<00:00, 166.04it/s]\n"
     ]
    },
    {
     "name": "stdout",
     "output_type": "stream",
     "text": [
      "#epoch: 132 \n",
      " train_loss: 9.496e-01 train_acc: 0.514 \n",
      " val_loss: 1.211e+00 val_acc: 0.250 time: 56\n",
      "\n"
     ]
    },
    {
     "name": "stderr",
     "output_type": "stream",
     "text": [
      "100%|██████████| 18/18 [00:00<00:00, 174.94it/s]\n"
     ]
    },
    {
     "name": "stdout",
     "output_type": "stream",
     "text": [
      "#epoch: 133 \n",
      " train_loss: 1.083e+00 train_acc: 0.458 \n",
      " val_loss: 1.203e+00 val_acc: 0.300 time: 56\n",
      "\n"
     ]
    },
    {
     "name": "stderr",
     "output_type": "stream",
     "text": [
      "100%|██████████| 18/18 [00:00<00:00, 194.48it/s]\n"
     ]
    },
    {
     "name": "stdout",
     "output_type": "stream",
     "text": [
      "#epoch: 134 \n",
      " train_loss: 1.092e+00 train_acc: 0.444 \n",
      " val_loss: 1.471e+01 val_acc: 0.350 time: 56\n",
      "\n"
     ]
    },
    {
     "name": "stderr",
     "output_type": "stream",
     "text": [
      "100%|██████████| 18/18 [00:00<00:00, 121.29it/s]\n"
     ]
    },
    {
     "name": "stdout",
     "output_type": "stream",
     "text": [
      "#epoch: 135 \n",
      " train_loss: 1.070e+00 train_acc: 0.417 \n",
      " val_loss: 1.188e+00 val_acc: 0.250 time: 56\n",
      "\n"
     ]
    },
    {
     "name": "stderr",
     "output_type": "stream",
     "text": [
      "100%|██████████| 18/18 [00:00<00:00, 148.54it/s]\n"
     ]
    },
    {
     "name": "stdout",
     "output_type": "stream",
     "text": [
      "#epoch: 136 \n",
      " train_loss: 1.064e+00 train_acc: 0.389 \n",
      " val_loss: 1.122e+01 val_acc: 0.350 time: 56\n",
      "\n"
     ]
    },
    {
     "name": "stderr",
     "output_type": "stream",
     "text": [
      "100%|██████████| 18/18 [00:00<00:00, 156.01it/s]\n"
     ]
    },
    {
     "name": "stdout",
     "output_type": "stream",
     "text": [
      "#epoch: 137 \n",
      " train_loss: 1.074e+00 train_acc: 0.292 \n",
      " val_loss: 1.076e+00 val_acc: 0.300 time: 56\n",
      "\n"
     ]
    },
    {
     "name": "stderr",
     "output_type": "stream",
     "text": [
      "100%|██████████| 18/18 [00:00<00:00, 206.28it/s]\n"
     ]
    },
    {
     "name": "stdout",
     "output_type": "stream",
     "text": [
      "#epoch: 138 \n",
      " train_loss: 1.068e+00 train_acc: 0.347 \n",
      " val_loss: 1.159e+00 val_acc: 0.250 time: 56\n",
      "\n"
     ]
    },
    {
     "name": "stderr",
     "output_type": "stream",
     "text": [
      "100%|██████████| 18/18 [00:00<00:00, 180.18it/s]\n"
     ]
    },
    {
     "name": "stdout",
     "output_type": "stream",
     "text": [
      "#epoch: 139 \n",
      " train_loss: 1.053e+00 train_acc: 0.403 \n",
      " val_loss: 6.430e+00 val_acc: 0.350 time: 56\n",
      "\n"
     ]
    },
    {
     "name": "stderr",
     "output_type": "stream",
     "text": [
      "100%|██████████| 18/18 [00:00<00:00, 64.47it/s]\n"
     ]
    },
    {
     "name": "stdout",
     "output_type": "stream",
     "text": [
      "#epoch: 140 \n",
      " train_loss: 1.053e+00 train_acc: 0.458 \n",
      " val_loss: 1.946e+00 val_acc: 0.350 time: 56\n",
      "\n"
     ]
    },
    {
     "name": "stderr",
     "output_type": "stream",
     "text": [
      "100%|██████████| 18/18 [00:00<00:00, 197.07it/s]\n"
     ]
    },
    {
     "name": "stdout",
     "output_type": "stream",
     "text": [
      "#epoch: 141 \n",
      " train_loss: 1.013e+00 train_acc: 0.486 \n",
      " val_loss: 2.548e+01 val_acc: 0.350 time: 56\n",
      "\n"
     ]
    },
    {
     "name": "stderr",
     "output_type": "stream",
     "text": [
      "100%|██████████| 18/18 [00:00<00:00, 165.22it/s]\n"
     ]
    },
    {
     "name": "stdout",
     "output_type": "stream",
     "text": [
      "#epoch: 142 \n",
      " train_loss: 1.024e+00 train_acc: 0.444 \n",
      " val_loss: 9.976e-01 val_acc: 0.450 time: 56\n",
      "\n"
     ]
    },
    {
     "name": "stderr",
     "output_type": "stream",
     "text": [
      "100%|██████████| 18/18 [00:00<00:00, 152.90it/s]\n"
     ]
    },
    {
     "name": "stdout",
     "output_type": "stream",
     "text": [
      "#epoch: 143 \n",
      " train_loss: 1.012e+00 train_acc: 0.431 \n",
      " val_loss: 1.320e+00 val_acc: 0.400 time: 56\n",
      "\n"
     ]
    },
    {
     "name": "stderr",
     "output_type": "stream",
     "text": [
      "100%|██████████| 18/18 [00:00<00:00, 172.20it/s]\n"
     ]
    },
    {
     "name": "stdout",
     "output_type": "stream",
     "text": [
      "#epoch: 144 \n",
      " train_loss: 1.075e+00 train_acc: 0.333 \n",
      " val_loss: 1.314e+00 val_acc: 0.350 time: 56\n",
      "\n"
     ]
    },
    {
     "name": "stderr",
     "output_type": "stream",
     "text": [
      "100%|██████████| 18/18 [00:00<00:00, 171.48it/s]\n"
     ]
    },
    {
     "name": "stdout",
     "output_type": "stream",
     "text": [
      "#epoch: 145 \n",
      " train_loss: 1.047e+00 train_acc: 0.417 \n",
      " val_loss: 1.384e+00 val_acc: 0.400 time: 56\n",
      "\n"
     ]
    },
    {
     "name": "stderr",
     "output_type": "stream",
     "text": [
      "100%|██████████| 18/18 [00:00<00:00, 138.12it/s]\n"
     ]
    },
    {
     "name": "stdout",
     "output_type": "stream",
     "text": [
      "#epoch: 146 \n",
      " train_loss: 1.070e+00 train_acc: 0.417 \n",
      " val_loss: 1.749e+00 val_acc: 0.350 time: 56\n",
      "\n"
     ]
    },
    {
     "name": "stderr",
     "output_type": "stream",
     "text": [
      "100%|██████████| 18/18 [00:00<00:00, 152.63it/s]\n"
     ]
    },
    {
     "name": "stdout",
     "output_type": "stream",
     "text": [
      "#epoch: 147 \n",
      " train_loss: 1.009e+00 train_acc: 0.458 \n",
      " val_loss: 9.559e+00 val_acc: 0.350 time: 56\n",
      "\n"
     ]
    },
    {
     "name": "stderr",
     "output_type": "stream",
     "text": [
      "100%|██████████| 18/18 [00:00<00:00, 198.56it/s]\n"
     ]
    },
    {
     "name": "stdout",
     "output_type": "stream",
     "text": [
      "#epoch: 148 \n",
      " train_loss: 9.979e-01 train_acc: 0.444 \n",
      " val_loss: 2.994e+00 val_acc: 0.350 time: 56\n",
      "\n"
     ]
    },
    {
     "name": "stderr",
     "output_type": "stream",
     "text": [
      "100%|██████████| 18/18 [00:00<00:00, 161.69it/s]\n"
     ]
    },
    {
     "name": "stdout",
     "output_type": "stream",
     "text": [
      "#epoch: 149 \n",
      " train_loss: 1.028e+00 train_acc: 0.500 \n",
      " val_loss: 1.759e+00 val_acc: 0.450 time: 56\n",
      "\n"
     ]
    },
    {
     "name": "stderr",
     "output_type": "stream",
     "text": [
      "100%|██████████| 18/18 [00:00<00:00, 162.39it/s]\n"
     ]
    },
    {
     "name": "stdout",
     "output_type": "stream",
     "text": [
      "#epoch: 150 \n",
      " train_loss: 1.005e+00 train_acc: 0.431 \n",
      " val_loss: 1.249e+00 val_acc: 0.250 time: 56\n",
      "\n"
     ]
    },
    {
     "name": "stderr",
     "output_type": "stream",
     "text": [
      "100%|██████████| 18/18 [00:00<00:00, 150.11it/s]\n"
     ]
    },
    {
     "name": "stdout",
     "output_type": "stream",
     "text": [
      "#epoch: 151 \n",
      " train_loss: 9.986e-01 train_acc: 0.444 \n",
      " val_loss: 2.380e+00 val_acc: 0.350 time: 56\n",
      "\n"
     ]
    },
    {
     "name": "stderr",
     "output_type": "stream",
     "text": [
      "100%|██████████| 18/18 [00:00<00:00, 138.19it/s]\n"
     ]
    },
    {
     "name": "stdout",
     "output_type": "stream",
     "text": [
      "#epoch: 152 \n",
      " train_loss: 9.974e-01 train_acc: 0.444 \n",
      " val_loss: 1.275e+00 val_acc: 0.250 time: 56\n",
      "\n"
     ]
    },
    {
     "name": "stderr",
     "output_type": "stream",
     "text": [
      "100%|██████████| 18/18 [00:00<00:00, 192.82it/s]\n"
     ]
    },
    {
     "name": "stdout",
     "output_type": "stream",
     "text": [
      "#epoch: 153 \n",
      " train_loss: 1.111e+00 train_acc: 0.361 \n",
      " val_loss: 6.556e+00 val_acc: 0.350 time: 56\n",
      "\n"
     ]
    },
    {
     "name": "stderr",
     "output_type": "stream",
     "text": [
      "100%|██████████| 18/18 [00:00<00:00, 141.06it/s]\n"
     ]
    },
    {
     "name": "stdout",
     "output_type": "stream",
     "text": [
      "#epoch: 154 \n",
      " train_loss: 9.822e-01 train_acc: 0.583 \n",
      " val_loss: 1.060e+00 val_acc: 0.200 time: 56\n",
      "\n"
     ]
    },
    {
     "name": "stderr",
     "output_type": "stream",
     "text": [
      "100%|██████████| 18/18 [00:00<00:00, 136.09it/s]\n"
     ]
    },
    {
     "name": "stdout",
     "output_type": "stream",
     "text": [
      "#epoch: 155 \n",
      " train_loss: 1.056e+00 train_acc: 0.458 \n",
      " val_loss: 9.929e-01 val_acc: 0.450 time: 56\n",
      "\n"
     ]
    },
    {
     "name": "stderr",
     "output_type": "stream",
     "text": [
      "100%|██████████| 18/18 [00:00<00:00, 122.38it/s]\n"
     ]
    },
    {
     "name": "stdout",
     "output_type": "stream",
     "text": [
      "#epoch: 156 \n",
      " train_loss: 1.072e+00 train_acc: 0.319 \n",
      " val_loss: 1.144e+00 val_acc: 0.250 time: 56\n",
      "\n"
     ]
    },
    {
     "name": "stderr",
     "output_type": "stream",
     "text": [
      "100%|██████████| 18/18 [00:00<00:00, 145.40it/s]\n"
     ]
    },
    {
     "name": "stdout",
     "output_type": "stream",
     "text": [
      "#epoch: 157 \n",
      " train_loss: 1.057e+00 train_acc: 0.458 \n",
      " val_loss: 1.197e+00 val_acc: 0.350 time: 56\n",
      "\n"
     ]
    },
    {
     "name": "stderr",
     "output_type": "stream",
     "text": [
      "100%|██████████| 18/18 [00:00<00:00, 135.17it/s]\n"
     ]
    },
    {
     "name": "stdout",
     "output_type": "stream",
     "text": [
      "#epoch: 158 \n",
      " train_loss: 9.959e-01 train_acc: 0.389 \n",
      " val_loss: 2.100e+01 val_acc: 0.350 time: 56\n",
      "\n"
     ]
    },
    {
     "name": "stderr",
     "output_type": "stream",
     "text": [
      "100%|██████████| 18/18 [00:00<00:00, 125.96it/s]\n"
     ]
    },
    {
     "name": "stdout",
     "output_type": "stream",
     "text": [
      "#epoch: 159 \n",
      " train_loss: 1.068e+00 train_acc: 0.458 \n",
      " val_loss: 8.297e+00 val_acc: 0.350 time: 56\n",
      "\n"
     ]
    },
    {
     "name": "stderr",
     "output_type": "stream",
     "text": [
      "100%|██████████| 18/18 [00:00<00:00, 141.28it/s]\n"
     ]
    },
    {
     "name": "stdout",
     "output_type": "stream",
     "text": [
      "#epoch: 160 \n",
      " train_loss: 1.050e+00 train_acc: 0.444 \n",
      " val_loss: 1.050e+00 val_acc: 0.450 time: 56\n",
      "\n"
     ]
    },
    {
     "name": "stderr",
     "output_type": "stream",
     "text": [
      "100%|██████████| 18/18 [00:00<00:00, 118.04it/s]\n"
     ]
    },
    {
     "name": "stdout",
     "output_type": "stream",
     "text": [
      "#epoch: 161 \n",
      " train_loss: 1.055e+00 train_acc: 0.306 \n",
      " val_loss: 1.146e+00 val_acc: 0.300 time: 56\n",
      "\n"
     ]
    },
    {
     "name": "stderr",
     "output_type": "stream",
     "text": [
      "100%|██████████| 18/18 [00:00<00:00, 137.78it/s]\n"
     ]
    },
    {
     "name": "stdout",
     "output_type": "stream",
     "text": [
      "#epoch: 162 \n",
      " train_loss: 1.078e+00 train_acc: 0.361 \n",
      " val_loss: 1.323e+00 val_acc: 0.250 time: 56\n",
      "\n"
     ]
    },
    {
     "name": "stderr",
     "output_type": "stream",
     "text": [
      "100%|██████████| 18/18 [00:00<00:00, 124.57it/s]\n"
     ]
    },
    {
     "name": "stdout",
     "output_type": "stream",
     "text": [
      "#epoch: 163 \n",
      " train_loss: 9.680e-01 train_acc: 0.417 \n",
      " val_loss: 1.175e+00 val_acc: 0.250 time: 56\n",
      "\n"
     ]
    },
    {
     "name": "stderr",
     "output_type": "stream",
     "text": [
      "100%|██████████| 18/18 [00:00<00:00, 107.29it/s]\n"
     ]
    },
    {
     "name": "stdout",
     "output_type": "stream",
     "text": [
      "#epoch: 164 \n",
      " train_loss: 9.758e-01 train_acc: 0.417 \n",
      " val_loss: 1.346e+00 val_acc: 0.250 time: 56\n",
      "\n"
     ]
    },
    {
     "name": "stderr",
     "output_type": "stream",
     "text": [
      "100%|██████████| 18/18 [00:00<00:00, 145.24it/s]\n"
     ]
    },
    {
     "name": "stdout",
     "output_type": "stream",
     "text": [
      "#epoch: 165 \n",
      " train_loss: 9.229e-01 train_acc: 0.514 \n",
      " val_loss: 1.435e+00 val_acc: 0.250 time: 56\n",
      "\n"
     ]
    },
    {
     "name": "stderr",
     "output_type": "stream",
     "text": [
      "100%|██████████| 18/18 [00:00<00:00, 126.91it/s]\n"
     ]
    },
    {
     "name": "stdout",
     "output_type": "stream",
     "text": [
      "#epoch: 166 \n",
      " train_loss: 9.733e-01 train_acc: 0.500 \n",
      " val_loss: 1.361e+01 val_acc: 0.350 time: 56\n",
      "\n"
     ]
    },
    {
     "name": "stderr",
     "output_type": "stream",
     "text": [
      "100%|██████████| 18/18 [00:00<00:00, 122.45it/s]\n"
     ]
    },
    {
     "name": "stdout",
     "output_type": "stream",
     "text": [
      "#epoch: 167 \n",
      " train_loss: 9.844e-01 train_acc: 0.486 \n",
      " val_loss: 1.054e+00 val_acc: 0.450 time: 56\n",
      "\n"
     ]
    },
    {
     "name": "stderr",
     "output_type": "stream",
     "text": [
      "100%|██████████| 18/18 [00:00<00:00, 87.74it/s]\n"
     ]
    },
    {
     "name": "stdout",
     "output_type": "stream",
     "text": [
      "#epoch: 168 \n",
      " train_loss: 1.008e+00 train_acc: 0.444 \n",
      " val_loss: 1.797e+00 val_acc: 0.250 time: 56\n",
      "\n"
     ]
    },
    {
     "name": "stderr",
     "output_type": "stream",
     "text": [
      "100%|██████████| 18/18 [00:00<00:00, 134.33it/s]\n"
     ]
    },
    {
     "name": "stdout",
     "output_type": "stream",
     "text": [
      "#epoch: 169 \n",
      " train_loss: 9.932e-01 train_acc: 0.458 \n",
      " val_loss: 2.484e+00 val_acc: 0.350 time: 56\n",
      "\n"
     ]
    },
    {
     "name": "stderr",
     "output_type": "stream",
     "text": [
      "100%|██████████| 18/18 [00:00<00:00, 120.02it/s]\n"
     ]
    },
    {
     "name": "stdout",
     "output_type": "stream",
     "text": [
      "#epoch: 170 \n",
      " train_loss: 1.054e+00 train_acc: 0.431 \n",
      " val_loss: 1.059e+00 val_acc: 0.250 time: 56\n",
      "\n"
     ]
    },
    {
     "name": "stderr",
     "output_type": "stream",
     "text": [
      "100%|██████████| 18/18 [00:00<00:00, 129.71it/s]\n"
     ]
    },
    {
     "name": "stdout",
     "output_type": "stream",
     "text": [
      "#epoch: 171 \n",
      " train_loss: 1.029e+00 train_acc: 0.472 \n",
      " val_loss: 1.183e+00 val_acc: 0.350 time: 56\n",
      "\n"
     ]
    },
    {
     "name": "stderr",
     "output_type": "stream",
     "text": [
      "100%|██████████| 18/18 [00:00<00:00, 70.09it/s]\n"
     ]
    },
    {
     "name": "stdout",
     "output_type": "stream",
     "text": [
      "#epoch: 172 \n",
      " train_loss: 9.980e-01 train_acc: 0.486 \n",
      " val_loss: 1.254e+00 val_acc: 0.400 time: 56\n",
      "\n"
     ]
    },
    {
     "name": "stderr",
     "output_type": "stream",
     "text": [
      "100%|██████████| 18/18 [00:00<00:00, 122.44it/s]\n"
     ]
    },
    {
     "name": "stdout",
     "output_type": "stream",
     "text": [
      "#epoch: 173 \n",
      " train_loss: 9.218e-01 train_acc: 0.597 \n",
      " val_loss: 1.134e+00 val_acc: 0.500 time: 56\n",
      "\n"
     ]
    },
    {
     "name": "stderr",
     "output_type": "stream",
     "text": [
      "100%|██████████| 18/18 [00:00<00:00, 158.40it/s]\n"
     ]
    },
    {
     "name": "stdout",
     "output_type": "stream",
     "text": [
      "#epoch: 174 \n",
      " train_loss: 1.015e+00 train_acc: 0.528 \n",
      " val_loss: 1.477e+00 val_acc: 0.250 time: 56\n",
      "\n"
     ]
    },
    {
     "name": "stderr",
     "output_type": "stream",
     "text": [
      "100%|██████████| 18/18 [00:00<00:00, 160.65it/s]\n"
     ]
    },
    {
     "name": "stdout",
     "output_type": "stream",
     "text": [
      "#epoch: 175 \n",
      " train_loss: 9.614e-01 train_acc: 0.542 \n",
      " val_loss: 1.409e+00 val_acc: 0.400 time: 56\n",
      "\n"
     ]
    },
    {
     "name": "stderr",
     "output_type": "stream",
     "text": [
      "100%|██████████| 18/18 [00:00<00:00, 176.36it/s]\n"
     ]
    },
    {
     "name": "stdout",
     "output_type": "stream",
     "text": [
      "#epoch: 176 \n",
      " train_loss: 9.674e-01 train_acc: 0.500 \n",
      " val_loss: 1.652e+00 val_acc: 0.250 time: 56\n",
      "\n"
     ]
    },
    {
     "name": "stderr",
     "output_type": "stream",
     "text": [
      "100%|██████████| 18/18 [00:00<00:00, 143.30it/s]\n"
     ]
    },
    {
     "name": "stdout",
     "output_type": "stream",
     "text": [
      "#epoch: 177 \n",
      " train_loss: 9.727e-01 train_acc: 0.514 \n",
      " val_loss: 2.284e+00 val_acc: 0.350 time: 56\n",
      "\n"
     ]
    },
    {
     "name": "stderr",
     "output_type": "stream",
     "text": [
      "100%|██████████| 18/18 [00:00<00:00, 99.52it/s]\n"
     ]
    },
    {
     "name": "stdout",
     "output_type": "stream",
     "text": [
      "#epoch: 178 \n",
      " train_loss: 9.047e-01 train_acc: 0.514 \n",
      " val_loss: 1.444e+00 val_acc: 0.350 time: 56\n",
      "\n"
     ]
    },
    {
     "name": "stderr",
     "output_type": "stream",
     "text": [
      "100%|██████████| 18/18 [00:00<00:00, 167.11it/s]\n"
     ]
    },
    {
     "name": "stdout",
     "output_type": "stream",
     "text": [
      "#epoch: 179 \n",
      " train_loss: 8.532e-01 train_acc: 0.625 \n",
      " val_loss: 1.491e+00 val_acc: 0.400 time: 56\n",
      "\n"
     ]
    },
    {
     "name": "stderr",
     "output_type": "stream",
     "text": [
      "100%|██████████| 18/18 [00:00<00:00, 176.25it/s]\n"
     ]
    },
    {
     "name": "stdout",
     "output_type": "stream",
     "text": [
      "#epoch: 180 \n",
      " train_loss: 9.234e-01 train_acc: 0.556 \n",
      " val_loss: 3.774e+00 val_acc: 0.350 time: 56\n",
      "\n"
     ]
    },
    {
     "name": "stderr",
     "output_type": "stream",
     "text": [
      "100%|██████████| 18/18 [00:00<00:00, 160.98it/s]\n"
     ]
    },
    {
     "name": "stdout",
     "output_type": "stream",
     "text": [
      "#epoch: 181 \n",
      " train_loss: 8.684e-01 train_acc: 0.514 \n",
      " val_loss: 1.410e+00 val_acc: 0.350 time: 56\n",
      "\n"
     ]
    },
    {
     "name": "stderr",
     "output_type": "stream",
     "text": [
      "100%|██████████| 18/18 [00:00<00:00, 161.86it/s]\n"
     ]
    },
    {
     "name": "stdout",
     "output_type": "stream",
     "text": [
      "#epoch: 182 \n",
      " train_loss: 9.051e-01 train_acc: 0.583 \n",
      " val_loss: 1.323e+00 val_acc: 0.250 time: 56\n",
      "\n"
     ]
    },
    {
     "name": "stderr",
     "output_type": "stream",
     "text": [
      "100%|██████████| 18/18 [00:00<00:00, 190.87it/s]\n"
     ]
    },
    {
     "name": "stdout",
     "output_type": "stream",
     "text": [
      "#epoch: 183 \n",
      " train_loss: 9.770e-01 train_acc: 0.444 \n",
      " val_loss: 7.235e+00 val_acc: 0.350 time: 56\n",
      "\n"
     ]
    },
    {
     "name": "stderr",
     "output_type": "stream",
     "text": [
      "100%|██████████| 18/18 [00:00<00:00, 203.78it/s]\n"
     ]
    },
    {
     "name": "stdout",
     "output_type": "stream",
     "text": [
      "#epoch: 184 \n",
      " train_loss: 1.022e+00 train_acc: 0.556 \n",
      " val_loss: 1.489e+00 val_acc: 0.300 time: 56\n",
      "\n"
     ]
    },
    {
     "name": "stderr",
     "output_type": "stream",
     "text": [
      "100%|██████████| 18/18 [00:00<00:00, 182.21it/s]\n"
     ]
    },
    {
     "name": "stdout",
     "output_type": "stream",
     "text": [
      "#epoch: 185 \n",
      " train_loss: 8.115e-01 train_acc: 0.597 \n",
      " val_loss: 2.659e+00 val_acc: 0.250 time: 56\n",
      "\n"
     ]
    },
    {
     "name": "stderr",
     "output_type": "stream",
     "text": [
      "100%|██████████| 18/18 [00:00<00:00, 198.75it/s]\n"
     ]
    },
    {
     "name": "stdout",
     "output_type": "stream",
     "text": [
      "#epoch: 186 \n",
      " train_loss: 8.839e-01 train_acc: 0.597 \n",
      " val_loss: 1.566e+00 val_acc: 0.400 time: 56\n",
      "\n"
     ]
    },
    {
     "name": "stderr",
     "output_type": "stream",
     "text": [
      "100%|██████████| 18/18 [00:00<00:00, 149.69it/s]\n"
     ]
    },
    {
     "name": "stdout",
     "output_type": "stream",
     "text": [
      "#epoch: 187 \n",
      " train_loss: 8.825e-01 train_acc: 0.611 \n",
      " val_loss: 1.397e+00 val_acc: 0.350 time: 56\n",
      "\n"
     ]
    },
    {
     "name": "stderr",
     "output_type": "stream",
     "text": [
      "100%|██████████| 18/18 [00:00<00:00, 174.76it/s]\n"
     ]
    },
    {
     "name": "stdout",
     "output_type": "stream",
     "text": [
      "#epoch: 188 \n",
      " train_loss: 6.995e-01 train_acc: 0.736 \n",
      " val_loss: 1.473e+00 val_acc: 0.500 time: 56\n",
      "\n"
     ]
    },
    {
     "name": "stderr",
     "output_type": "stream",
     "text": [
      "100%|██████████| 18/18 [00:00<00:00, 175.84it/s]\n"
     ]
    },
    {
     "name": "stdout",
     "output_type": "stream",
     "text": [
      "#epoch: 189 \n",
      " train_loss: 7.301e-01 train_acc: 0.750 \n",
      " val_loss: 2.445e+00 val_acc: 0.450 time: 56\n",
      "\n"
     ]
    },
    {
     "name": "stderr",
     "output_type": "stream",
     "text": [
      "100%|██████████| 18/18 [00:00<00:00, 139.84it/s]\n"
     ]
    },
    {
     "name": "stdout",
     "output_type": "stream",
     "text": [
      "#epoch: 190 \n",
      " train_loss: 8.249e-01 train_acc: 0.639 \n",
      " val_loss: 2.208e+00 val_acc: 0.300 time: 56\n",
      "\n"
     ]
    },
    {
     "name": "stderr",
     "output_type": "stream",
     "text": [
      "100%|██████████| 18/18 [00:00<00:00, 166.63it/s]\n"
     ]
    },
    {
     "name": "stdout",
     "output_type": "stream",
     "text": [
      "#epoch: 191 \n",
      " train_loss: 8.368e-01 train_acc: 0.597 \n",
      " val_loss: 3.023e+00 val_acc: 0.400 time: 56\n",
      "\n"
     ]
    },
    {
     "name": "stderr",
     "output_type": "stream",
     "text": [
      "100%|██████████| 18/18 [00:00<00:00, 149.84it/s]\n"
     ]
    },
    {
     "name": "stdout",
     "output_type": "stream",
     "text": [
      "#epoch: 192 \n",
      " train_loss: 8.574e-01 train_acc: 0.597 \n",
      " val_loss: 2.018e+00 val_acc: 0.250 time: 56\n",
      "\n"
     ]
    },
    {
     "name": "stderr",
     "output_type": "stream",
     "text": [
      "100%|██████████| 18/18 [00:00<00:00, 148.56it/s]\n"
     ]
    },
    {
     "name": "stdout",
     "output_type": "stream",
     "text": [
      "#epoch: 193 \n",
      " train_loss: 1.025e+00 train_acc: 0.472 \n",
      " val_loss: 1.549e+00 val_acc: 0.300 time: 56\n",
      "\n"
     ]
    },
    {
     "name": "stderr",
     "output_type": "stream",
     "text": [
      "100%|██████████| 18/18 [00:00<00:00, 153.01it/s]\n"
     ]
    },
    {
     "name": "stdout",
     "output_type": "stream",
     "text": [
      "#epoch: 194 \n",
      " train_loss: 1.209e+00 train_acc: 0.403 \n",
      " val_loss: 2.997e+00 val_acc: 0.350 time: 56\n",
      "\n"
     ]
    },
    {
     "name": "stderr",
     "output_type": "stream",
     "text": [
      "100%|██████████| 18/18 [00:00<00:00, 166.25it/s]\n"
     ]
    },
    {
     "name": "stdout",
     "output_type": "stream",
     "text": [
      "#epoch: 195 \n",
      " train_loss: 1.180e+00 train_acc: 0.417 \n",
      " val_loss: 1.004e+00 val_acc: 0.450 time: 56\n",
      "\n"
     ]
    },
    {
     "name": "stderr",
     "output_type": "stream",
     "text": [
      "100%|██████████| 18/18 [00:00<00:00, 186.09it/s]\n"
     ]
    },
    {
     "name": "stdout",
     "output_type": "stream",
     "text": [
      "#epoch: 196 \n",
      " train_loss: 1.065e+00 train_acc: 0.431 \n",
      " val_loss: 1.180e+00 val_acc: 0.300 time: 56\n",
      "\n"
     ]
    },
    {
     "name": "stderr",
     "output_type": "stream",
     "text": [
      "100%|██████████| 18/18 [00:00<00:00, 171.66it/s]\n"
     ]
    },
    {
     "name": "stdout",
     "output_type": "stream",
     "text": [
      "#epoch: 197 \n",
      " train_loss: 1.108e+00 train_acc: 0.375 \n",
      " val_loss: 1.206e+00 val_acc: 0.250 time: 56\n",
      "\n"
     ]
    },
    {
     "name": "stderr",
     "output_type": "stream",
     "text": [
      "100%|██████████| 18/18 [00:00<00:00, 167.06it/s]\n"
     ]
    },
    {
     "name": "stdout",
     "output_type": "stream",
     "text": [
      "#epoch: 198 \n",
      " train_loss: 1.062e+00 train_acc: 0.417 \n",
      " val_loss: 1.134e+00 val_acc: 0.400 time: 56\n",
      "\n"
     ]
    },
    {
     "name": "stderr",
     "output_type": "stream",
     "text": [
      "100%|██████████| 18/18 [00:00<00:00, 180.86it/s]\n"
     ]
    },
    {
     "name": "stdout",
     "output_type": "stream",
     "text": [
      "#epoch: 199 \n",
      " train_loss: 1.090e+00 train_acc: 0.389 \n",
      " val_loss: 1.545e+00 val_acc: 0.250 time: 56\n",
      "\n"
     ]
    },
    {
     "name": "stderr",
     "output_type": "stream",
     "text": [
      "100%|██████████| 18/18 [00:00<00:00, 127.76it/s]\n"
     ]
    },
    {
     "name": "stdout",
     "output_type": "stream",
     "text": [
      "#epoch: 200 \n",
      " train_loss: 1.063e+00 train_acc: 0.403 \n",
      " val_loss: 1.234e+00 val_acc: 0.250 time: 56\n",
      "\n"
     ]
    },
    {
     "name": "stderr",
     "output_type": "stream",
     "text": [
      "100%|██████████| 18/18 [00:00<00:00, 174.48it/s]\n"
     ]
    },
    {
     "name": "stdout",
     "output_type": "stream",
     "text": [
      "#epoch: 201 \n",
      " train_loss: 1.063e+00 train_acc: 0.472 \n",
      " val_loss: 1.352e+00 val_acc: 0.400 time: 56\n",
      "\n"
     ]
    },
    {
     "name": "stderr",
     "output_type": "stream",
     "text": [
      "100%|██████████| 18/18 [00:00<00:00, 161.50it/s]\n"
     ]
    },
    {
     "name": "stdout",
     "output_type": "stream",
     "text": [
      "#epoch: 202 \n",
      " train_loss: 1.069e+00 train_acc: 0.458 \n",
      " val_loss: 9.945e-01 val_acc: 0.500 time: 56\n",
      "\n"
     ]
    },
    {
     "name": "stderr",
     "output_type": "stream",
     "text": [
      "100%|██████████| 18/18 [00:00<00:00, 176.74it/s]\n"
     ]
    },
    {
     "name": "stdout",
     "output_type": "stream",
     "text": [
      "#epoch: 203 \n",
      " train_loss: 1.003e+00 train_acc: 0.458 \n",
      " val_loss: 1.915e+00 val_acc: 0.250 time: 56\n",
      "\n"
     ]
    },
    {
     "name": "stderr",
     "output_type": "stream",
     "text": [
      "100%|██████████| 18/18 [00:00<00:00, 73.36it/s]\n"
     ]
    },
    {
     "name": "stdout",
     "output_type": "stream",
     "text": [
      "#epoch: 204 \n",
      " train_loss: 9.918e-01 train_acc: 0.458 \n",
      " val_loss: 2.465e+00 val_acc: 0.250 time: 56\n",
      "\n"
     ]
    },
    {
     "name": "stderr",
     "output_type": "stream",
     "text": [
      "100%|██████████| 18/18 [00:00<00:00, 183.68it/s]\n"
     ]
    },
    {
     "name": "stdout",
     "output_type": "stream",
     "text": [
      "#epoch: 205 \n",
      " train_loss: 1.078e+00 train_acc: 0.403 \n",
      " val_loss: 1.051e+00 val_acc: 0.500 time: 56\n",
      "\n"
     ]
    },
    {
     "name": "stderr",
     "output_type": "stream",
     "text": [
      "100%|██████████| 18/18 [00:00<00:00, 137.19it/s]\n"
     ]
    },
    {
     "name": "stdout",
     "output_type": "stream",
     "text": [
      "#epoch: 206 \n",
      " train_loss: 1.048e+00 train_acc: 0.389 \n",
      " val_loss: 1.104e+00 val_acc: 0.450 time: 56\n",
      "\n"
     ]
    },
    {
     "name": "stderr",
     "output_type": "stream",
     "text": [
      "100%|██████████| 18/18 [00:00<00:00, 189.56it/s]\n"
     ]
    },
    {
     "name": "stdout",
     "output_type": "stream",
     "text": [
      "#epoch: 207 \n",
      " train_loss: 1.048e+00 train_acc: 0.514 \n",
      " val_loss: 1.257e+00 val_acc: 0.400 time: 56\n",
      "\n"
     ]
    },
    {
     "name": "stderr",
     "output_type": "stream",
     "text": [
      "100%|██████████| 18/18 [00:00<00:00, 145.98it/s]\n"
     ]
    },
    {
     "name": "stdout",
     "output_type": "stream",
     "text": [
      "#epoch: 208 \n",
      " train_loss: 1.076e+00 train_acc: 0.417 \n",
      " val_loss: 1.673e+00 val_acc: 0.350 time: 56\n",
      "\n"
     ]
    },
    {
     "name": "stderr",
     "output_type": "stream",
     "text": [
      "100%|██████████| 18/18 [00:00<00:00, 154.49it/s]\n"
     ]
    },
    {
     "name": "stdout",
     "output_type": "stream",
     "text": [
      "#epoch: 209 \n",
      " train_loss: 1.029e+00 train_acc: 0.458 \n",
      " val_loss: 2.663e+00 val_acc: 0.250 time: 56\n",
      "\n"
     ]
    },
    {
     "name": "stderr",
     "output_type": "stream",
     "text": [
      "100%|██████████| 18/18 [00:00<00:00, 158.29it/s]\n"
     ]
    },
    {
     "name": "stdout",
     "output_type": "stream",
     "text": [
      "#epoch: 210 \n",
      " train_loss: 1.009e+00 train_acc: 0.528 \n",
      " val_loss: 2.827e+00 val_acc: 0.250 time: 56\n",
      "\n"
     ]
    },
    {
     "name": "stderr",
     "output_type": "stream",
     "text": [
      "100%|██████████| 18/18 [00:00<00:00, 144.55it/s]\n"
     ]
    },
    {
     "name": "stdout",
     "output_type": "stream",
     "text": [
      "#epoch: 211 \n",
      " train_loss: 9.656e-01 train_acc: 0.569 \n",
      " val_loss: 2.181e+00 val_acc: 0.350 time: 56\n",
      "\n"
     ]
    },
    {
     "name": "stderr",
     "output_type": "stream",
     "text": [
      "100%|██████████| 18/18 [00:00<00:00, 135.52it/s]\n"
     ]
    },
    {
     "name": "stdout",
     "output_type": "stream",
     "text": [
      "#epoch: 212 \n",
      " train_loss: 9.337e-01 train_acc: 0.542 \n",
      " val_loss: 3.435e+00 val_acc: 0.350 time: 56\n",
      "\n"
     ]
    },
    {
     "name": "stderr",
     "output_type": "stream",
     "text": [
      "100%|██████████| 18/18 [00:00<00:00, 139.07it/s]\n"
     ]
    },
    {
     "name": "stdout",
     "output_type": "stream",
     "text": [
      "#epoch: 213 \n",
      " train_loss: 8.619e-01 train_acc: 0.639 \n",
      " val_loss: 4.731e+00 val_acc: 0.250 time: 56\n",
      "\n"
     ]
    },
    {
     "name": "stderr",
     "output_type": "stream",
     "text": [
      "100%|██████████| 18/18 [00:00<00:00, 149.01it/s]\n"
     ]
    },
    {
     "name": "stdout",
     "output_type": "stream",
     "text": [
      "#epoch: 214 \n",
      " train_loss: 9.641e-01 train_acc: 0.542 \n",
      " val_loss: 2.121e+00 val_acc: 0.450 time: 56\n",
      "\n"
     ]
    },
    {
     "name": "stderr",
     "output_type": "stream",
     "text": [
      "100%|██████████| 18/18 [00:00<00:00, 200.25it/s]\n"
     ]
    },
    {
     "name": "stdout",
     "output_type": "stream",
     "text": [
      "#epoch: 215 \n",
      " train_loss: 1.042e+00 train_acc: 0.514 \n",
      " val_loss: 3.795e+00 val_acc: 0.250 time: 56\n",
      "\n"
     ]
    },
    {
     "name": "stderr",
     "output_type": "stream",
     "text": [
      "100%|██████████| 18/18 [00:00<00:00, 175.55it/s]\n"
     ]
    },
    {
     "name": "stdout",
     "output_type": "stream",
     "text": [
      "#epoch: 216 \n",
      " train_loss: 9.154e-01 train_acc: 0.597 \n",
      " val_loss: 3.068e+00 val_acc: 0.400 time: 56\n",
      "\n"
     ]
    },
    {
     "name": "stderr",
     "output_type": "stream",
     "text": [
      "100%|██████████| 18/18 [00:00<00:00, 159.22it/s]\n"
     ]
    },
    {
     "name": "stdout",
     "output_type": "stream",
     "text": [
      "#epoch: 217 \n",
      " train_loss: 9.190e-01 train_acc: 0.569 \n",
      " val_loss: 1.209e+00 val_acc: 0.550 time: 56\n",
      "\n"
     ]
    },
    {
     "name": "stderr",
     "output_type": "stream",
     "text": [
      "100%|██████████| 18/18 [00:00<00:00, 177.88it/s]\n"
     ]
    },
    {
     "name": "stdout",
     "output_type": "stream",
     "text": [
      "#epoch: 218 \n",
      " train_loss: 9.218e-01 train_acc: 0.528 \n",
      " val_loss: 1.181e+00 val_acc: 0.350 time: 56\n",
      "\n"
     ]
    },
    {
     "name": "stderr",
     "output_type": "stream",
     "text": [
      "100%|██████████| 18/18 [00:00<00:00, 204.02it/s]\n"
     ]
    },
    {
     "name": "stdout",
     "output_type": "stream",
     "text": [
      "#epoch: 219 \n",
      " train_loss: 9.307e-01 train_acc: 0.542 \n",
      " val_loss: 2.289e+00 val_acc: 0.400 time: 56\n",
      "\n"
     ]
    },
    {
     "name": "stderr",
     "output_type": "stream",
     "text": [
      "100%|██████████| 18/18 [00:00<00:00, 162.84it/s]\n"
     ]
    },
    {
     "name": "stdout",
     "output_type": "stream",
     "text": [
      "#epoch: 220 \n",
      " train_loss: 9.897e-01 train_acc: 0.528 \n",
      " val_loss: 2.998e+00 val_acc: 0.250 time: 56\n",
      "\n"
     ]
    },
    {
     "name": "stderr",
     "output_type": "stream",
     "text": [
      "100%|██████████| 18/18 [00:00<00:00, 169.66it/s]\n"
     ]
    },
    {
     "name": "stdout",
     "output_type": "stream",
     "text": [
      "#epoch: 221 \n",
      " train_loss: 1.079e+00 train_acc: 0.444 \n",
      " val_loss: 1.341e+00 val_acc: 0.350 time: 56\n",
      "\n"
     ]
    },
    {
     "name": "stderr",
     "output_type": "stream",
     "text": [
      "100%|██████████| 18/18 [00:00<00:00, 139.83it/s]\n"
     ]
    },
    {
     "name": "stdout",
     "output_type": "stream",
     "text": [
      "#epoch: 222 \n",
      " train_loss: 9.968e-01 train_acc: 0.472 \n",
      " val_loss: 3.165e+00 val_acc: 0.350 time: 56\n",
      "\n"
     ]
    },
    {
     "name": "stderr",
     "output_type": "stream",
     "text": [
      "100%|██████████| 18/18 [00:00<00:00, 136.69it/s]\n"
     ]
    },
    {
     "name": "stdout",
     "output_type": "stream",
     "text": [
      "#epoch: 223 \n",
      " train_loss: 9.064e-01 train_acc: 0.542 \n",
      " val_loss: 1.646e+00 val_acc: 0.450 time: 56\n",
      "\n"
     ]
    },
    {
     "name": "stderr",
     "output_type": "stream",
     "text": [
      "100%|██████████| 18/18 [00:00<00:00, 151.90it/s]\n"
     ]
    },
    {
     "name": "stdout",
     "output_type": "stream",
     "text": [
      "#epoch: 224 \n",
      " train_loss: 1.060e+00 train_acc: 0.444 \n",
      " val_loss: 4.606e+00 val_acc: 0.250 time: 56\n",
      "\n"
     ]
    },
    {
     "name": "stderr",
     "output_type": "stream",
     "text": [
      "100%|██████████| 18/18 [00:00<00:00, 165.17it/s]\n"
     ]
    },
    {
     "name": "stdout",
     "output_type": "stream",
     "text": [
      "#epoch: 225 \n",
      " train_loss: 9.514e-01 train_acc: 0.528 \n",
      " val_loss: 3.938e+00 val_acc: 0.350 time: 56\n",
      "\n"
     ]
    },
    {
     "name": "stderr",
     "output_type": "stream",
     "text": [
      "100%|██████████| 18/18 [00:00<00:00, 142.18it/s]\n"
     ]
    },
    {
     "name": "stdout",
     "output_type": "stream",
     "text": [
      "#epoch: 226 \n",
      " train_loss: 9.919e-01 train_acc: 0.500 \n",
      " val_loss: 4.154e+00 val_acc: 0.250 time: 56\n",
      "\n"
     ]
    },
    {
     "name": "stderr",
     "output_type": "stream",
     "text": [
      "100%|██████████| 18/18 [00:00<00:00, 100.08it/s]\n"
     ]
    },
    {
     "name": "stdout",
     "output_type": "stream",
     "text": [
      "#epoch: 227 \n",
      " train_loss: 9.691e-01 train_acc: 0.500 \n",
      " val_loss: 2.738e+00 val_acc: 0.250 time: 56\n",
      "\n"
     ]
    },
    {
     "name": "stderr",
     "output_type": "stream",
     "text": [
      "100%|██████████| 18/18 [00:00<00:00, 168.43it/s]\n"
     ]
    },
    {
     "name": "stdout",
     "output_type": "stream",
     "text": [
      "#epoch: 228 \n",
      " train_loss: 9.460e-01 train_acc: 0.556 \n",
      " val_loss: 1.747e+00 val_acc: 0.400 time: 56\n",
      "\n"
     ]
    },
    {
     "name": "stderr",
     "output_type": "stream",
     "text": [
      "100%|██████████| 18/18 [00:00<00:00, 156.60it/s]\n"
     ]
    },
    {
     "name": "stdout",
     "output_type": "stream",
     "text": [
      "#epoch: 229 \n",
      " train_loss: 8.567e-01 train_acc: 0.639 \n",
      " val_loss: 1.146e+00 val_acc: 0.450 time: 56\n",
      "\n"
     ]
    },
    {
     "name": "stderr",
     "output_type": "stream",
     "text": [
      "100%|██████████| 18/18 [00:00<00:00, 155.68it/s]\n"
     ]
    },
    {
     "name": "stdout",
     "output_type": "stream",
     "text": [
      "#epoch: 230 \n",
      " train_loss: 8.651e-01 train_acc: 0.611 \n",
      " val_loss: 1.584e+00 val_acc: 0.350 time: 56\n",
      "\n"
     ]
    },
    {
     "name": "stderr",
     "output_type": "stream",
     "text": [
      "100%|██████████| 18/18 [00:00<00:00, 126.43it/s]\n"
     ]
    },
    {
     "name": "stdout",
     "output_type": "stream",
     "text": [
      "#epoch: 231 \n",
      " train_loss: 7.928e-01 train_acc: 0.625 \n",
      " val_loss: 1.434e+00 val_acc: 0.200 time: 56\n",
      "\n"
     ]
    },
    {
     "name": "stderr",
     "output_type": "stream",
     "text": [
      "100%|██████████| 18/18 [00:00<00:00, 117.82it/s]\n"
     ]
    },
    {
     "name": "stdout",
     "output_type": "stream",
     "text": [
      "#epoch: 232 \n",
      " train_loss: 8.251e-01 train_acc: 0.611 \n",
      " val_loss: 1.054e+01 val_acc: 0.350 time: 56\n",
      "\n"
     ]
    },
    {
     "name": "stderr",
     "output_type": "stream",
     "text": [
      "100%|██████████| 18/18 [00:00<00:00, 158.61it/s]\n"
     ]
    },
    {
     "name": "stdout",
     "output_type": "stream",
     "text": [
      "#epoch: 233 \n",
      " train_loss: 1.057e+00 train_acc: 0.472 \n",
      " val_loss: 6.842e+00 val_acc: 0.350 time: 56\n",
      "\n"
     ]
    },
    {
     "name": "stderr",
     "output_type": "stream",
     "text": [
      "100%|██████████| 18/18 [00:00<00:00, 141.18it/s]\n"
     ]
    },
    {
     "name": "stdout",
     "output_type": "stream",
     "text": [
      "#epoch: 234 \n",
      " train_loss: 9.730e-01 train_acc: 0.528 \n",
      " val_loss: 1.091e+00 val_acc: 0.450 time: 56\n",
      "\n"
     ]
    },
    {
     "name": "stderr",
     "output_type": "stream",
     "text": [
      "100%|██████████| 18/18 [00:00<00:00, 170.07it/s]\n"
     ]
    },
    {
     "name": "stdout",
     "output_type": "stream",
     "text": [
      "#epoch: 235 \n",
      " train_loss: 9.538e-01 train_acc: 0.569 \n",
      " val_loss: 6.993e+00 val_acc: 0.350 time: 56\n",
      "\n"
     ]
    },
    {
     "name": "stderr",
     "output_type": "stream",
     "text": [
      "100%|██████████| 18/18 [00:00<00:00, 180.79it/s]\n"
     ]
    },
    {
     "name": "stdout",
     "output_type": "stream",
     "text": [
      "#epoch: 236 \n",
      " train_loss: 9.854e-01 train_acc: 0.514 \n",
      " val_loss: 1.185e+00 val_acc: 0.400 time: 56\n",
      "\n"
     ]
    },
    {
     "name": "stderr",
     "output_type": "stream",
     "text": [
      "100%|██████████| 18/18 [00:00<00:00, 174.55it/s]\n"
     ]
    },
    {
     "name": "stdout",
     "output_type": "stream",
     "text": [
      "#epoch: 237 \n",
      " train_loss: 8.689e-01 train_acc: 0.556 \n",
      " val_loss: 6.055e+00 val_acc: 0.250 time: 56\n",
      "\n"
     ]
    },
    {
     "name": "stderr",
     "output_type": "stream",
     "text": [
      "100%|██████████| 18/18 [00:00<00:00, 133.59it/s]\n"
     ]
    },
    {
     "name": "stdout",
     "output_type": "stream",
     "text": [
      "#epoch: 238 \n",
      " train_loss: 8.411e-01 train_acc: 0.625 \n",
      " val_loss: 3.451e+00 val_acc: 0.250 time: 56\n",
      "\n"
     ]
    },
    {
     "name": "stderr",
     "output_type": "stream",
     "text": [
      "100%|██████████| 18/18 [00:00<00:00, 190.25it/s]\n"
     ]
    },
    {
     "name": "stdout",
     "output_type": "stream",
     "text": [
      "#epoch: 239 \n",
      " train_loss: 7.964e-01 train_acc: 0.639 \n",
      " val_loss: 2.849e+00 val_acc: 0.250 time: 56\n",
      "\n"
     ]
    },
    {
     "name": "stderr",
     "output_type": "stream",
     "text": [
      "100%|██████████| 18/18 [00:00<00:00, 180.14it/s]\n"
     ]
    },
    {
     "name": "stdout",
     "output_type": "stream",
     "text": [
      "#epoch: 240 \n",
      " train_loss: 9.111e-01 train_acc: 0.597 \n",
      " val_loss: 1.947e+00 val_acc: 0.350 time: 56\n",
      "\n"
     ]
    },
    {
     "name": "stderr",
     "output_type": "stream",
     "text": [
      "100%|██████████| 18/18 [00:00<00:00, 164.17it/s]\n"
     ]
    },
    {
     "name": "stdout",
     "output_type": "stream",
     "text": [
      "#epoch: 241 \n",
      " train_loss: 1.094e+00 train_acc: 0.417 \n",
      " val_loss: 1.214e+00 val_acc: 0.400 time: 56\n",
      "\n"
     ]
    },
    {
     "name": "stderr",
     "output_type": "stream",
     "text": [
      "100%|██████████| 18/18 [00:00<00:00, 170.89it/s]\n"
     ]
    },
    {
     "name": "stdout",
     "output_type": "stream",
     "text": [
      "#epoch: 242 \n",
      " train_loss: 9.637e-01 train_acc: 0.528 \n",
      " val_loss: 1.147e+00 val_acc: 0.400 time: 56\n",
      "\n"
     ]
    },
    {
     "name": "stderr",
     "output_type": "stream",
     "text": [
      "100%|██████████| 18/18 [00:00<00:00, 139.28it/s]\n"
     ]
    },
    {
     "name": "stdout",
     "output_type": "stream",
     "text": [
      "#epoch: 243 \n",
      " train_loss: 1.013e+00 train_acc: 0.472 \n",
      " val_loss: 6.579e+00 val_acc: 0.250 time: 56\n",
      "\n"
     ]
    },
    {
     "name": "stderr",
     "output_type": "stream",
     "text": [
      "100%|██████████| 18/18 [00:00<00:00, 159.10it/s]\n"
     ]
    },
    {
     "name": "stdout",
     "output_type": "stream",
     "text": [
      "#epoch: 244 \n",
      " train_loss: 9.848e-01 train_acc: 0.472 \n",
      " val_loss: 1.370e+00 val_acc: 0.400 time: 56\n",
      "\n"
     ]
    },
    {
     "name": "stderr",
     "output_type": "stream",
     "text": [
      "100%|██████████| 18/18 [00:00<00:00, 181.00it/s]\n"
     ]
    },
    {
     "name": "stdout",
     "output_type": "stream",
     "text": [
      "#epoch: 245 \n",
      " train_loss: 9.500e-01 train_acc: 0.583 \n",
      " val_loss: 9.413e-01 val_acc: 0.500 time: 56\n",
      "\n"
     ]
    },
    {
     "name": "stderr",
     "output_type": "stream",
     "text": [
      "100%|██████████| 18/18 [00:00<00:00, 142.02it/s]\n"
     ]
    },
    {
     "name": "stdout",
     "output_type": "stream",
     "text": [
      "#epoch: 246 \n",
      " train_loss: 9.170e-01 train_acc: 0.542 \n",
      " val_loss: 2.499e+00 val_acc: 0.250 time: 56\n",
      "\n"
     ]
    },
    {
     "name": "stderr",
     "output_type": "stream",
     "text": [
      "100%|██████████| 18/18 [00:00<00:00, 150.71it/s]\n"
     ]
    },
    {
     "name": "stdout",
     "output_type": "stream",
     "text": [
      "#epoch: 247 \n",
      " train_loss: 9.088e-01 train_acc: 0.597 \n",
      " val_loss: 3.292e+00 val_acc: 0.250 time: 56\n",
      "\n"
     ]
    },
    {
     "name": "stderr",
     "output_type": "stream",
     "text": [
      "100%|██████████| 18/18 [00:00<00:00, 115.69it/s]\n"
     ]
    },
    {
     "name": "stdout",
     "output_type": "stream",
     "text": [
      "#epoch: 248 \n",
      " train_loss: 1.180e+00 train_acc: 0.444 \n",
      " val_loss: 1.126e+00 val_acc: 0.500 time: 56\n",
      "\n"
     ]
    },
    {
     "name": "stderr",
     "output_type": "stream",
     "text": [
      "100%|██████████| 18/18 [00:00<00:00, 113.23it/s]\n"
     ]
    },
    {
     "name": "stdout",
     "output_type": "stream",
     "text": [
      "#epoch: 249 \n",
      " train_loss: 1.069e+00 train_acc: 0.458 \n",
      " val_loss: 1.244e+00 val_acc: 0.200 time: 56\n",
      "\n"
     ]
    },
    {
     "name": "stderr",
     "output_type": "stream",
     "text": [
      "100%|██████████| 18/18 [00:00<00:00, 177.47it/s]\n"
     ]
    },
    {
     "name": "stdout",
     "output_type": "stream",
     "text": [
      "#epoch: 250 \n",
      " train_loss: 1.035e+00 train_acc: 0.486 \n",
      " val_loss: 1.357e+00 val_acc: 0.250 time: 56\n",
      "\n"
     ]
    },
    {
     "name": "stderr",
     "output_type": "stream",
     "text": [
      "100%|██████████| 18/18 [00:00<00:00, 178.28it/s]\n"
     ]
    },
    {
     "name": "stdout",
     "output_type": "stream",
     "text": [
      "#epoch: 251 \n",
      " train_loss: 9.538e-01 train_acc: 0.542 \n",
      " val_loss: 1.278e+00 val_acc: 0.300 time: 56\n",
      "\n"
     ]
    },
    {
     "name": "stderr",
     "output_type": "stream",
     "text": [
      "100%|██████████| 18/18 [00:00<00:00, 163.62it/s]\n"
     ]
    },
    {
     "name": "stdout",
     "output_type": "stream",
     "text": [
      "#epoch: 252 \n",
      " train_loss: 9.487e-01 train_acc: 0.514 \n",
      " val_loss: 5.721e+00 val_acc: 0.350 time: 56\n",
      "\n"
     ]
    },
    {
     "name": "stderr",
     "output_type": "stream",
     "text": [
      "100%|██████████| 18/18 [00:00<00:00, 172.87it/s]\n"
     ]
    },
    {
     "name": "stdout",
     "output_type": "stream",
     "text": [
      "#epoch: 253 \n",
      " train_loss: 9.250e-01 train_acc: 0.542 \n",
      " val_loss: 1.187e+00 val_acc: 0.550 time: 56\n",
      "\n"
     ]
    },
    {
     "name": "stderr",
     "output_type": "stream",
     "text": [
      "100%|██████████| 18/18 [00:00<00:00, 137.26it/s]\n"
     ]
    },
    {
     "name": "stdout",
     "output_type": "stream",
     "text": [
      "#epoch: 254 \n",
      " train_loss: 9.330e-01 train_acc: 0.528 \n",
      " val_loss: 1.500e+00 val_acc: 0.300 time: 56\n",
      "\n"
     ]
    },
    {
     "name": "stderr",
     "output_type": "stream",
     "text": [
      "100%|██████████| 18/18 [00:00<00:00, 111.67it/s]\n"
     ]
    },
    {
     "name": "stdout",
     "output_type": "stream",
     "text": [
      "#epoch: 255 \n",
      " train_loss: 9.491e-01 train_acc: 0.569 \n",
      " val_loss: 1.979e+00 val_acc: 0.250 time: 56\n",
      "\n"
     ]
    },
    {
     "name": "stderr",
     "output_type": "stream",
     "text": [
      "100%|██████████| 18/18 [00:00<00:00, 175.70it/s]\n"
     ]
    },
    {
     "name": "stdout",
     "output_type": "stream",
     "text": [
      "#epoch: 256 \n",
      " train_loss: 1.270e+00 train_acc: 0.472 \n",
      " val_loss: 9.578e-01 val_acc: 0.500 time: 56\n",
      "\n"
     ]
    },
    {
     "name": "stderr",
     "output_type": "stream",
     "text": [
      "100%|██████████| 18/18 [00:00<00:00, 149.09it/s]\n"
     ]
    },
    {
     "name": "stdout",
     "output_type": "stream",
     "text": [
      "#epoch: 257 \n",
      " train_loss: 1.147e+00 train_acc: 0.458 \n",
      " val_loss: 1.494e+00 val_acc: 0.200 time: 56\n",
      "\n"
     ]
    },
    {
     "name": "stderr",
     "output_type": "stream",
     "text": [
      "100%|██████████| 18/18 [00:00<00:00, 193.08it/s]\n"
     ]
    },
    {
     "name": "stdout",
     "output_type": "stream",
     "text": [
      "#epoch: 258 \n",
      " train_loss: 1.015e+00 train_acc: 0.528 \n",
      " val_loss: 2.520e+00 val_acc: 0.350 time: 56\n",
      "\n"
     ]
    },
    {
     "name": "stderr",
     "output_type": "stream",
     "text": [
      "100%|██████████| 18/18 [00:00<00:00, 144.65it/s]\n"
     ]
    },
    {
     "name": "stdout",
     "output_type": "stream",
     "text": [
      "#epoch: 259 \n",
      " train_loss: 8.779e-01 train_acc: 0.639 \n",
      " val_loss: 1.257e+00 val_acc: 0.500 time: 56\n",
      "\n"
     ]
    },
    {
     "name": "stderr",
     "output_type": "stream",
     "text": [
      "100%|██████████| 18/18 [00:00<00:00, 135.38it/s]\n"
     ]
    },
    {
     "name": "stdout",
     "output_type": "stream",
     "text": [
      "#epoch: 260 \n",
      " train_loss: 7.873e-01 train_acc: 0.667 \n",
      " val_loss: 1.160e+00 val_acc: 0.400 time: 56\n",
      "\n"
     ]
    },
    {
     "name": "stderr",
     "output_type": "stream",
     "text": [
      "100%|██████████| 18/18 [00:00<00:00, 177.87it/s]\n"
     ]
    },
    {
     "name": "stdout",
     "output_type": "stream",
     "text": [
      "#epoch: 261 \n",
      " train_loss: 8.801e-01 train_acc: 0.556 \n",
      " val_loss: 3.497e+00 val_acc: 0.250 time: 56\n",
      "\n"
     ]
    },
    {
     "name": "stderr",
     "output_type": "stream",
     "text": [
      "100%|██████████| 18/18 [00:00<00:00, 171.21it/s]\n"
     ]
    },
    {
     "name": "stdout",
     "output_type": "stream",
     "text": [
      "#epoch: 262 \n",
      " train_loss: 8.154e-01 train_acc: 0.653 \n",
      " val_loss: 2.456e+00 val_acc: 0.350 time: 56\n",
      "\n"
     ]
    },
    {
     "name": "stderr",
     "output_type": "stream",
     "text": [
      "100%|██████████| 18/18 [00:00<00:00, 147.84it/s]\n"
     ]
    },
    {
     "name": "stdout",
     "output_type": "stream",
     "text": [
      "#epoch: 263 \n",
      " train_loss: 8.101e-01 train_acc: 0.639 \n",
      " val_loss: 1.563e+00 val_acc: 0.450 time: 56\n",
      "\n"
     ]
    },
    {
     "name": "stderr",
     "output_type": "stream",
     "text": [
      "100%|██████████| 18/18 [00:00<00:00, 205.44it/s]\n"
     ]
    },
    {
     "name": "stdout",
     "output_type": "stream",
     "text": [
      "#epoch: 264 \n",
      " train_loss: 8.233e-01 train_acc: 0.611 \n",
      " val_loss: 1.682e+00 val_acc: 0.300 time: 56\n",
      "\n"
     ]
    },
    {
     "name": "stderr",
     "output_type": "stream",
     "text": [
      "100%|██████████| 18/18 [00:00<00:00, 211.27it/s]\n"
     ]
    },
    {
     "name": "stdout",
     "output_type": "stream",
     "text": [
      "#epoch: 265 \n",
      " train_loss: 7.355e-01 train_acc: 0.694 \n",
      " val_loss: 3.549e+00 val_acc: 0.250 time: 56\n",
      "\n"
     ]
    },
    {
     "name": "stderr",
     "output_type": "stream",
     "text": [
      "100%|██████████| 18/18 [00:00<00:00, 196.04it/s]\n"
     ]
    },
    {
     "name": "stdout",
     "output_type": "stream",
     "text": [
      "#epoch: 266 \n",
      " train_loss: 7.555e-01 train_acc: 0.639 \n",
      " val_loss: 1.418e+01 val_acc: 0.350 time: 56\n",
      "\n"
     ]
    },
    {
     "name": "stderr",
     "output_type": "stream",
     "text": [
      "100%|██████████| 18/18 [00:00<00:00, 162.56it/s]\n"
     ]
    },
    {
     "name": "stdout",
     "output_type": "stream",
     "text": [
      "#epoch: 267 \n",
      " train_loss: 7.027e-01 train_acc: 0.694 \n",
      " val_loss: 1.208e+00 val_acc: 0.500 time: 56\n",
      "\n"
     ]
    },
    {
     "name": "stderr",
     "output_type": "stream",
     "text": [
      "100%|██████████| 18/18 [00:00<00:00, 162.35it/s]\n"
     ]
    },
    {
     "name": "stdout",
     "output_type": "stream",
     "text": [
      "#epoch: 268 \n",
      " train_loss: 6.714e-01 train_acc: 0.792 \n",
      " val_loss: 6.959e+00 val_acc: 0.400 time: 56\n",
      "\n"
     ]
    },
    {
     "name": "stderr",
     "output_type": "stream",
     "text": [
      "100%|██████████| 18/18 [00:00<00:00, 160.06it/s]\n"
     ]
    },
    {
     "name": "stdout",
     "output_type": "stream",
     "text": [
      "#epoch: 269 \n",
      " train_loss: 7.747e-01 train_acc: 0.681 \n",
      " val_loss: 2.666e+00 val_acc: 0.250 time: 56\n",
      "\n"
     ]
    },
    {
     "name": "stderr",
     "output_type": "stream",
     "text": [
      "100%|██████████| 18/18 [00:00<00:00, 118.82it/s]\n"
     ]
    },
    {
     "name": "stdout",
     "output_type": "stream",
     "text": [
      "#epoch: 270 \n",
      " train_loss: 6.907e-01 train_acc: 0.639 \n",
      " val_loss: 1.809e+00 val_acc: 0.550 time: 56\n",
      "\n"
     ]
    },
    {
     "name": "stderr",
     "output_type": "stream",
     "text": [
      "100%|██████████| 18/18 [00:00<00:00, 137.12it/s]\n"
     ]
    },
    {
     "name": "stdout",
     "output_type": "stream",
     "text": [
      "#epoch: 271 \n",
      " train_loss: 8.453e-01 train_acc: 0.597 \n",
      " val_loss: 1.511e+00 val_acc: 0.350 time: 56\n",
      "\n"
     ]
    },
    {
     "name": "stderr",
     "output_type": "stream",
     "text": [
      "100%|██████████| 18/18 [00:00<00:00, 133.43it/s]\n"
     ]
    },
    {
     "name": "stdout",
     "output_type": "stream",
     "text": [
      "#epoch: 272 \n",
      " train_loss: 6.993e-01 train_acc: 0.694 \n",
      " val_loss: 4.094e+00 val_acc: 0.350 time: 56\n",
      "\n"
     ]
    },
    {
     "name": "stderr",
     "output_type": "stream",
     "text": [
      "100%|██████████| 18/18 [00:00<00:00, 188.49it/s]\n"
     ]
    },
    {
     "name": "stdout",
     "output_type": "stream",
     "text": [
      "#epoch: 273 \n",
      " train_loss: 7.210e-01 train_acc: 0.667 \n",
      " val_loss: 1.771e+00 val_acc: 0.500 time: 56\n",
      "\n"
     ]
    },
    {
     "name": "stderr",
     "output_type": "stream",
     "text": [
      "100%|██████████| 18/18 [00:00<00:00, 151.51it/s]\n"
     ]
    },
    {
     "name": "stdout",
     "output_type": "stream",
     "text": [
      "#epoch: 274 \n",
      " train_loss: 8.854e-01 train_acc: 0.597 \n",
      " val_loss: 2.556e+00 val_acc: 0.300 time: 56\n",
      "\n"
     ]
    },
    {
     "name": "stderr",
     "output_type": "stream",
     "text": [
      "100%|██████████| 18/18 [00:00<00:00, 194.04it/s]\n"
     ]
    },
    {
     "name": "stdout",
     "output_type": "stream",
     "text": [
      "#epoch: 275 \n",
      " train_loss: 7.244e-01 train_acc: 0.708 \n",
      " val_loss: 3.173e+00 val_acc: 0.300 time: 56\n",
      "\n"
     ]
    },
    {
     "name": "stderr",
     "output_type": "stream",
     "text": [
      "100%|██████████| 18/18 [00:00<00:00, 202.77it/s]\n"
     ]
    },
    {
     "name": "stdout",
     "output_type": "stream",
     "text": [
      "#epoch: 276 \n",
      " train_loss: 8.367e-01 train_acc: 0.653 \n",
      " val_loss: 1.703e+00 val_acc: 0.400 time: 56\n",
      "\n"
     ]
    },
    {
     "name": "stderr",
     "output_type": "stream",
     "text": [
      "100%|██████████| 18/18 [00:00<00:00, 156.22it/s]\n"
     ]
    },
    {
     "name": "stdout",
     "output_type": "stream",
     "text": [
      "#epoch: 277 \n",
      " train_loss: 1.334e+00 train_acc: 0.375 \n",
      " val_loss: 2.394e+01 val_acc: 0.350 time: 56\n",
      "\n"
     ]
    },
    {
     "name": "stderr",
     "output_type": "stream",
     "text": [
      "100%|██████████| 18/18 [00:00<00:00, 140.70it/s]\n"
     ]
    },
    {
     "name": "stdout",
     "output_type": "stream",
     "text": [
      "#epoch: 278 \n",
      " train_loss: 1.213e+00 train_acc: 0.319 \n",
      " val_loss: 1.169e+00 val_acc: 0.450 time: 56\n",
      "\n"
     ]
    },
    {
     "name": "stderr",
     "output_type": "stream",
     "text": [
      "100%|██████████| 18/18 [00:00<00:00, 123.59it/s]\n"
     ]
    },
    {
     "name": "stdout",
     "output_type": "stream",
     "text": [
      "#epoch: 279 \n",
      " train_loss: 1.068e+00 train_acc: 0.486 \n",
      " val_loss: 1.012e+00 val_acc: 0.550 time: 56\n",
      "\n"
     ]
    },
    {
     "name": "stderr",
     "output_type": "stream",
     "text": [
      "100%|██████████| 18/18 [00:00<00:00, 167.47it/s]\n"
     ]
    },
    {
     "name": "stdout",
     "output_type": "stream",
     "text": [
      "#epoch: 280 \n",
      " train_loss: 1.158e+00 train_acc: 0.361 \n",
      " val_loss: 1.018e+00 val_acc: 0.350 time: 56\n",
      "\n"
     ]
    },
    {
     "name": "stderr",
     "output_type": "stream",
     "text": [
      "100%|██████████| 18/18 [00:00<00:00, 70.91it/s]\n"
     ]
    },
    {
     "name": "stdout",
     "output_type": "stream",
     "text": [
      "#epoch: 281 \n",
      " train_loss: 1.093e+00 train_acc: 0.361 \n",
      " val_loss: 9.852e-01 val_acc: 0.500 time: 56\n",
      "\n"
     ]
    },
    {
     "name": "stderr",
     "output_type": "stream",
     "text": [
      "100%|██████████| 18/18 [00:00<00:00, 188.03it/s]\n"
     ]
    },
    {
     "name": "stdout",
     "output_type": "stream",
     "text": [
      "#epoch: 282 \n",
      " train_loss: 1.143e+00 train_acc: 0.375 \n",
      " val_loss: 1.012e+00 val_acc: 0.350 time: 56\n",
      "\n"
     ]
    },
    {
     "name": "stderr",
     "output_type": "stream",
     "text": [
      "100%|██████████| 18/18 [00:00<00:00, 140.95it/s]\n"
     ]
    },
    {
     "name": "stdout",
     "output_type": "stream",
     "text": [
      "#epoch: 283 \n",
      " train_loss: 1.231e+00 train_acc: 0.375 \n",
      " val_loss: 1.131e+00 val_acc: 0.300 time: 56\n",
      "\n"
     ]
    },
    {
     "name": "stderr",
     "output_type": "stream",
     "text": [
      "100%|██████████| 18/18 [00:00<00:00, 140.74it/s]\n"
     ]
    },
    {
     "name": "stdout",
     "output_type": "stream",
     "text": [
      "#epoch: 284 \n",
      " train_loss: 1.130e+00 train_acc: 0.292 \n",
      " val_loss: 1.041e+00 val_acc: 0.350 time: 56\n",
      "\n"
     ]
    },
    {
     "name": "stderr",
     "output_type": "stream",
     "text": [
      "100%|██████████| 18/18 [00:00<00:00, 179.34it/s]\n"
     ]
    },
    {
     "name": "stdout",
     "output_type": "stream",
     "text": [
      "#epoch: 285 \n",
      " train_loss: 1.074e+00 train_acc: 0.417 \n",
      " val_loss: 1.142e+00 val_acc: 0.300 time: 56\n",
      "\n"
     ]
    },
    {
     "name": "stderr",
     "output_type": "stream",
     "text": [
      "100%|██████████| 18/18 [00:00<00:00, 136.49it/s]\n"
     ]
    },
    {
     "name": "stdout",
     "output_type": "stream",
     "text": [
      "#epoch: 286 \n",
      " train_loss: 1.089e+00 train_acc: 0.403 \n",
      " val_loss: 1.004e+00 val_acc: 0.550 time: 56\n",
      "\n"
     ]
    },
    {
     "name": "stderr",
     "output_type": "stream",
     "text": [
      "100%|██████████| 18/18 [00:00<00:00, 146.42it/s]\n"
     ]
    },
    {
     "name": "stdout",
     "output_type": "stream",
     "text": [
      "#epoch: 287 \n",
      " train_loss: 1.096e+00 train_acc: 0.347 \n",
      " val_loss: 1.120e+00 val_acc: 0.300 time: 56\n",
      "\n"
     ]
    },
    {
     "name": "stderr",
     "output_type": "stream",
     "text": [
      "100%|██████████| 18/18 [00:00<00:00, 90.52it/s]\n"
     ]
    },
    {
     "name": "stdout",
     "output_type": "stream",
     "text": [
      "#epoch: 288 \n",
      " train_loss: 1.086e+00 train_acc: 0.444 \n",
      " val_loss: 1.133e+00 val_acc: 0.300 time: 56\n",
      "\n"
     ]
    },
    {
     "name": "stderr",
     "output_type": "stream",
     "text": [
      "100%|██████████| 18/18 [00:00<00:00, 199.44it/s]\n"
     ]
    },
    {
     "name": "stdout",
     "output_type": "stream",
     "text": [
      "#epoch: 289 \n",
      " train_loss: 1.070e+00 train_acc: 0.444 \n",
      " val_loss: 9.956e-01 val_acc: 0.450 time: 56\n",
      "\n"
     ]
    },
    {
     "name": "stderr",
     "output_type": "stream",
     "text": [
      "100%|██████████| 18/18 [00:00<00:00, 215.00it/s]\n"
     ]
    },
    {
     "name": "stdout",
     "output_type": "stream",
     "text": [
      "#epoch: 290 \n",
      " train_loss: 1.048e+00 train_acc: 0.444 \n",
      " val_loss: 1.131e+00 val_acc: 0.400 time: 56\n",
      "\n"
     ]
    },
    {
     "name": "stderr",
     "output_type": "stream",
     "text": [
      "100%|██████████| 18/18 [00:00<00:00, 125.59it/s]\n"
     ]
    },
    {
     "name": "stdout",
     "output_type": "stream",
     "text": [
      "#epoch: 291 \n",
      " train_loss: 1.053e+00 train_acc: 0.417 \n",
      " val_loss: 1.206e+00 val_acc: 0.350 time: 56\n",
      "\n"
     ]
    },
    {
     "name": "stderr",
     "output_type": "stream",
     "text": [
      "100%|██████████| 18/18 [00:00<00:00, 152.94it/s]\n"
     ]
    },
    {
     "name": "stdout",
     "output_type": "stream",
     "text": [
      "#epoch: 292 \n",
      " train_loss: 1.061e+00 train_acc: 0.431 \n",
      " val_loss: 1.144e+00 val_acc: 0.450 time: 56\n",
      "\n"
     ]
    },
    {
     "name": "stderr",
     "output_type": "stream",
     "text": [
      "100%|██████████| 18/18 [00:00<00:00, 115.20it/s]\n"
     ]
    },
    {
     "name": "stdout",
     "output_type": "stream",
     "text": [
      "#epoch: 293 \n",
      " train_loss: 1.052e+00 train_acc: 0.417 \n",
      " val_loss: 1.764e+00 val_acc: 0.350 time: 56\n",
      "\n"
     ]
    },
    {
     "name": "stderr",
     "output_type": "stream",
     "text": [
      "100%|██████████| 18/18 [00:00<00:00, 192.64it/s]\n"
     ]
    },
    {
     "name": "stdout",
     "output_type": "stream",
     "text": [
      "#epoch: 294 \n",
      " train_loss: 1.092e+00 train_acc: 0.333 \n",
      " val_loss: 1.288e+00 val_acc: 0.350 time: 56\n",
      "\n"
     ]
    },
    {
     "name": "stderr",
     "output_type": "stream",
     "text": [
      "100%|██████████| 18/18 [00:00<00:00, 169.74it/s]\n"
     ]
    },
    {
     "name": "stdout",
     "output_type": "stream",
     "text": [
      "#epoch: 295 \n",
      " train_loss: 1.028e+00 train_acc: 0.458 \n",
      " val_loss: 3.117e+00 val_acc: 0.300 time: 56\n",
      "\n"
     ]
    },
    {
     "name": "stderr",
     "output_type": "stream",
     "text": [
      "100%|██████████| 18/18 [00:00<00:00, 161.81it/s]\n"
     ]
    },
    {
     "name": "stdout",
     "output_type": "stream",
     "text": [
      "#epoch: 296 \n",
      " train_loss: 1.053e+00 train_acc: 0.472 \n",
      " val_loss: 2.476e+00 val_acc: 0.350 time: 56\n",
      "\n"
     ]
    },
    {
     "name": "stderr",
     "output_type": "stream",
     "text": [
      "100%|██████████| 18/18 [00:00<00:00, 169.84it/s]\n"
     ]
    },
    {
     "name": "stdout",
     "output_type": "stream",
     "text": [
      "#epoch: 297 \n",
      " train_loss: 1.037e+00 train_acc: 0.528 \n",
      " val_loss: 4.073e+00 val_acc: 0.250 time: 56\n",
      "\n"
     ]
    },
    {
     "name": "stderr",
     "output_type": "stream",
     "text": [
      "100%|██████████| 18/18 [00:00<00:00, 161.81it/s]\n"
     ]
    },
    {
     "name": "stdout",
     "output_type": "stream",
     "text": [
      "#epoch: 298 \n",
      " train_loss: 1.184e+00 train_acc: 0.319 \n",
      " val_loss: 2.469e+00 val_acc: 0.300 time: 56\n",
      "\n"
     ]
    },
    {
     "name": "stderr",
     "output_type": "stream",
     "text": [
      "100%|██████████| 18/18 [00:00<00:00, 189.99it/s]\n"
     ]
    },
    {
     "name": "stdout",
     "output_type": "stream",
     "text": [
      "#epoch: 299 \n",
      " train_loss: 1.048e+00 train_acc: 0.472 \n",
      " val_loss: 5.722e+00 val_acc: 0.250 time: 56\n",
      "\n"
     ]
    },
    {
     "name": "stderr",
     "output_type": "stream",
     "text": [
      "100%|██████████| 18/18 [00:00<00:00, 131.51it/s]\n"
     ]
    },
    {
     "name": "stdout",
     "output_type": "stream",
     "text": [
      "#epoch: 300 \n",
      " train_loss: 9.994e-01 train_acc: 0.458 \n",
      " val_loss: 2.230e+00 val_acc: 0.200 time: 56\n",
      "\n"
     ]
    },
    {
     "name": "stderr",
     "output_type": "stream",
     "text": [
      "100%|██████████| 18/18 [00:00<00:00, 218.53it/s]\n"
     ]
    },
    {
     "name": "stdout",
     "output_type": "stream",
     "text": [
      "#epoch: 301 \n",
      " train_loss: 1.007e+00 train_acc: 0.528 \n",
      " val_loss: 1.796e+00 val_acc: 0.350 time: 56\n",
      "\n"
     ]
    },
    {
     "name": "stderr",
     "output_type": "stream",
     "text": [
      "100%|██████████| 18/18 [00:00<00:00, 136.75it/s]\n"
     ]
    },
    {
     "name": "stdout",
     "output_type": "stream",
     "text": [
      "#epoch: 302 \n",
      " train_loss: 9.833e-01 train_acc: 0.486 \n",
      " val_loss: 4.150e+00 val_acc: 0.250 time: 56\n",
      "\n"
     ]
    },
    {
     "name": "stderr",
     "output_type": "stream",
     "text": [
      "100%|██████████| 18/18 [00:00<00:00, 216.57it/s]\n"
     ]
    },
    {
     "name": "stdout",
     "output_type": "stream",
     "text": [
      "#epoch: 303 \n",
      " train_loss: 9.779e-01 train_acc: 0.500 \n",
      " val_loss: 6.412e+00 val_acc: 0.250 time: 56\n",
      "\n"
     ]
    },
    {
     "name": "stderr",
     "output_type": "stream",
     "text": [
      "100%|██████████| 18/18 [00:00<00:00, 136.96it/s]\n"
     ]
    },
    {
     "name": "stdout",
     "output_type": "stream",
     "text": [
      "#epoch: 304 \n",
      " train_loss: 1.016e+00 train_acc: 0.472 \n",
      " val_loss: 1.038e+00 val_acc: 0.450 time: 56\n",
      "\n"
     ]
    },
    {
     "name": "stderr",
     "output_type": "stream",
     "text": [
      "100%|██████████| 18/18 [00:00<00:00, 125.86it/s]\n"
     ]
    },
    {
     "name": "stdout",
     "output_type": "stream",
     "text": [
      "#epoch: 305 \n",
      " train_loss: 9.418e-01 train_acc: 0.528 \n",
      " val_loss: 5.101e+00 val_acc: 0.250 time: 56\n",
      "\n"
     ]
    },
    {
     "name": "stderr",
     "output_type": "stream",
     "text": [
      "100%|██████████| 18/18 [00:00<00:00, 137.82it/s]\n"
     ]
    },
    {
     "name": "stdout",
     "output_type": "stream",
     "text": [
      "#epoch: 306 \n",
      " train_loss: 9.084e-01 train_acc: 0.500 \n",
      " val_loss: 1.994e+00 val_acc: 0.350 time: 56\n",
      "\n"
     ]
    },
    {
     "name": "stderr",
     "output_type": "stream",
     "text": [
      "100%|██████████| 18/18 [00:00<00:00, 157.69it/s]\n"
     ]
    },
    {
     "name": "stdout",
     "output_type": "stream",
     "text": [
      "#epoch: 307 \n",
      " train_loss: 8.744e-01 train_acc: 0.667 \n",
      " val_loss: 3.385e+00 val_acc: 0.250 time: 56\n",
      "\n"
     ]
    },
    {
     "name": "stderr",
     "output_type": "stream",
     "text": [
      "100%|██████████| 18/18 [00:00<00:00, 168.15it/s]\n"
     ]
    },
    {
     "name": "stdout",
     "output_type": "stream",
     "text": [
      "#epoch: 308 \n",
      " train_loss: 9.894e-01 train_acc: 0.556 \n",
      " val_loss: 2.571e+00 val_acc: 0.300 time: 56\n",
      "\n"
     ]
    },
    {
     "name": "stderr",
     "output_type": "stream",
     "text": [
      "100%|██████████| 18/18 [00:00<00:00, 142.94it/s]\n"
     ]
    },
    {
     "name": "stdout",
     "output_type": "stream",
     "text": [
      "#epoch: 309 \n",
      " train_loss: 8.630e-01 train_acc: 0.528 \n",
      " val_loss: 1.458e+00 val_acc: 0.400 time: 56\n",
      "\n"
     ]
    },
    {
     "name": "stderr",
     "output_type": "stream",
     "text": [
      "100%|██████████| 18/18 [00:00<00:00, 197.91it/s]\n"
     ]
    },
    {
     "name": "stdout",
     "output_type": "stream",
     "text": [
      "#epoch: 310 \n",
      " train_loss: 9.033e-01 train_acc: 0.556 \n",
      " val_loss: 1.391e+00 val_acc: 0.400 time: 56\n",
      "\n"
     ]
    },
    {
     "name": "stderr",
     "output_type": "stream",
     "text": [
      "100%|██████████| 18/18 [00:00<00:00, 120.29it/s]\n"
     ]
    },
    {
     "name": "stdout",
     "output_type": "stream",
     "text": [
      "#epoch: 311 \n",
      " train_loss: 1.010e+00 train_acc: 0.472 \n",
      " val_loss: 1.397e+00 val_acc: 0.350 time: 56\n",
      "\n"
     ]
    },
    {
     "name": "stderr",
     "output_type": "stream",
     "text": [
      "100%|██████████| 18/18 [00:00<00:00, 118.42it/s]\n"
     ]
    },
    {
     "name": "stdout",
     "output_type": "stream",
     "text": [
      "#epoch: 312 \n",
      " train_loss: 8.907e-01 train_acc: 0.625 \n",
      " val_loss: 5.763e+00 val_acc: 0.250 time: 56\n",
      "\n"
     ]
    },
    {
     "name": "stderr",
     "output_type": "stream",
     "text": [
      "100%|██████████| 18/18 [00:00<00:00, 159.74it/s]\n"
     ]
    },
    {
     "name": "stdout",
     "output_type": "stream",
     "text": [
      "#epoch: 313 \n",
      " train_loss: 9.066e-01 train_acc: 0.583 \n",
      " val_loss: 1.947e+00 val_acc: 0.400 time: 56\n",
      "\n"
     ]
    },
    {
     "name": "stderr",
     "output_type": "stream",
     "text": [
      "100%|██████████| 18/18 [00:00<00:00, 161.97it/s]\n"
     ]
    },
    {
     "name": "stdout",
     "output_type": "stream",
     "text": [
      "#epoch: 314 \n",
      " train_loss: 9.139e-01 train_acc: 0.569 \n",
      " val_loss: 2.332e+00 val_acc: 0.300 time: 56\n",
      "\n"
     ]
    },
    {
     "name": "stderr",
     "output_type": "stream",
     "text": [
      "100%|██████████| 18/18 [00:00<00:00, 183.17it/s]\n"
     ]
    },
    {
     "name": "stdout",
     "output_type": "stream",
     "text": [
      "#epoch: 315 \n",
      " train_loss: 9.241e-01 train_acc: 0.569 \n",
      " val_loss: 2.262e+00 val_acc: 0.350 time: 56\n",
      "\n"
     ]
    },
    {
     "name": "stderr",
     "output_type": "stream",
     "text": [
      "100%|██████████| 18/18 [00:00<00:00, 160.10it/s]\n"
     ]
    },
    {
     "name": "stdout",
     "output_type": "stream",
     "text": [
      "#epoch: 316 \n",
      " train_loss: 9.714e-01 train_acc: 0.542 \n",
      " val_loss: 2.404e+00 val_acc: 0.200 time: 56\n",
      "\n"
     ]
    },
    {
     "name": "stderr",
     "output_type": "stream",
     "text": [
      "100%|██████████| 18/18 [00:00<00:00, 171.58it/s]\n"
     ]
    },
    {
     "name": "stdout",
     "output_type": "stream",
     "text": [
      "#epoch: 317 \n",
      " train_loss: 8.686e-01 train_acc: 0.583 \n",
      " val_loss: 1.030e+01 val_acc: 0.250 time: 56\n",
      "\n"
     ]
    },
    {
     "name": "stderr",
     "output_type": "stream",
     "text": [
      "100%|██████████| 18/18 [00:00<00:00, 203.05it/s]\n"
     ]
    },
    {
     "name": "stdout",
     "output_type": "stream",
     "text": [
      "#epoch: 318 \n",
      " train_loss: 8.992e-01 train_acc: 0.569 \n",
      " val_loss: 2.041e+00 val_acc: 0.350 time: 56\n",
      "\n"
     ]
    },
    {
     "name": "stderr",
     "output_type": "stream",
     "text": [
      "100%|██████████| 18/18 [00:00<00:00, 179.01it/s]\n"
     ]
    },
    {
     "name": "stdout",
     "output_type": "stream",
     "text": [
      "#epoch: 319 \n",
      " train_loss: 9.195e-01 train_acc: 0.583 \n",
      " val_loss: 1.539e+00 val_acc: 0.400 time: 56\n",
      "\n"
     ]
    },
    {
     "name": "stderr",
     "output_type": "stream",
     "text": [
      "100%|██████████| 18/18 [00:00<00:00, 185.59it/s]\n"
     ]
    },
    {
     "name": "stdout",
     "output_type": "stream",
     "text": [
      "#epoch: 320 \n",
      " train_loss: 8.598e-01 train_acc: 0.583 \n",
      " val_loss: 1.150e+01 val_acc: 0.250 time: 56\n",
      "\n"
     ]
    },
    {
     "name": "stderr",
     "output_type": "stream",
     "text": [
      "100%|██████████| 18/18 [00:00<00:00, 147.63it/s]\n"
     ]
    },
    {
     "name": "stdout",
     "output_type": "stream",
     "text": [
      "#epoch: 321 \n",
      " train_loss: 8.050e-01 train_acc: 0.653 \n",
      " val_loss: 1.743e+00 val_acc: 0.450 time: 56\n",
      "\n"
     ]
    },
    {
     "name": "stderr",
     "output_type": "stream",
     "text": [
      "100%|██████████| 18/18 [00:00<00:00, 173.43it/s]\n"
     ]
    },
    {
     "name": "stdout",
     "output_type": "stream",
     "text": [
      "#epoch: 322 \n",
      " train_loss: 7.685e-01 train_acc: 0.639 \n",
      " val_loss: 8.888e+00 val_acc: 0.250 time: 56\n",
      "\n"
     ]
    },
    {
     "name": "stderr",
     "output_type": "stream",
     "text": [
      "100%|██████████| 18/18 [00:00<00:00, 157.20it/s]\n"
     ]
    },
    {
     "name": "stdout",
     "output_type": "stream",
     "text": [
      "#epoch: 323 \n",
      " train_loss: 9.068e-01 train_acc: 0.556 \n",
      " val_loss: 5.923e+00 val_acc: 0.350 time: 56\n",
      "\n"
     ]
    },
    {
     "name": "stderr",
     "output_type": "stream",
     "text": [
      "100%|██████████| 18/18 [00:00<00:00, 138.36it/s]\n"
     ]
    },
    {
     "name": "stdout",
     "output_type": "stream",
     "text": [
      "#epoch: 324 \n",
      " train_loss: 9.267e-01 train_acc: 0.542 \n",
      " val_loss: 1.196e+00 val_acc: 0.250 time: 56\n",
      "\n"
     ]
    },
    {
     "name": "stderr",
     "output_type": "stream",
     "text": [
      "100%|██████████| 18/18 [00:00<00:00, 131.04it/s]\n"
     ]
    },
    {
     "name": "stdout",
     "output_type": "stream",
     "text": [
      "#epoch: 325 \n",
      " train_loss: 9.517e-01 train_acc: 0.542 \n",
      " val_loss: 1.281e+01 val_acc: 0.250 time: 56\n",
      "\n"
     ]
    },
    {
     "name": "stderr",
     "output_type": "stream",
     "text": [
      "100%|██████████| 18/18 [00:00<00:00, 208.66it/s]\n"
     ]
    },
    {
     "name": "stdout",
     "output_type": "stream",
     "text": [
      "#epoch: 326 \n",
      " train_loss: 9.431e-01 train_acc: 0.528 \n",
      " val_loss: 1.108e+00 val_acc: 0.500 time: 56\n",
      "\n"
     ]
    },
    {
     "name": "stderr",
     "output_type": "stream",
     "text": [
      "100%|██████████| 18/18 [00:00<00:00, 151.05it/s]\n"
     ]
    },
    {
     "name": "stdout",
     "output_type": "stream",
     "text": [
      "#epoch: 327 \n",
      " train_loss: 8.670e-01 train_acc: 0.611 \n",
      " val_loss: 6.977e+00 val_acc: 0.250 time: 56\n",
      "\n"
     ]
    },
    {
     "name": "stderr",
     "output_type": "stream",
     "text": [
      "100%|██████████| 18/18 [00:00<00:00, 145.23it/s]\n"
     ]
    },
    {
     "name": "stdout",
     "output_type": "stream",
     "text": [
      "#epoch: 328 \n",
      " train_loss: 7.687e-01 train_acc: 0.681 \n",
      " val_loss: 3.189e+00 val_acc: 0.350 time: 56\n",
      "\n"
     ]
    },
    {
     "name": "stderr",
     "output_type": "stream",
     "text": [
      "100%|██████████| 18/18 [00:00<00:00, 209.85it/s]\n"
     ]
    },
    {
     "name": "stdout",
     "output_type": "stream",
     "text": [
      "#epoch: 329 \n",
      " train_loss: 7.752e-01 train_acc: 0.681 \n",
      " val_loss: 2.352e+00 val_acc: 0.250 time: 56\n",
      "\n"
     ]
    },
    {
     "name": "stderr",
     "output_type": "stream",
     "text": [
      "100%|██████████| 18/18 [00:00<00:00, 181.50it/s]\n"
     ]
    },
    {
     "name": "stdout",
     "output_type": "stream",
     "text": [
      "#epoch: 330 \n",
      " train_loss: 9.504e-01 train_acc: 0.514 \n",
      " val_loss: 4.577e+00 val_acc: 0.350 time: 56\n",
      "\n"
     ]
    },
    {
     "name": "stderr",
     "output_type": "stream",
     "text": [
      "100%|██████████| 18/18 [00:00<00:00, 188.32it/s]\n"
     ]
    },
    {
     "name": "stdout",
     "output_type": "stream",
     "text": [
      "#epoch: 331 \n",
      " train_loss: 1.071e+00 train_acc: 0.486 \n",
      " val_loss: 4.929e+00 val_acc: 0.250 time: 56\n",
      "\n"
     ]
    },
    {
     "name": "stderr",
     "output_type": "stream",
     "text": [
      "100%|██████████| 18/18 [00:00<00:00, 183.16it/s]\n"
     ]
    },
    {
     "name": "stdout",
     "output_type": "stream",
     "text": [
      "#epoch: 332 \n",
      " train_loss: 8.777e-01 train_acc: 0.528 \n",
      " val_loss: 8.403e+00 val_acc: 0.250 time: 56\n",
      "\n"
     ]
    },
    {
     "name": "stderr",
     "output_type": "stream",
     "text": [
      "100%|██████████| 18/18 [00:00<00:00, 148.74it/s]\n"
     ]
    },
    {
     "name": "stdout",
     "output_type": "stream",
     "text": [
      "#epoch: 333 \n",
      " train_loss: 9.166e-01 train_acc: 0.556 \n",
      " val_loss: 5.549e+00 val_acc: 0.250 time: 56\n",
      "\n"
     ]
    },
    {
     "name": "stderr",
     "output_type": "stream",
     "text": [
      "100%|██████████| 18/18 [00:00<00:00, 153.99it/s]\n"
     ]
    },
    {
     "name": "stdout",
     "output_type": "stream",
     "text": [
      "#epoch: 334 \n",
      " train_loss: 8.354e-01 train_acc: 0.639 \n",
      " val_loss: 7.681e+00 val_acc: 0.350 time: 56\n",
      "\n"
     ]
    },
    {
     "name": "stderr",
     "output_type": "stream",
     "text": [
      "100%|██████████| 18/18 [00:00<00:00, 221.78it/s]\n"
     ]
    },
    {
     "name": "stdout",
     "output_type": "stream",
     "text": [
      "#epoch: 335 \n",
      " train_loss: 8.374e-01 train_acc: 0.556 \n",
      " val_loss: 1.398e+01 val_acc: 0.250 time: 56\n",
      "\n"
     ]
    },
    {
     "name": "stderr",
     "output_type": "stream",
     "text": [
      "100%|██████████| 18/18 [00:00<00:00, 180.17it/s]\n"
     ]
    },
    {
     "name": "stdout",
     "output_type": "stream",
     "text": [
      "#epoch: 336 \n",
      " train_loss: 7.953e-01 train_acc: 0.708 \n",
      " val_loss: 1.158e+01 val_acc: 0.250 time: 56\n",
      "\n"
     ]
    },
    {
     "name": "stderr",
     "output_type": "stream",
     "text": [
      "100%|██████████| 18/18 [00:00<00:00, 187.61it/s]\n"
     ]
    },
    {
     "name": "stdout",
     "output_type": "stream",
     "text": [
      "#epoch: 337 \n",
      " train_loss: 9.356e-01 train_acc: 0.500 \n",
      " val_loss: 2.975e+00 val_acc: 0.350 time: 56\n",
      "\n"
     ]
    },
    {
     "name": "stderr",
     "output_type": "stream",
     "text": [
      "100%|██████████| 18/18 [00:00<00:00, 187.23it/s]\n"
     ]
    },
    {
     "name": "stdout",
     "output_type": "stream",
     "text": [
      "#epoch: 338 \n",
      " train_loss: 8.494e-01 train_acc: 0.597 \n",
      " val_loss: 6.122e+00 val_acc: 0.250 time: 56\n",
      "\n"
     ]
    },
    {
     "name": "stderr",
     "output_type": "stream",
     "text": [
      "100%|██████████| 18/18 [00:00<00:00, 189.07it/s]\n"
     ]
    },
    {
     "name": "stdout",
     "output_type": "stream",
     "text": [
      "#epoch: 339 \n",
      " train_loss: 8.538e-01 train_acc: 0.597 \n",
      " val_loss: 1.375e+00 val_acc: 0.400 time: 56\n",
      "\n"
     ]
    },
    {
     "name": "stderr",
     "output_type": "stream",
     "text": [
      "100%|██████████| 18/18 [00:00<00:00, 166.18it/s]\n"
     ]
    },
    {
     "name": "stdout",
     "output_type": "stream",
     "text": [
      "#epoch: 340 \n",
      " train_loss: 7.922e-01 train_acc: 0.611 \n",
      " val_loss: 1.028e+01 val_acc: 0.350 time: 56\n",
      "\n"
     ]
    },
    {
     "name": "stderr",
     "output_type": "stream",
     "text": [
      "100%|██████████| 18/18 [00:00<00:00, 149.89it/s]\n"
     ]
    },
    {
     "name": "stdout",
     "output_type": "stream",
     "text": [
      "#epoch: 341 \n",
      " train_loss: 9.411e-01 train_acc: 0.556 \n",
      " val_loss: 4.985e+00 val_acc: 0.350 time: 56\n",
      "\n"
     ]
    },
    {
     "name": "stderr",
     "output_type": "stream",
     "text": [
      "100%|██████████| 18/18 [00:00<00:00, 146.83it/s]\n"
     ]
    },
    {
     "name": "stdout",
     "output_type": "stream",
     "text": [
      "#epoch: 342 \n",
      " train_loss: 7.706e-01 train_acc: 0.639 \n",
      " val_loss: 3.829e+00 val_acc: 0.350 time: 56\n",
      "\n"
     ]
    },
    {
     "name": "stderr",
     "output_type": "stream",
     "text": [
      "100%|██████████| 18/18 [00:00<00:00, 162.51it/s]\n"
     ]
    },
    {
     "name": "stdout",
     "output_type": "stream",
     "text": [
      "#epoch: 343 \n",
      " train_loss: 9.197e-01 train_acc: 0.486 \n",
      " val_loss: 1.025e+01 val_acc: 0.250 time: 56\n",
      "\n"
     ]
    },
    {
     "name": "stderr",
     "output_type": "stream",
     "text": [
      "100%|██████████| 18/18 [00:00<00:00, 169.19it/s]\n"
     ]
    },
    {
     "name": "stdout",
     "output_type": "stream",
     "text": [
      "#epoch: 344 \n",
      " train_loss: 9.062e-01 train_acc: 0.556 \n",
      " val_loss: 1.326e+01 val_acc: 0.250 time: 56\n",
      "\n"
     ]
    },
    {
     "name": "stderr",
     "output_type": "stream",
     "text": [
      "100%|██████████| 18/18 [00:00<00:00, 195.42it/s]\n"
     ]
    },
    {
     "name": "stdout",
     "output_type": "stream",
     "text": [
      "#epoch: 345 \n",
      " train_loss: 8.056e-01 train_acc: 0.569 \n",
      " val_loss: 6.037e+01 val_acc: 0.350 time: 56\n",
      "\n"
     ]
    },
    {
     "name": "stderr",
     "output_type": "stream",
     "text": [
      "100%|██████████| 18/18 [00:00<00:00, 199.75it/s]\n"
     ]
    },
    {
     "name": "stdout",
     "output_type": "stream",
     "text": [
      "#epoch: 346 \n",
      " train_loss: 9.684e-01 train_acc: 0.486 \n",
      " val_loss: 5.171e+00 val_acc: 0.350 time: 56\n",
      "\n"
     ]
    },
    {
     "name": "stderr",
     "output_type": "stream",
     "text": [
      "100%|██████████| 18/18 [00:00<00:00, 168.69it/s]\n"
     ]
    },
    {
     "name": "stdout",
     "output_type": "stream",
     "text": [
      "#epoch: 347 \n",
      " train_loss: 8.814e-01 train_acc: 0.625 \n",
      " val_loss: 1.144e+01 val_acc: 0.250 time: 56\n",
      "\n"
     ]
    },
    {
     "name": "stderr",
     "output_type": "stream",
     "text": [
      "100%|██████████| 18/18 [00:00<00:00, 123.01it/s]\n"
     ]
    },
    {
     "name": "stdout",
     "output_type": "stream",
     "text": [
      "#epoch: 348 \n",
      " train_loss: 8.767e-01 train_acc: 0.569 \n",
      " val_loss: 7.646e+00 val_acc: 0.250 time: 56\n",
      "\n"
     ]
    },
    {
     "name": "stderr",
     "output_type": "stream",
     "text": [
      "100%|██████████| 18/18 [00:00<00:00, 175.48it/s]\n"
     ]
    },
    {
     "name": "stdout",
     "output_type": "stream",
     "text": [
      "#epoch: 349 \n",
      " train_loss: 9.372e-01 train_acc: 0.542 \n",
      " val_loss: 1.218e+01 val_acc: 0.350 time: 56\n",
      "\n"
     ]
    },
    {
     "name": "stderr",
     "output_type": "stream",
     "text": [
      "100%|██████████| 18/18 [00:00<00:00, 137.82it/s]\n"
     ]
    },
    {
     "name": "stdout",
     "output_type": "stream",
     "text": [
      "#epoch: 350 \n",
      " train_loss: 8.751e-01 train_acc: 0.597 \n",
      " val_loss: 2.835e+00 val_acc: 0.400 time: 56\n",
      "\n"
     ]
    },
    {
     "name": "stderr",
     "output_type": "stream",
     "text": [
      "100%|██████████| 18/18 [00:00<00:00, 144.11it/s]\n"
     ]
    },
    {
     "name": "stdout",
     "output_type": "stream",
     "text": [
      "#epoch: 351 \n",
      " train_loss: 8.730e-01 train_acc: 0.597 \n",
      " val_loss: 1.120e+01 val_acc: 0.250 time: 56\n",
      "\n"
     ]
    },
    {
     "name": "stderr",
     "output_type": "stream",
     "text": [
      "100%|██████████| 18/18 [00:00<00:00, 141.16it/s]\n"
     ]
    },
    {
     "name": "stdout",
     "output_type": "stream",
     "text": [
      "#epoch: 352 \n",
      " train_loss: 7.845e-01 train_acc: 0.625 \n",
      " val_loss: 4.238e+00 val_acc: 0.450 time: 56\n",
      "\n"
     ]
    },
    {
     "name": "stderr",
     "output_type": "stream",
     "text": [
      "100%|██████████| 18/18 [00:00<00:00, 139.95it/s]\n"
     ]
    },
    {
     "name": "stdout",
     "output_type": "stream",
     "text": [
      "#epoch: 353 \n",
      " train_loss: 9.879e-01 train_acc: 0.542 \n",
      " val_loss: 2.544e+00 val_acc: 0.350 time: 56\n",
      "\n"
     ]
    },
    {
     "name": "stderr",
     "output_type": "stream",
     "text": [
      "100%|██████████| 18/18 [00:00<00:00, 210.68it/s]\n"
     ]
    },
    {
     "name": "stdout",
     "output_type": "stream",
     "text": [
      "#epoch: 354 \n",
      " train_loss: 9.609e-01 train_acc: 0.458 \n",
      " val_loss: 1.091e+00 val_acc: 0.500 time: 56\n",
      "\n"
     ]
    },
    {
     "name": "stderr",
     "output_type": "stream",
     "text": [
      "100%|██████████| 18/18 [00:00<00:00, 193.79it/s]\n"
     ]
    },
    {
     "name": "stdout",
     "output_type": "stream",
     "text": [
      "#epoch: 355 \n",
      " train_loss: 7.818e-01 train_acc: 0.653 \n",
      " val_loss: 2.760e+00 val_acc: 0.250 time: 56\n",
      "\n"
     ]
    },
    {
     "name": "stderr",
     "output_type": "stream",
     "text": [
      "100%|██████████| 18/18 [00:00<00:00, 165.14it/s]\n"
     ]
    },
    {
     "name": "stdout",
     "output_type": "stream",
     "text": [
      "#epoch: 356 \n",
      " train_loss: 7.617e-01 train_acc: 0.625 \n",
      " val_loss: 1.336e+00 val_acc: 0.600 time: 56\n",
      "\n"
     ]
    },
    {
     "name": "stderr",
     "output_type": "stream",
     "text": [
      "100%|██████████| 18/18 [00:00<00:00, 225.65it/s]\n"
     ]
    },
    {
     "name": "stdout",
     "output_type": "stream",
     "text": [
      "#epoch: 357 \n",
      " train_loss: 7.887e-01 train_acc: 0.611 \n",
      " val_loss: 1.121e+01 val_acc: 0.250 time: 56\n",
      "\n"
     ]
    },
    {
     "name": "stderr",
     "output_type": "stream",
     "text": [
      "100%|██████████| 18/18 [00:00<00:00, 180.39it/s]\n"
     ]
    },
    {
     "name": "stdout",
     "output_type": "stream",
     "text": [
      "#epoch: 358 \n",
      " train_loss: 8.400e-01 train_acc: 0.611 \n",
      " val_loss: 2.735e+00 val_acc: 0.550 time: 56\n",
      "\n"
     ]
    },
    {
     "name": "stderr",
     "output_type": "stream",
     "text": [
      "100%|██████████| 18/18 [00:00<00:00, 138.06it/s]\n"
     ]
    },
    {
     "name": "stdout",
     "output_type": "stream",
     "text": [
      "#epoch: 359 \n",
      " train_loss: 7.232e-01 train_acc: 0.694 \n",
      " val_loss: 9.434e+00 val_acc: 0.250 time: 56\n",
      "\n"
     ]
    },
    {
     "name": "stderr",
     "output_type": "stream",
     "text": [
      "100%|██████████| 18/18 [00:00<00:00, 131.18it/s]\n"
     ]
    },
    {
     "name": "stdout",
     "output_type": "stream",
     "text": [
      "#epoch: 360 \n",
      " train_loss: 7.326e-01 train_acc: 0.653 \n",
      " val_loss: 2.374e+00 val_acc: 0.350 time: 56\n",
      "\n"
     ]
    },
    {
     "name": "stderr",
     "output_type": "stream",
     "text": [
      "100%|██████████| 18/18 [00:00<00:00, 165.40it/s]\n"
     ]
    },
    {
     "name": "stdout",
     "output_type": "stream",
     "text": [
      "#epoch: 361 \n",
      " train_loss: 6.906e-01 train_acc: 0.708 \n",
      " val_loss: 1.509e+00 val_acc: 0.350 time: 56\n",
      "\n"
     ]
    },
    {
     "name": "stderr",
     "output_type": "stream",
     "text": [
      "100%|██████████| 18/18 [00:00<00:00, 157.49it/s]\n"
     ]
    },
    {
     "name": "stdout",
     "output_type": "stream",
     "text": [
      "#epoch: 362 \n",
      " train_loss: 7.744e-01 train_acc: 0.639 \n",
      " val_loss: 1.230e+00 val_acc: 0.400 time: 56\n",
      "\n"
     ]
    },
    {
     "name": "stderr",
     "output_type": "stream",
     "text": [
      "100%|██████████| 18/18 [00:00<00:00, 200.97it/s]\n"
     ]
    },
    {
     "name": "stdout",
     "output_type": "stream",
     "text": [
      "#epoch: 363 \n",
      " train_loss: 7.189e-01 train_acc: 0.639 \n",
      " val_loss: 3.639e+00 val_acc: 0.250 time: 56\n",
      "\n"
     ]
    },
    {
     "name": "stderr",
     "output_type": "stream",
     "text": [
      "100%|██████████| 18/18 [00:00<00:00, 169.61it/s]\n"
     ]
    },
    {
     "name": "stdout",
     "output_type": "stream",
     "text": [
      "#epoch: 364 \n",
      " train_loss: 6.737e-01 train_acc: 0.653 \n",
      " val_loss: 7.111e+00 val_acc: 0.350 time: 56\n",
      "\n"
     ]
    },
    {
     "name": "stderr",
     "output_type": "stream",
     "text": [
      "100%|██████████| 18/18 [00:00<00:00, 216.31it/s]\n"
     ]
    },
    {
     "name": "stdout",
     "output_type": "stream",
     "text": [
      "#epoch: 365 \n",
      " train_loss: 6.630e-01 train_acc: 0.736 \n",
      " val_loss: 1.743e+00 val_acc: 0.450 time: 56\n",
      "\n"
     ]
    },
    {
     "name": "stderr",
     "output_type": "stream",
     "text": [
      "100%|██████████| 18/18 [00:00<00:00, 227.07it/s]\n"
     ]
    },
    {
     "name": "stdout",
     "output_type": "stream",
     "text": [
      "#epoch: 366 \n",
      " train_loss: 6.433e-01 train_acc: 0.708 \n",
      " val_loss: 1.060e+01 val_acc: 0.250 time: 56\n",
      "\n"
     ]
    },
    {
     "name": "stderr",
     "output_type": "stream",
     "text": [
      "100%|██████████| 18/18 [00:00<00:00, 161.12it/s]\n"
     ]
    },
    {
     "name": "stdout",
     "output_type": "stream",
     "text": [
      "#epoch: 367 \n",
      " train_loss: 5.947e-01 train_acc: 0.708 \n",
      " val_loss: 2.996e+00 val_acc: 0.350 time: 56\n",
      "\n"
     ]
    },
    {
     "name": "stderr",
     "output_type": "stream",
     "text": [
      "100%|██████████| 18/18 [00:00<00:00, 189.43it/s]\n"
     ]
    },
    {
     "name": "stdout",
     "output_type": "stream",
     "text": [
      "#epoch: 368 \n",
      " train_loss: 6.870e-01 train_acc: 0.694 \n",
      " val_loss: 5.183e+00 val_acc: 0.350 time: 56\n",
      "\n"
     ]
    },
    {
     "name": "stderr",
     "output_type": "stream",
     "text": [
      "100%|██████████| 18/18 [00:00<00:00, 219.84it/s]\n"
     ]
    },
    {
     "name": "stdout",
     "output_type": "stream",
     "text": [
      "#epoch: 369 \n",
      " train_loss: 5.856e-01 train_acc: 0.722 \n",
      " val_loss: 2.025e+00 val_acc: 0.300 time: 56\n",
      "\n"
     ]
    },
    {
     "name": "stderr",
     "output_type": "stream",
     "text": [
      "100%|██████████| 18/18 [00:00<00:00, 199.38it/s]\n"
     ]
    },
    {
     "name": "stdout",
     "output_type": "stream",
     "text": [
      "#epoch: 370 \n",
      " train_loss: 7.705e-01 train_acc: 0.736 \n",
      " val_loss: 6.855e+00 val_acc: 0.350 time: 56\n",
      "\n"
     ]
    },
    {
     "name": "stderr",
     "output_type": "stream",
     "text": [
      "100%|██████████| 18/18 [00:00<00:00, 128.11it/s]\n"
     ]
    },
    {
     "name": "stdout",
     "output_type": "stream",
     "text": [
      "#epoch: 371 \n",
      " train_loss: 1.035e+00 train_acc: 0.458 \n",
      " val_loss: 1.171e+00 val_acc: 0.250 time: 56\n",
      "\n"
     ]
    },
    {
     "name": "stderr",
     "output_type": "stream",
     "text": [
      "100%|██████████| 18/18 [00:00<00:00, 179.85it/s]\n"
     ]
    },
    {
     "name": "stdout",
     "output_type": "stream",
     "text": [
      "#epoch: 372 \n",
      " train_loss: 8.479e-01 train_acc: 0.625 \n",
      " val_loss: 7.891e+00 val_acc: 0.250 time: 56\n",
      "\n"
     ]
    },
    {
     "name": "stderr",
     "output_type": "stream",
     "text": [
      "100%|██████████| 18/18 [00:00<00:00, 188.74it/s]\n"
     ]
    },
    {
     "name": "stdout",
     "output_type": "stream",
     "text": [
      "#epoch: 373 \n",
      " train_loss: 7.952e-01 train_acc: 0.611 \n",
      " val_loss: 1.350e+01 val_acc: 0.250 time: 56\n",
      "\n"
     ]
    },
    {
     "name": "stderr",
     "output_type": "stream",
     "text": [
      "100%|██████████| 18/18 [00:00<00:00, 207.12it/s]\n"
     ]
    },
    {
     "name": "stdout",
     "output_type": "stream",
     "text": [
      "#epoch: 374 \n",
      " train_loss: 8.009e-01 train_acc: 0.597 \n",
      " val_loss: 2.271e+00 val_acc: 0.200 time: 56\n",
      "\n"
     ]
    },
    {
     "name": "stderr",
     "output_type": "stream",
     "text": [
      "100%|██████████| 18/18 [00:00<00:00, 162.53it/s]\n"
     ]
    },
    {
     "name": "stdout",
     "output_type": "stream",
     "text": [
      "#epoch: 375 \n",
      " train_loss: 9.233e-01 train_acc: 0.528 \n",
      " val_loss: 1.259e+00 val_acc: 0.350 time: 56\n",
      "\n"
     ]
    },
    {
     "name": "stderr",
     "output_type": "stream",
     "text": [
      "100%|██████████| 18/18 [00:00<00:00, 191.10it/s]\n"
     ]
    },
    {
     "name": "stdout",
     "output_type": "stream",
     "text": [
      "#epoch: 376 \n",
      " train_loss: 6.543e-01 train_acc: 0.681 \n",
      " val_loss: 6.720e+00 val_acc: 0.350 time: 56\n",
      "\n"
     ]
    },
    {
     "name": "stderr",
     "output_type": "stream",
     "text": [
      "100%|██████████| 18/18 [00:00<00:00, 193.43it/s]\n"
     ]
    },
    {
     "name": "stdout",
     "output_type": "stream",
     "text": [
      "#epoch: 377 \n",
      " train_loss: 8.071e-01 train_acc: 0.653 \n",
      " val_loss: 1.679e+00 val_acc: 0.300 time: 56\n",
      "\n"
     ]
    },
    {
     "name": "stderr",
     "output_type": "stream",
     "text": [
      "100%|██████████| 18/18 [00:00<00:00, 200.20it/s]\n"
     ]
    },
    {
     "name": "stdout",
     "output_type": "stream",
     "text": [
      "#epoch: 378 \n",
      " train_loss: 6.338e-01 train_acc: 0.681 \n",
      " val_loss: 9.576e+00 val_acc: 0.250 time: 56\n",
      "\n"
     ]
    },
    {
     "name": "stderr",
     "output_type": "stream",
     "text": [
      "100%|██████████| 18/18 [00:00<00:00, 217.16it/s]\n"
     ]
    },
    {
     "name": "stdout",
     "output_type": "stream",
     "text": [
      "#epoch: 379 \n",
      " train_loss: 6.229e-01 train_acc: 0.653 \n",
      " val_loss: 7.102e+00 val_acc: 0.250 time: 56\n",
      "\n"
     ]
    },
    {
     "name": "stderr",
     "output_type": "stream",
     "text": [
      "100%|██████████| 18/18 [00:00<00:00, 215.01it/s]\n"
     ]
    },
    {
     "name": "stdout",
     "output_type": "stream",
     "text": [
      "#epoch: 380 \n",
      " train_loss: 5.899e-01 train_acc: 0.736 \n",
      " val_loss: 2.578e+00 val_acc: 0.350 time: 56\n",
      "\n"
     ]
    },
    {
     "name": "stderr",
     "output_type": "stream",
     "text": [
      "100%|██████████| 18/18 [00:00<00:00, 200.63it/s]\n"
     ]
    },
    {
     "name": "stdout",
     "output_type": "stream",
     "text": [
      "#epoch: 381 \n",
      " train_loss: 5.493e-01 train_acc: 0.750 \n",
      " val_loss: 3.268e+00 val_acc: 0.400 time: 56\n",
      "\n"
     ]
    },
    {
     "name": "stderr",
     "output_type": "stream",
     "text": [
      "100%|██████████| 18/18 [00:00<00:00, 191.14it/s]\n"
     ]
    },
    {
     "name": "stdout",
     "output_type": "stream",
     "text": [
      "#epoch: 382 \n",
      " train_loss: 6.830e-01 train_acc: 0.708 \n",
      " val_loss: 6.803e+00 val_acc: 0.250 time: 56\n",
      "\n"
     ]
    },
    {
     "name": "stderr",
     "output_type": "stream",
     "text": [
      "100%|██████████| 18/18 [00:00<00:00, 221.62it/s]\n"
     ]
    },
    {
     "name": "stdout",
     "output_type": "stream",
     "text": [
      "#epoch: 383 \n",
      " train_loss: 6.619e-01 train_acc: 0.722 \n",
      " val_loss: 3.196e+00 val_acc: 0.250 time: 56\n",
      "\n"
     ]
    },
    {
     "name": "stderr",
     "output_type": "stream",
     "text": [
      "100%|██████████| 18/18 [00:00<00:00, 194.02it/s]\n"
     ]
    },
    {
     "name": "stdout",
     "output_type": "stream",
     "text": [
      "#epoch: 384 \n",
      " train_loss: 6.367e-01 train_acc: 0.736 \n",
      " val_loss: 2.404e+00 val_acc: 0.400 time: 56\n",
      "\n"
     ]
    },
    {
     "name": "stderr",
     "output_type": "stream",
     "text": [
      "100%|██████████| 18/18 [00:00<00:00, 202.41it/s]\n"
     ]
    },
    {
     "name": "stdout",
     "output_type": "stream",
     "text": [
      "#epoch: 385 \n",
      " train_loss: 7.428e-01 train_acc: 0.639 \n",
      " val_loss: 1.724e+00 val_acc: 0.400 time: 56\n",
      "\n"
     ]
    },
    {
     "name": "stderr",
     "output_type": "stream",
     "text": [
      "100%|██████████| 18/18 [00:00<00:00, 208.20it/s]\n"
     ]
    },
    {
     "name": "stdout",
     "output_type": "stream",
     "text": [
      "#epoch: 386 \n",
      " train_loss: 7.522e-01 train_acc: 0.708 \n",
      " val_loss: 1.750e+00 val_acc: 0.450 time: 56\n",
      "\n"
     ]
    },
    {
     "name": "stderr",
     "output_type": "stream",
     "text": [
      "100%|██████████| 18/18 [00:00<00:00, 78.75it/s]\n"
     ]
    },
    {
     "name": "stdout",
     "output_type": "stream",
     "text": [
      "#epoch: 387 \n",
      " train_loss: 5.924e-01 train_acc: 0.736 \n",
      " val_loss: 2.307e+00 val_acc: 0.250 time: 56\n",
      "\n"
     ]
    },
    {
     "name": "stderr",
     "output_type": "stream",
     "text": [
      "100%|██████████| 18/18 [00:00<00:00, 185.30it/s]\n"
     ]
    },
    {
     "name": "stdout",
     "output_type": "stream",
     "text": [
      "#epoch: 388 \n",
      " train_loss: 9.441e-01 train_acc: 0.528 \n",
      " val_loss: 1.760e+00 val_acc: 0.200 time: 56\n",
      "\n"
     ]
    },
    {
     "name": "stderr",
     "output_type": "stream",
     "text": [
      "100%|██████████| 18/18 [00:00<00:00, 214.32it/s]\n"
     ]
    },
    {
     "name": "stdout",
     "output_type": "stream",
     "text": [
      "#epoch: 389 \n",
      " train_loss: 9.812e-01 train_acc: 0.514 \n",
      " val_loss: 7.342e+00 val_acc: 0.250 time: 56\n",
      "\n"
     ]
    },
    {
     "name": "stderr",
     "output_type": "stream",
     "text": [
      "100%|██████████| 18/18 [00:00<00:00, 168.54it/s]\n"
     ]
    },
    {
     "name": "stdout",
     "output_type": "stream",
     "text": [
      "#epoch: 390 \n",
      " train_loss: 7.195e-01 train_acc: 0.708 \n",
      " val_loss: 2.682e+01 val_acc: 0.350 time: 56\n",
      "\n"
     ]
    },
    {
     "name": "stderr",
     "output_type": "stream",
     "text": [
      "100%|██████████| 18/18 [00:00<00:00, 165.89it/s]\n"
     ]
    },
    {
     "name": "stdout",
     "output_type": "stream",
     "text": [
      "#epoch: 391 \n",
      " train_loss: 1.062e+00 train_acc: 0.611 \n",
      " val_loss: 5.116e+00 val_acc: 0.350 time: 56\n",
      "\n"
     ]
    },
    {
     "name": "stderr",
     "output_type": "stream",
     "text": [
      "100%|██████████| 18/18 [00:00<00:00, 201.14it/s]\n"
     ]
    },
    {
     "name": "stdout",
     "output_type": "stream",
     "text": [
      "#epoch: 392 \n",
      " train_loss: 9.286e-01 train_acc: 0.597 \n",
      " val_loss: 6.737e+00 val_acc: 0.250 time: 56\n",
      "\n"
     ]
    },
    {
     "name": "stderr",
     "output_type": "stream",
     "text": [
      "100%|██████████| 18/18 [00:00<00:00, 171.05it/s]\n"
     ]
    },
    {
     "name": "stdout",
     "output_type": "stream",
     "text": [
      "#epoch: 393 \n",
      " train_loss: 8.372e-01 train_acc: 0.569 \n",
      " val_loss: 1.657e+00 val_acc: 0.250 time: 56\n",
      "\n"
     ]
    },
    {
     "name": "stderr",
     "output_type": "stream",
     "text": [
      "100%|██████████| 18/18 [00:00<00:00, 178.14it/s]\n"
     ]
    },
    {
     "name": "stdout",
     "output_type": "stream",
     "text": [
      "#epoch: 394 \n",
      " train_loss: 6.547e-01 train_acc: 0.694 \n",
      " val_loss: 3.154e+00 val_acc: 0.400 time: 56\n",
      "\n"
     ]
    },
    {
     "name": "stderr",
     "output_type": "stream",
     "text": [
      "100%|██████████| 18/18 [00:00<00:00, 187.84it/s]\n"
     ]
    },
    {
     "name": "stdout",
     "output_type": "stream",
     "text": [
      "#epoch: 395 \n",
      " train_loss: 7.323e-01 train_acc: 0.694 \n",
      " val_loss: 2.397e+00 val_acc: 0.350 time: 56\n",
      "\n"
     ]
    },
    {
     "name": "stderr",
     "output_type": "stream",
     "text": [
      "100%|██████████| 18/18 [00:00<00:00, 173.50it/s]\n"
     ]
    },
    {
     "name": "stdout",
     "output_type": "stream",
     "text": [
      "#epoch: 396 \n",
      " train_loss: 7.680e-01 train_acc: 0.639 \n",
      " val_loss: 6.435e+00 val_acc: 0.250 time: 56\n",
      "\n"
     ]
    },
    {
     "name": "stderr",
     "output_type": "stream",
     "text": [
      "100%|██████████| 18/18 [00:00<00:00, 174.42it/s]\n"
     ]
    },
    {
     "name": "stdout",
     "output_type": "stream",
     "text": [
      "#epoch: 397 \n",
      " train_loss: 8.368e-01 train_acc: 0.611 \n",
      " val_loss: 1.723e+00 val_acc: 0.300 time: 56\n",
      "\n"
     ]
    },
    {
     "name": "stderr",
     "output_type": "stream",
     "text": [
      "100%|██████████| 18/18 [00:00<00:00, 189.82it/s]\n"
     ]
    },
    {
     "name": "stdout",
     "output_type": "stream",
     "text": [
      "#epoch: 398 \n",
      " train_loss: 8.677e-01 train_acc: 0.639 \n",
      " val_loss: 5.740e+00 val_acc: 0.250 time: 56\n",
      "\n"
     ]
    },
    {
     "name": "stderr",
     "output_type": "stream",
     "text": [
      "100%|██████████| 18/18 [00:00<00:00, 182.85it/s]\n"
     ]
    },
    {
     "name": "stdout",
     "output_type": "stream",
     "text": [
      "#epoch: 399 \n",
      " train_loss: 6.929e-01 train_acc: 0.708 \n",
      " val_loss: 1.007e+01 val_acc: 0.350 time: 56\n",
      "\n"
     ]
    },
    {
     "name": "stderr",
     "output_type": "stream",
     "text": [
      "100%|██████████| 18/18 [00:00<00:00, 204.24it/s]\n"
     ]
    },
    {
     "name": "stdout",
     "output_type": "stream",
     "text": [
      "#epoch: 400 \n",
      " train_loss: 7.861e-01 train_acc: 0.639 \n",
      " val_loss: 7.338e+00 val_acc: 0.250 time: 56\n",
      "\n"
     ]
    },
    {
     "name": "stderr",
     "output_type": "stream",
     "text": [
      "100%|██████████| 18/18 [00:00<00:00, 158.77it/s]\n"
     ]
    },
    {
     "name": "stdout",
     "output_type": "stream",
     "text": [
      "#epoch: 401 \n",
      " train_loss: 6.182e-01 train_acc: 0.736 \n",
      " val_loss: 7.321e+00 val_acc: 0.350 time: 56\n",
      "\n"
     ]
    },
    {
     "name": "stderr",
     "output_type": "stream",
     "text": [
      "100%|██████████| 18/18 [00:00<00:00, 181.70it/s]\n"
     ]
    },
    {
     "name": "stdout",
     "output_type": "stream",
     "text": [
      "#epoch: 402 \n",
      " train_loss: 5.481e-01 train_acc: 0.764 \n",
      " val_loss: 3.081e+00 val_acc: 0.300 time: 56\n",
      "\n"
     ]
    },
    {
     "name": "stderr",
     "output_type": "stream",
     "text": [
      "100%|██████████| 18/18 [00:00<00:00, 104.00it/s]\n"
     ]
    },
    {
     "name": "stdout",
     "output_type": "stream",
     "text": [
      "#epoch: 403 \n",
      " train_loss: 5.634e-01 train_acc: 0.750 \n",
      " val_loss: 6.933e+00 val_acc: 0.250 time: 56\n",
      "\n"
     ]
    },
    {
     "name": "stderr",
     "output_type": "stream",
     "text": [
      "100%|██████████| 18/18 [00:00<00:00, 208.76it/s]\n"
     ]
    },
    {
     "name": "stdout",
     "output_type": "stream",
     "text": [
      "#epoch: 404 \n",
      " train_loss: 6.813e-01 train_acc: 0.708 \n",
      " val_loss: 2.189e+00 val_acc: 0.300 time: 56\n",
      "\n"
     ]
    },
    {
     "name": "stderr",
     "output_type": "stream",
     "text": [
      "100%|██████████| 18/18 [00:00<00:00, 184.04it/s]\n"
     ]
    },
    {
     "name": "stdout",
     "output_type": "stream",
     "text": [
      "#epoch: 405 \n",
      " train_loss: 6.505e-01 train_acc: 0.722 \n",
      " val_loss: 3.646e+00 val_acc: 0.400 time: 56\n",
      "\n"
     ]
    },
    {
     "name": "stderr",
     "output_type": "stream",
     "text": [
      "100%|██████████| 18/18 [00:00<00:00, 198.12it/s]\n"
     ]
    },
    {
     "name": "stdout",
     "output_type": "stream",
     "text": [
      "#epoch: 406 \n",
      " train_loss: 6.145e-01 train_acc: 0.764 \n",
      " val_loss: 4.085e+00 val_acc: 0.250 time: 56\n",
      "\n"
     ]
    },
    {
     "name": "stderr",
     "output_type": "stream",
     "text": [
      "100%|██████████| 18/18 [00:00<00:00, 192.32it/s]\n"
     ]
    },
    {
     "name": "stdout",
     "output_type": "stream",
     "text": [
      "#epoch: 407 \n",
      " train_loss: 6.744e-01 train_acc: 0.750 \n",
      " val_loss: 4.776e+00 val_acc: 0.350 time: 56\n",
      "\n"
     ]
    },
    {
     "name": "stderr",
     "output_type": "stream",
     "text": [
      "100%|██████████| 18/18 [00:00<00:00, 154.63it/s]\n"
     ]
    },
    {
     "name": "stdout",
     "output_type": "stream",
     "text": [
      "#epoch: 408 \n",
      " train_loss: 5.609e-01 train_acc: 0.778 \n",
      " val_loss: 5.344e+00 val_acc: 0.350 time: 56\n",
      "\n"
     ]
    },
    {
     "name": "stderr",
     "output_type": "stream",
     "text": [
      "100%|██████████| 18/18 [00:00<00:00, 225.08it/s]\n"
     ]
    },
    {
     "name": "stdout",
     "output_type": "stream",
     "text": [
      "#epoch: 409 \n",
      " train_loss: 5.886e-01 train_acc: 0.750 \n",
      " val_loss: 2.722e+00 val_acc: 0.300 time: 56\n",
      "\n"
     ]
    },
    {
     "name": "stderr",
     "output_type": "stream",
     "text": [
      "100%|██████████| 18/18 [00:00<00:00, 189.60it/s]\n"
     ]
    },
    {
     "name": "stdout",
     "output_type": "stream",
     "text": [
      "#epoch: 410 \n",
      " train_loss: 5.710e-01 train_acc: 0.736 \n",
      " val_loss: 4.213e+00 val_acc: 0.350 time: 56\n",
      "\n"
     ]
    },
    {
     "name": "stderr",
     "output_type": "stream",
     "text": [
      "100%|██████████| 18/18 [00:00<00:00, 193.19it/s]\n"
     ]
    },
    {
     "name": "stdout",
     "output_type": "stream",
     "text": [
      "#epoch: 411 \n",
      " train_loss: 5.710e-01 train_acc: 0.667 \n",
      " val_loss: 2.683e+00 val_acc: 0.250 time: 56\n",
      "\n"
     ]
    },
    {
     "name": "stderr",
     "output_type": "stream",
     "text": [
      "100%|██████████| 18/18 [00:00<00:00, 152.66it/s]\n"
     ]
    },
    {
     "name": "stdout",
     "output_type": "stream",
     "text": [
      "#epoch: 412 \n",
      " train_loss: 6.377e-01 train_acc: 0.750 \n",
      " val_loss: 3.929e+00 val_acc: 0.250 time: 56\n",
      "\n"
     ]
    },
    {
     "name": "stderr",
     "output_type": "stream",
     "text": [
      "100%|██████████| 18/18 [00:00<00:00, 193.06it/s]\n"
     ]
    },
    {
     "name": "stdout",
     "output_type": "stream",
     "text": [
      "#epoch: 413 \n",
      " train_loss: 1.059e+00 train_acc: 0.486 \n",
      " val_loss: 3.300e+01 val_acc: 0.350 time: 56\n",
      "\n"
     ]
    },
    {
     "name": "stderr",
     "output_type": "stream",
     "text": [
      "100%|██████████| 18/18 [00:00<00:00, 146.26it/s]\n"
     ]
    },
    {
     "name": "stdout",
     "output_type": "stream",
     "text": [
      "#epoch: 414 \n",
      " train_loss: 1.297e+00 train_acc: 0.361 \n",
      " val_loss: 1.099e+00 val_acc: 0.400 time: 56\n",
      "\n"
     ]
    },
    {
     "name": "stderr",
     "output_type": "stream",
     "text": [
      "100%|██████████| 18/18 [00:00<00:00, 203.13it/s]\n"
     ]
    },
    {
     "name": "stdout",
     "output_type": "stream",
     "text": [
      "#epoch: 415 \n",
      " train_loss: 1.107e+00 train_acc: 0.375 \n",
      " val_loss: 1.014e+00 val_acc: 0.500 time: 56\n",
      "\n"
     ]
    },
    {
     "name": "stderr",
     "output_type": "stream",
     "text": [
      "100%|██████████| 18/18 [00:00<00:00, 147.28it/s]\n"
     ]
    },
    {
     "name": "stdout",
     "output_type": "stream",
     "text": [
      "#epoch: 416 \n",
      " train_loss: 1.071e+00 train_acc: 0.403 \n",
      " val_loss: 1.068e+00 val_acc: 0.350 time: 56\n",
      "\n"
     ]
    },
    {
     "name": "stderr",
     "output_type": "stream",
     "text": [
      "100%|██████████| 18/18 [00:00<00:00, 155.93it/s]\n"
     ]
    },
    {
     "name": "stdout",
     "output_type": "stream",
     "text": [
      "#epoch: 417 \n",
      " train_loss: 1.008e+00 train_acc: 0.417 \n",
      " val_loss: 1.106e+00 val_acc: 0.450 time: 56\n",
      "\n"
     ]
    },
    {
     "name": "stderr",
     "output_type": "stream",
     "text": [
      "100%|██████████| 18/18 [00:00<00:00, 213.98it/s]\n"
     ]
    },
    {
     "name": "stdout",
     "output_type": "stream",
     "text": [
      "#epoch: 418 \n",
      " train_loss: 1.102e+00 train_acc: 0.347 \n",
      " val_loss: 1.229e+00 val_acc: 0.350 time: 56\n",
      "\n"
     ]
    },
    {
     "name": "stderr",
     "output_type": "stream",
     "text": [
      "100%|██████████| 18/18 [00:00<00:00, 198.54it/s]\n"
     ]
    },
    {
     "name": "stdout",
     "output_type": "stream",
     "text": [
      "#epoch: 419 \n",
      " train_loss: 1.063e+00 train_acc: 0.403 \n",
      " val_loss: 1.054e+00 val_acc: 0.450 time: 56\n",
      "\n"
     ]
    },
    {
     "name": "stderr",
     "output_type": "stream",
     "text": [
      "100%|██████████| 18/18 [00:00<00:00, 139.66it/s]\n"
     ]
    },
    {
     "name": "stdout",
     "output_type": "stream",
     "text": [
      "#epoch: 420 \n",
      " train_loss: 1.037e+00 train_acc: 0.417 \n",
      " val_loss: 1.248e+00 val_acc: 0.350 time: 56\n",
      "\n"
     ]
    },
    {
     "name": "stderr",
     "output_type": "stream",
     "text": [
      "100%|██████████| 18/18 [00:00<00:00, 176.54it/s]\n"
     ]
    },
    {
     "name": "stdout",
     "output_type": "stream",
     "text": [
      "#epoch: 421 \n",
      " train_loss: 1.021e+00 train_acc: 0.486 \n",
      " val_loss: 1.147e+00 val_acc: 0.300 time: 56\n",
      "\n"
     ]
    },
    {
     "name": "stderr",
     "output_type": "stream",
     "text": [
      "100%|██████████| 18/18 [00:00<00:00, 129.30it/s]\n"
     ]
    },
    {
     "name": "stdout",
     "output_type": "stream",
     "text": [
      "#epoch: 422 \n",
      " train_loss: 9.913e-01 train_acc: 0.444 \n",
      " val_loss: 1.104e+00 val_acc: 0.300 time: 56\n",
      "\n"
     ]
    },
    {
     "name": "stderr",
     "output_type": "stream",
     "text": [
      "100%|██████████| 18/18 [00:00<00:00, 179.34it/s]\n"
     ]
    },
    {
     "name": "stdout",
     "output_type": "stream",
     "text": [
      "#epoch: 423 \n",
      " train_loss: 1.025e+00 train_acc: 0.444 \n",
      " val_loss: 2.097e+00 val_acc: 0.300 time: 56\n",
      "\n"
     ]
    },
    {
     "name": "stderr",
     "output_type": "stream",
     "text": [
      "100%|██████████| 18/18 [00:00<00:00, 172.88it/s]\n"
     ]
    },
    {
     "name": "stdout",
     "output_type": "stream",
     "text": [
      "#epoch: 424 \n",
      " train_loss: 9.875e-01 train_acc: 0.444 \n",
      " val_loss: 1.292e+00 val_acc: 0.350 time: 56\n",
      "\n"
     ]
    },
    {
     "name": "stderr",
     "output_type": "stream",
     "text": [
      "100%|██████████| 18/18 [00:00<00:00, 184.95it/s]\n"
     ]
    },
    {
     "name": "stdout",
     "output_type": "stream",
     "text": [
      "#epoch: 425 \n",
      " train_loss: 9.823e-01 train_acc: 0.486 \n",
      " val_loss: 1.149e+00 val_acc: 0.350 time: 56\n",
      "\n"
     ]
    },
    {
     "name": "stderr",
     "output_type": "stream",
     "text": [
      "100%|██████████| 18/18 [00:00<00:00, 180.03it/s]\n"
     ]
    },
    {
     "name": "stdout",
     "output_type": "stream",
     "text": [
      "#epoch: 426 \n",
      " train_loss: 1.025e+00 train_acc: 0.500 \n",
      " val_loss: 1.665e+00 val_acc: 0.200 time: 56\n",
      "\n"
     ]
    },
    {
     "name": "stderr",
     "output_type": "stream",
     "text": [
      "100%|██████████| 18/18 [00:00<00:00, 175.40it/s]\n"
     ]
    },
    {
     "name": "stdout",
     "output_type": "stream",
     "text": [
      "#epoch: 427 \n",
      " train_loss: 1.055e+00 train_acc: 0.472 \n",
      " val_loss: 1.185e+00 val_acc: 0.350 time: 56\n",
      "\n"
     ]
    },
    {
     "name": "stderr",
     "output_type": "stream",
     "text": [
      "100%|██████████| 18/18 [00:00<00:00, 182.79it/s]\n"
     ]
    },
    {
     "name": "stdout",
     "output_type": "stream",
     "text": [
      "#epoch: 428 \n",
      " train_loss: 1.013e+00 train_acc: 0.389 \n",
      " val_loss: 1.127e+00 val_acc: 0.350 time: 56\n",
      "\n"
     ]
    },
    {
     "name": "stderr",
     "output_type": "stream",
     "text": [
      "100%|██████████| 18/18 [00:00<00:00, 186.97it/s]\n"
     ]
    },
    {
     "name": "stdout",
     "output_type": "stream",
     "text": [
      "#epoch: 429 \n",
      " train_loss: 1.022e+00 train_acc: 0.361 \n",
      " val_loss: 1.151e+00 val_acc: 0.250 time: 56\n",
      "\n"
     ]
    },
    {
     "name": "stderr",
     "output_type": "stream",
     "text": [
      "100%|██████████| 18/18 [00:00<00:00, 196.55it/s]\n"
     ]
    },
    {
     "name": "stdout",
     "output_type": "stream",
     "text": [
      "#epoch: 430 \n",
      " train_loss: 1.011e+00 train_acc: 0.458 \n",
      " val_loss: 1.109e+00 val_acc: 0.300 time: 56\n",
      "\n"
     ]
    },
    {
     "name": "stderr",
     "output_type": "stream",
     "text": [
      "100%|██████████| 18/18 [00:00<00:00, 147.31it/s]\n"
     ]
    },
    {
     "name": "stdout",
     "output_type": "stream",
     "text": [
      "#epoch: 431 \n",
      " train_loss: 9.798e-01 train_acc: 0.500 \n",
      " val_loss: 1.128e+00 val_acc: 0.350 time: 56\n",
      "\n"
     ]
    },
    {
     "name": "stderr",
     "output_type": "stream",
     "text": [
      "100%|██████████| 18/18 [00:00<00:00, 159.68it/s]\n"
     ]
    },
    {
     "name": "stdout",
     "output_type": "stream",
     "text": [
      "#epoch: 432 \n",
      " train_loss: 9.193e-01 train_acc: 0.472 \n",
      " val_loss: 1.194e+00 val_acc: 0.300 time: 56\n",
      "\n"
     ]
    },
    {
     "name": "stderr",
     "output_type": "stream",
     "text": [
      "100%|██████████| 18/18 [00:00<00:00, 171.70it/s]\n"
     ]
    },
    {
     "name": "stdout",
     "output_type": "stream",
     "text": [
      "#epoch: 433 \n",
      " train_loss: 9.946e-01 train_acc: 0.500 \n",
      " val_loss: 1.122e+00 val_acc: 0.350 time: 56\n",
      "\n"
     ]
    },
    {
     "name": "stderr",
     "output_type": "stream",
     "text": [
      "100%|██████████| 18/18 [00:00<00:00, 174.36it/s]\n"
     ]
    },
    {
     "name": "stdout",
     "output_type": "stream",
     "text": [
      "#epoch: 434 \n",
      " train_loss: 9.541e-01 train_acc: 0.486 \n",
      " val_loss: 1.244e+00 val_acc: 0.400 time: 56\n",
      "\n"
     ]
    },
    {
     "name": "stderr",
     "output_type": "stream",
     "text": [
      "100%|██████████| 18/18 [00:00<00:00, 164.44it/s]\n"
     ]
    },
    {
     "name": "stdout",
     "output_type": "stream",
     "text": [
      "#epoch: 435 \n",
      " train_loss: 9.340e-01 train_acc: 0.514 \n",
      " val_loss: 1.433e+00 val_acc: 0.350 time: 56\n",
      "\n"
     ]
    },
    {
     "name": "stderr",
     "output_type": "stream",
     "text": [
      "100%|██████████| 18/18 [00:00<00:00, 173.62it/s]\n"
     ]
    },
    {
     "name": "stdout",
     "output_type": "stream",
     "text": [
      "#epoch: 436 \n",
      " train_loss: 9.452e-01 train_acc: 0.500 \n",
      " val_loss: 1.553e+00 val_acc: 0.450 time: 56\n",
      "\n"
     ]
    },
    {
     "name": "stderr",
     "output_type": "stream",
     "text": [
      "100%|██████████| 18/18 [00:00<00:00, 206.31it/s]\n"
     ]
    },
    {
     "name": "stdout",
     "output_type": "stream",
     "text": [
      "#epoch: 437 \n",
      " train_loss: 9.430e-01 train_acc: 0.444 \n",
      " val_loss: 1.730e+00 val_acc: 0.300 time: 56\n",
      "\n"
     ]
    },
    {
     "name": "stderr",
     "output_type": "stream",
     "text": [
      "100%|██████████| 18/18 [00:00<00:00, 199.43it/s]\n"
     ]
    },
    {
     "name": "stdout",
     "output_type": "stream",
     "text": [
      "#epoch: 438 \n",
      " train_loss: 9.741e-01 train_acc: 0.500 \n",
      " val_loss: 1.291e+00 val_acc: 0.250 time: 56\n",
      "\n"
     ]
    },
    {
     "name": "stderr",
     "output_type": "stream",
     "text": [
      "100%|██████████| 18/18 [00:00<00:00, 187.79it/s]\n"
     ]
    },
    {
     "name": "stdout",
     "output_type": "stream",
     "text": [
      "#epoch: 439 \n",
      " train_loss: 9.918e-01 train_acc: 0.375 \n",
      " val_loss: 1.270e+00 val_acc: 0.300 time: 56\n",
      "\n"
     ]
    },
    {
     "name": "stderr",
     "output_type": "stream",
     "text": [
      "100%|██████████| 18/18 [00:00<00:00, 152.48it/s]\n"
     ]
    },
    {
     "name": "stdout",
     "output_type": "stream",
     "text": [
      "#epoch: 440 \n",
      " train_loss: 9.436e-01 train_acc: 0.500 \n",
      " val_loss: 1.101e+00 val_acc: 0.350 time: 56\n",
      "\n"
     ]
    },
    {
     "name": "stderr",
     "output_type": "stream",
     "text": [
      "100%|██████████| 18/18 [00:00<00:00, 136.32it/s]\n"
     ]
    },
    {
     "name": "stdout",
     "output_type": "stream",
     "text": [
      "#epoch: 441 \n",
      " train_loss: 8.524e-01 train_acc: 0.514 \n",
      " val_loss: 1.188e+00 val_acc: 0.300 time: 56\n",
      "\n"
     ]
    },
    {
     "name": "stderr",
     "output_type": "stream",
     "text": [
      "100%|██████████| 18/18 [00:00<00:00, 187.49it/s]\n"
     ]
    },
    {
     "name": "stdout",
     "output_type": "stream",
     "text": [
      "#epoch: 442 \n",
      " train_loss: 9.150e-01 train_acc: 0.556 \n",
      " val_loss: 3.491e+00 val_acc: 0.350 time: 56\n",
      "\n"
     ]
    },
    {
     "name": "stderr",
     "output_type": "stream",
     "text": [
      "100%|██████████| 18/18 [00:00<00:00, 175.06it/s]\n"
     ]
    },
    {
     "name": "stdout",
     "output_type": "stream",
     "text": [
      "#epoch: 443 \n",
      " train_loss: 9.371e-01 train_acc: 0.500 \n",
      " val_loss: 1.359e+00 val_acc: 0.300 time: 56\n",
      "\n"
     ]
    },
    {
     "name": "stderr",
     "output_type": "stream",
     "text": [
      "100%|██████████| 18/18 [00:00<00:00, 210.40it/s]\n"
     ]
    },
    {
     "name": "stdout",
     "output_type": "stream",
     "text": [
      "#epoch: 444 \n",
      " train_loss: 9.073e-01 train_acc: 0.431 \n",
      " val_loss: 1.269e+00 val_acc: 0.250 time: 56\n",
      "\n"
     ]
    },
    {
     "name": "stderr",
     "output_type": "stream",
     "text": [
      "100%|██████████| 18/18 [00:00<00:00, 221.07it/s]\n"
     ]
    },
    {
     "name": "stdout",
     "output_type": "stream",
     "text": [
      "#epoch: 445 \n",
      " train_loss: 8.802e-01 train_acc: 0.528 \n",
      " val_loss: 1.247e+00 val_acc: 0.300 time: 56\n",
      "\n"
     ]
    },
    {
     "name": "stderr",
     "output_type": "stream",
     "text": [
      "100%|██████████| 18/18 [00:00<00:00, 172.62it/s]\n"
     ]
    },
    {
     "name": "stdout",
     "output_type": "stream",
     "text": [
      "#epoch: 446 \n",
      " train_loss: 8.895e-01 train_acc: 0.500 \n",
      " val_loss: 1.255e+00 val_acc: 0.300 time: 56\n",
      "\n"
     ]
    },
    {
     "name": "stderr",
     "output_type": "stream",
     "text": [
      "100%|██████████| 18/18 [00:00<00:00, 150.21it/s]\n"
     ]
    },
    {
     "name": "stdout",
     "output_type": "stream",
     "text": [
      "#epoch: 447 \n",
      " train_loss: 9.103e-01 train_acc: 0.514 \n",
      " val_loss: 1.560e+00 val_acc: 0.350 time: 56\n",
      "\n"
     ]
    },
    {
     "name": "stderr",
     "output_type": "stream",
     "text": [
      "100%|██████████| 18/18 [00:00<00:00, 167.83it/s]\n"
     ]
    },
    {
     "name": "stdout",
     "output_type": "stream",
     "text": [
      "#epoch: 448 \n",
      " train_loss: 8.773e-01 train_acc: 0.569 \n",
      " val_loss: 1.360e+00 val_acc: 0.400 time: 56\n",
      "\n"
     ]
    },
    {
     "name": "stderr",
     "output_type": "stream",
     "text": [
      "100%|██████████| 18/18 [00:00<00:00, 200.08it/s]\n"
     ]
    },
    {
     "name": "stdout",
     "output_type": "stream",
     "text": [
      "#epoch: 449 \n",
      " train_loss: 9.647e-01 train_acc: 0.361 \n",
      " val_loss: 3.591e+00 val_acc: 0.350 time: 56\n",
      "\n"
     ]
    },
    {
     "name": "stderr",
     "output_type": "stream",
     "text": [
      "100%|██████████| 18/18 [00:00<00:00, 176.02it/s]\n"
     ]
    },
    {
     "name": "stdout",
     "output_type": "stream",
     "text": [
      "#epoch: 450 \n",
      " train_loss: 9.311e-01 train_acc: 0.542 \n",
      " val_loss: 1.410e+00 val_acc: 0.350 time: 56\n",
      "\n"
     ]
    },
    {
     "name": "stderr",
     "output_type": "stream",
     "text": [
      "100%|██████████| 18/18 [00:00<00:00, 179.83it/s]\n"
     ]
    },
    {
     "name": "stdout",
     "output_type": "stream",
     "text": [
      "#epoch: 451 \n",
      " train_loss: 9.053e-01 train_acc: 0.542 \n",
      " val_loss: 1.278e+00 val_acc: 0.300 time: 56\n",
      "\n"
     ]
    },
    {
     "name": "stderr",
     "output_type": "stream",
     "text": [
      "100%|██████████| 18/18 [00:00<00:00, 216.14it/s]\n"
     ]
    },
    {
     "name": "stdout",
     "output_type": "stream",
     "text": [
      "#epoch: 452 \n",
      " train_loss: 8.711e-01 train_acc: 0.542 \n",
      " val_loss: 1.165e+00 val_acc: 0.350 time: 56\n",
      "\n"
     ]
    },
    {
     "name": "stderr",
     "output_type": "stream",
     "text": [
      "100%|██████████| 18/18 [00:00<00:00, 150.30it/s]\n"
     ]
    },
    {
     "name": "stdout",
     "output_type": "stream",
     "text": [
      "#epoch: 453 \n",
      " train_loss: 8.950e-01 train_acc: 0.583 \n",
      " val_loss: 1.679e+00 val_acc: 0.250 time: 56\n",
      "\n"
     ]
    },
    {
     "name": "stderr",
     "output_type": "stream",
     "text": [
      "100%|██████████| 18/18 [00:00<00:00, 193.32it/s]\n"
     ]
    },
    {
     "name": "stdout",
     "output_type": "stream",
     "text": [
      "#epoch: 454 \n",
      " train_loss: 1.035e+00 train_acc: 0.444 \n",
      " val_loss: 2.878e+00 val_acc: 0.350 time: 56\n",
      "\n"
     ]
    },
    {
     "name": "stderr",
     "output_type": "stream",
     "text": [
      "100%|██████████| 18/18 [00:00<00:00, 168.87it/s]\n"
     ]
    },
    {
     "name": "stdout",
     "output_type": "stream",
     "text": [
      "#epoch: 455 \n",
      " train_loss: 9.587e-01 train_acc: 0.514 \n",
      " val_loss: 1.253e+00 val_acc: 0.350 time: 56\n",
      "\n"
     ]
    },
    {
     "name": "stderr",
     "output_type": "stream",
     "text": [
      "100%|██████████| 18/18 [00:00<00:00, 177.54it/s]\n"
     ]
    },
    {
     "name": "stdout",
     "output_type": "stream",
     "text": [
      "#epoch: 456 \n",
      " train_loss: 9.850e-01 train_acc: 0.444 \n",
      " val_loss: 1.334e+00 val_acc: 0.100 time: 56\n",
      "\n"
     ]
    },
    {
     "name": "stderr",
     "output_type": "stream",
     "text": [
      "100%|██████████| 18/18 [00:00<00:00, 181.23it/s]\n"
     ]
    },
    {
     "name": "stdout",
     "output_type": "stream",
     "text": [
      "#epoch: 457 \n",
      " train_loss: 9.296e-01 train_acc: 0.569 \n",
      " val_loss: 1.635e+00 val_acc: 0.250 time: 56\n",
      "\n"
     ]
    },
    {
     "name": "stderr",
     "output_type": "stream",
     "text": [
      "100%|██████████| 18/18 [00:00<00:00, 180.71it/s]\n"
     ]
    },
    {
     "name": "stdout",
     "output_type": "stream",
     "text": [
      "#epoch: 458 \n",
      " train_loss: 1.001e+00 train_acc: 0.444 \n",
      " val_loss: 1.338e+00 val_acc: 0.150 time: 56\n",
      "\n"
     ]
    },
    {
     "name": "stderr",
     "output_type": "stream",
     "text": [
      "100%|██████████| 18/18 [00:00<00:00, 197.52it/s]\n"
     ]
    },
    {
     "name": "stdout",
     "output_type": "stream",
     "text": [
      "#epoch: 459 \n",
      " train_loss: 9.143e-01 train_acc: 0.472 \n",
      " val_loss: 1.191e+00 val_acc: 0.500 time: 56\n",
      "\n"
     ]
    },
    {
     "name": "stderr",
     "output_type": "stream",
     "text": [
      "100%|██████████| 18/18 [00:00<00:00, 142.20it/s]\n"
     ]
    },
    {
     "name": "stdout",
     "output_type": "stream",
     "text": [
      "#epoch: 460 \n",
      " train_loss: 9.111e-01 train_acc: 0.486 \n",
      " val_loss: 1.399e+00 val_acc: 0.250 time: 56\n",
      "\n"
     ]
    },
    {
     "name": "stderr",
     "output_type": "stream",
     "text": [
      "100%|██████████| 18/18 [00:00<00:00, 197.26it/s]\n"
     ]
    },
    {
     "name": "stdout",
     "output_type": "stream",
     "text": [
      "#epoch: 461 \n",
      " train_loss: 1.002e+00 train_acc: 0.500 \n",
      " val_loss: 1.985e+00 val_acc: 0.350 time: 56\n",
      "\n"
     ]
    },
    {
     "name": "stderr",
     "output_type": "stream",
     "text": [
      "100%|██████████| 18/18 [00:00<00:00, 181.85it/s]\n"
     ]
    },
    {
     "name": "stdout",
     "output_type": "stream",
     "text": [
      "#epoch: 462 \n",
      " train_loss: 9.026e-01 train_acc: 0.569 \n",
      " val_loss: 1.379e+00 val_acc: 0.300 time: 56\n",
      "\n"
     ]
    },
    {
     "name": "stderr",
     "output_type": "stream",
     "text": [
      "100%|██████████| 18/18 [00:00<00:00, 187.95it/s]\n"
     ]
    },
    {
     "name": "stdout",
     "output_type": "stream",
     "text": [
      "#epoch: 463 \n",
      " train_loss: 8.968e-01 train_acc: 0.556 \n",
      " val_loss: 1.868e+00 val_acc: 0.500 time: 56\n",
      "\n"
     ]
    },
    {
     "name": "stderr",
     "output_type": "stream",
     "text": [
      "100%|██████████| 18/18 [00:00<00:00, 200.98it/s]\n"
     ]
    },
    {
     "name": "stdout",
     "output_type": "stream",
     "text": [
      "#epoch: 464 \n",
      " train_loss: 8.543e-01 train_acc: 0.556 \n",
      " val_loss: 1.195e+00 val_acc: 0.650 time: 56\n",
      "\n"
     ]
    },
    {
     "name": "stderr",
     "output_type": "stream",
     "text": [
      "100%|██████████| 18/18 [00:00<00:00, 203.33it/s]\n"
     ]
    },
    {
     "name": "stdout",
     "output_type": "stream",
     "text": [
      "#epoch: 465 \n",
      " train_loss: 8.479e-01 train_acc: 0.569 \n",
      " val_loss: 2.840e+00 val_acc: 0.250 time: 56\n",
      "\n"
     ]
    },
    {
     "name": "stderr",
     "output_type": "stream",
     "text": [
      "100%|██████████| 18/18 [00:00<00:00, 136.62it/s]\n"
     ]
    },
    {
     "name": "stdout",
     "output_type": "stream",
     "text": [
      "#epoch: 466 \n",
      " train_loss: 9.028e-01 train_acc: 0.458 \n",
      " val_loss: 1.339e+00 val_acc: 0.300 time: 56\n",
      "\n"
     ]
    },
    {
     "name": "stderr",
     "output_type": "stream",
     "text": [
      "100%|██████████| 18/18 [00:00<00:00, 160.38it/s]\n"
     ]
    },
    {
     "name": "stdout",
     "output_type": "stream",
     "text": [
      "#epoch: 467 \n",
      " train_loss: 9.475e-01 train_acc: 0.472 \n",
      " val_loss: 1.779e+00 val_acc: 0.300 time: 56\n",
      "\n"
     ]
    },
    {
     "name": "stderr",
     "output_type": "stream",
     "text": [
      "100%|██████████| 18/18 [00:00<00:00, 162.24it/s]\n"
     ]
    },
    {
     "name": "stdout",
     "output_type": "stream",
     "text": [
      "#epoch: 468 \n",
      " train_loss: 9.906e-01 train_acc: 0.500 \n",
      " val_loss: 1.092e+00 val_acc: 0.500 time: 56\n",
      "\n"
     ]
    },
    {
     "name": "stderr",
     "output_type": "stream",
     "text": [
      "100%|██████████| 18/18 [00:00<00:00, 178.50it/s]\n"
     ]
    },
    {
     "name": "stdout",
     "output_type": "stream",
     "text": [
      "#epoch: 469 \n",
      " train_loss: 9.051e-01 train_acc: 0.569 \n",
      " val_loss: 1.181e+00 val_acc: 0.500 time: 56\n",
      "\n"
     ]
    },
    {
     "name": "stderr",
     "output_type": "stream",
     "text": [
      "100%|██████████| 18/18 [00:00<00:00, 203.69it/s]\n"
     ]
    },
    {
     "name": "stdout",
     "output_type": "stream",
     "text": [
      "#epoch: 470 \n",
      " train_loss: 8.787e-01 train_acc: 0.556 \n",
      " val_loss: 1.508e+00 val_acc: 0.300 time: 56\n",
      "\n"
     ]
    },
    {
     "name": "stderr",
     "output_type": "stream",
     "text": [
      "100%|██████████| 18/18 [00:00<00:00, 206.13it/s]\n"
     ]
    },
    {
     "name": "stdout",
     "output_type": "stream",
     "text": [
      "#epoch: 471 \n",
      " train_loss: 8.196e-01 train_acc: 0.569 \n",
      " val_loss: 1.256e+00 val_acc: 0.450 time: 56\n",
      "\n"
     ]
    },
    {
     "name": "stderr",
     "output_type": "stream",
     "text": [
      "100%|██████████| 18/18 [00:00<00:00, 210.46it/s]\n"
     ]
    },
    {
     "name": "stdout",
     "output_type": "stream",
     "text": [
      "#epoch: 472 \n",
      " train_loss: 8.518e-01 train_acc: 0.569 \n",
      " val_loss: 2.028e+00 val_acc: 0.250 time: 56\n",
      "\n"
     ]
    },
    {
     "name": "stderr",
     "output_type": "stream",
     "text": [
      "100%|██████████| 18/18 [00:00<00:00, 170.76it/s]\n"
     ]
    },
    {
     "name": "stdout",
     "output_type": "stream",
     "text": [
      "#epoch: 473 \n",
      " train_loss: 7.910e-01 train_acc: 0.597 \n",
      " val_loss: 2.050e+00 val_acc: 0.250 time: 56\n",
      "\n"
     ]
    },
    {
     "name": "stderr",
     "output_type": "stream",
     "text": [
      "100%|██████████| 18/18 [00:00<00:00, 185.67it/s]\n"
     ]
    },
    {
     "name": "stdout",
     "output_type": "stream",
     "text": [
      "#epoch: 474 \n",
      " train_loss: 8.443e-01 train_acc: 0.556 \n",
      " val_loss: 1.442e+00 val_acc: 0.450 time: 56\n",
      "\n"
     ]
    },
    {
     "name": "stderr",
     "output_type": "stream",
     "text": [
      "100%|██████████| 18/18 [00:00<00:00, 183.26it/s]\n"
     ]
    },
    {
     "name": "stdout",
     "output_type": "stream",
     "text": [
      "#epoch: 475 \n",
      " train_loss: 8.823e-01 train_acc: 0.583 \n",
      " val_loss: 1.974e+00 val_acc: 0.250 time: 56\n",
      "\n"
     ]
    },
    {
     "name": "stderr",
     "output_type": "stream",
     "text": [
      "100%|██████████| 18/18 [00:00<00:00, 170.95it/s]\n"
     ]
    },
    {
     "name": "stdout",
     "output_type": "stream",
     "text": [
      "#epoch: 476 \n",
      " train_loss: 7.583e-01 train_acc: 0.653 \n",
      " val_loss: 1.355e+00 val_acc: 0.450 time: 56\n",
      "\n"
     ]
    },
    {
     "name": "stderr",
     "output_type": "stream",
     "text": [
      "100%|██████████| 18/18 [00:00<00:00, 199.92it/s]\n"
     ]
    },
    {
     "name": "stdout",
     "output_type": "stream",
     "text": [
      "#epoch: 477 \n",
      " train_loss: 8.297e-01 train_acc: 0.569 \n",
      " val_loss: 3.918e+00 val_acc: 0.250 time: 56\n",
      "\n"
     ]
    },
    {
     "name": "stderr",
     "output_type": "stream",
     "text": [
      "100%|██████████| 18/18 [00:00<00:00, 171.83it/s]\n"
     ]
    },
    {
     "name": "stdout",
     "output_type": "stream",
     "text": [
      "#epoch: 478 \n",
      " train_loss: 8.710e-01 train_acc: 0.556 \n",
      " val_loss: 2.196e+00 val_acc: 0.450 time: 56\n",
      "\n"
     ]
    },
    {
     "name": "stderr",
     "output_type": "stream",
     "text": [
      "100%|██████████| 18/18 [00:00<00:00, 208.22it/s]\n"
     ]
    },
    {
     "name": "stdout",
     "output_type": "stream",
     "text": [
      "#epoch: 479 \n",
      " train_loss: 8.121e-01 train_acc: 0.611 \n",
      " val_loss: 1.584e+00 val_acc: 0.300 time: 56\n",
      "\n"
     ]
    },
    {
     "name": "stderr",
     "output_type": "stream",
     "text": [
      "100%|██████████| 18/18 [00:00<00:00, 218.97it/s]\n"
     ]
    },
    {
     "name": "stdout",
     "output_type": "stream",
     "text": [
      "#epoch: 480 \n",
      " train_loss: 8.007e-01 train_acc: 0.611 \n",
      " val_loss: 1.510e+00 val_acc: 0.600 time: 56\n",
      "\n"
     ]
    },
    {
     "name": "stderr",
     "output_type": "stream",
     "text": [
      "100%|██████████| 18/18 [00:00<00:00, 185.81it/s]\n"
     ]
    },
    {
     "name": "stdout",
     "output_type": "stream",
     "text": [
      "#epoch: 481 \n",
      " train_loss: 8.117e-01 train_acc: 0.556 \n",
      " val_loss: 1.288e+00 val_acc: 0.600 time: 56\n",
      "\n"
     ]
    },
    {
     "name": "stderr",
     "output_type": "stream",
     "text": [
      "100%|██████████| 18/18 [00:00<00:00, 154.27it/s]\n"
     ]
    },
    {
     "name": "stdout",
     "output_type": "stream",
     "text": [
      "#epoch: 482 \n",
      " train_loss: 7.583e-01 train_acc: 0.625 \n",
      " val_loss: 1.357e+00 val_acc: 0.400 time: 56\n",
      "\n"
     ]
    },
    {
     "name": "stderr",
     "output_type": "stream",
     "text": [
      "100%|██████████| 18/18 [00:00<00:00, 167.82it/s]\n"
     ]
    },
    {
     "name": "stdout",
     "output_type": "stream",
     "text": [
      "#epoch: 483 \n",
      " train_loss: 7.450e-01 train_acc: 0.625 \n",
      " val_loss: 1.708e+00 val_acc: 0.350 time: 56\n",
      "\n"
     ]
    },
    {
     "name": "stderr",
     "output_type": "stream",
     "text": [
      "100%|██████████| 18/18 [00:00<00:00, 194.75it/s]\n"
     ]
    },
    {
     "name": "stdout",
     "output_type": "stream",
     "text": [
      "#epoch: 484 \n",
      " train_loss: 8.657e-01 train_acc: 0.597 \n",
      " val_loss: 1.422e+00 val_acc: 0.400 time: 56\n",
      "\n"
     ]
    },
    {
     "name": "stderr",
     "output_type": "stream",
     "text": [
      "100%|██████████| 18/18 [00:00<00:00, 180.08it/s]\n"
     ]
    },
    {
     "name": "stdout",
     "output_type": "stream",
     "text": [
      "#epoch: 485 \n",
      " train_loss: 8.177e-01 train_acc: 0.583 \n",
      " val_loss: 1.479e+00 val_acc: 0.500 time: 56\n",
      "\n"
     ]
    },
    {
     "name": "stderr",
     "output_type": "stream",
     "text": [
      "100%|██████████| 18/18 [00:00<00:00, 163.13it/s]\n"
     ]
    },
    {
     "name": "stdout",
     "output_type": "stream",
     "text": [
      "#epoch: 486 \n",
      " train_loss: 8.130e-01 train_acc: 0.611 \n",
      " val_loss: 6.705e+00 val_acc: 0.250 time: 56\n",
      "\n"
     ]
    },
    {
     "name": "stderr",
     "output_type": "stream",
     "text": [
      "100%|██████████| 18/18 [00:00<00:00, 178.61it/s]\n"
     ]
    },
    {
     "name": "stdout",
     "output_type": "stream",
     "text": [
      "#epoch: 487 \n",
      " train_loss: 8.556e-01 train_acc: 0.556 \n",
      " val_loss: 3.073e+00 val_acc: 0.450 time: 56\n",
      "\n"
     ]
    },
    {
     "name": "stderr",
     "output_type": "stream",
     "text": [
      "100%|██████████| 18/18 [00:00<00:00, 207.39it/s]\n"
     ]
    },
    {
     "name": "stdout",
     "output_type": "stream",
     "text": [
      "#epoch: 488 \n",
      " train_loss: 7.526e-01 train_acc: 0.639 \n",
      " val_loss: 1.347e+00 val_acc: 0.400 time: 56\n",
      "\n"
     ]
    },
    {
     "name": "stderr",
     "output_type": "stream",
     "text": [
      "100%|██████████| 18/18 [00:00<00:00, 199.68it/s]\n"
     ]
    },
    {
     "name": "stdout",
     "output_type": "stream",
     "text": [
      "#epoch: 489 \n",
      " train_loss: 8.019e-01 train_acc: 0.611 \n",
      " val_loss: 3.108e+00 val_acc: 0.350 time: 56\n",
      "\n"
     ]
    },
    {
     "name": "stderr",
     "output_type": "stream",
     "text": [
      "100%|██████████| 18/18 [00:00<00:00, 213.77it/s]\n"
     ]
    },
    {
     "name": "stdout",
     "output_type": "stream",
     "text": [
      "#epoch: 490 \n",
      " train_loss: 9.241e-01 train_acc: 0.542 \n",
      " val_loss: 1.458e+00 val_acc: 0.400 time: 56\n",
      "\n"
     ]
    },
    {
     "name": "stderr",
     "output_type": "stream",
     "text": [
      "100%|██████████| 18/18 [00:00<00:00, 199.58it/s]\n"
     ]
    },
    {
     "name": "stdout",
     "output_type": "stream",
     "text": [
      "#epoch: 491 \n",
      " train_loss: 8.676e-01 train_acc: 0.542 \n",
      " val_loss: 1.451e+00 val_acc: 0.400 time: 56\n",
      "\n"
     ]
    },
    {
     "name": "stderr",
     "output_type": "stream",
     "text": [
      "100%|██████████| 18/18 [00:00<00:00, 163.33it/s]\n"
     ]
    },
    {
     "name": "stdout",
     "output_type": "stream",
     "text": [
      "#epoch: 492 \n",
      " train_loss: 7.828e-01 train_acc: 0.569 \n",
      " val_loss: 2.365e+00 val_acc: 0.350 time: 56\n",
      "\n"
     ]
    },
    {
     "name": "stderr",
     "output_type": "stream",
     "text": [
      "100%|██████████| 18/18 [00:00<00:00, 154.50it/s]\n"
     ]
    },
    {
     "name": "stdout",
     "output_type": "stream",
     "text": [
      "#epoch: 493 \n",
      " train_loss: 8.159e-01 train_acc: 0.597 \n",
      " val_loss: 1.449e+00 val_acc: 0.450 time: 56\n",
      "\n"
     ]
    },
    {
     "name": "stderr",
     "output_type": "stream",
     "text": [
      "100%|██████████| 18/18 [00:00<00:00, 182.62it/s]\n"
     ]
    },
    {
     "name": "stdout",
     "output_type": "stream",
     "text": [
      "#epoch: 494 \n",
      " train_loss: 7.996e-01 train_acc: 0.597 \n",
      " val_loss: 3.830e+00 val_acc: 0.250 time: 56\n",
      "\n"
     ]
    },
    {
     "name": "stderr",
     "output_type": "stream",
     "text": [
      "100%|██████████| 18/18 [00:00<00:00, 226.76it/s]\n"
     ]
    },
    {
     "name": "stdout",
     "output_type": "stream",
     "text": [
      "#epoch: 495 \n",
      " train_loss: 9.135e-01 train_acc: 0.569 \n",
      " val_loss: 8.031e+00 val_acc: 0.350 time: 56\n",
      "\n"
     ]
    },
    {
     "name": "stderr",
     "output_type": "stream",
     "text": [
      "100%|██████████| 18/18 [00:00<00:00, 176.45it/s]\n"
     ]
    },
    {
     "name": "stdout",
     "output_type": "stream",
     "text": [
      "#epoch: 496 \n",
      " train_loss: 8.616e-01 train_acc: 0.528 \n",
      " val_loss: 1.223e+00 val_acc: 0.450 time: 56\n",
      "\n"
     ]
    },
    {
     "name": "stderr",
     "output_type": "stream",
     "text": [
      "100%|██████████| 18/18 [00:00<00:00, 190.07it/s]\n"
     ]
    },
    {
     "name": "stdout",
     "output_type": "stream",
     "text": [
      "#epoch: 497 \n",
      " train_loss: 8.389e-01 train_acc: 0.597 \n",
      " val_loss: 4.032e+00 val_acc: 0.250 time: 56\n",
      "\n"
     ]
    },
    {
     "name": "stderr",
     "output_type": "stream",
     "text": [
      "100%|██████████| 18/18 [00:00<00:00, 189.55it/s]\n"
     ]
    },
    {
     "name": "stdout",
     "output_type": "stream",
     "text": [
      "#epoch: 498 \n",
      " train_loss: 1.005e+00 train_acc: 0.472 \n",
      " val_loss: 1.246e+00 val_acc: 0.350 time: 56\n",
      "\n"
     ]
    },
    {
     "name": "stderr",
     "output_type": "stream",
     "text": [
      "100%|██████████| 18/18 [00:00<00:00, 141.41it/s]\n"
     ]
    },
    {
     "name": "stdout",
     "output_type": "stream",
     "text": [
      "#epoch: 499 \n",
      " train_loss: 7.536e-01 train_acc: 0.625 \n",
      " val_loss: 5.127e+00 val_acc: 0.250 time: 56\n",
      "\n"
     ]
    },
    {
     "name": "stderr",
     "output_type": "stream",
     "text": [
      "100%|██████████| 18/18 [00:00<00:00, 144.88it/s]\n"
     ]
    },
    {
     "name": "stdout",
     "output_type": "stream",
     "text": [
      "#epoch: 500 \n",
      " train_loss: 7.323e-01 train_acc: 0.625 \n",
      " val_loss: 4.664e+00 val_acc: 0.350 time: 56\n",
      "\n"
     ]
    },
    {
     "name": "stderr",
     "output_type": "stream",
     "text": [
      "100%|██████████| 18/18 [00:00<00:00, 165.30it/s]\n"
     ]
    },
    {
     "name": "stdout",
     "output_type": "stream",
     "text": [
      "#epoch: 501 \n",
      " train_loss: 7.464e-01 train_acc: 0.694 \n",
      " val_loss: 1.631e+00 val_acc: 0.400 time: 56\n",
      "\n"
     ]
    },
    {
     "name": "stderr",
     "output_type": "stream",
     "text": [
      "100%|██████████| 18/18 [00:00<00:00, 206.18it/s]\n"
     ]
    },
    {
     "name": "stdout",
     "output_type": "stream",
     "text": [
      "#epoch: 502 \n",
      " train_loss: 8.427e-01 train_acc: 0.653 \n",
      " val_loss: 2.238e+00 val_acc: 0.350 time: 56\n",
      "\n"
     ]
    },
    {
     "name": "stderr",
     "output_type": "stream",
     "text": [
      "100%|██████████| 18/18 [00:00<00:00, 169.06it/s]\n"
     ]
    },
    {
     "name": "stdout",
     "output_type": "stream",
     "text": [
      "#epoch: 503 \n",
      " train_loss: 7.557e-01 train_acc: 0.667 \n",
      " val_loss: 1.442e+00 val_acc: 0.650 time: 56\n",
      "\n"
     ]
    },
    {
     "name": "stderr",
     "output_type": "stream",
     "text": [
      "100%|██████████| 18/18 [00:00<00:00, 106.10it/s]\n"
     ]
    },
    {
     "name": "stdout",
     "output_type": "stream",
     "text": [
      "#epoch: 504 \n",
      " train_loss: 6.430e-01 train_acc: 0.722 \n",
      " val_loss: 2.021e+00 val_acc: 0.350 time: 56\n",
      "\n"
     ]
    },
    {
     "name": "stderr",
     "output_type": "stream",
     "text": [
      "100%|██████████| 18/18 [00:00<00:00, 137.18it/s]\n"
     ]
    },
    {
     "name": "stdout",
     "output_type": "stream",
     "text": [
      "#epoch: 505 \n",
      " train_loss: 8.241e-01 train_acc: 0.625 \n",
      " val_loss: 4.760e+00 val_acc: 0.450 time: 56\n",
      "\n"
     ]
    },
    {
     "name": "stderr",
     "output_type": "stream",
     "text": [
      "100%|██████████| 18/18 [00:00<00:00, 200.76it/s]\n"
     ]
    },
    {
     "name": "stdout",
     "output_type": "stream",
     "text": [
      "#epoch: 506 \n",
      " train_loss: 9.000e-01 train_acc: 0.514 \n",
      " val_loss: 1.247e+00 val_acc: 0.400 time: 56\n",
      "\n"
     ]
    },
    {
     "name": "stderr",
     "output_type": "stream",
     "text": [
      "100%|██████████| 18/18 [00:00<00:00, 173.04it/s]\n"
     ]
    },
    {
     "name": "stdout",
     "output_type": "stream",
     "text": [
      "#epoch: 507 \n",
      " train_loss: 8.052e-01 train_acc: 0.625 \n",
      " val_loss: 1.640e+00 val_acc: 0.300 time: 56\n",
      "\n"
     ]
    },
    {
     "name": "stderr",
     "output_type": "stream",
     "text": [
      "100%|██████████| 18/18 [00:00<00:00, 132.58it/s]\n"
     ]
    },
    {
     "name": "stdout",
     "output_type": "stream",
     "text": [
      "#epoch: 508 \n",
      " train_loss: 9.042e-01 train_acc: 0.556 \n",
      " val_loss: 1.245e+00 val_acc: 0.400 time: 56\n",
      "\n"
     ]
    },
    {
     "name": "stderr",
     "output_type": "stream",
     "text": [
      "100%|██████████| 18/18 [00:00<00:00, 208.49it/s]\n"
     ]
    },
    {
     "name": "stdout",
     "output_type": "stream",
     "text": [
      "#epoch: 509 \n",
      " train_loss: 8.429e-01 train_acc: 0.597 \n",
      " val_loss: 7.198e+00 val_acc: 0.250 time: 56\n",
      "\n"
     ]
    },
    {
     "name": "stderr",
     "output_type": "stream",
     "text": [
      "100%|██████████| 18/18 [00:00<00:00, 118.25it/s]\n"
     ]
    },
    {
     "name": "stdout",
     "output_type": "stream",
     "text": [
      "#epoch: 510 \n",
      " train_loss: 7.531e-01 train_acc: 0.653 \n",
      " val_loss: 5.856e+00 val_acc: 0.350 time: 56\n",
      "\n"
     ]
    },
    {
     "name": "stderr",
     "output_type": "stream",
     "text": [
      "100%|██████████| 18/18 [00:00<00:00, 137.54it/s]\n"
     ]
    },
    {
     "name": "stdout",
     "output_type": "stream",
     "text": [
      "#epoch: 511 \n",
      " train_loss: 7.036e-01 train_acc: 0.639 \n",
      " val_loss: 1.602e+00 val_acc: 0.550 time: 56\n",
      "\n"
     ]
    },
    {
     "name": "stderr",
     "output_type": "stream",
     "text": [
      "100%|██████████| 18/18 [00:00<00:00, 161.17it/s]\n"
     ]
    },
    {
     "name": "stdout",
     "output_type": "stream",
     "text": [
      "#epoch: 512 \n",
      " train_loss: 8.868e-01 train_acc: 0.597 \n",
      " val_loss: 1.856e+00 val_acc: 0.350 time: 56\n",
      "\n"
     ]
    },
    {
     "name": "stderr",
     "output_type": "stream",
     "text": [
      "100%|██████████| 18/18 [00:00<00:00, 186.10it/s]\n"
     ]
    },
    {
     "name": "stdout",
     "output_type": "stream",
     "text": [
      "#epoch: 513 \n",
      " train_loss: 7.780e-01 train_acc: 0.611 \n",
      " val_loss: 4.370e+00 val_acc: 0.250 time: 56\n",
      "\n"
     ]
    },
    {
     "name": "stderr",
     "output_type": "stream",
     "text": [
      "100%|██████████| 18/18 [00:00<00:00, 163.88it/s]\n"
     ]
    },
    {
     "name": "stdout",
     "output_type": "stream",
     "text": [
      "#epoch: 514 \n",
      " train_loss: 8.124e-01 train_acc: 0.597 \n",
      " val_loss: 3.453e+00 val_acc: 0.250 time: 56\n",
      "\n"
     ]
    },
    {
     "name": "stderr",
     "output_type": "stream",
     "text": [
      "100%|██████████| 18/18 [00:00<00:00, 173.07it/s]\n"
     ]
    },
    {
     "name": "stdout",
     "output_type": "stream",
     "text": [
      "#epoch: 515 \n",
      " train_loss: 7.341e-01 train_acc: 0.583 \n",
      " val_loss: 1.826e+00 val_acc: 0.350 time: 56\n",
      "\n"
     ]
    },
    {
     "name": "stderr",
     "output_type": "stream",
     "text": [
      "100%|██████████| 18/18 [00:00<00:00, 188.61it/s]\n"
     ]
    },
    {
     "name": "stdout",
     "output_type": "stream",
     "text": [
      "#epoch: 516 \n",
      " train_loss: 8.427e-01 train_acc: 0.625 \n",
      " val_loss: 4.269e+00 val_acc: 0.400 time: 56\n",
      "\n"
     ]
    },
    {
     "name": "stderr",
     "output_type": "stream",
     "text": [
      "100%|██████████| 18/18 [00:00<00:00, 190.83it/s]\n"
     ]
    },
    {
     "name": "stdout",
     "output_type": "stream",
     "text": [
      "#epoch: 517 \n",
      " train_loss: 8.688e-01 train_acc: 0.583 \n",
      " val_loss: 1.692e+00 val_acc: 0.300 time: 56\n",
      "\n"
     ]
    },
    {
     "name": "stderr",
     "output_type": "stream",
     "text": [
      "100%|██████████| 18/18 [00:00<00:00, 210.25it/s]\n"
     ]
    },
    {
     "name": "stdout",
     "output_type": "stream",
     "text": [
      "#epoch: 518 \n",
      " train_loss: 7.822e-01 train_acc: 0.569 \n",
      " val_loss: 1.599e+00 val_acc: 0.250 time: 56\n",
      "\n"
     ]
    },
    {
     "name": "stderr",
     "output_type": "stream",
     "text": [
      "100%|██████████| 18/18 [00:00<00:00, 170.68it/s]\n"
     ]
    },
    {
     "name": "stdout",
     "output_type": "stream",
     "text": [
      "#epoch: 519 \n",
      " train_loss: 6.628e-01 train_acc: 0.681 \n",
      " val_loss: 1.938e+00 val_acc: 0.450 time: 56\n",
      "\n"
     ]
    },
    {
     "name": "stderr",
     "output_type": "stream",
     "text": [
      "100%|██████████| 18/18 [00:00<00:00, 178.64it/s]\n"
     ]
    },
    {
     "name": "stdout",
     "output_type": "stream",
     "text": [
      "#epoch: 520 \n",
      " train_loss: 7.352e-01 train_acc: 0.625 \n",
      " val_loss: 2.326e+00 val_acc: 0.350 time: 56\n",
      "\n"
     ]
    },
    {
     "name": "stderr",
     "output_type": "stream",
     "text": [
      "100%|██████████| 18/18 [00:00<00:00, 148.01it/s]\n"
     ]
    },
    {
     "name": "stdout",
     "output_type": "stream",
     "text": [
      "#epoch: 521 \n",
      " train_loss: 6.932e-01 train_acc: 0.653 \n",
      " val_loss: 1.944e+00 val_acc: 0.500 time: 56\n",
      "\n"
     ]
    },
    {
     "name": "stderr",
     "output_type": "stream",
     "text": [
      "100%|██████████| 18/18 [00:00<00:00, 210.09it/s]\n"
     ]
    },
    {
     "name": "stdout",
     "output_type": "stream",
     "text": [
      "#epoch: 522 \n",
      " train_loss: 7.071e-01 train_acc: 0.694 \n",
      " val_loss: 1.531e+00 val_acc: 0.400 time: 56\n",
      "\n"
     ]
    },
    {
     "name": "stderr",
     "output_type": "stream",
     "text": [
      "100%|██████████| 18/18 [00:00<00:00, 152.94it/s]\n"
     ]
    },
    {
     "name": "stdout",
     "output_type": "stream",
     "text": [
      "#epoch: 523 \n",
      " train_loss: 6.999e-01 train_acc: 0.694 \n",
      " val_loss: 3.854e+00 val_acc: 0.250 time: 56\n",
      "\n"
     ]
    },
    {
     "name": "stderr",
     "output_type": "stream",
     "text": [
      "100%|██████████| 18/18 [00:00<00:00, 202.50it/s]\n"
     ]
    },
    {
     "name": "stdout",
     "output_type": "stream",
     "text": [
      "#epoch: 524 \n",
      " train_loss: 7.012e-01 train_acc: 0.639 \n",
      " val_loss: 2.306e+00 val_acc: 0.250 time: 56\n",
      "\n"
     ]
    },
    {
     "name": "stderr",
     "output_type": "stream",
     "text": [
      "100%|██████████| 18/18 [00:00<00:00, 179.41it/s]\n"
     ]
    },
    {
     "name": "stdout",
     "output_type": "stream",
     "text": [
      "#epoch: 525 \n",
      " train_loss: 6.749e-01 train_acc: 0.736 \n",
      " val_loss: 4.297e+00 val_acc: 0.250 time: 56\n",
      "\n"
     ]
    },
    {
     "name": "stderr",
     "output_type": "stream",
     "text": [
      "100%|██████████| 18/18 [00:00<00:00, 207.55it/s]\n"
     ]
    },
    {
     "name": "stdout",
     "output_type": "stream",
     "text": [
      "#epoch: 526 \n",
      " train_loss: 6.375e-01 train_acc: 0.694 \n",
      " val_loss: 2.996e+00 val_acc: 0.500 time: 56\n",
      "\n"
     ]
    },
    {
     "name": "stderr",
     "output_type": "stream",
     "text": [
      "100%|██████████| 18/18 [00:00<00:00, 175.51it/s]\n"
     ]
    },
    {
     "name": "stdout",
     "output_type": "stream",
     "text": [
      "#epoch: 527 \n",
      " train_loss: 6.298e-01 train_acc: 0.708 \n",
      " val_loss: 2.208e+00 val_acc: 0.550 time: 56\n",
      "\n"
     ]
    },
    {
     "name": "stderr",
     "output_type": "stream",
     "text": [
      "100%|██████████| 18/18 [00:00<00:00, 129.62it/s]\n"
     ]
    },
    {
     "name": "stdout",
     "output_type": "stream",
     "text": [
      "#epoch: 528 \n",
      " train_loss: 6.704e-01 train_acc: 0.750 \n",
      " val_loss: 5.484e+00 val_acc: 0.450 time: 56\n",
      "\n"
     ]
    },
    {
     "name": "stderr",
     "output_type": "stream",
     "text": [
      "100%|██████████| 18/18 [00:00<00:00, 210.05it/s]\n"
     ]
    },
    {
     "name": "stdout",
     "output_type": "stream",
     "text": [
      "#epoch: 529 \n",
      " train_loss: 6.975e-01 train_acc: 0.653 \n",
      " val_loss: 6.881e+00 val_acc: 0.350 time: 56\n",
      "\n"
     ]
    },
    {
     "name": "stderr",
     "output_type": "stream",
     "text": [
      "100%|██████████| 18/18 [00:00<00:00, 191.48it/s]\n"
     ]
    },
    {
     "name": "stdout",
     "output_type": "stream",
     "text": [
      "#epoch: 530 \n",
      " train_loss: 7.459e-01 train_acc: 0.611 \n",
      " val_loss: 1.800e+00 val_acc: 0.450 time: 56\n",
      "\n"
     ]
    },
    {
     "name": "stderr",
     "output_type": "stream",
     "text": [
      "100%|██████████| 18/18 [00:00<00:00, 205.49it/s]\n"
     ]
    },
    {
     "name": "stdout",
     "output_type": "stream",
     "text": [
      "#epoch: 531 \n",
      " train_loss: 7.490e-01 train_acc: 0.625 \n",
      " val_loss: 5.311e+00 val_acc: 0.250 time: 56\n",
      "\n"
     ]
    },
    {
     "name": "stderr",
     "output_type": "stream",
     "text": [
      "100%|██████████| 18/18 [00:00<00:00, 180.74it/s]\n"
     ]
    },
    {
     "name": "stdout",
     "output_type": "stream",
     "text": [
      "#epoch: 532 \n",
      " train_loss: 6.865e-01 train_acc: 0.750 \n",
      " val_loss: 1.033e+01 val_acc: 0.350 time: 56\n",
      "\n"
     ]
    },
    {
     "name": "stderr",
     "output_type": "stream",
     "text": [
      "100%|██████████| 18/18 [00:00<00:00, 150.71it/s]\n"
     ]
    },
    {
     "name": "stdout",
     "output_type": "stream",
     "text": [
      "#epoch: 533 \n",
      " train_loss: 7.769e-01 train_acc: 0.611 \n",
      " val_loss: 5.378e+00 val_acc: 0.300 time: 56\n",
      "\n"
     ]
    },
    {
     "name": "stderr",
     "output_type": "stream",
     "text": [
      "100%|██████████| 18/18 [00:00<00:00, 187.84it/s]\n"
     ]
    },
    {
     "name": "stdout",
     "output_type": "stream",
     "text": [
      "#epoch: 534 \n",
      " train_loss: 7.281e-01 train_acc: 0.694 \n",
      " val_loss: 5.244e+00 val_acc: 0.250 time: 56\n",
      "\n"
     ]
    },
    {
     "name": "stderr",
     "output_type": "stream",
     "text": [
      "100%|██████████| 18/18 [00:00<00:00, 182.09it/s]\n"
     ]
    },
    {
     "name": "stdout",
     "output_type": "stream",
     "text": [
      "#epoch: 535 \n",
      " train_loss: 6.400e-01 train_acc: 0.694 \n",
      " val_loss: 3.921e+00 val_acc: 0.450 time: 56\n",
      "\n"
     ]
    },
    {
     "name": "stderr",
     "output_type": "stream",
     "text": [
      "100%|██████████| 18/18 [00:00<00:00, 163.28it/s]\n"
     ]
    },
    {
     "name": "stdout",
     "output_type": "stream",
     "text": [
      "#epoch: 536 \n",
      " train_loss: 5.142e-01 train_acc: 0.750 \n",
      " val_loss: 3.456e+00 val_acc: 0.500 time: 56\n",
      "\n"
     ]
    },
    {
     "name": "stderr",
     "output_type": "stream",
     "text": [
      "100%|██████████| 18/18 [00:00<00:00, 194.41it/s]\n"
     ]
    },
    {
     "name": "stdout",
     "output_type": "stream",
     "text": [
      "#epoch: 537 \n",
      " train_loss: 5.846e-01 train_acc: 0.750 \n",
      " val_loss: 4.128e+00 val_acc: 0.250 time: 56\n",
      "\n"
     ]
    },
    {
     "name": "stderr",
     "output_type": "stream",
     "text": [
      "100%|██████████| 18/18 [00:00<00:00, 164.28it/s]\n"
     ]
    },
    {
     "name": "stdout",
     "output_type": "stream",
     "text": [
      "#epoch: 538 \n",
      " train_loss: 9.320e-01 train_acc: 0.639 \n",
      " val_loss: 1.617e+00 val_acc: 0.450 time: 56\n",
      "\n"
     ]
    },
    {
     "name": "stderr",
     "output_type": "stream",
     "text": [
      "100%|██████████| 18/18 [00:00<00:00, 175.28it/s]\n"
     ]
    },
    {
     "name": "stdout",
     "output_type": "stream",
     "text": [
      "#epoch: 539 \n",
      " train_loss: 6.635e-01 train_acc: 0.681 \n",
      " val_loss: 2.469e+00 val_acc: 0.300 time: 56\n",
      "\n"
     ]
    },
    {
     "name": "stderr",
     "output_type": "stream",
     "text": [
      "100%|██████████| 18/18 [00:00<00:00, 149.95it/s]\n"
     ]
    },
    {
     "name": "stdout",
     "output_type": "stream",
     "text": [
      "#epoch: 540 \n",
      " train_loss: 6.667e-01 train_acc: 0.667 \n",
      " val_loss: 2.247e+00 val_acc: 0.500 time: 56\n",
      "\n"
     ]
    },
    {
     "name": "stderr",
     "output_type": "stream",
     "text": [
      "100%|██████████| 18/18 [00:00<00:00, 183.40it/s]\n"
     ]
    },
    {
     "name": "stdout",
     "output_type": "stream",
     "text": [
      "#epoch: 541 \n",
      " train_loss: 5.887e-01 train_acc: 0.750 \n",
      " val_loss: 4.504e+00 val_acc: 0.250 time: 56\n",
      "\n"
     ]
    },
    {
     "name": "stderr",
     "output_type": "stream",
     "text": [
      "100%|██████████| 18/18 [00:00<00:00, 137.64it/s]\n"
     ]
    },
    {
     "name": "stdout",
     "output_type": "stream",
     "text": [
      "#epoch: 542 \n",
      " train_loss: 7.032e-01 train_acc: 0.722 \n",
      " val_loss: 2.046e+00 val_acc: 0.400 time: 56\n",
      "\n"
     ]
    },
    {
     "name": "stderr",
     "output_type": "stream",
     "text": [
      "100%|██████████| 18/18 [00:00<00:00, 173.91it/s]\n"
     ]
    },
    {
     "name": "stdout",
     "output_type": "stream",
     "text": [
      "#epoch: 543 \n",
      " train_loss: 6.878e-01 train_acc: 0.681 \n",
      " val_loss: 2.306e+00 val_acc: 0.350 time: 56\n",
      "\n"
     ]
    },
    {
     "name": "stderr",
     "output_type": "stream",
     "text": [
      "100%|██████████| 18/18 [00:00<00:00, 190.52it/s]\n"
     ]
    },
    {
     "name": "stdout",
     "output_type": "stream",
     "text": [
      "#epoch: 544 \n",
      " train_loss: 5.202e-01 train_acc: 0.764 \n",
      " val_loss: 2.667e+00 val_acc: 0.300 time: 56\n",
      "\n"
     ]
    },
    {
     "name": "stderr",
     "output_type": "stream",
     "text": [
      "100%|██████████| 18/18 [00:00<00:00, 209.44it/s]\n"
     ]
    },
    {
     "name": "stdout",
     "output_type": "stream",
     "text": [
      "#epoch: 545 \n",
      " train_loss: 6.027e-01 train_acc: 0.708 \n",
      " val_loss: 7.903e+00 val_acc: 0.350 time: 56\n",
      "\n"
     ]
    },
    {
     "name": "stderr",
     "output_type": "stream",
     "text": [
      "100%|██████████| 18/18 [00:00<00:00, 172.42it/s]\n"
     ]
    },
    {
     "name": "stdout",
     "output_type": "stream",
     "text": [
      "#epoch: 546 \n",
      " train_loss: 5.292e-01 train_acc: 0.764 \n",
      " val_loss: 4.681e+00 val_acc: 0.250 time: 56\n",
      "\n"
     ]
    },
    {
     "name": "stderr",
     "output_type": "stream",
     "text": [
      "100%|██████████| 18/18 [00:00<00:00, 138.36it/s]\n"
     ]
    },
    {
     "name": "stdout",
     "output_type": "stream",
     "text": [
      "#epoch: 547 \n",
      " train_loss: 5.125e-01 train_acc: 0.750 \n",
      " val_loss: 4.197e+00 val_acc: 0.400 time: 56\n",
      "\n"
     ]
    },
    {
     "name": "stderr",
     "output_type": "stream",
     "text": [
      "100%|██████████| 18/18 [00:00<00:00, 150.48it/s]\n"
     ]
    },
    {
     "name": "stdout",
     "output_type": "stream",
     "text": [
      "#epoch: 548 \n",
      " train_loss: 6.112e-01 train_acc: 0.736 \n",
      " val_loss: 3.871e+00 val_acc: 0.250 time: 56\n",
      "\n"
     ]
    },
    {
     "name": "stderr",
     "output_type": "stream",
     "text": [
      "100%|██████████| 18/18 [00:00<00:00, 201.33it/s]\n"
     ]
    },
    {
     "name": "stdout",
     "output_type": "stream",
     "text": [
      "#epoch: 549 \n",
      " train_loss: 8.787e-01 train_acc: 0.583 \n",
      " val_loss: 1.639e+00 val_acc: 0.350 time: 56\n",
      "\n"
     ]
    },
    {
     "name": "stderr",
     "output_type": "stream",
     "text": [
      "100%|██████████| 18/18 [00:00<00:00, 160.16it/s]\n"
     ]
    },
    {
     "name": "stdout",
     "output_type": "stream",
     "text": [
      "#epoch: 550 \n",
      " train_loss: 6.240e-01 train_acc: 0.708 \n",
      " val_loss: 2.145e+00 val_acc: 0.500 time: 56\n",
      "\n"
     ]
    },
    {
     "name": "stderr",
     "output_type": "stream",
     "text": [
      "100%|██████████| 18/18 [00:00<00:00, 197.00it/s]\n"
     ]
    },
    {
     "name": "stdout",
     "output_type": "stream",
     "text": [
      "#epoch: 551 \n",
      " train_loss: 5.544e-01 train_acc: 0.722 \n",
      " val_loss: 2.654e+00 val_acc: 0.500 time: 56\n",
      "\n"
     ]
    },
    {
     "name": "stderr",
     "output_type": "stream",
     "text": [
      "100%|██████████| 18/18 [00:00<00:00, 205.57it/s]\n"
     ]
    },
    {
     "name": "stdout",
     "output_type": "stream",
     "text": [
      "#epoch: 552 \n",
      " train_loss: 7.124e-01 train_acc: 0.681 \n",
      " val_loss: 2.951e+00 val_acc: 0.500 time: 56\n",
      "\n"
     ]
    },
    {
     "name": "stderr",
     "output_type": "stream",
     "text": [
      "100%|██████████| 18/18 [00:00<00:00, 153.24it/s]\n"
     ]
    },
    {
     "name": "stdout",
     "output_type": "stream",
     "text": [
      "#epoch: 553 \n",
      " train_loss: 4.389e-01 train_acc: 0.806 \n",
      " val_loss: 3.460e+00 val_acc: 0.500 time: 56\n",
      "\n"
     ]
    },
    {
     "name": "stderr",
     "output_type": "stream",
     "text": [
      "100%|██████████| 18/18 [00:00<00:00, 200.23it/s]\n"
     ]
    },
    {
     "name": "stdout",
     "output_type": "stream",
     "text": [
      "#epoch: 554 \n",
      " train_loss: 4.665e-01 train_acc: 0.819 \n",
      " val_loss: 3.080e+00 val_acc: 0.500 time: 56\n",
      "\n"
     ]
    },
    {
     "name": "stderr",
     "output_type": "stream",
     "text": [
      "100%|██████████| 18/18 [00:00<00:00, 159.10it/s]\n"
     ]
    },
    {
     "name": "stdout",
     "output_type": "stream",
     "text": [
      "#epoch: 555 \n",
      " train_loss: 5.355e-01 train_acc: 0.764 \n",
      " val_loss: 4.210e+00 val_acc: 0.400 time: 56\n",
      "\n"
     ]
    },
    {
     "name": "stderr",
     "output_type": "stream",
     "text": [
      "100%|██████████| 18/18 [00:00<00:00, 196.81it/s]\n"
     ]
    },
    {
     "name": "stdout",
     "output_type": "stream",
     "text": [
      "#epoch: 556 \n",
      " train_loss: 6.541e-01 train_acc: 0.681 \n",
      " val_loss: 3.978e+00 val_acc: 0.250 time: 56\n",
      "\n"
     ]
    },
    {
     "name": "stderr",
     "output_type": "stream",
     "text": [
      "100%|██████████| 18/18 [00:00<00:00, 172.10it/s]\n"
     ]
    },
    {
     "name": "stdout",
     "output_type": "stream",
     "text": [
      "#epoch: 557 \n",
      " train_loss: 5.434e-01 train_acc: 0.806 \n",
      " val_loss: 3.315e+00 val_acc: 0.300 time: 56\n",
      "\n"
     ]
    },
    {
     "name": "stderr",
     "output_type": "stream",
     "text": [
      "100%|██████████| 18/18 [00:00<00:00, 162.86it/s]\n"
     ]
    },
    {
     "name": "stdout",
     "output_type": "stream",
     "text": [
      "#epoch: 558 \n",
      " train_loss: 4.342e-01 train_acc: 0.778 \n",
      " val_loss: 1.664e+00 val_acc: 0.350 time: 56\n",
      "\n"
     ]
    },
    {
     "name": "stderr",
     "output_type": "stream",
     "text": [
      "100%|██████████| 18/18 [00:00<00:00, 139.78it/s]\n"
     ]
    },
    {
     "name": "stdout",
     "output_type": "stream",
     "text": [
      "#epoch: 559 \n",
      " train_loss: 6.168e-01 train_acc: 0.722 \n",
      " val_loss: 4.252e+00 val_acc: 0.400 time: 56\n",
      "\n"
     ]
    },
    {
     "name": "stderr",
     "output_type": "stream",
     "text": [
      "100%|██████████| 18/18 [00:00<00:00, 169.41it/s]\n"
     ]
    },
    {
     "name": "stdout",
     "output_type": "stream",
     "text": [
      "#epoch: 560 \n",
      " train_loss: 4.481e-01 train_acc: 0.819 \n",
      " val_loss: 4.480e+00 val_acc: 0.250 time: 56\n",
      "\n"
     ]
    },
    {
     "name": "stderr",
     "output_type": "stream",
     "text": [
      "100%|██████████| 18/18 [00:00<00:00, 173.58it/s]\n"
     ]
    },
    {
     "name": "stdout",
     "output_type": "stream",
     "text": [
      "#epoch: 561 \n",
      " train_loss: 5.926e-01 train_acc: 0.736 \n",
      " val_loss: 1.043e+01 val_acc: 0.350 time: 56\n",
      "\n"
     ]
    },
    {
     "name": "stderr",
     "output_type": "stream",
     "text": [
      "100%|██████████| 18/18 [00:00<00:00, 199.86it/s]\n"
     ]
    },
    {
     "name": "stdout",
     "output_type": "stream",
     "text": [
      "#epoch: 562 \n",
      " train_loss: 5.069e-01 train_acc: 0.736 \n",
      " val_loss: 3.819e+00 val_acc: 0.300 time: 56\n",
      "\n"
     ]
    },
    {
     "name": "stderr",
     "output_type": "stream",
     "text": [
      "100%|██████████| 18/18 [00:00<00:00, 173.93it/s]\n"
     ]
    },
    {
     "name": "stdout",
     "output_type": "stream",
     "text": [
      "#epoch: 563 \n",
      " train_loss: 5.168e-01 train_acc: 0.736 \n",
      " val_loss: 7.813e+00 val_acc: 0.350 time: 56\n",
      "\n"
     ]
    },
    {
     "name": "stderr",
     "output_type": "stream",
     "text": [
      "100%|██████████| 18/18 [00:00<00:00, 134.21it/s]\n"
     ]
    },
    {
     "name": "stdout",
     "output_type": "stream",
     "text": [
      "#epoch: 564 \n",
      " train_loss: 5.718e-01 train_acc: 0.736 \n",
      " val_loss: 2.605e+00 val_acc: 0.300 time: 56\n",
      "\n"
     ]
    },
    {
     "name": "stderr",
     "output_type": "stream",
     "text": [
      "100%|██████████| 18/18 [00:00<00:00, 137.01it/s]\n"
     ]
    },
    {
     "name": "stdout",
     "output_type": "stream",
     "text": [
      "#epoch: 565 \n",
      " train_loss: 5.281e-01 train_acc: 0.764 \n",
      " val_loss: 1.811e+00 val_acc: 0.300 time: 56\n",
      "\n"
     ]
    },
    {
     "name": "stderr",
     "output_type": "stream",
     "text": [
      "100%|██████████| 18/18 [00:00<00:00, 139.87it/s]\n"
     ]
    },
    {
     "name": "stdout",
     "output_type": "stream",
     "text": [
      "#epoch: 566 \n",
      " train_loss: 7.361e-01 train_acc: 0.653 \n",
      " val_loss: 1.867e+00 val_acc: 0.350 time: 56\n",
      "\n"
     ]
    },
    {
     "name": "stderr",
     "output_type": "stream",
     "text": [
      "100%|██████████| 18/18 [00:00<00:00, 191.55it/s]\n"
     ]
    },
    {
     "name": "stdout",
     "output_type": "stream",
     "text": [
      "#epoch: 567 \n",
      " train_loss: 4.104e-01 train_acc: 0.819 \n",
      " val_loss: 8.129e+00 val_acc: 0.350 time: 56\n",
      "\n"
     ]
    },
    {
     "name": "stderr",
     "output_type": "stream",
     "text": [
      "100%|██████████| 18/18 [00:00<00:00, 128.87it/s]\n"
     ]
    },
    {
     "name": "stdout",
     "output_type": "stream",
     "text": [
      "#epoch: 568 \n",
      " train_loss: 5.603e-01 train_acc: 0.806 \n",
      " val_loss: 3.050e+00 val_acc: 0.350 time: 56\n",
      "\n"
     ]
    },
    {
     "name": "stderr",
     "output_type": "stream",
     "text": [
      "100%|██████████| 18/18 [00:00<00:00, 138.09it/s]\n"
     ]
    },
    {
     "name": "stdout",
     "output_type": "stream",
     "text": [
      "#epoch: 569 \n",
      " train_loss: 5.790e-01 train_acc: 0.736 \n",
      " val_loss: 2.391e+00 val_acc: 0.500 time: 56\n",
      "\n"
     ]
    },
    {
     "name": "stderr",
     "output_type": "stream",
     "text": [
      "100%|██████████| 18/18 [00:00<00:00, 175.89it/s]\n"
     ]
    },
    {
     "name": "stdout",
     "output_type": "stream",
     "text": [
      "#epoch: 570 \n",
      " train_loss: 5.318e-01 train_acc: 0.764 \n",
      " val_loss: 9.702e+00 val_acc: 0.250 time: 56\n",
      "\n"
     ]
    },
    {
     "name": "stderr",
     "output_type": "stream",
     "text": [
      "100%|██████████| 18/18 [00:00<00:00, 221.08it/s]\n"
     ]
    },
    {
     "name": "stdout",
     "output_type": "stream",
     "text": [
      "#epoch: 571 \n",
      " train_loss: 5.657e-01 train_acc: 0.764 \n",
      " val_loss: 1.927e+00 val_acc: 0.350 time: 56\n",
      "\n"
     ]
    },
    {
     "name": "stderr",
     "output_type": "stream",
     "text": [
      "100%|██████████| 18/18 [00:00<00:00, 171.65it/s]\n"
     ]
    },
    {
     "name": "stdout",
     "output_type": "stream",
     "text": [
      "#epoch: 572 \n",
      " train_loss: 5.286e-01 train_acc: 0.764 \n",
      " val_loss: 7.440e+00 val_acc: 0.250 time: 56\n",
      "\n"
     ]
    },
    {
     "name": "stderr",
     "output_type": "stream",
     "text": [
      "100%|██████████| 18/18 [00:00<00:00, 159.07it/s]\n"
     ]
    },
    {
     "name": "stdout",
     "output_type": "stream",
     "text": [
      "#epoch: 573 \n",
      " train_loss: 5.060e-01 train_acc: 0.778 \n",
      " val_loss: 1.770e+00 val_acc: 0.350 time: 56\n",
      "\n"
     ]
    },
    {
     "name": "stderr",
     "output_type": "stream",
     "text": [
      "100%|██████████| 18/18 [00:00<00:00, 166.32it/s]\n"
     ]
    },
    {
     "name": "stdout",
     "output_type": "stream",
     "text": [
      "#epoch: 574 \n",
      " train_loss: 5.833e-01 train_acc: 0.708 \n",
      " val_loss: 1.961e+01 val_acc: 0.350 time: 56\n",
      "\n"
     ]
    },
    {
     "name": "stderr",
     "output_type": "stream",
     "text": [
      "100%|██████████| 18/18 [00:00<00:00, 71.73it/s]\n"
     ]
    },
    {
     "name": "stdout",
     "output_type": "stream",
     "text": [
      "#epoch: 575 \n",
      " train_loss: 6.185e-01 train_acc: 0.667 \n",
      " val_loss: 5.200e+00 val_acc: 0.250 time: 56\n",
      "\n"
     ]
    },
    {
     "name": "stderr",
     "output_type": "stream",
     "text": [
      "100%|██████████| 18/18 [00:00<00:00, 168.99it/s]\n"
     ]
    },
    {
     "name": "stdout",
     "output_type": "stream",
     "text": [
      "#epoch: 576 \n",
      " train_loss: 4.518e-01 train_acc: 0.778 \n",
      " val_loss: 3.663e+00 val_acc: 0.200 time: 56\n",
      "\n"
     ]
    },
    {
     "name": "stderr",
     "output_type": "stream",
     "text": [
      "100%|██████████| 18/18 [00:00<00:00, 153.78it/s]\n"
     ]
    },
    {
     "name": "stdout",
     "output_type": "stream",
     "text": [
      "#epoch: 577 \n",
      " train_loss: 3.798e-01 train_acc: 0.861 \n",
      " val_loss: 2.150e+00 val_acc: 0.350 time: 56\n",
      "\n"
     ]
    },
    {
     "name": "stderr",
     "output_type": "stream",
     "text": [
      "100%|██████████| 18/18 [00:00<00:00, 139.21it/s]\n"
     ]
    },
    {
     "name": "stdout",
     "output_type": "stream",
     "text": [
      "#epoch: 578 \n",
      " train_loss: 5.174e-01 train_acc: 0.736 \n",
      " val_loss: 3.959e+00 val_acc: 0.450 time: 56\n",
      "\n"
     ]
    },
    {
     "name": "stderr",
     "output_type": "stream",
     "text": [
      "100%|██████████| 18/18 [00:00<00:00, 146.89it/s]\n"
     ]
    },
    {
     "name": "stdout",
     "output_type": "stream",
     "text": [
      "#epoch: 579 \n",
      " train_loss: 4.926e-01 train_acc: 0.750 \n",
      " val_loss: 5.297e+00 val_acc: 0.250 time: 56\n",
      "\n"
     ]
    },
    {
     "name": "stderr",
     "output_type": "stream",
     "text": [
      "100%|██████████| 18/18 [00:00<00:00, 131.71it/s]\n"
     ]
    },
    {
     "name": "stdout",
     "output_type": "stream",
     "text": [
      "#epoch: 580 \n",
      " train_loss: 5.750e-01 train_acc: 0.750 \n",
      " val_loss: 3.028e+00 val_acc: 0.400 time: 56\n",
      "\n"
     ]
    },
    {
     "name": "stderr",
     "output_type": "stream",
     "text": [
      "100%|██████████| 18/18 [00:00<00:00, 119.95it/s]\n"
     ]
    },
    {
     "name": "stdout",
     "output_type": "stream",
     "text": [
      "#epoch: 581 \n",
      " train_loss: 7.706e-01 train_acc: 0.694 \n",
      " val_loss: 1.625e+00 val_acc: 0.300 time: 56\n",
      "\n"
     ]
    },
    {
     "name": "stderr",
     "output_type": "stream",
     "text": [
      "100%|██████████| 18/18 [00:00<00:00, 102.47it/s]\n"
     ]
    },
    {
     "name": "stdout",
     "output_type": "stream",
     "text": [
      "#epoch: 582 \n",
      " train_loss: 6.580e-01 train_acc: 0.708 \n",
      " val_loss: 2.275e+00 val_acc: 0.300 time: 56\n",
      "\n"
     ]
    },
    {
     "name": "stderr",
     "output_type": "stream",
     "text": [
      "100%|██████████| 18/18 [00:00<00:00, 177.01it/s]\n"
     ]
    },
    {
     "name": "stdout",
     "output_type": "stream",
     "text": [
      "#epoch: 583 \n",
      " train_loss: 5.072e-01 train_acc: 0.750 \n",
      " val_loss: 1.991e+00 val_acc: 0.350 time: 56\n",
      "\n"
     ]
    },
    {
     "name": "stderr",
     "output_type": "stream",
     "text": [
      "100%|██████████| 18/18 [00:00<00:00, 124.39it/s]\n"
     ]
    },
    {
     "name": "stdout",
     "output_type": "stream",
     "text": [
      "#epoch: 584 \n",
      " train_loss: 4.404e-01 train_acc: 0.778 \n",
      " val_loss: 2.404e+00 val_acc: 0.300 time: 56\n",
      "\n"
     ]
    },
    {
     "name": "stderr",
     "output_type": "stream",
     "text": [
      "100%|██████████| 18/18 [00:00<00:00, 168.45it/s]\n"
     ]
    },
    {
     "name": "stdout",
     "output_type": "stream",
     "text": [
      "#epoch: 585 \n",
      " train_loss: 4.711e-01 train_acc: 0.722 \n",
      " val_loss: 2.241e+00 val_acc: 0.300 time: 56\n",
      "\n"
     ]
    },
    {
     "name": "stderr",
     "output_type": "stream",
     "text": [
      "100%|██████████| 18/18 [00:00<00:00, 140.83it/s]\n"
     ]
    },
    {
     "name": "stdout",
     "output_type": "stream",
     "text": [
      "#epoch: 586 \n",
      " train_loss: 4.921e-01 train_acc: 0.819 \n",
      " val_loss: 1.002e+01 val_acc: 0.350 time: 56\n",
      "\n"
     ]
    },
    {
     "name": "stderr",
     "output_type": "stream",
     "text": [
      "100%|██████████| 18/18 [00:00<00:00, 121.40it/s]\n"
     ]
    },
    {
     "name": "stdout",
     "output_type": "stream",
     "text": [
      "#epoch: 587 \n",
      " train_loss: 4.230e-01 train_acc: 0.806 \n",
      " val_loss: 3.170e+00 val_acc: 0.250 time: 56\n",
      "\n"
     ]
    },
    {
     "name": "stderr",
     "output_type": "stream",
     "text": [
      "100%|██████████| 18/18 [00:00<00:00, 132.23it/s]\n"
     ]
    },
    {
     "name": "stdout",
     "output_type": "stream",
     "text": [
      "#epoch: 588 \n",
      " train_loss: 3.861e-01 train_acc: 0.833 \n",
      " val_loss: 4.882e+00 val_acc: 0.250 time: 56\n",
      "\n"
     ]
    },
    {
     "name": "stderr",
     "output_type": "stream",
     "text": [
      "100%|██████████| 18/18 [00:00<00:00, 76.66it/s]\n"
     ]
    },
    {
     "name": "stdout",
     "output_type": "stream",
     "text": [
      "#epoch: 589 \n",
      " train_loss: 4.633e-01 train_acc: 0.819 \n",
      " val_loss: 5.206e+00 val_acc: 0.400 time: 56\n",
      "\n"
     ]
    },
    {
     "name": "stderr",
     "output_type": "stream",
     "text": [
      "100%|██████████| 18/18 [00:00<00:00, 127.29it/s]\n"
     ]
    },
    {
     "name": "stdout",
     "output_type": "stream",
     "text": [
      "#epoch: 590 \n",
      " train_loss: 3.823e-01 train_acc: 0.806 \n",
      " val_loss: 3.652e+00 val_acc: 0.300 time: 56\n",
      "\n"
     ]
    },
    {
     "name": "stderr",
     "output_type": "stream",
     "text": [
      "100%|██████████| 18/18 [00:00<00:00, 113.95it/s]\n"
     ]
    },
    {
     "name": "stdout",
     "output_type": "stream",
     "text": [
      "#epoch: 591 \n",
      " train_loss: 5.175e-01 train_acc: 0.736 \n",
      " val_loss: 2.862e+00 val_acc: 0.350 time: 56\n",
      "\n"
     ]
    },
    {
     "name": "stderr",
     "output_type": "stream",
     "text": [
      "100%|██████████| 18/18 [00:00<00:00, 127.79it/s]\n"
     ]
    },
    {
     "name": "stdout",
     "output_type": "stream",
     "text": [
      "#epoch: 592 \n",
      " train_loss: 3.663e-01 train_acc: 0.833 \n",
      " val_loss: 7.934e+00 val_acc: 0.250 time: 56\n",
      "\n"
     ]
    },
    {
     "name": "stderr",
     "output_type": "stream",
     "text": [
      "100%|██████████| 18/18 [00:00<00:00, 112.04it/s]\n"
     ]
    },
    {
     "name": "stdout",
     "output_type": "stream",
     "text": [
      "#epoch: 593 \n",
      " train_loss: 3.442e-01 train_acc: 0.847 \n",
      " val_loss: 4.264e+00 val_acc: 0.200 time: 56\n",
      "\n"
     ]
    },
    {
     "name": "stderr",
     "output_type": "stream",
     "text": [
      "100%|██████████| 18/18 [00:00<00:00, 111.96it/s]\n"
     ]
    },
    {
     "name": "stdout",
     "output_type": "stream",
     "text": [
      "#epoch: 594 \n",
      " train_loss: 3.895e-01 train_acc: 0.833 \n",
      " val_loss: 5.798e+00 val_acc: 0.300 time: 56\n",
      "\n"
     ]
    },
    {
     "name": "stderr",
     "output_type": "stream",
     "text": [
      "100%|██████████| 18/18 [00:00<00:00, 92.99it/s]\n"
     ]
    },
    {
     "name": "stdout",
     "output_type": "stream",
     "text": [
      "#epoch: 595 \n",
      " train_loss: 4.136e-01 train_acc: 0.833 \n",
      " val_loss: 4.864e+00 val_acc: 0.350 time: 56\n",
      "\n"
     ]
    },
    {
     "name": "stderr",
     "output_type": "stream",
     "text": [
      "100%|██████████| 18/18 [00:00<00:00, 114.62it/s]\n"
     ]
    },
    {
     "name": "stdout",
     "output_type": "stream",
     "text": [
      "#epoch: 596 \n",
      " train_loss: 3.289e-01 train_acc: 0.861 \n",
      " val_loss: 2.495e+00 val_acc: 0.400 time: 56\n",
      "\n"
     ]
    },
    {
     "name": "stderr",
     "output_type": "stream",
     "text": [
      "100%|██████████| 18/18 [00:00<00:00, 56.46it/s]\n"
     ]
    },
    {
     "name": "stdout",
     "output_type": "stream",
     "text": [
      "#epoch: 597 \n",
      " train_loss: 6.171e-01 train_acc: 0.764 \n",
      " val_loss: 6.412e+00 val_acc: 0.250 time: 56\n",
      "\n"
     ]
    },
    {
     "name": "stderr",
     "output_type": "stream",
     "text": [
      "100%|██████████| 18/18 [00:00<00:00, 168.20it/s]\n"
     ]
    },
    {
     "name": "stdout",
     "output_type": "stream",
     "text": [
      "#epoch: 598 \n",
      " train_loss: 7.060e-01 train_acc: 0.708 \n",
      " val_loss: 5.217e+00 val_acc: 0.400 time: 56\n",
      "\n"
     ]
    },
    {
     "name": "stderr",
     "output_type": "stream",
     "text": [
      "100%|██████████| 18/18 [00:00<00:00, 148.76it/s]\n"
     ]
    },
    {
     "name": "stdout",
     "output_type": "stream",
     "text": [
      "#epoch: 599 \n",
      " train_loss: 5.425e-01 train_acc: 0.819 \n",
      " val_loss: 2.873e+00 val_acc: 0.300 time: 56\n",
      "\n"
     ]
    },
    {
     "name": "stderr",
     "output_type": "stream",
     "text": [
      "100%|██████████| 18/18 [00:00<00:00, 176.92it/s]\n"
     ]
    },
    {
     "name": "stdout",
     "output_type": "stream",
     "text": [
      "#epoch: 600 \n",
      " train_loss: 4.688e-01 train_acc: 0.806 \n",
      " val_loss: 3.008e+00 val_acc: 0.350 time: 56\n",
      "\n"
     ]
    },
    {
     "name": "stderr",
     "output_type": "stream",
     "text": [
      "100%|██████████| 18/18 [00:00<00:00, 178.29it/s]\n"
     ]
    },
    {
     "name": "stdout",
     "output_type": "stream",
     "text": [
      "#epoch: 601 \n",
      " train_loss: 4.677e-01 train_acc: 0.819 \n",
      " val_loss: 2.681e+00 val_acc: 0.450 time: 56\n",
      "\n"
     ]
    },
    {
     "name": "stderr",
     "output_type": "stream",
     "text": [
      "100%|██████████| 18/18 [00:00<00:00, 205.09it/s]\n"
     ]
    },
    {
     "name": "stdout",
     "output_type": "stream",
     "text": [
      "#epoch: 602 \n",
      " train_loss: 4.171e-01 train_acc: 0.833 \n",
      " val_loss: 2.843e+00 val_acc: 0.250 time: 56\n",
      "\n"
     ]
    },
    {
     "name": "stderr",
     "output_type": "stream",
     "text": [
      "100%|██████████| 18/18 [00:00<00:00, 198.86it/s]\n"
     ]
    },
    {
     "name": "stdout",
     "output_type": "stream",
     "text": [
      "#epoch: 603 \n",
      " train_loss: 5.535e-01 train_acc: 0.764 \n",
      " val_loss: 4.709e+00 val_acc: 0.350 time: 56\n",
      "\n"
     ]
    },
    {
     "name": "stderr",
     "output_type": "stream",
     "text": [
      "100%|██████████| 18/18 [00:00<00:00, 180.52it/s]\n"
     ]
    },
    {
     "name": "stdout",
     "output_type": "stream",
     "text": [
      "#epoch: 604 \n",
      " train_loss: 3.982e-01 train_acc: 0.806 \n",
      " val_loss: 2.450e+00 val_acc: 0.450 time: 56\n",
      "\n"
     ]
    },
    {
     "name": "stderr",
     "output_type": "stream",
     "text": [
      "100%|██████████| 18/18 [00:00<00:00, 149.95it/s]\n"
     ]
    },
    {
     "name": "stdout",
     "output_type": "stream",
     "text": [
      "#epoch: 605 \n",
      " train_loss: 3.263e-01 train_acc: 0.875 \n",
      " val_loss: 4.818e+00 val_acc: 0.250 time: 56\n",
      "\n"
     ]
    },
    {
     "name": "stderr",
     "output_type": "stream",
     "text": [
      "100%|██████████| 18/18 [00:00<00:00, 150.40it/s]\n"
     ]
    },
    {
     "name": "stdout",
     "output_type": "stream",
     "text": [
      "#epoch: 606 \n",
      " train_loss: 4.012e-01 train_acc: 0.847 \n",
      " val_loss: 2.789e+00 val_acc: 0.400 time: 56\n",
      "\n"
     ]
    },
    {
     "name": "stderr",
     "output_type": "stream",
     "text": [
      "100%|██████████| 18/18 [00:00<00:00, 163.31it/s]\n"
     ]
    },
    {
     "name": "stdout",
     "output_type": "stream",
     "text": [
      "#epoch: 607 \n",
      " train_loss: 3.975e-01 train_acc: 0.861 \n",
      " val_loss: 3.659e+00 val_acc: 0.300 time: 56\n",
      "\n"
     ]
    },
    {
     "name": "stderr",
     "output_type": "stream",
     "text": [
      "100%|██████████| 18/18 [00:00<00:00, 172.00it/s]\n"
     ]
    },
    {
     "name": "stdout",
     "output_type": "stream",
     "text": [
      "#epoch: 608 \n",
      " train_loss: 3.247e-01 train_acc: 0.889 \n",
      " val_loss: 3.220e+00 val_acc: 0.250 time: 56\n",
      "\n"
     ]
    },
    {
     "name": "stderr",
     "output_type": "stream",
     "text": [
      "100%|██████████| 18/18 [00:00<00:00, 137.72it/s]\n"
     ]
    },
    {
     "name": "stdout",
     "output_type": "stream",
     "text": [
      "#epoch: 609 \n",
      " train_loss: 5.256e-01 train_acc: 0.819 \n",
      " val_loss: 9.266e+00 val_acc: 0.350 time: 56\n",
      "\n"
     ]
    },
    {
     "name": "stderr",
     "output_type": "stream",
     "text": [
      "100%|██████████| 18/18 [00:00<00:00, 161.92it/s]\n"
     ]
    },
    {
     "name": "stdout",
     "output_type": "stream",
     "text": [
      "#epoch: 610 \n",
      " train_loss: 4.350e-01 train_acc: 0.792 \n",
      " val_loss: 2.849e+00 val_acc: 0.300 time: 56\n",
      "\n"
     ]
    },
    {
     "name": "stderr",
     "output_type": "stream",
     "text": [
      "100%|██████████| 18/18 [00:00<00:00, 188.71it/s]\n"
     ]
    },
    {
     "name": "stdout",
     "output_type": "stream",
     "text": [
      "#epoch: 611 \n",
      " train_loss: 3.234e-01 train_acc: 0.819 \n",
      " val_loss: 5.112e+00 val_acc: 0.250 time: 56\n",
      "\n"
     ]
    },
    {
     "name": "stderr",
     "output_type": "stream",
     "text": [
      "100%|██████████| 18/18 [00:00<00:00, 207.70it/s]\n"
     ]
    },
    {
     "name": "stdout",
     "output_type": "stream",
     "text": [
      "#epoch: 612 \n",
      " train_loss: 3.027e-01 train_acc: 0.903 \n",
      " val_loss: 3.085e+00 val_acc: 0.400 time: 56\n",
      "\n"
     ]
    },
    {
     "name": "stderr",
     "output_type": "stream",
     "text": [
      "100%|██████████| 18/18 [00:00<00:00, 184.72it/s]\n"
     ]
    },
    {
     "name": "stdout",
     "output_type": "stream",
     "text": [
      "#epoch: 613 \n",
      " train_loss: 2.506e-01 train_acc: 0.889 \n",
      " val_loss: 3.306e+00 val_acc: 0.400 time: 56\n",
      "\n"
     ]
    },
    {
     "name": "stderr",
     "output_type": "stream",
     "text": [
      "100%|██████████| 18/18 [00:00<00:00, 171.74it/s]\n"
     ]
    },
    {
     "name": "stdout",
     "output_type": "stream",
     "text": [
      "#epoch: 614 \n",
      " train_loss: 3.786e-01 train_acc: 0.861 \n",
      " val_loss: 2.782e+00 val_acc: 0.250 time: 56\n",
      "\n"
     ]
    },
    {
     "name": "stderr",
     "output_type": "stream",
     "text": [
      "100%|██████████| 18/18 [00:00<00:00, 165.51it/s]\n"
     ]
    },
    {
     "name": "stdout",
     "output_type": "stream",
     "text": [
      "#epoch: 615 \n",
      " train_loss: 5.234e-01 train_acc: 0.778 \n",
      " val_loss: 3.614e+00 val_acc: 0.300 time: 56\n",
      "\n"
     ]
    },
    {
     "name": "stderr",
     "output_type": "stream",
     "text": [
      "100%|██████████| 18/18 [00:00<00:00, 112.38it/s]\n"
     ]
    },
    {
     "name": "stdout",
     "output_type": "stream",
     "text": [
      "#epoch: 616 \n",
      " train_loss: 3.566e-01 train_acc: 0.819 \n",
      " val_loss: 3.668e+00 val_acc: 0.300 time: 56\n",
      "\n"
     ]
    },
    {
     "name": "stderr",
     "output_type": "stream",
     "text": [
      "100%|██████████| 18/18 [00:00<00:00, 140.20it/s]\n"
     ]
    },
    {
     "name": "stdout",
     "output_type": "stream",
     "text": [
      "#epoch: 617 \n",
      " train_loss: 2.667e-01 train_acc: 0.875 \n",
      " val_loss: 3.062e+00 val_acc: 0.400 time: 56\n",
      "\n"
     ]
    },
    {
     "name": "stderr",
     "output_type": "stream",
     "text": [
      "100%|██████████| 18/18 [00:00<00:00, 141.12it/s]\n"
     ]
    },
    {
     "name": "stdout",
     "output_type": "stream",
     "text": [
      "#epoch: 618 \n",
      " train_loss: 5.029e-01 train_acc: 0.778 \n",
      " val_loss: 2.847e+00 val_acc: 0.400 time: 56\n",
      "\n"
     ]
    },
    {
     "name": "stderr",
     "output_type": "stream",
     "text": [
      "100%|██████████| 18/18 [00:00<00:00, 135.61it/s]\n"
     ]
    },
    {
     "name": "stdout",
     "output_type": "stream",
     "text": [
      "#epoch: 619 \n",
      " train_loss: 3.866e-01 train_acc: 0.833 \n",
      " val_loss: 4.335e+00 val_acc: 0.200 time: 56\n",
      "\n"
     ]
    },
    {
     "name": "stderr",
     "output_type": "stream",
     "text": [
      "100%|██████████| 18/18 [00:00<00:00, 148.03it/s]\n"
     ]
    },
    {
     "name": "stdout",
     "output_type": "stream",
     "text": [
      "#epoch: 620 \n",
      " train_loss: 4.123e-01 train_acc: 0.847 \n",
      " val_loss: 3.376e+00 val_acc: 0.350 time: 56\n",
      "\n"
     ]
    },
    {
     "name": "stderr",
     "output_type": "stream",
     "text": [
      "100%|██████████| 18/18 [00:00<00:00, 199.29it/s]\n"
     ]
    },
    {
     "name": "stdout",
     "output_type": "stream",
     "text": [
      "#epoch: 621 \n",
      " train_loss: 4.365e-01 train_acc: 0.764 \n",
      " val_loss: 5.405e+00 val_acc: 0.450 time: 56\n",
      "\n"
     ]
    },
    {
     "name": "stderr",
     "output_type": "stream",
     "text": [
      "100%|██████████| 18/18 [00:00<00:00, 199.78it/s]\n"
     ]
    },
    {
     "name": "stdout",
     "output_type": "stream",
     "text": [
      "#epoch: 622 \n",
      " train_loss: 3.499e-01 train_acc: 0.847 \n",
      " val_loss: 2.377e+00 val_acc: 0.300 time: 56\n",
      "\n"
     ]
    },
    {
     "name": "stderr",
     "output_type": "stream",
     "text": [
      "100%|██████████| 18/18 [00:00<00:00, 174.59it/s]\n"
     ]
    },
    {
     "name": "stdout",
     "output_type": "stream",
     "text": [
      "#epoch: 623 \n",
      " train_loss: 5.425e-01 train_acc: 0.806 \n",
      " val_loss: 3.420e+00 val_acc: 0.150 time: 56\n",
      "\n"
     ]
    },
    {
     "name": "stderr",
     "output_type": "stream",
     "text": [
      "100%|██████████| 18/18 [00:00<00:00, 197.32it/s]\n"
     ]
    },
    {
     "name": "stdout",
     "output_type": "stream",
     "text": [
      "#epoch: 624 \n",
      " train_loss: 4.816e-01 train_acc: 0.792 \n",
      " val_loss: 2.666e+00 val_acc: 0.200 time: 56\n",
      "\n"
     ]
    },
    {
     "name": "stderr",
     "output_type": "stream",
     "text": [
      "100%|██████████| 18/18 [00:00<00:00, 158.56it/s]\n"
     ]
    },
    {
     "name": "stdout",
     "output_type": "stream",
     "text": [
      "#epoch: 625 \n",
      " train_loss: 4.521e-01 train_acc: 0.889 \n",
      " val_loss: 2.732e+00 val_acc: 0.300 time: 56\n",
      "\n"
     ]
    },
    {
     "name": "stderr",
     "output_type": "stream",
     "text": [
      "100%|██████████| 18/18 [00:00<00:00, 179.83it/s]\n"
     ]
    },
    {
     "name": "stdout",
     "output_type": "stream",
     "text": [
      "#epoch: 626 \n",
      " train_loss: 2.884e-01 train_acc: 0.931 \n",
      " val_loss: 3.044e+00 val_acc: 0.250 time: 56\n",
      "\n"
     ]
    },
    {
     "name": "stderr",
     "output_type": "stream",
     "text": [
      "100%|██████████| 18/18 [00:00<00:00, 157.33it/s]\n"
     ]
    },
    {
     "name": "stdout",
     "output_type": "stream",
     "text": [
      "#epoch: 627 \n",
      " train_loss: 3.768e-01 train_acc: 0.833 \n",
      " val_loss: 4.496e+00 val_acc: 0.250 time: 56\n",
      "\n"
     ]
    },
    {
     "name": "stderr",
     "output_type": "stream",
     "text": [
      "100%|██████████| 18/18 [00:00<00:00, 200.94it/s]\n"
     ]
    },
    {
     "name": "stdout",
     "output_type": "stream",
     "text": [
      "#epoch: 628 \n",
      " train_loss: 3.248e-01 train_acc: 0.833 \n",
      " val_loss: 2.013e+01 val_acc: 0.350 time: 56\n",
      "\n"
     ]
    },
    {
     "name": "stderr",
     "output_type": "stream",
     "text": [
      "100%|██████████| 18/18 [00:00<00:00, 150.07it/s]\n"
     ]
    },
    {
     "name": "stdout",
     "output_type": "stream",
     "text": [
      "#epoch: 629 \n",
      " train_loss: 5.035e-01 train_acc: 0.764 \n",
      " val_loss: 4.766e+00 val_acc: 0.200 time: 56\n",
      "\n"
     ]
    },
    {
     "name": "stderr",
     "output_type": "stream",
     "text": [
      "100%|██████████| 18/18 [00:00<00:00, 189.04it/s]\n"
     ]
    },
    {
     "name": "stdout",
     "output_type": "stream",
     "text": [
      "#epoch: 630 \n",
      " train_loss: 4.579e-01 train_acc: 0.819 \n",
      " val_loss: 2.743e+00 val_acc: 0.250 time: 56\n",
      "\n"
     ]
    },
    {
     "name": "stderr",
     "output_type": "stream",
     "text": [
      "100%|██████████| 18/18 [00:00<00:00, 194.43it/s]\n"
     ]
    },
    {
     "name": "stdout",
     "output_type": "stream",
     "text": [
      "#epoch: 631 \n",
      " train_loss: 2.488e-01 train_acc: 0.903 \n",
      " val_loss: 2.750e+00 val_acc: 0.400 time: 56\n",
      "\n"
     ]
    },
    {
     "name": "stderr",
     "output_type": "stream",
     "text": [
      "100%|██████████| 18/18 [00:00<00:00, 215.70it/s]\n"
     ]
    },
    {
     "name": "stdout",
     "output_type": "stream",
     "text": [
      "#epoch: 632 \n",
      " train_loss: 3.073e-01 train_acc: 0.861 \n",
      " val_loss: 9.976e+00 val_acc: 0.350 time: 56\n",
      "\n"
     ]
    },
    {
     "name": "stderr",
     "output_type": "stream",
     "text": [
      "100%|██████████| 18/18 [00:00<00:00, 149.07it/s]\n"
     ]
    },
    {
     "name": "stdout",
     "output_type": "stream",
     "text": [
      "#epoch: 633 \n",
      " train_loss: 3.386e-01 train_acc: 0.875 \n",
      " val_loss: 3.240e+00 val_acc: 0.400 time: 56\n",
      "\n"
     ]
    },
    {
     "name": "stderr",
     "output_type": "stream",
     "text": [
      "100%|██████████| 18/18 [00:00<00:00, 212.15it/s]\n"
     ]
    },
    {
     "name": "stdout",
     "output_type": "stream",
     "text": [
      "#epoch: 634 \n",
      " train_loss: 4.533e-01 train_acc: 0.833 \n",
      " val_loss: 2.054e+00 val_acc: 0.400 time: 56\n",
      "\n"
     ]
    },
    {
     "name": "stderr",
     "output_type": "stream",
     "text": [
      "100%|██████████| 18/18 [00:00<00:00, 149.11it/s]\n"
     ]
    },
    {
     "name": "stdout",
     "output_type": "stream",
     "text": [
      "#epoch: 635 \n",
      " train_loss: 3.547e-01 train_acc: 0.833 \n",
      " val_loss: 2.632e+00 val_acc: 0.300 time: 56\n",
      "\n"
     ]
    },
    {
     "name": "stderr",
     "output_type": "stream",
     "text": [
      "100%|██████████| 18/18 [00:00<00:00, 174.08it/s]\n"
     ]
    },
    {
     "name": "stdout",
     "output_type": "stream",
     "text": [
      "#epoch: 636 \n",
      " train_loss: 2.371e-01 train_acc: 0.903 \n",
      " val_loss: 3.382e+00 val_acc: 0.300 time: 56\n",
      "\n"
     ]
    },
    {
     "name": "stderr",
     "output_type": "stream",
     "text": [
      "100%|██████████| 18/18 [00:00<00:00, 206.96it/s]\n"
     ]
    },
    {
     "name": "stdout",
     "output_type": "stream",
     "text": [
      "#epoch: 637 \n",
      " train_loss: 2.739e-01 train_acc: 0.861 \n",
      " val_loss: 4.804e+00 val_acc: 0.350 time: 56\n",
      "\n"
     ]
    },
    {
     "name": "stderr",
     "output_type": "stream",
     "text": [
      "100%|██████████| 18/18 [00:00<00:00, 197.72it/s]\n"
     ]
    },
    {
     "name": "stdout",
     "output_type": "stream",
     "text": [
      "#epoch: 638 \n",
      " train_loss: 4.040e-01 train_acc: 0.847 \n",
      " val_loss: 3.083e+00 val_acc: 0.300 time: 56\n",
      "\n"
     ]
    },
    {
     "name": "stderr",
     "output_type": "stream",
     "text": [
      "100%|██████████| 18/18 [00:00<00:00, 154.98it/s]\n"
     ]
    },
    {
     "name": "stdout",
     "output_type": "stream",
     "text": [
      "#epoch: 639 \n",
      " train_loss: 2.709e-01 train_acc: 0.903 \n",
      " val_loss: 3.539e+00 val_acc: 0.300 time: 56\n",
      "\n"
     ]
    },
    {
     "name": "stderr",
     "output_type": "stream",
     "text": [
      "100%|██████████| 18/18 [00:00<00:00, 172.67it/s]\n"
     ]
    },
    {
     "name": "stdout",
     "output_type": "stream",
     "text": [
      "#epoch: 640 \n",
      " train_loss: 6.693e-01 train_acc: 0.736 \n",
      " val_loss: 2.288e+01 val_acc: 0.350 time: 56\n",
      "\n"
     ]
    },
    {
     "name": "stderr",
     "output_type": "stream",
     "text": [
      "100%|██████████| 18/18 [00:00<00:00, 136.95it/s]\n"
     ]
    },
    {
     "name": "stdout",
     "output_type": "stream",
     "text": [
      "#epoch: 641 \n",
      " train_loss: 7.906e-01 train_acc: 0.708 \n",
      " val_loss: 1.546e+00 val_acc: 0.450 time: 56\n",
      "\n"
     ]
    },
    {
     "name": "stderr",
     "output_type": "stream",
     "text": [
      "100%|██████████| 18/18 [00:00<00:00, 160.21it/s]\n"
     ]
    },
    {
     "name": "stdout",
     "output_type": "stream",
     "text": [
      "#epoch: 642 \n",
      " train_loss: 5.779e-01 train_acc: 0.722 \n",
      " val_loss: 5.251e+00 val_acc: 0.300 time: 56\n",
      "\n"
     ]
    },
    {
     "name": "stderr",
     "output_type": "stream",
     "text": [
      "100%|██████████| 18/18 [00:00<00:00, 168.27it/s]\n"
     ]
    },
    {
     "name": "stdout",
     "output_type": "stream",
     "text": [
      "#epoch: 643 \n",
      " train_loss: 5.323e-01 train_acc: 0.792 \n",
      " val_loss: 3.355e+00 val_acc: 0.300 time: 56\n",
      "\n"
     ]
    },
    {
     "name": "stderr",
     "output_type": "stream",
     "text": [
      "100%|██████████| 18/18 [00:00<00:00, 186.75it/s]\n"
     ]
    },
    {
     "name": "stdout",
     "output_type": "stream",
     "text": [
      "#epoch: 644 \n",
      " train_loss: 3.628e-01 train_acc: 0.847 \n",
      " val_loss: 2.764e+00 val_acc: 0.300 time: 56\n",
      "\n"
     ]
    },
    {
     "name": "stderr",
     "output_type": "stream",
     "text": [
      "100%|██████████| 18/18 [00:00<00:00, 135.06it/s]\n"
     ]
    },
    {
     "name": "stdout",
     "output_type": "stream",
     "text": [
      "#epoch: 645 \n",
      " train_loss: 3.934e-01 train_acc: 0.819 \n",
      " val_loss: 2.933e+00 val_acc: 0.400 time: 56\n",
      "\n"
     ]
    },
    {
     "name": "stderr",
     "output_type": "stream",
     "text": [
      "100%|██████████| 18/18 [00:00<00:00, 168.81it/s]\n"
     ]
    },
    {
     "name": "stdout",
     "output_type": "stream",
     "text": [
      "#epoch: 646 \n",
      " train_loss: 4.036e-01 train_acc: 0.833 \n",
      " val_loss: 5.122e+00 val_acc: 0.250 time: 56\n",
      "\n"
     ]
    },
    {
     "name": "stderr",
     "output_type": "stream",
     "text": [
      "100%|██████████| 18/18 [00:00<00:00, 196.57it/s]\n"
     ]
    },
    {
     "name": "stdout",
     "output_type": "stream",
     "text": [
      "#epoch: 647 \n",
      " train_loss: 3.463e-01 train_acc: 0.861 \n",
      " val_loss: 2.757e+00 val_acc: 0.350 time: 56\n",
      "\n"
     ]
    },
    {
     "name": "stderr",
     "output_type": "stream",
     "text": [
      "100%|██████████| 18/18 [00:00<00:00, 190.01it/s]\n"
     ]
    },
    {
     "name": "stdout",
     "output_type": "stream",
     "text": [
      "#epoch: 648 \n",
      " train_loss: 2.864e-01 train_acc: 0.889 \n",
      " val_loss: 3.775e+00 val_acc: 0.350 time: 56\n",
      "\n"
     ]
    },
    {
     "name": "stderr",
     "output_type": "stream",
     "text": [
      "100%|██████████| 18/18 [00:00<00:00, 184.47it/s]\n"
     ]
    },
    {
     "name": "stdout",
     "output_type": "stream",
     "text": [
      "#epoch: 649 \n",
      " train_loss: 2.596e-01 train_acc: 0.889 \n",
      " val_loss: 3.740e+00 val_acc: 0.300 time: 56\n",
      "\n"
     ]
    },
    {
     "name": "stderr",
     "output_type": "stream",
     "text": [
      "100%|██████████| 18/18 [00:00<00:00, 169.65it/s]\n"
     ]
    },
    {
     "name": "stdout",
     "output_type": "stream",
     "text": [
      "#epoch: 650 \n",
      " train_loss: 2.787e-01 train_acc: 0.847 \n",
      " val_loss: 3.195e+00 val_acc: 0.350 time: 56\n",
      "\n"
     ]
    },
    {
     "name": "stderr",
     "output_type": "stream",
     "text": [
      "100%|██████████| 18/18 [00:00<00:00, 202.48it/s]\n"
     ]
    },
    {
     "name": "stdout",
     "output_type": "stream",
     "text": [
      "#epoch: 651 \n",
      " train_loss: 4.288e-01 train_acc: 0.806 \n",
      " val_loss: 6.897e+00 val_acc: 0.300 time: 56\n",
      "\n"
     ]
    },
    {
     "name": "stderr",
     "output_type": "stream",
     "text": [
      "100%|██████████| 18/18 [00:00<00:00, 206.02it/s]\n"
     ]
    },
    {
     "name": "stdout",
     "output_type": "stream",
     "text": [
      "#epoch: 652 \n",
      " train_loss: 4.366e-01 train_acc: 0.819 \n",
      " val_loss: 9.716e+00 val_acc: 0.400 time: 56\n",
      "\n"
     ]
    },
    {
     "name": "stderr",
     "output_type": "stream",
     "text": [
      "100%|██████████| 18/18 [00:00<00:00, 117.82it/s]\n"
     ]
    },
    {
     "name": "stdout",
     "output_type": "stream",
     "text": [
      "#epoch: 653 \n",
      " train_loss: 2.459e-01 train_acc: 0.917 \n",
      " val_loss: 3.109e+00 val_acc: 0.300 time: 56\n",
      "\n"
     ]
    },
    {
     "name": "stderr",
     "output_type": "stream",
     "text": [
      "100%|██████████| 18/18 [00:00<00:00, 199.71it/s]\n"
     ]
    },
    {
     "name": "stdout",
     "output_type": "stream",
     "text": [
      "#epoch: 654 \n",
      " train_loss: 2.462e-01 train_acc: 0.875 \n",
      " val_loss: 3.585e+00 val_acc: 0.250 time: 56\n",
      "\n"
     ]
    },
    {
     "name": "stderr",
     "output_type": "stream",
     "text": [
      "100%|██████████| 18/18 [00:00<00:00, 181.04it/s]\n"
     ]
    },
    {
     "name": "stdout",
     "output_type": "stream",
     "text": [
      "#epoch: 655 \n",
      " train_loss: 2.272e-01 train_acc: 0.931 \n",
      " val_loss: 3.387e+00 val_acc: 0.400 time: 56\n",
      "\n"
     ]
    },
    {
     "name": "stderr",
     "output_type": "stream",
     "text": [
      "100%|██████████| 18/18 [00:00<00:00, 171.85it/s]\n"
     ]
    },
    {
     "name": "stdout",
     "output_type": "stream",
     "text": [
      "#epoch: 656 \n",
      " train_loss: 3.330e-01 train_acc: 0.875 \n",
      " val_loss: 5.041e+00 val_acc: 0.300 time: 56\n",
      "\n"
     ]
    },
    {
     "name": "stderr",
     "output_type": "stream",
     "text": [
      "100%|██████████| 18/18 [00:00<00:00, 149.92it/s]\n"
     ]
    },
    {
     "name": "stdout",
     "output_type": "stream",
     "text": [
      "#epoch: 657 \n",
      " train_loss: 3.311e-01 train_acc: 0.889 \n",
      " val_loss: 2.344e+00 val_acc: 0.300 time: 56\n",
      "\n"
     ]
    },
    {
     "name": "stderr",
     "output_type": "stream",
     "text": [
      "100%|██████████| 18/18 [00:00<00:00, 147.75it/s]\n"
     ]
    },
    {
     "name": "stdout",
     "output_type": "stream",
     "text": [
      "#epoch: 658 \n",
      " train_loss: 2.578e-01 train_acc: 0.875 \n",
      " val_loss: 3.511e+00 val_acc: 0.400 time: 56\n",
      "\n"
     ]
    },
    {
     "name": "stderr",
     "output_type": "stream",
     "text": [
      "100%|██████████| 18/18 [00:00<00:00, 160.36it/s]\n"
     ]
    },
    {
     "name": "stdout",
     "output_type": "stream",
     "text": [
      "#epoch: 659 \n",
      " train_loss: 2.700e-01 train_acc: 0.903 \n",
      " val_loss: 6.739e+00 val_acc: 0.450 time: 56\n",
      "\n"
     ]
    },
    {
     "name": "stderr",
     "output_type": "stream",
     "text": [
      "100%|██████████| 18/18 [00:00<00:00, 163.20it/s]\n"
     ]
    },
    {
     "name": "stdout",
     "output_type": "stream",
     "text": [
      "#epoch: 660 \n",
      " train_loss: 2.705e-01 train_acc: 0.889 \n",
      " val_loss: 3.486e+00 val_acc: 0.400 time: 56\n",
      "\n"
     ]
    },
    {
     "name": "stderr",
     "output_type": "stream",
     "text": [
      "100%|██████████| 18/18 [00:00<00:00, 136.54it/s]\n"
     ]
    },
    {
     "name": "stdout",
     "output_type": "stream",
     "text": [
      "#epoch: 661 \n",
      " train_loss: 2.100e-01 train_acc: 0.889 \n",
      " val_loss: 3.168e+00 val_acc: 0.250 time: 56\n",
      "\n"
     ]
    },
    {
     "name": "stderr",
     "output_type": "stream",
     "text": [
      "100%|██████████| 18/18 [00:00<00:00, 159.75it/s]\n"
     ]
    },
    {
     "name": "stdout",
     "output_type": "stream",
     "text": [
      "#epoch: 662 \n",
      " train_loss: 2.437e-01 train_acc: 0.903 \n",
      " val_loss: 3.057e+00 val_acc: 0.400 time: 56\n",
      "\n"
     ]
    },
    {
     "name": "stderr",
     "output_type": "stream",
     "text": [
      "100%|██████████| 18/18 [00:00<00:00, 152.57it/s]\n"
     ]
    },
    {
     "name": "stdout",
     "output_type": "stream",
     "text": [
      "#epoch: 663 \n",
      " train_loss: 3.599e-01 train_acc: 0.833 \n",
      " val_loss: 3.267e+00 val_acc: 0.250 time: 56\n",
      "\n"
     ]
    },
    {
     "name": "stderr",
     "output_type": "stream",
     "text": [
      "100%|██████████| 18/18 [00:00<00:00, 185.55it/s]\n"
     ]
    },
    {
     "name": "stdout",
     "output_type": "stream",
     "text": [
      "#epoch: 664 \n",
      " train_loss: 3.144e-01 train_acc: 0.903 \n",
      " val_loss: 3.702e+00 val_acc: 0.350 time: 56\n",
      "\n"
     ]
    },
    {
     "name": "stderr",
     "output_type": "stream",
     "text": [
      "100%|██████████| 18/18 [00:00<00:00, 160.05it/s]\n"
     ]
    },
    {
     "name": "stdout",
     "output_type": "stream",
     "text": [
      "#epoch: 665 \n",
      " train_loss: 5.261e-01 train_acc: 0.778 \n",
      " val_loss: 4.203e+00 val_acc: 0.350 time: 56\n",
      "\n"
     ]
    },
    {
     "name": "stderr",
     "output_type": "stream",
     "text": [
      "100%|██████████| 18/18 [00:00<00:00, 136.60it/s]\n"
     ]
    },
    {
     "name": "stdout",
     "output_type": "stream",
     "text": [
      "#epoch: 666 \n",
      " train_loss: 3.880e-01 train_acc: 0.833 \n",
      " val_loss: 4.821e+00 val_acc: 0.350 time: 56\n",
      "\n"
     ]
    },
    {
     "name": "stderr",
     "output_type": "stream",
     "text": [
      "100%|██████████| 18/18 [00:00<00:00, 209.28it/s]\n"
     ]
    },
    {
     "name": "stdout",
     "output_type": "stream",
     "text": [
      "#epoch: 667 \n",
      " train_loss: 7.592e-01 train_acc: 0.722 \n",
      " val_loss: 3.555e+00 val_acc: 0.250 time: 56\n",
      "\n"
     ]
    },
    {
     "name": "stderr",
     "output_type": "stream",
     "text": [
      "100%|██████████| 18/18 [00:00<00:00, 177.38it/s]\n"
     ]
    },
    {
     "name": "stdout",
     "output_type": "stream",
     "text": [
      "#epoch: 668 \n",
      " train_loss: 5.788e-01 train_acc: 0.708 \n",
      " val_loss: 8.958e+00 val_acc: 0.250 time: 56\n",
      "\n"
     ]
    },
    {
     "name": "stderr",
     "output_type": "stream",
     "text": [
      "100%|██████████| 18/18 [00:00<00:00, 155.31it/s]\n"
     ]
    },
    {
     "name": "stdout",
     "output_type": "stream",
     "text": [
      "#epoch: 669 \n",
      " train_loss: 4.470e-01 train_acc: 0.792 \n",
      " val_loss: 3.871e+00 val_acc: 0.200 time: 56\n",
      "\n"
     ]
    },
    {
     "name": "stderr",
     "output_type": "stream",
     "text": [
      "100%|██████████| 18/18 [00:00<00:00, 154.74it/s]\n"
     ]
    },
    {
     "name": "stdout",
     "output_type": "stream",
     "text": [
      "#epoch: 670 \n",
      " train_loss: 4.112e-01 train_acc: 0.819 \n",
      " val_loss: 3.716e+00 val_acc: 0.350 time: 56\n",
      "\n"
     ]
    },
    {
     "name": "stderr",
     "output_type": "stream",
     "text": [
      "100%|██████████| 18/18 [00:00<00:00, 155.76it/s]\n"
     ]
    },
    {
     "name": "stdout",
     "output_type": "stream",
     "text": [
      "#epoch: 671 \n",
      " train_loss: 3.453e-01 train_acc: 0.806 \n",
      " val_loss: 3.111e+00 val_acc: 0.350 time: 56\n",
      "\n"
     ]
    },
    {
     "name": "stderr",
     "output_type": "stream",
     "text": [
      "100%|██████████| 18/18 [00:00<00:00, 181.37it/s]\n"
     ]
    },
    {
     "name": "stdout",
     "output_type": "stream",
     "text": [
      "#epoch: 672 \n",
      " train_loss: 3.991e-01 train_acc: 0.819 \n",
      " val_loss: 4.452e+00 val_acc: 0.200 time: 56\n",
      "\n"
     ]
    },
    {
     "name": "stderr",
     "output_type": "stream",
     "text": [
      "100%|██████████| 18/18 [00:00<00:00, 178.67it/s]\n"
     ]
    },
    {
     "name": "stdout",
     "output_type": "stream",
     "text": [
      "#epoch: 673 \n",
      " train_loss: 2.649e-01 train_acc: 0.875 \n",
      " val_loss: 4.487e+00 val_acc: 0.550 time: 56\n",
      "\n"
     ]
    },
    {
     "name": "stderr",
     "output_type": "stream",
     "text": [
      "100%|██████████| 18/18 [00:00<00:00, 172.84it/s]\n"
     ]
    },
    {
     "name": "stdout",
     "output_type": "stream",
     "text": [
      "#epoch: 674 \n",
      " train_loss: 2.697e-01 train_acc: 0.917 \n",
      " val_loss: 3.548e+00 val_acc: 0.200 time: 56\n",
      "\n"
     ]
    },
    {
     "name": "stderr",
     "output_type": "stream",
     "text": [
      "100%|██████████| 18/18 [00:00<00:00, 176.64it/s]\n"
     ]
    },
    {
     "name": "stdout",
     "output_type": "stream",
     "text": [
      "#epoch: 675 \n",
      " train_loss: 3.414e-01 train_acc: 0.819 \n",
      " val_loss: 2.161e+00 val_acc: 0.250 time: 56\n",
      "\n"
     ]
    },
    {
     "name": "stderr",
     "output_type": "stream",
     "text": [
      "100%|██████████| 18/18 [00:00<00:00, 147.69it/s]\n"
     ]
    },
    {
     "name": "stdout",
     "output_type": "stream",
     "text": [
      "#epoch: 676 \n",
      " train_loss: 6.928e-01 train_acc: 0.653 \n",
      " val_loss: 4.115e+00 val_acc: 0.200 time: 56\n",
      "\n"
     ]
    },
    {
     "name": "stderr",
     "output_type": "stream",
     "text": [
      "100%|██████████| 18/18 [00:00<00:00, 132.24it/s]\n"
     ]
    },
    {
     "name": "stdout",
     "output_type": "stream",
     "text": [
      "#epoch: 677 \n",
      " train_loss: 2.001e+00 train_acc: 0.472 \n",
      " val_loss: 1.990e+00 val_acc: 0.450 time: 56\n",
      "\n"
     ]
    },
    {
     "name": "stderr",
     "output_type": "stream",
     "text": [
      "100%|██████████| 18/18 [00:00<00:00, 155.36it/s]\n"
     ]
    },
    {
     "name": "stdout",
     "output_type": "stream",
     "text": [
      "#epoch: 678 \n",
      " train_loss: 1.276e+00 train_acc: 0.417 \n",
      " val_loss: 6.430e+00 val_acc: 0.350 time: 56\n",
      "\n"
     ]
    },
    {
     "name": "stderr",
     "output_type": "stream",
     "text": [
      "100%|██████████| 18/18 [00:00<00:00, 154.53it/s]\n"
     ]
    },
    {
     "name": "stdout",
     "output_type": "stream",
     "text": [
      "#epoch: 679 \n",
      " train_loss: 1.030e+00 train_acc: 0.458 \n",
      " val_loss: 2.320e+00 val_acc: 0.350 time: 56\n",
      "\n"
     ]
    },
    {
     "name": "stderr",
     "output_type": "stream",
     "text": [
      "100%|██████████| 18/18 [00:00<00:00, 182.36it/s]\n"
     ]
    },
    {
     "name": "stdout",
     "output_type": "stream",
     "text": [
      "#epoch: 680 \n",
      " train_loss: 1.006e+00 train_acc: 0.444 \n",
      " val_loss: 1.591e+00 val_acc: 0.400 time: 56\n",
      "\n"
     ]
    },
    {
     "name": "stderr",
     "output_type": "stream",
     "text": [
      "100%|██████████| 18/18 [00:00<00:00, 188.44it/s]\n"
     ]
    },
    {
     "name": "stdout",
     "output_type": "stream",
     "text": [
      "#epoch: 681 \n",
      " train_loss: 8.921e-01 train_acc: 0.569 \n",
      " val_loss: 1.404e+00 val_acc: 0.450 time: 56\n",
      "\n"
     ]
    },
    {
     "name": "stderr",
     "output_type": "stream",
     "text": [
      "100%|██████████| 18/18 [00:00<00:00, 157.90it/s]\n"
     ]
    },
    {
     "name": "stdout",
     "output_type": "stream",
     "text": [
      "#epoch: 682 \n",
      " train_loss: 8.237e-01 train_acc: 0.611 \n",
      " val_loss: 1.406e+00 val_acc: 0.350 time: 56\n",
      "\n"
     ]
    },
    {
     "name": "stderr",
     "output_type": "stream",
     "text": [
      "100%|██████████| 18/18 [00:00<00:00, 168.70it/s]\n"
     ]
    },
    {
     "name": "stdout",
     "output_type": "stream",
     "text": [
      "#epoch: 683 \n",
      " train_loss: 8.225e-01 train_acc: 0.625 \n",
      " val_loss: 2.867e+00 val_acc: 0.450 time: 56\n",
      "\n"
     ]
    },
    {
     "name": "stderr",
     "output_type": "stream",
     "text": [
      "100%|██████████| 18/18 [00:00<00:00, 194.63it/s]\n"
     ]
    },
    {
     "name": "stdout",
     "output_type": "stream",
     "text": [
      "#epoch: 684 \n",
      " train_loss: 8.040e-01 train_acc: 0.583 \n",
      " val_loss: 2.278e+00 val_acc: 0.450 time: 56\n",
      "\n"
     ]
    },
    {
     "name": "stderr",
     "output_type": "stream",
     "text": [
      "100%|██████████| 18/18 [00:00<00:00, 178.73it/s]\n"
     ]
    },
    {
     "name": "stdout",
     "output_type": "stream",
     "text": [
      "#epoch: 685 \n",
      " train_loss: 8.804e-01 train_acc: 0.528 \n",
      " val_loss: 1.560e+00 val_acc: 0.350 time: 56\n",
      "\n"
     ]
    },
    {
     "name": "stderr",
     "output_type": "stream",
     "text": [
      "100%|██████████| 18/18 [00:00<00:00, 167.97it/s]\n"
     ]
    },
    {
     "name": "stdout",
     "output_type": "stream",
     "text": [
      "#epoch: 686 \n",
      " train_loss: 6.467e-01 train_acc: 0.708 \n",
      " val_loss: 1.690e+00 val_acc: 0.350 time: 56\n",
      "\n"
     ]
    },
    {
     "name": "stderr",
     "output_type": "stream",
     "text": [
      "100%|██████████| 18/18 [00:00<00:00, 166.56it/s]\n"
     ]
    },
    {
     "name": "stdout",
     "output_type": "stream",
     "text": [
      "#epoch: 687 \n",
      " train_loss: 6.217e-01 train_acc: 0.764 \n",
      " val_loss: 1.535e+00 val_acc: 0.500 time: 56\n",
      "\n"
     ]
    },
    {
     "name": "stderr",
     "output_type": "stream",
     "text": [
      "100%|██████████| 18/18 [00:00<00:00, 183.71it/s]\n"
     ]
    },
    {
     "name": "stdout",
     "output_type": "stream",
     "text": [
      "#epoch: 688 \n",
      " train_loss: 6.601e-01 train_acc: 0.667 \n",
      " val_loss: 1.563e+00 val_acc: 0.500 time: 56\n",
      "\n"
     ]
    },
    {
     "name": "stderr",
     "output_type": "stream",
     "text": [
      "100%|██████████| 18/18 [00:00<00:00, 120.44it/s]\n"
     ]
    },
    {
     "name": "stdout",
     "output_type": "stream",
     "text": [
      "#epoch: 689 \n",
      " train_loss: 5.963e-01 train_acc: 0.778 \n",
      " val_loss: 1.665e+00 val_acc: 0.350 time: 56\n",
      "\n"
     ]
    },
    {
     "name": "stderr",
     "output_type": "stream",
     "text": [
      "100%|██████████| 18/18 [00:00<00:00, 137.96it/s]\n"
     ]
    },
    {
     "name": "stdout",
     "output_type": "stream",
     "text": [
      "#epoch: 690 \n",
      " train_loss: 5.397e-01 train_acc: 0.681 \n",
      " val_loss: 1.970e+00 val_acc: 0.350 time: 56\n",
      "\n"
     ]
    },
    {
     "name": "stderr",
     "output_type": "stream",
     "text": [
      "100%|██████████| 18/18 [00:00<00:00, 152.45it/s]\n"
     ]
    },
    {
     "name": "stdout",
     "output_type": "stream",
     "text": [
      "#epoch: 691 \n",
      " train_loss: 6.198e-01 train_acc: 0.736 \n",
      " val_loss: 1.891e+00 val_acc: 0.500 time: 56\n",
      "\n"
     ]
    },
    {
     "name": "stderr",
     "output_type": "stream",
     "text": [
      "100%|██████████| 18/18 [00:00<00:00, 210.51it/s]\n"
     ]
    },
    {
     "name": "stdout",
     "output_type": "stream",
     "text": [
      "#epoch: 692 \n",
      " train_loss: 5.586e-01 train_acc: 0.778 \n",
      " val_loss: 9.098e+00 val_acc: 0.350 time: 56\n",
      "\n"
     ]
    },
    {
     "name": "stderr",
     "output_type": "stream",
     "text": [
      "100%|██████████| 18/18 [00:00<00:00, 148.76it/s]\n"
     ]
    },
    {
     "name": "stdout",
     "output_type": "stream",
     "text": [
      "#epoch: 693 \n",
      " train_loss: 7.240e-01 train_acc: 0.653 \n",
      " val_loss: 1.732e+00 val_acc: 0.400 time: 56\n",
      "\n"
     ]
    },
    {
     "name": "stderr",
     "output_type": "stream",
     "text": [
      "100%|██████████| 18/18 [00:00<00:00, 174.95it/s]\n"
     ]
    },
    {
     "name": "stdout",
     "output_type": "stream",
     "text": [
      "#epoch: 694 \n",
      " train_loss: 4.167e-01 train_acc: 0.819 \n",
      " val_loss: 1.863e+00 val_acc: 0.350 time: 56\n",
      "\n"
     ]
    },
    {
     "name": "stderr",
     "output_type": "stream",
     "text": [
      "100%|██████████| 18/18 [00:00<00:00, 197.31it/s]\n"
     ]
    },
    {
     "name": "stdout",
     "output_type": "stream",
     "text": [
      "#epoch: 695 \n",
      " train_loss: 5.715e-01 train_acc: 0.750 \n",
      " val_loss: 2.039e+00 val_acc: 0.400 time: 56\n",
      "\n"
     ]
    },
    {
     "name": "stderr",
     "output_type": "stream",
     "text": [
      "100%|██████████| 18/18 [00:00<00:00, 140.12it/s]\n"
     ]
    },
    {
     "name": "stdout",
     "output_type": "stream",
     "text": [
      "#epoch: 696 \n",
      " train_loss: 3.915e-01 train_acc: 0.819 \n",
      " val_loss: 2.132e+00 val_acc: 0.350 time: 56\n",
      "\n"
     ]
    },
    {
     "name": "stderr",
     "output_type": "stream",
     "text": [
      "100%|██████████| 18/18 [00:00<00:00, 179.75it/s]\n"
     ]
    },
    {
     "name": "stdout",
     "output_type": "stream",
     "text": [
      "#epoch: 697 \n",
      " train_loss: 3.316e-01 train_acc: 0.875 \n",
      " val_loss: 2.652e+00 val_acc: 0.450 time: 56\n",
      "\n"
     ]
    },
    {
     "name": "stderr",
     "output_type": "stream",
     "text": [
      "100%|██████████| 18/18 [00:00<00:00, 194.34it/s]\n"
     ]
    },
    {
     "name": "stdout",
     "output_type": "stream",
     "text": [
      "#epoch: 698 \n",
      " train_loss: 4.388e-01 train_acc: 0.861 \n",
      " val_loss: 5.231e+00 val_acc: 0.400 time: 56\n",
      "\n"
     ]
    },
    {
     "name": "stderr",
     "output_type": "stream",
     "text": [
      "100%|██████████| 18/18 [00:00<00:00, 200.10it/s]\n"
     ]
    },
    {
     "name": "stdout",
     "output_type": "stream",
     "text": [
      "#epoch: 699 \n",
      " train_loss: 5.106e-01 train_acc: 0.806 \n",
      " val_loss: 2.138e+00 val_acc: 0.400 time: 56\n",
      "\n"
     ]
    },
    {
     "name": "stderr",
     "output_type": "stream",
     "text": [
      "100%|██████████| 18/18 [00:00<00:00, 136.78it/s]\n"
     ]
    },
    {
     "name": "stdout",
     "output_type": "stream",
     "text": [
      "#epoch: 700 \n",
      " train_loss: 1.339e+00 train_acc: 0.556 \n",
      " val_loss: 5.915e+00 val_acc: 0.400 time: 56\n",
      "\n"
     ]
    },
    {
     "name": "stderr",
     "output_type": "stream",
     "text": [
      "100%|██████████| 18/18 [00:00<00:00, 112.40it/s]\n"
     ]
    },
    {
     "name": "stdout",
     "output_type": "stream",
     "text": [
      "#epoch: 701 \n",
      " train_loss: 6.095e-01 train_acc: 0.736 \n",
      " val_loss: 1.576e+00 val_acc: 0.400 time: 56\n",
      "\n"
     ]
    },
    {
     "name": "stderr",
     "output_type": "stream",
     "text": [
      "100%|██████████| 18/18 [00:00<00:00, 140.81it/s]\n"
     ]
    },
    {
     "name": "stdout",
     "output_type": "stream",
     "text": [
      "#epoch: 702 \n",
      " train_loss: 5.536e-01 train_acc: 0.792 \n",
      " val_loss: 1.788e+00 val_acc: 0.400 time: 56\n",
      "\n"
     ]
    },
    {
     "name": "stderr",
     "output_type": "stream",
     "text": [
      "100%|██████████| 18/18 [00:00<00:00, 200.08it/s]\n"
     ]
    },
    {
     "name": "stdout",
     "output_type": "stream",
     "text": [
      "#epoch: 703 \n",
      " train_loss: 5.244e-01 train_acc: 0.764 \n",
      " val_loss: 4.650e+00 val_acc: 0.400 time: 56\n",
      "\n"
     ]
    },
    {
     "name": "stderr",
     "output_type": "stream",
     "text": [
      "100%|██████████| 18/18 [00:00<00:00, 190.67it/s]\n"
     ]
    },
    {
     "name": "stdout",
     "output_type": "stream",
     "text": [
      "#epoch: 704 \n",
      " train_loss: 6.465e-01 train_acc: 0.736 \n",
      " val_loss: 1.815e+00 val_acc: 0.350 time: 56\n",
      "\n"
     ]
    },
    {
     "name": "stderr",
     "output_type": "stream",
     "text": [
      "100%|██████████| 18/18 [00:00<00:00, 159.12it/s]\n"
     ]
    },
    {
     "name": "stdout",
     "output_type": "stream",
     "text": [
      "#epoch: 705 \n",
      " train_loss: 6.104e-01 train_acc: 0.736 \n",
      " val_loss: 1.884e+00 val_acc: 0.350 time: 56\n",
      "\n"
     ]
    },
    {
     "name": "stderr",
     "output_type": "stream",
     "text": [
      "100%|██████████| 18/18 [00:00<00:00, 145.52it/s]\n"
     ]
    },
    {
     "name": "stdout",
     "output_type": "stream",
     "text": [
      "#epoch: 706 \n",
      " train_loss: 3.595e-01 train_acc: 0.847 \n",
      " val_loss: 2.207e+00 val_acc: 0.500 time: 56\n",
      "\n"
     ]
    },
    {
     "name": "stderr",
     "output_type": "stream",
     "text": [
      "100%|██████████| 18/18 [00:00<00:00, 185.52it/s]\n"
     ]
    },
    {
     "name": "stdout",
     "output_type": "stream",
     "text": [
      "#epoch: 707 \n",
      " train_loss: 4.899e-01 train_acc: 0.806 \n",
      " val_loss: 2.117e+00 val_acc: 0.300 time: 56\n",
      "\n"
     ]
    },
    {
     "name": "stderr",
     "output_type": "stream",
     "text": [
      "100%|██████████| 18/18 [00:00<00:00, 137.23it/s]\n"
     ]
    },
    {
     "name": "stdout",
     "output_type": "stream",
     "text": [
      "#epoch: 708 \n",
      " train_loss: 4.692e-01 train_acc: 0.847 \n",
      " val_loss: 2.453e+00 val_acc: 0.500 time: 56\n",
      "\n"
     ]
    },
    {
     "name": "stderr",
     "output_type": "stream",
     "text": [
      "100%|██████████| 18/18 [00:00<00:00, 208.14it/s]\n"
     ]
    },
    {
     "name": "stdout",
     "output_type": "stream",
     "text": [
      "#epoch: 709 \n",
      " train_loss: 3.991e-01 train_acc: 0.889 \n",
      " val_loss: 2.642e+00 val_acc: 0.450 time: 56\n",
      "\n"
     ]
    },
    {
     "name": "stderr",
     "output_type": "stream",
     "text": [
      "100%|██████████| 18/18 [00:00<00:00, 164.53it/s]\n"
     ]
    },
    {
     "name": "stdout",
     "output_type": "stream",
     "text": [
      "#epoch: 710 \n",
      " train_loss: 3.953e-01 train_acc: 0.847 \n",
      " val_loss: 2.284e+00 val_acc: 0.550 time: 56\n",
      "\n"
     ]
    },
    {
     "name": "stderr",
     "output_type": "stream",
     "text": [
      "100%|██████████| 18/18 [00:00<00:00, 137.68it/s]\n"
     ]
    },
    {
     "name": "stdout",
     "output_type": "stream",
     "text": [
      "#epoch: 711 \n",
      " train_loss: 4.611e-01 train_acc: 0.833 \n",
      " val_loss: 4.250e+00 val_acc: 0.350 time: 56\n",
      "\n"
     ]
    },
    {
     "name": "stderr",
     "output_type": "stream",
     "text": [
      "100%|██████████| 18/18 [00:00<00:00, 189.32it/s]\n"
     ]
    },
    {
     "name": "stdout",
     "output_type": "stream",
     "text": [
      "#epoch: 712 \n",
      " train_loss: 5.001e-01 train_acc: 0.792 \n",
      " val_loss: 2.114e+00 val_acc: 0.350 time: 56\n",
      "\n"
     ]
    },
    {
     "name": "stderr",
     "output_type": "stream",
     "text": [
      "100%|██████████| 18/18 [00:00<00:00, 177.44it/s]\n"
     ]
    },
    {
     "name": "stdout",
     "output_type": "stream",
     "text": [
      "#epoch: 713 \n",
      " train_loss: 4.165e-01 train_acc: 0.847 \n",
      " val_loss: 4.081e+01 val_acc: 0.350 time: 56\n",
      "\n"
     ]
    },
    {
     "name": "stderr",
     "output_type": "stream",
     "text": [
      "100%|██████████| 18/18 [00:00<00:00, 169.22it/s]\n"
     ]
    },
    {
     "name": "stdout",
     "output_type": "stream",
     "text": [
      "#epoch: 714 \n",
      " train_loss: 7.337e-01 train_acc: 0.681 \n",
      " val_loss: 1.875e+00 val_acc: 0.400 time: 56\n",
      "\n"
     ]
    },
    {
     "name": "stderr",
     "output_type": "stream",
     "text": [
      "100%|██████████| 18/18 [00:00<00:00, 133.79it/s]\n"
     ]
    },
    {
     "name": "stdout",
     "output_type": "stream",
     "text": [
      "#epoch: 715 \n",
      " train_loss: 8.217e-01 train_acc: 0.667 \n",
      " val_loss: 1.645e+00 val_acc: 0.400 time: 56\n",
      "\n"
     ]
    },
    {
     "name": "stderr",
     "output_type": "stream",
     "text": [
      "100%|██████████| 18/18 [00:00<00:00, 180.70it/s]\n"
     ]
    },
    {
     "name": "stdout",
     "output_type": "stream",
     "text": [
      "#epoch: 716 \n",
      " train_loss: 7.684e-01 train_acc: 0.611 \n",
      " val_loss: 1.625e+00 val_acc: 0.350 time: 56\n",
      "\n"
     ]
    },
    {
     "name": "stderr",
     "output_type": "stream",
     "text": [
      "100%|██████████| 18/18 [00:00<00:00, 192.75it/s]\n"
     ]
    },
    {
     "name": "stdout",
     "output_type": "stream",
     "text": [
      "#epoch: 717 \n",
      " train_loss: 6.700e-01 train_acc: 0.694 \n",
      " val_loss: 1.919e+00 val_acc: 0.300 time: 56\n",
      "\n"
     ]
    },
    {
     "name": "stderr",
     "output_type": "stream",
     "text": [
      "100%|██████████| 18/18 [00:00<00:00, 207.50it/s]\n"
     ]
    },
    {
     "name": "stdout",
     "output_type": "stream",
     "text": [
      "#epoch: 718 \n",
      " train_loss: 4.983e-01 train_acc: 0.819 \n",
      " val_loss: 1.940e+00 val_acc: 0.300 time: 56\n",
      "\n"
     ]
    },
    {
     "name": "stderr",
     "output_type": "stream",
     "text": [
      "100%|██████████| 18/18 [00:00<00:00, 199.82it/s]\n"
     ]
    },
    {
     "name": "stdout",
     "output_type": "stream",
     "text": [
      "#epoch: 719 \n",
      " train_loss: 5.645e-01 train_acc: 0.778 \n",
      " val_loss: 3.554e+00 val_acc: 0.350 time: 56\n",
      "\n"
     ]
    },
    {
     "name": "stderr",
     "output_type": "stream",
     "text": [
      "100%|██████████| 18/18 [00:00<00:00, 124.93it/s]\n"
     ]
    },
    {
     "name": "stdout",
     "output_type": "stream",
     "text": [
      "#epoch: 720 \n",
      " train_loss: 4.637e-01 train_acc: 0.806 \n",
      " val_loss: 3.864e+00 val_acc: 0.250 time: 56\n",
      "\n"
     ]
    },
    {
     "name": "stderr",
     "output_type": "stream",
     "text": [
      "100%|██████████| 18/18 [00:00<00:00, 197.74it/s]\n"
     ]
    },
    {
     "name": "stdout",
     "output_type": "stream",
     "text": [
      "#epoch: 721 \n",
      " train_loss: 3.875e-01 train_acc: 0.833 \n",
      " val_loss: 3.342e+00 val_acc: 0.250 time: 56\n",
      "\n"
     ]
    },
    {
     "name": "stderr",
     "output_type": "stream",
     "text": [
      "100%|██████████| 18/18 [00:00<00:00, 174.16it/s]\n"
     ]
    },
    {
     "name": "stdout",
     "output_type": "stream",
     "text": [
      "#epoch: 722 \n",
      " train_loss: 3.865e-01 train_acc: 0.778 \n",
      " val_loss: 1.022e+01 val_acc: 0.350 time: 56\n",
      "\n"
     ]
    },
    {
     "name": "stderr",
     "output_type": "stream",
     "text": [
      "100%|██████████| 18/18 [00:00<00:00, 166.42it/s]\n"
     ]
    },
    {
     "name": "stdout",
     "output_type": "stream",
     "text": [
      "#epoch: 723 \n",
      " train_loss: 3.285e-01 train_acc: 0.889 \n",
      " val_loss: 2.723e+00 val_acc: 0.200 time: 56\n",
      "\n"
     ]
    },
    {
     "name": "stderr",
     "output_type": "stream",
     "text": [
      "100%|██████████| 18/18 [00:00<00:00, 188.20it/s]\n"
     ]
    },
    {
     "name": "stdout",
     "output_type": "stream",
     "text": [
      "#epoch: 724 \n",
      " train_loss: 4.093e-01 train_acc: 0.819 \n",
      " val_loss: 3.091e+00 val_acc: 0.300 time: 56\n",
      "\n"
     ]
    },
    {
     "name": "stderr",
     "output_type": "stream",
     "text": [
      "100%|██████████| 18/18 [00:00<00:00, 138.72it/s]\n"
     ]
    },
    {
     "name": "stdout",
     "output_type": "stream",
     "text": [
      "#epoch: 725 \n",
      " train_loss: 3.499e-01 train_acc: 0.889 \n",
      " val_loss: 3.407e+00 val_acc: 0.450 time: 56\n",
      "\n"
     ]
    },
    {
     "name": "stderr",
     "output_type": "stream",
     "text": [
      "100%|██████████| 18/18 [00:00<00:00, 158.88it/s]\n"
     ]
    },
    {
     "name": "stdout",
     "output_type": "stream",
     "text": [
      "#epoch: 726 \n",
      " train_loss: 2.990e-01 train_acc: 0.917 \n",
      " val_loss: 2.782e+00 val_acc: 0.400 time: 56\n",
      "\n"
     ]
    },
    {
     "name": "stderr",
     "output_type": "stream",
     "text": [
      "100%|██████████| 18/18 [00:00<00:00, 181.31it/s]\n"
     ]
    },
    {
     "name": "stdout",
     "output_type": "stream",
     "text": [
      "#epoch: 727 \n",
      " train_loss: 3.892e-01 train_acc: 0.833 \n",
      " val_loss: 3.638e+00 val_acc: 0.250 time: 56\n",
      "\n"
     ]
    },
    {
     "name": "stderr",
     "output_type": "stream",
     "text": [
      "100%|██████████| 18/18 [00:00<00:00, 181.26it/s]\n"
     ]
    },
    {
     "name": "stdout",
     "output_type": "stream",
     "text": [
      "#epoch: 728 \n",
      " train_loss: 3.811e-01 train_acc: 0.861 \n",
      " val_loss: 2.803e+00 val_acc: 0.350 time: 56\n",
      "\n"
     ]
    },
    {
     "name": "stderr",
     "output_type": "stream",
     "text": [
      "100%|██████████| 18/18 [00:00<00:00, 127.99it/s]\n"
     ]
    },
    {
     "name": "stdout",
     "output_type": "stream",
     "text": [
      "#epoch: 729 \n",
      " train_loss: 3.111e-01 train_acc: 0.875 \n",
      " val_loss: 1.027e+01 val_acc: 0.350 time: 56\n",
      "\n"
     ]
    },
    {
     "name": "stderr",
     "output_type": "stream",
     "text": [
      "100%|██████████| 18/18 [00:00<00:00, 158.95it/s]\n"
     ]
    },
    {
     "name": "stdout",
     "output_type": "stream",
     "text": [
      "#epoch: 730 \n",
      " train_loss: 3.476e-01 train_acc: 0.833 \n",
      " val_loss: 3.141e+00 val_acc: 0.250 time: 56\n",
      "\n"
     ]
    },
    {
     "name": "stderr",
     "output_type": "stream",
     "text": [
      "100%|██████████| 18/18 [00:00<00:00, 135.61it/s]\n"
     ]
    },
    {
     "name": "stdout",
     "output_type": "stream",
     "text": [
      "#epoch: 731 \n",
      " train_loss: 2.203e-01 train_acc: 0.958 \n",
      " val_loss: 3.732e+00 val_acc: 0.250 time: 56\n",
      "\n"
     ]
    },
    {
     "name": "stderr",
     "output_type": "stream",
     "text": [
      "100%|██████████| 18/18 [00:00<00:00, 140.50it/s]\n"
     ]
    },
    {
     "name": "stdout",
     "output_type": "stream",
     "text": [
      "#epoch: 732 \n",
      " train_loss: 2.406e-01 train_acc: 0.903 \n",
      " val_loss: 2.912e+00 val_acc: 0.400 time: 56\n",
      "\n"
     ]
    },
    {
     "name": "stderr",
     "output_type": "stream",
     "text": [
      "100%|██████████| 18/18 [00:00<00:00, 190.65it/s]\n"
     ]
    },
    {
     "name": "stdout",
     "output_type": "stream",
     "text": [
      "#epoch: 733 \n",
      " train_loss: 2.187e-01 train_acc: 0.931 \n",
      " val_loss: 2.856e+00 val_acc: 0.450 time: 56\n",
      "\n"
     ]
    },
    {
     "name": "stderr",
     "output_type": "stream",
     "text": [
      "100%|██████████| 18/18 [00:00<00:00, 191.15it/s]\n"
     ]
    },
    {
     "name": "stdout",
     "output_type": "stream",
     "text": [
      "#epoch: 734 \n",
      " train_loss: 3.301e-01 train_acc: 0.875 \n",
      " val_loss: 6.503e+00 val_acc: 0.350 time: 56\n",
      "\n"
     ]
    },
    {
     "name": "stderr",
     "output_type": "stream",
     "text": [
      "100%|██████████| 18/18 [00:00<00:00, 174.25it/s]\n"
     ]
    },
    {
     "name": "stdout",
     "output_type": "stream",
     "text": [
      "#epoch: 735 \n",
      " train_loss: 3.472e-01 train_acc: 0.833 \n",
      " val_loss: 3.937e+00 val_acc: 0.150 time: 56\n",
      "\n"
     ]
    },
    {
     "name": "stderr",
     "output_type": "stream",
     "text": [
      "100%|██████████| 18/18 [00:00<00:00, 140.50it/s]\n"
     ]
    },
    {
     "name": "stdout",
     "output_type": "stream",
     "text": [
      "#epoch: 736 \n",
      " train_loss: 3.895e-01 train_acc: 0.806 \n",
      " val_loss: 2.860e+00 val_acc: 0.250 time: 56\n",
      "\n"
     ]
    },
    {
     "name": "stderr",
     "output_type": "stream",
     "text": [
      "100%|██████████| 18/18 [00:00<00:00, 201.57it/s]\n"
     ]
    },
    {
     "name": "stdout",
     "output_type": "stream",
     "text": [
      "#epoch: 737 \n",
      " train_loss: 2.647e-01 train_acc: 0.889 \n",
      " val_loss: 4.695e+00 val_acc: 0.450 time: 56\n",
      "\n"
     ]
    },
    {
     "name": "stderr",
     "output_type": "stream",
     "text": [
      "100%|██████████| 18/18 [00:00<00:00, 118.05it/s]\n"
     ]
    },
    {
     "name": "stdout",
     "output_type": "stream",
     "text": [
      "#epoch: 738 \n",
      " train_loss: 2.933e-01 train_acc: 0.889 \n",
      " val_loss: 2.743e+00 val_acc: 0.450 time: 56\n",
      "\n"
     ]
    },
    {
     "name": "stderr",
     "output_type": "stream",
     "text": [
      "100%|██████████| 18/18 [00:00<00:00, 155.26it/s]\n"
     ]
    },
    {
     "name": "stdout",
     "output_type": "stream",
     "text": [
      "#epoch: 739 \n",
      " train_loss: 4.384e-01 train_acc: 0.833 \n",
      " val_loss: 5.455e+00 val_acc: 0.200 time: 56\n",
      "\n"
     ]
    },
    {
     "name": "stderr",
     "output_type": "stream",
     "text": [
      "100%|██████████| 18/18 [00:00<00:00, 168.22it/s]\n"
     ]
    },
    {
     "name": "stdout",
     "output_type": "stream",
     "text": [
      "#epoch: 740 \n",
      " train_loss: 4.215e-01 train_acc: 0.847 \n",
      " val_loss: 3.097e+00 val_acc: 0.300 time: 56\n",
      "\n"
     ]
    },
    {
     "name": "stderr",
     "output_type": "stream",
     "text": [
      "100%|██████████| 18/18 [00:00<00:00, 144.34it/s]\n"
     ]
    },
    {
     "name": "stdout",
     "output_type": "stream",
     "text": [
      "#epoch: 741 \n",
      " train_loss: 3.010e-01 train_acc: 0.847 \n",
      " val_loss: 4.751e+00 val_acc: 0.350 time: 56\n",
      "\n"
     ]
    },
    {
     "name": "stderr",
     "output_type": "stream",
     "text": [
      "100%|██████████| 18/18 [00:00<00:00, 147.55it/s]\n"
     ]
    },
    {
     "name": "stdout",
     "output_type": "stream",
     "text": [
      "#epoch: 742 \n",
      " train_loss: 2.916e-01 train_acc: 0.889 \n",
      " val_loss: 2.909e+00 val_acc: 0.450 time: 56\n",
      "\n"
     ]
    },
    {
     "name": "stderr",
     "output_type": "stream",
     "text": [
      "100%|██████████| 18/18 [00:00<00:00, 153.21it/s]\n"
     ]
    },
    {
     "name": "stdout",
     "output_type": "stream",
     "text": [
      "#epoch: 743 \n",
      " train_loss: 3.260e-01 train_acc: 0.847 \n",
      " val_loss: 3.558e+00 val_acc: 0.250 time: 56\n",
      "\n"
     ]
    },
    {
     "name": "stderr",
     "output_type": "stream",
     "text": [
      "100%|██████████| 18/18 [00:00<00:00, 210.63it/s]\n"
     ]
    },
    {
     "name": "stdout",
     "output_type": "stream",
     "text": [
      "#epoch: 744 \n",
      " train_loss: 3.041e-01 train_acc: 0.875 \n",
      " val_loss: 4.659e+00 val_acc: 0.500 time: 56\n",
      "\n"
     ]
    },
    {
     "name": "stderr",
     "output_type": "stream",
     "text": [
      "100%|██████████| 18/18 [00:00<00:00, 185.91it/s]\n"
     ]
    },
    {
     "name": "stdout",
     "output_type": "stream",
     "text": [
      "#epoch: 745 \n",
      " train_loss: 3.739e-01 train_acc: 0.833 \n",
      " val_loss: 2.616e+00 val_acc: 0.250 time: 56\n",
      "\n"
     ]
    },
    {
     "name": "stderr",
     "output_type": "stream",
     "text": [
      "100%|██████████| 18/18 [00:00<00:00, 133.54it/s]\n"
     ]
    },
    {
     "name": "stdout",
     "output_type": "stream",
     "text": [
      "#epoch: 746 \n",
      " train_loss: 6.118e-01 train_acc: 0.694 \n",
      " val_loss: 4.325e+00 val_acc: 0.450 time: 56\n",
      "\n"
     ]
    },
    {
     "name": "stderr",
     "output_type": "stream",
     "text": [
      "100%|██████████| 18/18 [00:00<00:00, 176.39it/s]\n"
     ]
    },
    {
     "name": "stdout",
     "output_type": "stream",
     "text": [
      "#epoch: 747 \n",
      " train_loss: 4.648e-01 train_acc: 0.819 \n",
      " val_loss: 3.578e+00 val_acc: 0.350 time: 56\n",
      "\n"
     ]
    },
    {
     "name": "stderr",
     "output_type": "stream",
     "text": [
      "100%|██████████| 18/18 [00:00<00:00, 183.64it/s]\n"
     ]
    },
    {
     "name": "stdout",
     "output_type": "stream",
     "text": [
      "#epoch: 748 \n",
      " train_loss: 5.064e-01 train_acc: 0.792 \n",
      " val_loss: 3.071e+00 val_acc: 0.450 time: 56\n",
      "\n"
     ]
    },
    {
     "name": "stderr",
     "output_type": "stream",
     "text": [
      "100%|██████████| 18/18 [00:00<00:00, 169.91it/s]\n"
     ]
    },
    {
     "name": "stdout",
     "output_type": "stream",
     "text": [
      "#epoch: 749 \n",
      " train_loss: 2.867e-01 train_acc: 0.875 \n",
      " val_loss: 3.044e+00 val_acc: 0.350 time: 56\n",
      "\n"
     ]
    },
    {
     "name": "stderr",
     "output_type": "stream",
     "text": [
      "100%|██████████| 18/18 [00:00<00:00, 139.15it/s]\n"
     ]
    },
    {
     "name": "stdout",
     "output_type": "stream",
     "text": [
      "#epoch: 750 \n",
      " train_loss: 3.000e-01 train_acc: 0.889 \n",
      " val_loss: 2.828e+00 val_acc: 0.450 time: 56\n",
      "\n"
     ]
    },
    {
     "name": "stderr",
     "output_type": "stream",
     "text": [
      "100%|██████████| 18/18 [00:00<00:00, 163.52it/s]\n"
     ]
    },
    {
     "name": "stdout",
     "output_type": "stream",
     "text": [
      "#epoch: 751 \n",
      " train_loss: 2.914e-01 train_acc: 0.875 \n",
      " val_loss: 3.104e+00 val_acc: 0.250 time: 56\n",
      "\n"
     ]
    },
    {
     "name": "stderr",
     "output_type": "stream",
     "text": [
      "100%|██████████| 18/18 [00:00<00:00, 148.97it/s]\n"
     ]
    },
    {
     "name": "stdout",
     "output_type": "stream",
     "text": [
      "#epoch: 752 \n",
      " train_loss: 6.903e-01 train_acc: 0.806 \n",
      " val_loss: 1.463e+01 val_acc: 0.350 time: 56\n",
      "\n"
     ]
    },
    {
     "name": "stderr",
     "output_type": "stream",
     "text": [
      "100%|██████████| 18/18 [00:00<00:00, 191.07it/s]\n"
     ]
    },
    {
     "name": "stdout",
     "output_type": "stream",
     "text": [
      "#epoch: 753 \n",
      " train_loss: 5.079e-01 train_acc: 0.792 \n",
      " val_loss: 2.326e+00 val_acc: 0.400 time: 56\n",
      "\n"
     ]
    },
    {
     "name": "stderr",
     "output_type": "stream",
     "text": [
      "100%|██████████| 18/18 [00:00<00:00, 148.19it/s]\n"
     ]
    },
    {
     "name": "stdout",
     "output_type": "stream",
     "text": [
      "#epoch: 754 \n",
      " train_loss: 3.725e-01 train_acc: 0.847 \n",
      " val_loss: 3.861e+00 val_acc: 0.400 time: 56\n",
      "\n"
     ]
    },
    {
     "name": "stderr",
     "output_type": "stream",
     "text": [
      "100%|██████████| 18/18 [00:00<00:00, 146.50it/s]\n"
     ]
    },
    {
     "name": "stdout",
     "output_type": "stream",
     "text": [
      "#epoch: 755 \n",
      " train_loss: 3.303e-01 train_acc: 0.792 \n",
      " val_loss: 4.416e+00 val_acc: 0.400 time: 56\n",
      "\n"
     ]
    },
    {
     "name": "stderr",
     "output_type": "stream",
     "text": [
      "100%|██████████| 18/18 [00:00<00:00, 120.70it/s]\n"
     ]
    },
    {
     "name": "stdout",
     "output_type": "stream",
     "text": [
      "#epoch: 756 \n",
      " train_loss: 4.361e-01 train_acc: 0.861 \n",
      " val_loss: 3.415e+00 val_acc: 0.100 time: 56\n",
      "\n"
     ]
    },
    {
     "name": "stderr",
     "output_type": "stream",
     "text": [
      "100%|██████████| 18/18 [00:00<00:00, 136.21it/s]\n"
     ]
    },
    {
     "name": "stdout",
     "output_type": "stream",
     "text": [
      "#epoch: 757 \n",
      " train_loss: 5.325e-01 train_acc: 0.708 \n",
      " val_loss: 2.817e+00 val_acc: 0.350 time: 56\n",
      "\n"
     ]
    },
    {
     "name": "stderr",
     "output_type": "stream",
     "text": [
      "100%|██████████| 18/18 [00:00<00:00, 168.53it/s]\n"
     ]
    },
    {
     "name": "stdout",
     "output_type": "stream",
     "text": [
      "#epoch: 758 \n",
      " train_loss: 4.332e-01 train_acc: 0.778 \n",
      " val_loss: 9.676e+00 val_acc: 0.350 time: 56\n",
      "\n"
     ]
    },
    {
     "name": "stderr",
     "output_type": "stream",
     "text": [
      "100%|██████████| 18/18 [00:00<00:00, 132.06it/s]\n"
     ]
    },
    {
     "name": "stdout",
     "output_type": "stream",
     "text": [
      "#epoch: 759 \n",
      " train_loss: 5.426e-01 train_acc: 0.722 \n",
      " val_loss: 4.544e+00 val_acc: 0.200 time: 56\n",
      "\n"
     ]
    },
    {
     "name": "stderr",
     "output_type": "stream",
     "text": [
      "100%|██████████| 18/18 [00:00<00:00, 170.26it/s]\n"
     ]
    },
    {
     "name": "stdout",
     "output_type": "stream",
     "text": [
      "#epoch: 760 \n",
      " train_loss: 4.076e-01 train_acc: 0.792 \n",
      " val_loss: 2.663e+00 val_acc: 0.400 time: 56\n",
      "\n"
     ]
    },
    {
     "name": "stderr",
     "output_type": "stream",
     "text": [
      "100%|██████████| 18/18 [00:00<00:00, 166.46it/s]\n"
     ]
    },
    {
     "name": "stdout",
     "output_type": "stream",
     "text": [
      "#epoch: 761 \n",
      " train_loss: 3.364e-01 train_acc: 0.847 \n",
      " val_loss: 1.705e+01 val_acc: 0.350 time: 56\n",
      "\n"
     ]
    },
    {
     "name": "stderr",
     "output_type": "stream",
     "text": [
      "100%|██████████| 18/18 [00:00<00:00, 155.34it/s]\n"
     ]
    },
    {
     "name": "stdout",
     "output_type": "stream",
     "text": [
      "#epoch: 762 \n",
      " train_loss: 2.600e-01 train_acc: 0.903 \n",
      " val_loss: 3.663e+00 val_acc: 0.200 time: 56\n",
      "\n"
     ]
    },
    {
     "name": "stderr",
     "output_type": "stream",
     "text": [
      "100%|██████████| 18/18 [00:00<00:00, 132.74it/s]\n"
     ]
    },
    {
     "name": "stdout",
     "output_type": "stream",
     "text": [
      "#epoch: 763 \n",
      " train_loss: 3.241e-01 train_acc: 0.833 \n",
      " val_loss: 2.823e+00 val_acc: 0.300 time: 56\n",
      "\n"
     ]
    },
    {
     "name": "stderr",
     "output_type": "stream",
     "text": [
      "100%|██████████| 18/18 [00:00<00:00, 164.57it/s]\n"
     ]
    },
    {
     "name": "stdout",
     "output_type": "stream",
     "text": [
      "#epoch: 764 \n",
      " train_loss: 3.502e-01 train_acc: 0.875 \n",
      " val_loss: 7.358e+00 val_acc: 0.400 time: 56\n",
      "\n"
     ]
    },
    {
     "name": "stderr",
     "output_type": "stream",
     "text": [
      "100%|██████████| 18/18 [00:00<00:00, 191.19it/s]\n"
     ]
    },
    {
     "name": "stdout",
     "output_type": "stream",
     "text": [
      "#epoch: 765 \n",
      " train_loss: 2.690e-01 train_acc: 0.861 \n",
      " val_loss: 2.390e+00 val_acc: 0.450 time: 56\n",
      "\n"
     ]
    },
    {
     "name": "stderr",
     "output_type": "stream",
     "text": [
      "100%|██████████| 18/18 [00:00<00:00, 151.40it/s]\n"
     ]
    },
    {
     "name": "stdout",
     "output_type": "stream",
     "text": [
      "#epoch: 766 \n",
      " train_loss: 2.642e-01 train_acc: 0.931 \n",
      " val_loss: 2.617e+00 val_acc: 0.350 time: 56\n",
      "\n"
     ]
    },
    {
     "name": "stderr",
     "output_type": "stream",
     "text": [
      "100%|██████████| 18/18 [00:00<00:00, 146.89it/s]\n"
     ]
    },
    {
     "name": "stdout",
     "output_type": "stream",
     "text": [
      "#epoch: 767 \n",
      " train_loss: 3.485e-01 train_acc: 0.833 \n",
      " val_loss: 3.232e+00 val_acc: 0.300 time: 56\n",
      "\n"
     ]
    },
    {
     "name": "stderr",
     "output_type": "stream",
     "text": [
      "100%|██████████| 18/18 [00:00<00:00, 129.80it/s]\n"
     ]
    },
    {
     "name": "stdout",
     "output_type": "stream",
     "text": [
      "#epoch: 768 \n",
      " train_loss: 6.602e-01 train_acc: 0.764 \n",
      " val_loss: 6.358e+00 val_acc: 0.400 time: 56\n",
      "\n"
     ]
    },
    {
     "name": "stderr",
     "output_type": "stream",
     "text": [
      "100%|██████████| 18/18 [00:00<00:00, 151.67it/s]\n"
     ]
    },
    {
     "name": "stdout",
     "output_type": "stream",
     "text": [
      "#epoch: 769 \n",
      " train_loss: 3.087e-01 train_acc: 0.889 \n",
      " val_loss: 9.468e+00 val_acc: 0.250 time: 56\n",
      "\n"
     ]
    },
    {
     "name": "stderr",
     "output_type": "stream",
     "text": [
      "100%|██████████| 18/18 [00:00<00:00, 158.40it/s]\n"
     ]
    },
    {
     "name": "stdout",
     "output_type": "stream",
     "text": [
      "#epoch: 770 \n",
      " train_loss: 3.040e-01 train_acc: 0.847 \n",
      " val_loss: 2.836e+00 val_acc: 0.450 time: 56\n",
      "\n"
     ]
    },
    {
     "name": "stderr",
     "output_type": "stream",
     "text": [
      "100%|██████████| 18/18 [00:00<00:00, 135.99it/s]\n"
     ]
    },
    {
     "name": "stdout",
     "output_type": "stream",
     "text": [
      "#epoch: 771 \n",
      " train_loss: 4.157e-01 train_acc: 0.903 \n",
      " val_loss: 4.029e+00 val_acc: 0.300 time: 56\n",
      "\n"
     ]
    },
    {
     "name": "stderr",
     "output_type": "stream",
     "text": [
      "100%|██████████| 18/18 [00:00<00:00, 190.84it/s]\n"
     ]
    },
    {
     "name": "stdout",
     "output_type": "stream",
     "text": [
      "#epoch: 772 \n",
      " train_loss: 2.634e-01 train_acc: 0.861 \n",
      " val_loss: 7.600e+00 val_acc: 0.450 time: 56\n",
      "\n"
     ]
    },
    {
     "name": "stderr",
     "output_type": "stream",
     "text": [
      "100%|██████████| 18/18 [00:00<00:00, 165.93it/s]\n"
     ]
    },
    {
     "name": "stdout",
     "output_type": "stream",
     "text": [
      "#epoch: 773 \n",
      " train_loss: 2.639e-01 train_acc: 0.861 \n",
      " val_loss: 6.443e+00 val_acc: 0.450 time: 56\n",
      "\n"
     ]
    },
    {
     "name": "stderr",
     "output_type": "stream",
     "text": [
      "100%|██████████| 18/18 [00:00<00:00, 158.91it/s]\n"
     ]
    },
    {
     "name": "stdout",
     "output_type": "stream",
     "text": [
      "#epoch: 774 \n",
      " train_loss: 3.319e-01 train_acc: 0.806 \n",
      " val_loss: 2.947e+00 val_acc: 0.300 time: 56\n",
      "\n"
     ]
    },
    {
     "name": "stderr",
     "output_type": "stream",
     "text": [
      "100%|██████████| 18/18 [00:00<00:00, 168.71it/s]\n"
     ]
    },
    {
     "name": "stdout",
     "output_type": "stream",
     "text": [
      "#epoch: 775 \n",
      " train_loss: 3.331e-01 train_acc: 0.903 \n",
      " val_loss: 2.953e+00 val_acc: 0.300 time: 56\n",
      "\n"
     ]
    },
    {
     "name": "stderr",
     "output_type": "stream",
     "text": [
      "100%|██████████| 18/18 [00:00<00:00, 150.82it/s]\n"
     ]
    },
    {
     "name": "stdout",
     "output_type": "stream",
     "text": [
      "#epoch: 776 \n",
      " train_loss: 1.796e-01 train_acc: 0.917 \n",
      " val_loss: 8.320e+00 val_acc: 0.400 time: 56\n",
      "\n"
     ]
    },
    {
     "name": "stderr",
     "output_type": "stream",
     "text": [
      "100%|██████████| 18/18 [00:00<00:00, 164.62it/s]\n"
     ]
    },
    {
     "name": "stdout",
     "output_type": "stream",
     "text": [
      "#epoch: 777 \n",
      " train_loss: 1.760e-01 train_acc: 0.944 \n",
      " val_loss: 2.916e+00 val_acc: 0.450 time: 56\n",
      "\n"
     ]
    },
    {
     "name": "stderr",
     "output_type": "stream",
     "text": [
      "100%|██████████| 18/18 [00:00<00:00, 170.22it/s]\n"
     ]
    },
    {
     "name": "stdout",
     "output_type": "stream",
     "text": [
      "#epoch: 778 \n",
      " train_loss: 1.697e-01 train_acc: 0.944 \n",
      " val_loss: 3.816e+00 val_acc: 0.250 time: 56\n",
      "\n"
     ]
    },
    {
     "name": "stderr",
     "output_type": "stream",
     "text": [
      "100%|██████████| 18/18 [00:00<00:00, 132.73it/s]\n"
     ]
    },
    {
     "name": "stdout",
     "output_type": "stream",
     "text": [
      "#epoch: 779 \n",
      " train_loss: 3.684e-01 train_acc: 0.847 \n",
      " val_loss: 2.917e+00 val_acc: 0.400 time: 56\n",
      "\n"
     ]
    },
    {
     "name": "stderr",
     "output_type": "stream",
     "text": [
      "100%|██████████| 18/18 [00:00<00:00, 188.21it/s]\n"
     ]
    },
    {
     "name": "stdout",
     "output_type": "stream",
     "text": [
      "#epoch: 780 \n",
      " train_loss: 2.710e-01 train_acc: 0.903 \n",
      " val_loss: 4.856e+00 val_acc: 0.450 time: 56\n",
      "\n"
     ]
    },
    {
     "name": "stderr",
     "output_type": "stream",
     "text": [
      "100%|██████████| 18/18 [00:00<00:00, 149.82it/s]\n"
     ]
    },
    {
     "name": "stdout",
     "output_type": "stream",
     "text": [
      "#epoch: 781 \n",
      " train_loss: 4.347e-01 train_acc: 0.889 \n",
      " val_loss: 3.642e+00 val_acc: 0.200 time: 56\n",
      "\n"
     ]
    },
    {
     "name": "stderr",
     "output_type": "stream",
     "text": [
      "100%|██████████| 18/18 [00:00<00:00, 161.77it/s]\n"
     ]
    },
    {
     "name": "stdout",
     "output_type": "stream",
     "text": [
      "#epoch: 782 \n",
      " train_loss: 1.928e-01 train_acc: 0.931 \n",
      " val_loss: 3.598e+00 val_acc: 0.350 time: 56\n",
      "\n"
     ]
    },
    {
     "name": "stderr",
     "output_type": "stream",
     "text": [
      "100%|██████████| 18/18 [00:00<00:00, 157.90it/s]\n"
     ]
    },
    {
     "name": "stdout",
     "output_type": "stream",
     "text": [
      "#epoch: 783 \n",
      " train_loss: 2.351e-01 train_acc: 0.944 \n",
      " val_loss: 7.032e+00 val_acc: 0.400 time: 56\n",
      "\n"
     ]
    },
    {
     "name": "stderr",
     "output_type": "stream",
     "text": [
      "100%|██████████| 18/18 [00:00<00:00, 140.71it/s]\n"
     ]
    },
    {
     "name": "stdout",
     "output_type": "stream",
     "text": [
      "#epoch: 784 \n",
      " train_loss: 3.536e-01 train_acc: 0.861 \n",
      " val_loss: 3.647e+00 val_acc: 0.400 time: 56\n",
      "\n"
     ]
    },
    {
     "name": "stderr",
     "output_type": "stream",
     "text": [
      "100%|██████████| 18/18 [00:00<00:00, 186.88it/s]\n"
     ]
    },
    {
     "name": "stdout",
     "output_type": "stream",
     "text": [
      "#epoch: 785 \n",
      " train_loss: 2.627e-01 train_acc: 0.903 \n",
      " val_loss: 3.827e+00 val_acc: 0.350 time: 56\n",
      "\n"
     ]
    },
    {
     "name": "stderr",
     "output_type": "stream",
     "text": [
      "100%|██████████| 18/18 [00:00<00:00, 173.11it/s]\n"
     ]
    },
    {
     "name": "stdout",
     "output_type": "stream",
     "text": [
      "#epoch: 786 \n",
      " train_loss: 3.046e-01 train_acc: 0.875 \n",
      " val_loss: 3.493e+00 val_acc: 0.400 time: 56\n",
      "\n"
     ]
    },
    {
     "name": "stderr",
     "output_type": "stream",
     "text": [
      "100%|██████████| 18/18 [00:00<00:00, 175.27it/s]\n"
     ]
    },
    {
     "name": "stdout",
     "output_type": "stream",
     "text": [
      "#epoch: 787 \n",
      " train_loss: 3.886e-01 train_acc: 0.847 \n",
      " val_loss: 3.215e+00 val_acc: 0.350 time: 56\n",
      "\n"
     ]
    },
    {
     "name": "stderr",
     "output_type": "stream",
     "text": [
      "100%|██████████| 18/18 [00:00<00:00, 134.40it/s]\n"
     ]
    },
    {
     "name": "stdout",
     "output_type": "stream",
     "text": [
      "#epoch: 788 \n",
      " train_loss: 2.186e-01 train_acc: 0.944 \n",
      " val_loss: 2.881e+00 val_acc: 0.350 time: 56\n",
      "\n"
     ]
    },
    {
     "name": "stderr",
     "output_type": "stream",
     "text": [
      "100%|██████████| 18/18 [00:00<00:00, 135.95it/s]\n"
     ]
    },
    {
     "name": "stdout",
     "output_type": "stream",
     "text": [
      "#epoch: 789 \n",
      " train_loss: 3.430e-01 train_acc: 0.917 \n",
      " val_loss: 3.745e+00 val_acc: 0.250 time: 56\n",
      "\n"
     ]
    },
    {
     "name": "stderr",
     "output_type": "stream",
     "text": [
      "100%|██████████| 18/18 [00:00<00:00, 119.48it/s]\n"
     ]
    },
    {
     "name": "stdout",
     "output_type": "stream",
     "text": [
      "#epoch: 790 \n",
      " train_loss: 3.449e-01 train_acc: 0.833 \n",
      " val_loss: 1.301e+01 val_acc: 0.350 time: 56\n",
      "\n"
     ]
    },
    {
     "name": "stderr",
     "output_type": "stream",
     "text": [
      "100%|██████████| 18/18 [00:00<00:00, 207.50it/s]\n"
     ]
    },
    {
     "name": "stdout",
     "output_type": "stream",
     "text": [
      "#epoch: 791 \n",
      " train_loss: 4.440e-01 train_acc: 0.847 \n",
      " val_loss: 3.701e+00 val_acc: 0.350 time: 56\n",
      "\n"
     ]
    },
    {
     "name": "stderr",
     "output_type": "stream",
     "text": [
      "100%|██████████| 18/18 [00:00<00:00, 194.41it/s]\n"
     ]
    },
    {
     "name": "stdout",
     "output_type": "stream",
     "text": [
      "#epoch: 792 \n",
      " train_loss: 2.953e-01 train_acc: 0.875 \n",
      " val_loss: 4.789e+00 val_acc: 0.400 time: 56\n",
      "\n"
     ]
    },
    {
     "name": "stderr",
     "output_type": "stream",
     "text": [
      "100%|██████████| 18/18 [00:00<00:00, 120.14it/s]\n"
     ]
    },
    {
     "name": "stdout",
     "output_type": "stream",
     "text": [
      "#epoch: 793 \n",
      " train_loss: 3.980e-01 train_acc: 0.847 \n",
      " val_loss: 2.803e+00 val_acc: 0.350 time: 56\n",
      "\n"
     ]
    },
    {
     "name": "stderr",
     "output_type": "stream",
     "text": [
      "100%|██████████| 18/18 [00:00<00:00, 177.23it/s]\n"
     ]
    },
    {
     "name": "stdout",
     "output_type": "stream",
     "text": [
      "#epoch: 794 \n",
      " train_loss: 5.452e-01 train_acc: 0.819 \n",
      " val_loss: 4.595e+00 val_acc: 0.250 time: 56\n",
      "\n"
     ]
    },
    {
     "name": "stderr",
     "output_type": "stream",
     "text": [
      "100%|██████████| 18/18 [00:00<00:00, 130.30it/s]\n"
     ]
    },
    {
     "name": "stdout",
     "output_type": "stream",
     "text": [
      "#epoch: 795 \n",
      " train_loss: 3.268e-01 train_acc: 0.903 \n",
      " val_loss: 4.494e+00 val_acc: 0.250 time: 56\n",
      "\n"
     ]
    },
    {
     "name": "stderr",
     "output_type": "stream",
     "text": [
      "100%|██████████| 18/18 [00:00<00:00, 136.18it/s]\n"
     ]
    },
    {
     "name": "stdout",
     "output_type": "stream",
     "text": [
      "#epoch: 796 \n",
      " train_loss: 4.646e-01 train_acc: 0.806 \n",
      " val_loss: 9.128e+00 val_acc: 0.350 time: 56\n",
      "\n"
     ]
    },
    {
     "name": "stderr",
     "output_type": "stream",
     "text": [
      "100%|██████████| 18/18 [00:00<00:00, 134.93it/s]\n"
     ]
    },
    {
     "name": "stdout",
     "output_type": "stream",
     "text": [
      "#epoch: 797 \n",
      " train_loss: 4.315e-01 train_acc: 0.806 \n",
      " val_loss: 4.158e+00 val_acc: 0.300 time: 56\n",
      "\n"
     ]
    },
    {
     "name": "stderr",
     "output_type": "stream",
     "text": [
      "100%|██████████| 18/18 [00:00<00:00, 165.88it/s]\n"
     ]
    },
    {
     "name": "stdout",
     "output_type": "stream",
     "text": [
      "#epoch: 798 \n",
      " train_loss: 3.939e-01 train_acc: 0.847 \n",
      " val_loss: 2.980e+00 val_acc: 0.550 time: 56\n",
      "\n"
     ]
    },
    {
     "name": "stderr",
     "output_type": "stream",
     "text": [
      "100%|██████████| 18/18 [00:00<00:00, 196.74it/s]\n"
     ]
    },
    {
     "name": "stdout",
     "output_type": "stream",
     "text": [
      "#epoch: 799 \n",
      " train_loss: 2.876e-01 train_acc: 0.889 \n",
      " val_loss: 2.805e+00 val_acc: 0.400 time: 56\n",
      "\n"
     ]
    },
    {
     "name": "stderr",
     "output_type": "stream",
     "text": [
      "100%|██████████| 18/18 [00:00<00:00, 172.40it/s]\n"
     ]
    },
    {
     "name": "stdout",
     "output_type": "stream",
     "text": [
      "#epoch: 800 \n",
      " train_loss: 2.112e-01 train_acc: 0.917 \n",
      " val_loss: 2.512e+00 val_acc: 0.400 time: 56\n",
      "\n"
     ]
    },
    {
     "name": "stderr",
     "output_type": "stream",
     "text": [
      "100%|██████████| 18/18 [00:00<00:00, 181.84it/s]\n"
     ]
    },
    {
     "name": "stdout",
     "output_type": "stream",
     "text": [
      "#epoch: 801 \n",
      " train_loss: 1.530e-01 train_acc: 0.958 \n",
      " val_loss: 2.802e+00 val_acc: 0.450 time: 56\n",
      "\n"
     ]
    },
    {
     "name": "stderr",
     "output_type": "stream",
     "text": [
      "100%|██████████| 18/18 [00:00<00:00, 135.46it/s]\n"
     ]
    },
    {
     "name": "stdout",
     "output_type": "stream",
     "text": [
      "#epoch: 802 \n",
      " train_loss: 2.744e-01 train_acc: 0.903 \n",
      " val_loss: 3.165e+00 val_acc: 0.350 time: 56\n",
      "\n"
     ]
    },
    {
     "name": "stderr",
     "output_type": "stream",
     "text": [
      "100%|██████████| 18/18 [00:00<00:00, 131.20it/s]\n"
     ]
    },
    {
     "name": "stdout",
     "output_type": "stream",
     "text": [
      "#epoch: 803 \n",
      " train_loss: 4.199e-01 train_acc: 0.861 \n",
      " val_loss: 5.005e+00 val_acc: 0.400 time: 56\n",
      "\n"
     ]
    },
    {
     "name": "stderr",
     "output_type": "stream",
     "text": [
      "100%|██████████| 18/18 [00:00<00:00, 164.73it/s]\n"
     ]
    },
    {
     "name": "stdout",
     "output_type": "stream",
     "text": [
      "#epoch: 804 \n",
      " train_loss: 3.868e-01 train_acc: 0.833 \n",
      " val_loss: 2.585e+00 val_acc: 0.450 time: 56\n",
      "\n"
     ]
    },
    {
     "name": "stderr",
     "output_type": "stream",
     "text": [
      "100%|██████████| 18/18 [00:00<00:00, 144.31it/s]\n"
     ]
    },
    {
     "name": "stdout",
     "output_type": "stream",
     "text": [
      "#epoch: 805 \n",
      " train_loss: 3.109e-01 train_acc: 0.917 \n",
      " val_loss: 3.520e+00 val_acc: 0.300 time: 56\n",
      "\n"
     ]
    },
    {
     "name": "stderr",
     "output_type": "stream",
     "text": [
      "100%|██████████| 18/18 [00:00<00:00, 184.25it/s]\n"
     ]
    },
    {
     "name": "stdout",
     "output_type": "stream",
     "text": [
      "#epoch: 806 \n",
      " train_loss: 2.614e-01 train_acc: 0.875 \n",
      " val_loss: 3.368e+00 val_acc: 0.350 time: 56\n",
      "\n"
     ]
    },
    {
     "name": "stderr",
     "output_type": "stream",
     "text": [
      "100%|██████████| 18/18 [00:00<00:00, 170.13it/s]\n"
     ]
    },
    {
     "name": "stdout",
     "output_type": "stream",
     "text": [
      "#epoch: 807 \n",
      " train_loss: 2.754e-01 train_acc: 0.903 \n",
      " val_loss: 1.075e+01 val_acc: 0.350 time: 56\n",
      "\n"
     ]
    },
    {
     "name": "stderr",
     "output_type": "stream",
     "text": [
      "100%|██████████| 18/18 [00:00<00:00, 170.39it/s]\n"
     ]
    },
    {
     "name": "stdout",
     "output_type": "stream",
     "text": [
      "#epoch: 808 \n",
      " train_loss: 3.711e-01 train_acc: 0.903 \n",
      " val_loss: 2.684e+00 val_acc: 0.500 time: 56\n",
      "\n"
     ]
    },
    {
     "name": "stderr",
     "output_type": "stream",
     "text": [
      "100%|██████████| 18/18 [00:00<00:00, 211.62it/s]\n"
     ]
    },
    {
     "name": "stdout",
     "output_type": "stream",
     "text": [
      "#epoch: 809 \n",
      " train_loss: 1.811e-01 train_acc: 0.931 \n",
      " val_loss: 3.158e+00 val_acc: 0.400 time: 56\n",
      "\n"
     ]
    },
    {
     "name": "stderr",
     "output_type": "stream",
     "text": [
      "100%|██████████| 18/18 [00:00<00:00, 157.27it/s]\n"
     ]
    },
    {
     "name": "stdout",
     "output_type": "stream",
     "text": [
      "#epoch: 810 \n",
      " train_loss: 4.108e-01 train_acc: 0.833 \n",
      " val_loss: 6.234e+00 val_acc: 0.400 time: 56\n",
      "\n"
     ]
    },
    {
     "name": "stderr",
     "output_type": "stream",
     "text": [
      "100%|██████████| 18/18 [00:00<00:00, 135.89it/s]\n"
     ]
    },
    {
     "name": "stdout",
     "output_type": "stream",
     "text": [
      "#epoch: 811 \n",
      " train_loss: 3.731e-01 train_acc: 0.861 \n",
      " val_loss: 1.882e+00 val_acc: 0.500 time: 56\n",
      "\n"
     ]
    },
    {
     "name": "stderr",
     "output_type": "stream",
     "text": [
      "100%|██████████| 18/18 [00:00<00:00, 124.62it/s]\n"
     ]
    },
    {
     "name": "stdout",
     "output_type": "stream",
     "text": [
      "#epoch: 812 \n",
      " train_loss: 3.382e-01 train_acc: 0.889 \n",
      " val_loss: 3.703e+00 val_acc: 0.350 time: 56\n",
      "\n"
     ]
    },
    {
     "name": "stderr",
     "output_type": "stream",
     "text": [
      "100%|██████████| 18/18 [00:00<00:00, 123.03it/s]\n"
     ]
    },
    {
     "name": "stdout",
     "output_type": "stream",
     "text": [
      "#epoch: 813 \n",
      " train_loss: 2.293e-01 train_acc: 0.917 \n",
      " val_loss: 9.667e+00 val_acc: 0.400 time: 56\n",
      "\n"
     ]
    },
    {
     "name": "stderr",
     "output_type": "stream",
     "text": [
      "100%|██████████| 18/18 [00:00<00:00, 155.61it/s]\n"
     ]
    },
    {
     "name": "stdout",
     "output_type": "stream",
     "text": [
      "#epoch: 814 \n",
      " train_loss: 1.388e-01 train_acc: 0.958 \n",
      " val_loss: 3.007e+00 val_acc: 0.350 time: 56\n",
      "\n"
     ]
    },
    {
     "name": "stderr",
     "output_type": "stream",
     "text": [
      "100%|██████████| 18/18 [00:00<00:00, 192.46it/s]\n"
     ]
    },
    {
     "name": "stdout",
     "output_type": "stream",
     "text": [
      "#epoch: 815 \n",
      " train_loss: 1.604e-01 train_acc: 0.944 \n",
      " val_loss: 2.479e+00 val_acc: 0.450 time: 56\n",
      "\n"
     ]
    },
    {
     "name": "stderr",
     "output_type": "stream",
     "text": [
      "100%|██████████| 18/18 [00:00<00:00, 130.38it/s]\n"
     ]
    },
    {
     "name": "stdout",
     "output_type": "stream",
     "text": [
      "#epoch: 816 \n",
      " train_loss: 1.077e-01 train_acc: 0.972 \n",
      " val_loss: 4.648e+00 val_acc: 0.450 time: 56\n",
      "\n"
     ]
    },
    {
     "name": "stderr",
     "output_type": "stream",
     "text": [
      "100%|██████████| 18/18 [00:00<00:00, 199.31it/s]\n"
     ]
    },
    {
     "name": "stdout",
     "output_type": "stream",
     "text": [
      "#epoch: 817 \n",
      " train_loss: 1.447e-01 train_acc: 0.972 \n",
      " val_loss: 3.332e+00 val_acc: 0.450 time: 56\n",
      "\n"
     ]
    },
    {
     "name": "stderr",
     "output_type": "stream",
     "text": [
      "100%|██████████| 18/18 [00:00<00:00, 165.62it/s]\n"
     ]
    },
    {
     "name": "stdout",
     "output_type": "stream",
     "text": [
      "#epoch: 818 \n",
      " train_loss: 1.049e-01 train_acc: 0.986 \n",
      " val_loss: 3.897e+00 val_acc: 0.200 time: 56\n",
      "\n"
     ]
    },
    {
     "name": "stderr",
     "output_type": "stream",
     "text": [
      "100%|██████████| 18/18 [00:00<00:00, 146.08it/s]\n"
     ]
    },
    {
     "name": "stdout",
     "output_type": "stream",
     "text": [
      "#epoch: 819 \n",
      " train_loss: 1.879e-01 train_acc: 0.931 \n",
      " val_loss: 6.760e+00 val_acc: 0.400 time: 56\n",
      "\n"
     ]
    },
    {
     "name": "stderr",
     "output_type": "stream",
     "text": [
      "100%|██████████| 18/18 [00:00<00:00, 152.93it/s]\n"
     ]
    },
    {
     "name": "stdout",
     "output_type": "stream",
     "text": [
      "#epoch: 820 \n",
      " train_loss: 1.709e-01 train_acc: 0.958 \n",
      " val_loss: 3.607e+00 val_acc: 0.350 time: 56\n",
      "\n"
     ]
    },
    {
     "name": "stderr",
     "output_type": "stream",
     "text": [
      "100%|██████████| 18/18 [00:00<00:00, 164.39it/s]\n"
     ]
    },
    {
     "name": "stdout",
     "output_type": "stream",
     "text": [
      "#epoch: 821 \n",
      " train_loss: 1.153e-01 train_acc: 0.972 \n",
      " val_loss: 4.610e+00 val_acc: 0.350 time: 56\n",
      "\n"
     ]
    },
    {
     "name": "stderr",
     "output_type": "stream",
     "text": [
      "100%|██████████| 18/18 [00:00<00:00, 155.90it/s]\n"
     ]
    },
    {
     "name": "stdout",
     "output_type": "stream",
     "text": [
      "#epoch: 822 \n",
      " train_loss: 1.651e-01 train_acc: 0.917 \n",
      " val_loss: 3.488e+00 val_acc: 0.350 time: 56\n",
      "\n"
     ]
    },
    {
     "name": "stderr",
     "output_type": "stream",
     "text": [
      "100%|██████████| 18/18 [00:00<00:00, 152.30it/s]\n"
     ]
    },
    {
     "name": "stdout",
     "output_type": "stream",
     "text": [
      "#epoch: 823 \n",
      " train_loss: 1.390e-01 train_acc: 0.958 \n",
      " val_loss: 3.668e+00 val_acc: 0.450 time: 56\n",
      "\n"
     ]
    },
    {
     "name": "stderr",
     "output_type": "stream",
     "text": [
      "100%|██████████| 18/18 [00:00<00:00, 169.54it/s]\n"
     ]
    },
    {
     "name": "stdout",
     "output_type": "stream",
     "text": [
      "#epoch: 824 \n",
      " train_loss: 1.508e-01 train_acc: 0.931 \n",
      " val_loss: 6.717e+00 val_acc: 0.450 time: 56\n",
      "\n"
     ]
    },
    {
     "name": "stderr",
     "output_type": "stream",
     "text": [
      "100%|██████████| 18/18 [00:00<00:00, 165.88it/s]\n"
     ]
    },
    {
     "name": "stdout",
     "output_type": "stream",
     "text": [
      "#epoch: 825 \n",
      " train_loss: 1.534e-01 train_acc: 0.944 \n",
      " val_loss: 2.858e+00 val_acc: 0.450 time: 56\n",
      "\n"
     ]
    },
    {
     "name": "stderr",
     "output_type": "stream",
     "text": [
      "100%|██████████| 18/18 [00:00<00:00, 165.77it/s]\n"
     ]
    },
    {
     "name": "stdout",
     "output_type": "stream",
     "text": [
      "#epoch: 826 \n",
      " train_loss: 1.205e-01 train_acc: 0.958 \n",
      " val_loss: 3.827e+00 val_acc: 0.350 time: 56\n",
      "\n"
     ]
    },
    {
     "name": "stderr",
     "output_type": "stream",
     "text": [
      "100%|██████████| 18/18 [00:00<00:00, 135.10it/s]\n"
     ]
    },
    {
     "name": "stdout",
     "output_type": "stream",
     "text": [
      "#epoch: 827 \n",
      " train_loss: 1.545e-01 train_acc: 0.958 \n",
      " val_loss: 3.179e+00 val_acc: 0.400 time: 56\n",
      "\n"
     ]
    },
    {
     "name": "stderr",
     "output_type": "stream",
     "text": [
      "100%|██████████| 18/18 [00:00<00:00, 118.63it/s]\n"
     ]
    },
    {
     "name": "stdout",
     "output_type": "stream",
     "text": [
      "#epoch: 828 \n",
      " train_loss: 1.608e-01 train_acc: 0.931 \n",
      " val_loss: 3.623e+00 val_acc: 0.350 time: 56\n",
      "\n"
     ]
    },
    {
     "name": "stderr",
     "output_type": "stream",
     "text": [
      "100%|██████████| 18/18 [00:00<00:00, 179.52it/s]\n"
     ]
    },
    {
     "name": "stdout",
     "output_type": "stream",
     "text": [
      "#epoch: 829 \n",
      " train_loss: 3.601e-01 train_acc: 0.819 \n",
      " val_loss: 5.546e+00 val_acc: 0.500 time: 56\n",
      "\n"
     ]
    },
    {
     "name": "stderr",
     "output_type": "stream",
     "text": [
      "100%|██████████| 18/18 [00:00<00:00, 156.45it/s]\n"
     ]
    },
    {
     "name": "stdout",
     "output_type": "stream",
     "text": [
      "#epoch: 830 \n",
      " train_loss: 4.204e-01 train_acc: 0.847 \n",
      " val_loss: 3.961e+00 val_acc: 0.450 time: 56\n",
      "\n"
     ]
    },
    {
     "name": "stderr",
     "output_type": "stream",
     "text": [
      "100%|██████████| 18/18 [00:00<00:00, 206.67it/s]\n"
     ]
    },
    {
     "name": "stdout",
     "output_type": "stream",
     "text": [
      "#epoch: 831 \n",
      " train_loss: 3.810e-01 train_acc: 0.861 \n",
      " val_loss: 3.093e+00 val_acc: 0.350 time: 56\n",
      "\n"
     ]
    },
    {
     "name": "stderr",
     "output_type": "stream",
     "text": [
      "100%|██████████| 18/18 [00:00<00:00, 145.60it/s]\n"
     ]
    },
    {
     "name": "stdout",
     "output_type": "stream",
     "text": [
      "#epoch: 832 \n",
      " train_loss: 5.264e-01 train_acc: 0.778 \n",
      " val_loss: 1.088e+01 val_acc: 0.350 time: 56\n",
      "\n"
     ]
    },
    {
     "name": "stderr",
     "output_type": "stream",
     "text": [
      "100%|██████████| 18/18 [00:00<00:00, 171.57it/s]\n"
     ]
    },
    {
     "name": "stdout",
     "output_type": "stream",
     "text": [
      "#epoch: 833 \n",
      " train_loss: 6.778e-01 train_acc: 0.736 \n",
      " val_loss: 2.189e+00 val_acc: 0.500 time: 56\n",
      "\n"
     ]
    },
    {
     "name": "stderr",
     "output_type": "stream",
     "text": [
      "100%|██████████| 18/18 [00:00<00:00, 140.71it/s]\n"
     ]
    },
    {
     "name": "stdout",
     "output_type": "stream",
     "text": [
      "#epoch: 834 \n",
      " train_loss: 2.655e-01 train_acc: 0.903 \n",
      " val_loss: 4.775e+00 val_acc: 0.200 time: 56\n",
      "\n"
     ]
    },
    {
     "name": "stderr",
     "output_type": "stream",
     "text": [
      "100%|██████████| 18/18 [00:00<00:00, 134.99it/s]\n"
     ]
    },
    {
     "name": "stdout",
     "output_type": "stream",
     "text": [
      "#epoch: 835 \n",
      " train_loss: 3.518e-01 train_acc: 0.833 \n",
      " val_loss: 3.302e+00 val_acc: 0.400 time: 56\n",
      "\n"
     ]
    },
    {
     "name": "stderr",
     "output_type": "stream",
     "text": [
      "100%|██████████| 18/18 [00:00<00:00, 135.67it/s]\n"
     ]
    },
    {
     "name": "stdout",
     "output_type": "stream",
     "text": [
      "#epoch: 836 \n",
      " train_loss: 2.482e-01 train_acc: 0.903 \n",
      " val_loss: 5.498e+00 val_acc: 0.300 time: 56\n",
      "\n"
     ]
    },
    {
     "name": "stderr",
     "output_type": "stream",
     "text": [
      "100%|██████████| 18/18 [00:00<00:00, 135.23it/s]\n"
     ]
    },
    {
     "name": "stdout",
     "output_type": "stream",
     "text": [
      "#epoch: 837 \n",
      " train_loss: 1.964e-01 train_acc: 0.917 \n",
      " val_loss: 4.952e+00 val_acc: 0.200 time: 56\n",
      "\n"
     ]
    },
    {
     "name": "stderr",
     "output_type": "stream",
     "text": [
      "100%|██████████| 18/18 [00:00<00:00, 157.99it/s]\n"
     ]
    },
    {
     "name": "stdout",
     "output_type": "stream",
     "text": [
      "#epoch: 838 \n",
      " train_loss: 2.616e-01 train_acc: 0.833 \n",
      " val_loss: 3.777e+00 val_acc: 0.450 time: 56\n",
      "\n"
     ]
    },
    {
     "name": "stderr",
     "output_type": "stream",
     "text": [
      "100%|██████████| 18/18 [00:00<00:00, 116.70it/s]\n"
     ]
    },
    {
     "name": "stdout",
     "output_type": "stream",
     "text": [
      "#epoch: 839 \n",
      " train_loss: 2.522e-01 train_acc: 0.917 \n",
      " val_loss: 3.331e+00 val_acc: 0.450 time: 56\n",
      "\n"
     ]
    },
    {
     "name": "stderr",
     "output_type": "stream",
     "text": [
      "100%|██████████| 18/18 [00:00<00:00, 124.80it/s]\n"
     ]
    },
    {
     "name": "stdout",
     "output_type": "stream",
     "text": [
      "#epoch: 840 \n",
      " train_loss: 2.815e-01 train_acc: 0.903 \n",
      " val_loss: 4.438e+00 val_acc: 0.350 time: 56\n",
      "\n"
     ]
    },
    {
     "name": "stderr",
     "output_type": "stream",
     "text": [
      "100%|██████████| 18/18 [00:00<00:00, 136.78it/s]\n"
     ]
    },
    {
     "name": "stdout",
     "output_type": "stream",
     "text": [
      "#epoch: 841 \n",
      " train_loss: 3.703e-01 train_acc: 0.861 \n",
      " val_loss: 5.336e+00 val_acc: 0.450 time: 56\n",
      "\n"
     ]
    },
    {
     "name": "stderr",
     "output_type": "stream",
     "text": [
      "100%|██████████| 18/18 [00:00<00:00, 125.75it/s]\n"
     ]
    },
    {
     "name": "stdout",
     "output_type": "stream",
     "text": [
      "#epoch: 842 \n",
      " train_loss: 3.263e-01 train_acc: 0.847 \n",
      " val_loss: 4.062e+00 val_acc: 0.350 time: 56\n",
      "\n"
     ]
    },
    {
     "name": "stderr",
     "output_type": "stream",
     "text": [
      "100%|██████████| 18/18 [00:00<00:00, 134.82it/s]\n"
     ]
    },
    {
     "name": "stdout",
     "output_type": "stream",
     "text": [
      "#epoch: 843 \n",
      " train_loss: 4.427e-01 train_acc: 0.764 \n",
      " val_loss: 3.200e+00 val_acc: 0.350 time: 56\n",
      "\n"
     ]
    },
    {
     "name": "stderr",
     "output_type": "stream",
     "text": [
      "100%|██████████| 18/18 [00:00<00:00, 101.81it/s]\n"
     ]
    },
    {
     "name": "stdout",
     "output_type": "stream",
     "text": [
      "#epoch: 844 \n",
      " train_loss: 4.063e-01 train_acc: 0.861 \n",
      " val_loss: 1.612e+01 val_acc: 0.350 time: 56\n",
      "\n"
     ]
    },
    {
     "name": "stderr",
     "output_type": "stream",
     "text": [
      "100%|██████████| 18/18 [00:00<00:00, 121.63it/s]\n"
     ]
    },
    {
     "name": "stdout",
     "output_type": "stream",
     "text": [
      "#epoch: 845 \n",
      " train_loss: 6.092e-01 train_acc: 0.764 \n",
      " val_loss: 4.461e+00 val_acc: 0.150 time: 56\n",
      "\n"
     ]
    },
    {
     "name": "stderr",
     "output_type": "stream",
     "text": [
      "100%|██████████| 18/18 [00:00<00:00, 105.07it/s]\n"
     ]
    },
    {
     "name": "stdout",
     "output_type": "stream",
     "text": [
      "#epoch: 846 \n",
      " train_loss: 2.621e-01 train_acc: 0.889 \n",
      " val_loss: 1.536e+01 val_acc: 0.350 time: 56\n",
      "\n"
     ]
    },
    {
     "name": "stderr",
     "output_type": "stream",
     "text": [
      "100%|██████████| 18/18 [00:00<00:00, 121.91it/s]\n"
     ]
    },
    {
     "name": "stdout",
     "output_type": "stream",
     "text": [
      "#epoch: 847 \n",
      " train_loss: 4.192e-01 train_acc: 0.861 \n",
      " val_loss: 3.127e+00 val_acc: 0.450 time: 56\n",
      "\n"
     ]
    },
    {
     "name": "stderr",
     "output_type": "stream",
     "text": [
      "100%|██████████| 18/18 [00:00<00:00, 149.53it/s]\n"
     ]
    },
    {
     "name": "stdout",
     "output_type": "stream",
     "text": [
      "#epoch: 848 \n",
      " train_loss: 3.513e-01 train_acc: 0.889 \n",
      " val_loss: 4.112e+00 val_acc: 0.250 time: 56\n",
      "\n"
     ]
    },
    {
     "name": "stderr",
     "output_type": "stream",
     "text": [
      "100%|██████████| 18/18 [00:00<00:00, 116.19it/s]\n"
     ]
    },
    {
     "name": "stdout",
     "output_type": "stream",
     "text": [
      "#epoch: 849 \n",
      " train_loss: 3.575e-01 train_acc: 0.847 \n",
      " val_loss: 2.850e+00 val_acc: 0.500 time: 56\n",
      "\n"
     ]
    },
    {
     "name": "stderr",
     "output_type": "stream",
     "text": [
      "100%|██████████| 18/18 [00:00<00:00, 121.07it/s]\n"
     ]
    },
    {
     "name": "stdout",
     "output_type": "stream",
     "text": [
      "#epoch: 850 \n",
      " train_loss: 2.796e-01 train_acc: 0.917 \n",
      " val_loss: 4.115e+00 val_acc: 0.300 time: 56\n",
      "\n"
     ]
    },
    {
     "name": "stderr",
     "output_type": "stream",
     "text": [
      "100%|██████████| 18/18 [00:00<00:00, 116.02it/s]\n"
     ]
    },
    {
     "name": "stdout",
     "output_type": "stream",
     "text": [
      "#epoch: 851 \n",
      " train_loss: 1.835e-01 train_acc: 0.931 \n",
      " val_loss: 3.935e+00 val_acc: 0.350 time: 56\n",
      "\n"
     ]
    },
    {
     "name": "stderr",
     "output_type": "stream",
     "text": [
      "100%|██████████| 18/18 [00:00<00:00, 113.71it/s]\n"
     ]
    },
    {
     "name": "stdout",
     "output_type": "stream",
     "text": [
      "#epoch: 852 \n",
      " train_loss: 1.372e-01 train_acc: 0.958 \n",
      " val_loss: 4.001e+00 val_acc: 0.400 time: 56\n",
      "\n"
     ]
    },
    {
     "name": "stderr",
     "output_type": "stream",
     "text": [
      "100%|██████████| 18/18 [00:00<00:00, 118.76it/s]\n"
     ]
    },
    {
     "name": "stdout",
     "output_type": "stream",
     "text": [
      "#epoch: 853 \n",
      " train_loss: 2.768e-01 train_acc: 0.917 \n",
      " val_loss: 3.558e+00 val_acc: 0.350 time: 56\n",
      "\n"
     ]
    },
    {
     "name": "stderr",
     "output_type": "stream",
     "text": [
      "100%|██████████| 18/18 [00:00<00:00, 151.53it/s]\n"
     ]
    },
    {
     "name": "stdout",
     "output_type": "stream",
     "text": [
      "#epoch: 854 \n",
      " train_loss: 4.670e-01 train_acc: 0.833 \n",
      " val_loss: 3.824e+00 val_acc: 0.300 time: 56\n",
      "\n"
     ]
    },
    {
     "name": "stderr",
     "output_type": "stream",
     "text": [
      "100%|██████████| 18/18 [00:00<00:00, 155.25it/s]\n"
     ]
    },
    {
     "name": "stdout",
     "output_type": "stream",
     "text": [
      "#epoch: 855 \n",
      " train_loss: 2.422e-01 train_acc: 0.903 \n",
      " val_loss: 5.317e+00 val_acc: 0.450 time: 56\n",
      "\n"
     ]
    },
    {
     "name": "stderr",
     "output_type": "stream",
     "text": [
      "100%|██████████| 18/18 [00:00<00:00, 154.84it/s]\n"
     ]
    },
    {
     "name": "stdout",
     "output_type": "stream",
     "text": [
      "#epoch: 856 \n",
      " train_loss: 2.999e-01 train_acc: 0.875 \n",
      " val_loss: 3.430e+00 val_acc: 0.300 time: 56\n",
      "\n"
     ]
    },
    {
     "name": "stderr",
     "output_type": "stream",
     "text": [
      "100%|██████████| 18/18 [00:00<00:00, 148.84it/s]\n"
     ]
    },
    {
     "name": "stdout",
     "output_type": "stream",
     "text": [
      "#epoch: 857 \n",
      " train_loss: 1.899e-01 train_acc: 0.944 \n",
      " val_loss: 4.943e+00 val_acc: 0.300 time: 56\n",
      "\n"
     ]
    },
    {
     "name": "stderr",
     "output_type": "stream",
     "text": [
      "100%|██████████| 18/18 [00:00<00:00, 182.90it/s]\n"
     ]
    },
    {
     "name": "stdout",
     "output_type": "stream",
     "text": [
      "#epoch: 858 \n",
      " train_loss: 9.957e-02 train_acc: 0.958 \n",
      " val_loss: 3.335e+00 val_acc: 0.300 time: 56\n",
      "\n"
     ]
    },
    {
     "name": "stderr",
     "output_type": "stream",
     "text": [
      "100%|██████████| 18/18 [00:00<00:00, 162.52it/s]\n"
     ]
    },
    {
     "name": "stdout",
     "output_type": "stream",
     "text": [
      "#epoch: 859 \n",
      " train_loss: 1.769e-01 train_acc: 0.931 \n",
      " val_loss: 5.447e+00 val_acc: 0.450 time: 56\n",
      "\n"
     ]
    },
    {
     "name": "stderr",
     "output_type": "stream",
     "text": [
      "100%|██████████| 18/18 [00:00<00:00, 155.14it/s]\n"
     ]
    },
    {
     "name": "stdout",
     "output_type": "stream",
     "text": [
      "#epoch: 860 \n",
      " train_loss: 1.302e-01 train_acc: 0.972 \n",
      " val_loss: 4.338e+00 val_acc: 0.300 time: 56\n",
      "\n"
     ]
    },
    {
     "name": "stderr",
     "output_type": "stream",
     "text": [
      "100%|██████████| 18/18 [00:00<00:00, 187.77it/s]\n"
     ]
    },
    {
     "name": "stdout",
     "output_type": "stream",
     "text": [
      "#epoch: 861 \n",
      " train_loss: 2.109e-01 train_acc: 0.903 \n",
      " val_loss: 3.969e+00 val_acc: 0.400 time: 56\n",
      "\n"
     ]
    },
    {
     "name": "stderr",
     "output_type": "stream",
     "text": [
      "100%|██████████| 18/18 [00:00<00:00, 176.96it/s]\n"
     ]
    },
    {
     "name": "stdout",
     "output_type": "stream",
     "text": [
      "#epoch: 862 \n",
      " train_loss: 1.096e-01 train_acc: 0.972 \n",
      " val_loss: 3.419e+00 val_acc: 0.300 time: 56\n",
      "\n"
     ]
    },
    {
     "name": "stderr",
     "output_type": "stream",
     "text": [
      "100%|██████████| 18/18 [00:00<00:00, 127.53it/s]\n"
     ]
    },
    {
     "name": "stdout",
     "output_type": "stream",
     "text": [
      "#epoch: 863 \n",
      " train_loss: 1.489e-01 train_acc: 0.903 \n",
      " val_loss: 5.878e+00 val_acc: 0.400 time: 56\n",
      "\n"
     ]
    },
    {
     "name": "stderr",
     "output_type": "stream",
     "text": [
      "100%|██████████| 18/18 [00:00<00:00, 166.47it/s]\n"
     ]
    },
    {
     "name": "stdout",
     "output_type": "stream",
     "text": [
      "#epoch: 864 \n",
      " train_loss: 1.902e-01 train_acc: 0.944 \n",
      " val_loss: 2.978e+00 val_acc: 0.500 time: 56\n",
      "\n"
     ]
    },
    {
     "name": "stderr",
     "output_type": "stream",
     "text": [
      "100%|██████████| 18/18 [00:00<00:00, 204.43it/s]\n"
     ]
    },
    {
     "name": "stdout",
     "output_type": "stream",
     "text": [
      "#epoch: 865 \n",
      " train_loss: 1.584e-01 train_acc: 0.958 \n",
      " val_loss: 4.020e+00 val_acc: 0.300 time: 56\n",
      "\n"
     ]
    },
    {
     "name": "stderr",
     "output_type": "stream",
     "text": [
      "100%|██████████| 18/18 [00:00<00:00, 169.80it/s]\n"
     ]
    },
    {
     "name": "stdout",
     "output_type": "stream",
     "text": [
      "#epoch: 866 \n",
      " train_loss: 2.468e-01 train_acc: 0.903 \n",
      " val_loss: 4.651e+00 val_acc: 0.350 time: 56\n",
      "\n"
     ]
    },
    {
     "name": "stderr",
     "output_type": "stream",
     "text": [
      "100%|██████████| 18/18 [00:00<00:00, 175.27it/s]\n"
     ]
    },
    {
     "name": "stdout",
     "output_type": "stream",
     "text": [
      "#epoch: 867 \n",
      " train_loss: 1.640e-01 train_acc: 0.931 \n",
      " val_loss: 3.607e+00 val_acc: 0.350 time: 56\n",
      "\n"
     ]
    },
    {
     "name": "stderr",
     "output_type": "stream",
     "text": [
      "100%|██████████| 18/18 [00:00<00:00, 195.46it/s]\n"
     ]
    },
    {
     "name": "stdout",
     "output_type": "stream",
     "text": [
      "#epoch: 868 \n",
      " train_loss: 1.844e-01 train_acc: 0.931 \n",
      " val_loss: 3.878e+00 val_acc: 0.350 time: 56\n",
      "\n"
     ]
    },
    {
     "name": "stderr",
     "output_type": "stream",
     "text": [
      "100%|██████████| 18/18 [00:00<00:00, 106.90it/s]\n"
     ]
    },
    {
     "name": "stdout",
     "output_type": "stream",
     "text": [
      "#epoch: 869 \n",
      " train_loss: 1.711e-01 train_acc: 0.931 \n",
      " val_loss: 6.517e+00 val_acc: 0.350 time: 56\n",
      "\n"
     ]
    },
    {
     "name": "stderr",
     "output_type": "stream",
     "text": [
      "100%|██████████| 18/18 [00:00<00:00, 191.21it/s]\n"
     ]
    },
    {
     "name": "stdout",
     "output_type": "stream",
     "text": [
      "#epoch: 870 \n",
      " train_loss: 1.085e-01 train_acc: 0.958 \n",
      " val_loss: 3.352e+00 val_acc: 0.500 time: 56\n",
      "\n"
     ]
    },
    {
     "name": "stderr",
     "output_type": "stream",
     "text": [
      "100%|██████████| 18/18 [00:00<00:00, 183.35it/s]\n"
     ]
    },
    {
     "name": "stdout",
     "output_type": "stream",
     "text": [
      "#epoch: 871 \n",
      " train_loss: 2.288e-01 train_acc: 0.917 \n",
      " val_loss: 4.626e+00 val_acc: 0.350 time: 56\n",
      "\n"
     ]
    },
    {
     "name": "stderr",
     "output_type": "stream",
     "text": [
      "100%|██████████| 18/18 [00:00<00:00, 176.55it/s]\n"
     ]
    },
    {
     "name": "stdout",
     "output_type": "stream",
     "text": [
      "#epoch: 872 \n",
      " train_loss: 3.053e-01 train_acc: 0.903 \n",
      " val_loss: 5.891e+00 val_acc: 0.300 time: 56\n",
      "\n"
     ]
    },
    {
     "name": "stderr",
     "output_type": "stream",
     "text": [
      "100%|██████████| 18/18 [00:00<00:00, 160.61it/s]\n"
     ]
    },
    {
     "name": "stdout",
     "output_type": "stream",
     "text": [
      "#epoch: 873 \n",
      " train_loss: 3.988e-01 train_acc: 0.889 \n",
      " val_loss: 4.035e+00 val_acc: 0.300 time: 56\n",
      "\n"
     ]
    },
    {
     "name": "stderr",
     "output_type": "stream",
     "text": [
      "100%|██████████| 18/18 [00:00<00:00, 181.60it/s]\n"
     ]
    },
    {
     "name": "stdout",
     "output_type": "stream",
     "text": [
      "#epoch: 874 \n",
      " train_loss: 1.652e-01 train_acc: 0.917 \n",
      " val_loss: 4.723e+00 val_acc: 0.300 time: 56\n",
      "\n"
     ]
    },
    {
     "name": "stderr",
     "output_type": "stream",
     "text": [
      "100%|██████████| 18/18 [00:00<00:00, 166.61it/s]\n"
     ]
    },
    {
     "name": "stdout",
     "output_type": "stream",
     "text": [
      "#epoch: 875 \n",
      " train_loss: 1.856e-01 train_acc: 0.958 \n",
      " val_loss: 4.476e+00 val_acc: 0.250 time: 56\n",
      "\n"
     ]
    },
    {
     "name": "stderr",
     "output_type": "stream",
     "text": [
      "100%|██████████| 18/18 [00:00<00:00, 202.21it/s]\n"
     ]
    },
    {
     "name": "stdout",
     "output_type": "stream",
     "text": [
      "#epoch: 876 \n",
      " train_loss: 1.402e-01 train_acc: 0.972 \n",
      " val_loss: 5.451e+00 val_acc: 0.300 time: 56\n",
      "\n"
     ]
    },
    {
     "name": "stderr",
     "output_type": "stream",
     "text": [
      "100%|██████████| 18/18 [00:00<00:00, 168.13it/s]\n"
     ]
    },
    {
     "name": "stdout",
     "output_type": "stream",
     "text": [
      "#epoch: 877 \n",
      " train_loss: 1.593e-01 train_acc: 0.931 \n",
      " val_loss: 4.083e+00 val_acc: 0.300 time: 56\n",
      "\n"
     ]
    },
    {
     "name": "stderr",
     "output_type": "stream",
     "text": [
      "100%|██████████| 18/18 [00:00<00:00, 153.51it/s]\n"
     ]
    },
    {
     "name": "stdout",
     "output_type": "stream",
     "text": [
      "#epoch: 878 \n",
      " train_loss: 9.636e-02 train_acc: 0.972 \n",
      " val_loss: 3.943e+00 val_acc: 0.450 time: 56\n",
      "\n"
     ]
    },
    {
     "name": "stderr",
     "output_type": "stream",
     "text": [
      "100%|██████████| 18/18 [00:00<00:00, 138.18it/s]\n"
     ]
    },
    {
     "name": "stdout",
     "output_type": "stream",
     "text": [
      "#epoch: 879 \n",
      " train_loss: 1.133e-01 train_acc: 0.972 \n",
      " val_loss: 4.971e+00 val_acc: 0.450 time: 56\n",
      "\n"
     ]
    },
    {
     "name": "stderr",
     "output_type": "stream",
     "text": [
      "100%|██████████| 18/18 [00:00<00:00, 177.57it/s]\n"
     ]
    },
    {
     "name": "stdout",
     "output_type": "stream",
     "text": [
      "#epoch: 880 \n",
      " train_loss: 9.323e-02 train_acc: 0.986 \n",
      " val_loss: 6.381e+00 val_acc: 0.300 time: 56\n",
      "\n"
     ]
    },
    {
     "name": "stderr",
     "output_type": "stream",
     "text": [
      "100%|██████████| 18/18 [00:00<00:00, 170.12it/s]\n"
     ]
    },
    {
     "name": "stdout",
     "output_type": "stream",
     "text": [
      "#epoch: 881 \n",
      " train_loss: 1.825e-01 train_acc: 0.875 \n",
      " val_loss: 4.157e+00 val_acc: 0.450 time: 56\n",
      "\n"
     ]
    },
    {
     "name": "stderr",
     "output_type": "stream",
     "text": [
      "100%|██████████| 18/18 [00:00<00:00, 177.78it/s]\n"
     ]
    },
    {
     "name": "stdout",
     "output_type": "stream",
     "text": [
      "#epoch: 882 \n",
      " train_loss: 3.571e-01 train_acc: 0.931 \n",
      " val_loss: 2.100e+01 val_acc: 0.350 time: 56\n",
      "\n"
     ]
    },
    {
     "name": "stderr",
     "output_type": "stream",
     "text": [
      "100%|██████████| 18/18 [00:00<00:00, 169.35it/s]\n"
     ]
    },
    {
     "name": "stdout",
     "output_type": "stream",
     "text": [
      "#epoch: 883 \n",
      " train_loss: 3.744e-01 train_acc: 0.875 \n",
      " val_loss: 2.884e+00 val_acc: 0.400 time: 56\n",
      "\n"
     ]
    },
    {
     "name": "stderr",
     "output_type": "stream",
     "text": [
      "100%|██████████| 18/18 [00:00<00:00, 169.78it/s]\n"
     ]
    },
    {
     "name": "stdout",
     "output_type": "stream",
     "text": [
      "#epoch: 884 \n",
      " train_loss: 1.711e-01 train_acc: 0.917 \n",
      " val_loss: 4.596e+00 val_acc: 0.200 time: 56\n",
      "\n"
     ]
    },
    {
     "name": "stderr",
     "output_type": "stream",
     "text": [
      "100%|██████████| 18/18 [00:00<00:00, 155.92it/s]\n"
     ]
    },
    {
     "name": "stdout",
     "output_type": "stream",
     "text": [
      "#epoch: 885 \n",
      " train_loss: 1.332e-01 train_acc: 0.944 \n",
      " val_loss: 4.157e+00 val_acc: 0.350 time: 56\n",
      "\n"
     ]
    },
    {
     "name": "stderr",
     "output_type": "stream",
     "text": [
      "100%|██████████| 18/18 [00:00<00:00, 167.26it/s]\n"
     ]
    },
    {
     "name": "stdout",
     "output_type": "stream",
     "text": [
      "#epoch: 886 \n",
      " train_loss: 1.892e-01 train_acc: 0.931 \n",
      " val_loss: 5.579e+00 val_acc: 0.350 time: 56\n",
      "\n"
     ]
    },
    {
     "name": "stderr",
     "output_type": "stream",
     "text": [
      "100%|██████████| 18/18 [00:00<00:00, 129.47it/s]\n"
     ]
    },
    {
     "name": "stdout",
     "output_type": "stream",
     "text": [
      "#epoch: 887 \n",
      " train_loss: 1.884e-01 train_acc: 0.931 \n",
      " val_loss: 5.561e+00 val_acc: 0.350 time: 56\n",
      "\n"
     ]
    },
    {
     "name": "stderr",
     "output_type": "stream",
     "text": [
      "100%|██████████| 18/18 [00:00<00:00, 115.85it/s]\n"
     ]
    },
    {
     "name": "stdout",
     "output_type": "stream",
     "text": [
      "#epoch: 888 \n",
      " train_loss: 2.777e-01 train_acc: 0.903 \n",
      " val_loss: 9.253e+00 val_acc: 0.350 time: 56\n",
      "\n"
     ]
    },
    {
     "name": "stderr",
     "output_type": "stream",
     "text": [
      "100%|██████████| 18/18 [00:00<00:00, 124.66it/s]\n"
     ]
    },
    {
     "name": "stdout",
     "output_type": "stream",
     "text": [
      "#epoch: 889 \n",
      " train_loss: 1.591e-01 train_acc: 0.944 \n",
      " val_loss: 3.526e+00 val_acc: 0.400 time: 56\n",
      "\n"
     ]
    },
    {
     "name": "stderr",
     "output_type": "stream",
     "text": [
      "100%|██████████| 18/18 [00:00<00:00, 189.37it/s]\n"
     ]
    },
    {
     "name": "stdout",
     "output_type": "stream",
     "text": [
      "#epoch: 890 \n",
      " train_loss: 8.976e-02 train_acc: 0.986 \n",
      " val_loss: 5.426e+00 val_acc: 0.350 time: 56\n",
      "\n"
     ]
    },
    {
     "name": "stderr",
     "output_type": "stream",
     "text": [
      "100%|██████████| 18/18 [00:00<00:00, 146.06it/s]\n"
     ]
    },
    {
     "name": "stdout",
     "output_type": "stream",
     "text": [
      "#epoch: 891 \n",
      " train_loss: 1.284e-01 train_acc: 0.944 \n",
      " val_loss: 4.776e+00 val_acc: 0.300 time: 56\n",
      "\n"
     ]
    },
    {
     "name": "stderr",
     "output_type": "stream",
     "text": [
      "100%|██████████| 18/18 [00:00<00:00, 122.47it/s]\n"
     ]
    },
    {
     "name": "stdout",
     "output_type": "stream",
     "text": [
      "#epoch: 892 \n",
      " train_loss: 3.357e-01 train_acc: 0.889 \n",
      " val_loss: 4.419e+00 val_acc: 0.450 time: 56\n",
      "\n"
     ]
    },
    {
     "name": "stderr",
     "output_type": "stream",
     "text": [
      "100%|██████████| 18/18 [00:00<00:00, 126.70it/s]\n"
     ]
    },
    {
     "name": "stdout",
     "output_type": "stream",
     "text": [
      "#epoch: 893 \n",
      " train_loss: 1.056e-01 train_acc: 0.986 \n",
      " val_loss: 4.772e+00 val_acc: 0.350 time: 56\n",
      "\n"
     ]
    },
    {
     "name": "stderr",
     "output_type": "stream",
     "text": [
      "100%|██████████| 18/18 [00:00<00:00, 129.37it/s]\n"
     ]
    },
    {
     "name": "stdout",
     "output_type": "stream",
     "text": [
      "#epoch: 894 \n",
      " train_loss: 2.473e-01 train_acc: 0.903 \n",
      " val_loss: 3.841e+00 val_acc: 0.450 time: 56\n",
      "\n"
     ]
    },
    {
     "name": "stderr",
     "output_type": "stream",
     "text": [
      "100%|██████████| 18/18 [00:00<00:00, 190.81it/s]\n"
     ]
    },
    {
     "name": "stdout",
     "output_type": "stream",
     "text": [
      "#epoch: 895 \n",
      " train_loss: 1.884e-01 train_acc: 0.931 \n",
      " val_loss: 3.682e+00 val_acc: 0.400 time: 56\n",
      "\n"
     ]
    },
    {
     "name": "stderr",
     "output_type": "stream",
     "text": [
      "100%|██████████| 18/18 [00:00<00:00, 182.96it/s]\n"
     ]
    },
    {
     "name": "stdout",
     "output_type": "stream",
     "text": [
      "#epoch: 896 \n",
      " train_loss: 2.294e-01 train_acc: 0.875 \n",
      " val_loss: 4.015e+00 val_acc: 0.500 time: 56\n",
      "\n"
     ]
    },
    {
     "name": "stderr",
     "output_type": "stream",
     "text": [
      "100%|██████████| 18/18 [00:00<00:00, 175.25it/s]\n"
     ]
    },
    {
     "name": "stdout",
     "output_type": "stream",
     "text": [
      "#epoch: 897 \n",
      " train_loss: 1.898e-01 train_acc: 0.958 \n",
      " val_loss: 5.803e+00 val_acc: 0.550 time: 56\n",
      "\n"
     ]
    },
    {
     "name": "stderr",
     "output_type": "stream",
     "text": [
      "100%|██████████| 18/18 [00:00<00:00, 135.52it/s]\n"
     ]
    },
    {
     "name": "stdout",
     "output_type": "stream",
     "text": [
      "#epoch: 898 \n",
      " train_loss: 2.137e-01 train_acc: 0.917 \n",
      " val_loss: 4.021e+00 val_acc: 0.450 time: 56\n",
      "\n"
     ]
    },
    {
     "name": "stderr",
     "output_type": "stream",
     "text": [
      "100%|██████████| 18/18 [00:00<00:00, 95.75it/s] \n"
     ]
    },
    {
     "name": "stdout",
     "output_type": "stream",
     "text": [
      "#epoch: 899 \n",
      " train_loss: 9.607e-02 train_acc: 0.986 \n",
      " val_loss: 3.424e+00 val_acc: 0.450 time: 56\n",
      "\n"
     ]
    },
    {
     "name": "stderr",
     "output_type": "stream",
     "text": [
      "100%|██████████| 18/18 [00:00<00:00, 136.43it/s]\n"
     ]
    },
    {
     "name": "stdout",
     "output_type": "stream",
     "text": [
      "#epoch: 900 \n",
      " train_loss: 1.578e-01 train_acc: 0.944 \n",
      " val_loss: 4.597e+00 val_acc: 0.200 time: 56\n",
      "\n"
     ]
    },
    {
     "name": "stderr",
     "output_type": "stream",
     "text": [
      "100%|██████████| 18/18 [00:00<00:00, 176.46it/s]\n"
     ]
    },
    {
     "name": "stdout",
     "output_type": "stream",
     "text": [
      "#epoch: 901 \n",
      " train_loss: 1.956e-01 train_acc: 0.917 \n",
      " val_loss: 4.041e+00 val_acc: 0.250 time: 56\n",
      "\n"
     ]
    },
    {
     "name": "stderr",
     "output_type": "stream",
     "text": [
      "100%|██████████| 18/18 [00:00<00:00, 205.33it/s]\n"
     ]
    },
    {
     "name": "stdout",
     "output_type": "stream",
     "text": [
      "#epoch: 902 \n",
      " train_loss: 2.123e-01 train_acc: 0.903 \n",
      " val_loss: 4.718e+00 val_acc: 0.300 time: 56\n",
      "\n"
     ]
    },
    {
     "name": "stderr",
     "output_type": "stream",
     "text": [
      "100%|██████████| 18/18 [00:00<00:00, 163.31it/s]\n"
     ]
    },
    {
     "name": "stdout",
     "output_type": "stream",
     "text": [
      "#epoch: 903 \n",
      " train_loss: 1.202e-01 train_acc: 0.972 \n",
      " val_loss: 8.916e+00 val_acc: 0.450 time: 56\n",
      "\n"
     ]
    },
    {
     "name": "stderr",
     "output_type": "stream",
     "text": [
      "100%|██████████| 18/18 [00:00<00:00, 172.62it/s]\n"
     ]
    },
    {
     "name": "stdout",
     "output_type": "stream",
     "text": [
      "#epoch: 904 \n",
      " train_loss: 1.797e-01 train_acc: 0.944 \n",
      " val_loss: 4.435e+00 val_acc: 0.500 time: 56\n",
      "\n"
     ]
    },
    {
     "name": "stderr",
     "output_type": "stream",
     "text": [
      "100%|██████████| 18/18 [00:00<00:00, 120.77it/s]\n"
     ]
    },
    {
     "name": "stdout",
     "output_type": "stream",
     "text": [
      "#epoch: 905 \n",
      " train_loss: 1.938e-01 train_acc: 0.944 \n",
      " val_loss: 7.824e+00 val_acc: 0.450 time: 56\n",
      "\n"
     ]
    },
    {
     "name": "stderr",
     "output_type": "stream",
     "text": [
      "100%|██████████| 18/18 [00:00<00:00, 114.91it/s]\n"
     ]
    },
    {
     "name": "stdout",
     "output_type": "stream",
     "text": [
      "#epoch: 906 \n",
      " train_loss: 1.917e-01 train_acc: 0.889 \n",
      " val_loss: 4.093e+00 val_acc: 0.350 time: 56\n",
      "\n"
     ]
    },
    {
     "name": "stderr",
     "output_type": "stream",
     "text": [
      "100%|██████████| 18/18 [00:00<00:00, 147.97it/s]\n"
     ]
    },
    {
     "name": "stdout",
     "output_type": "stream",
     "text": [
      "#epoch: 907 \n",
      " train_loss: 2.654e-01 train_acc: 0.889 \n",
      " val_loss: 4.091e+00 val_acc: 0.300 time: 56\n",
      "\n"
     ]
    },
    {
     "name": "stderr",
     "output_type": "stream",
     "text": [
      "100%|██████████| 18/18 [00:00<00:00, 159.90it/s]\n"
     ]
    },
    {
     "name": "stdout",
     "output_type": "stream",
     "text": [
      "#epoch: 908 \n",
      " train_loss: 3.092e-01 train_acc: 0.903 \n",
      " val_loss: 1.943e+01 val_acc: 0.350 time: 56\n",
      "\n"
     ]
    },
    {
     "name": "stderr",
     "output_type": "stream",
     "text": [
      "100%|██████████| 18/18 [00:00<00:00, 191.45it/s]\n"
     ]
    },
    {
     "name": "stdout",
     "output_type": "stream",
     "text": [
      "#epoch: 909 \n",
      " train_loss: 4.275e-01 train_acc: 0.778 \n",
      " val_loss: 3.270e+00 val_acc: 0.350 time: 56\n",
      "\n"
     ]
    },
    {
     "name": "stderr",
     "output_type": "stream",
     "text": [
      "100%|██████████| 18/18 [00:00<00:00, 129.24it/s]\n"
     ]
    },
    {
     "name": "stdout",
     "output_type": "stream",
     "text": [
      "#epoch: 910 \n",
      " train_loss: 4.111e-01 train_acc: 0.903 \n",
      " val_loss: 3.031e+00 val_acc: 0.400 time: 56\n",
      "\n"
     ]
    },
    {
     "name": "stderr",
     "output_type": "stream",
     "text": [
      "100%|██████████| 18/18 [00:00<00:00, 131.92it/s]\n"
     ]
    },
    {
     "name": "stdout",
     "output_type": "stream",
     "text": [
      "#epoch: 911 \n",
      " train_loss: 2.742e-01 train_acc: 0.889 \n",
      " val_loss: 3.810e+00 val_acc: 0.350 time: 56\n",
      "\n"
     ]
    },
    {
     "name": "stderr",
     "output_type": "stream",
     "text": [
      "100%|██████████| 18/18 [00:00<00:00, 139.94it/s]\n"
     ]
    },
    {
     "name": "stdout",
     "output_type": "stream",
     "text": [
      "#epoch: 912 \n",
      " train_loss: 3.335e-01 train_acc: 0.903 \n",
      " val_loss: 3.419e+00 val_acc: 0.350 time: 56\n",
      "\n"
     ]
    },
    {
     "name": "stderr",
     "output_type": "stream",
     "text": [
      "100%|██████████| 18/18 [00:00<00:00, 177.90it/s]\n"
     ]
    },
    {
     "name": "stdout",
     "output_type": "stream",
     "text": [
      "#epoch: 913 \n",
      " train_loss: 3.800e-01 train_acc: 0.847 \n",
      " val_loss: 2.095e+01 val_acc: 0.350 time: 56\n",
      "\n"
     ]
    },
    {
     "name": "stderr",
     "output_type": "stream",
     "text": [
      "100%|██████████| 18/18 [00:00<00:00, 148.69it/s]\n"
     ]
    },
    {
     "name": "stdout",
     "output_type": "stream",
     "text": [
      "#epoch: 914 \n",
      " train_loss: 8.568e-01 train_acc: 0.750 \n",
      " val_loss: 3.447e+00 val_acc: 0.300 time: 56\n",
      "\n"
     ]
    },
    {
     "name": "stderr",
     "output_type": "stream",
     "text": [
      "100%|██████████| 18/18 [00:00<00:00, 191.80it/s]\n"
     ]
    },
    {
     "name": "stdout",
     "output_type": "stream",
     "text": [
      "#epoch: 915 \n",
      " train_loss: 2.320e-01 train_acc: 0.861 \n",
      " val_loss: 3.581e+00 val_acc: 0.300 time: 56\n",
      "\n"
     ]
    },
    {
     "name": "stderr",
     "output_type": "stream",
     "text": [
      "100%|██████████| 18/18 [00:00<00:00, 158.78it/s]\n"
     ]
    },
    {
     "name": "stdout",
     "output_type": "stream",
     "text": [
      "#epoch: 916 \n",
      " train_loss: 1.145e-01 train_acc: 0.986 \n",
      " val_loss: 3.627e+00 val_acc: 0.350 time: 56\n",
      "\n"
     ]
    },
    {
     "name": "stderr",
     "output_type": "stream",
     "text": [
      "100%|██████████| 18/18 [00:00<00:00, 138.16it/s]\n"
     ]
    },
    {
     "name": "stdout",
     "output_type": "stream",
     "text": [
      "#epoch: 917 \n",
      " train_loss: 1.331e-01 train_acc: 0.944 \n",
      " val_loss: 5.012e+00 val_acc: 0.200 time: 56\n",
      "\n"
     ]
    },
    {
     "name": "stderr",
     "output_type": "stream",
     "text": [
      "100%|██████████| 18/18 [00:00<00:00, 110.24it/s]\n"
     ]
    },
    {
     "name": "stdout",
     "output_type": "stream",
     "text": [
      "#epoch: 918 \n",
      " train_loss: 1.446e-01 train_acc: 0.944 \n",
      " val_loss: 5.195e+00 val_acc: 0.450 time: 56\n",
      "\n"
     ]
    },
    {
     "name": "stderr",
     "output_type": "stream",
     "text": [
      "100%|██████████| 18/18 [00:00<00:00, 179.82it/s]\n"
     ]
    },
    {
     "name": "stdout",
     "output_type": "stream",
     "text": [
      "#epoch: 919 \n",
      " train_loss: 1.979e-01 train_acc: 0.931 \n",
      " val_loss: 5.064e+00 val_acc: 0.250 time: 56\n",
      "\n"
     ]
    },
    {
     "name": "stderr",
     "output_type": "stream",
     "text": [
      "100%|██████████| 18/18 [00:00<00:00, 171.12it/s]\n"
     ]
    },
    {
     "name": "stdout",
     "output_type": "stream",
     "text": [
      "#epoch: 920 \n",
      " train_loss: 2.589e-01 train_acc: 0.917 \n",
      " val_loss: 8.426e+00 val_acc: 0.350 time: 56\n",
      "\n"
     ]
    },
    {
     "name": "stderr",
     "output_type": "stream",
     "text": [
      "100%|██████████| 18/18 [00:00<00:00, 195.63it/s]\n"
     ]
    },
    {
     "name": "stdout",
     "output_type": "stream",
     "text": [
      "#epoch: 921 \n",
      " train_loss: 1.478e-01 train_acc: 0.931 \n",
      " val_loss: 3.543e+00 val_acc: 0.350 time: 56\n",
      "\n"
     ]
    },
    {
     "name": "stderr",
     "output_type": "stream",
     "text": [
      "100%|██████████| 18/18 [00:00<00:00, 143.16it/s]\n"
     ]
    },
    {
     "name": "stdout",
     "output_type": "stream",
     "text": [
      "#epoch: 922 \n",
      " train_loss: 1.358e-01 train_acc: 0.931 \n",
      " val_loss: 1.033e+01 val_acc: 0.350 time: 56\n",
      "\n"
     ]
    },
    {
     "name": "stderr",
     "output_type": "stream",
     "text": [
      "100%|██████████| 18/18 [00:00<00:00, 135.63it/s]\n"
     ]
    },
    {
     "name": "stdout",
     "output_type": "stream",
     "text": [
      "#epoch: 923 \n",
      " train_loss: 1.940e-01 train_acc: 0.931 \n",
      " val_loss: 2.569e+00 val_acc: 0.350 time: 56\n",
      "\n"
     ]
    },
    {
     "name": "stderr",
     "output_type": "stream",
     "text": [
      "100%|██████████| 18/18 [00:00<00:00, 136.00it/s]\n"
     ]
    },
    {
     "name": "stdout",
     "output_type": "stream",
     "text": [
      "#epoch: 924 \n",
      " train_loss: 2.559e-01 train_acc: 0.917 \n",
      " val_loss: 6.213e+00 val_acc: 0.250 time: 56\n",
      "\n"
     ]
    },
    {
     "name": "stderr",
     "output_type": "stream",
     "text": [
      "100%|██████████| 18/18 [00:00<00:00, 182.10it/s]\n"
     ]
    },
    {
     "name": "stdout",
     "output_type": "stream",
     "text": [
      "#epoch: 925 \n",
      " train_loss: 1.685e-01 train_acc: 0.917 \n",
      " val_loss: 5.822e+00 val_acc: 0.250 time: 56\n",
      "\n"
     ]
    },
    {
     "name": "stderr",
     "output_type": "stream",
     "text": [
      "100%|██████████| 18/18 [00:00<00:00, 154.54it/s]\n"
     ]
    },
    {
     "name": "stdout",
     "output_type": "stream",
     "text": [
      "#epoch: 926 \n",
      " train_loss: 3.049e-01 train_acc: 0.861 \n",
      " val_loss: 5.044e+00 val_acc: 0.200 time: 56\n",
      "\n"
     ]
    },
    {
     "name": "stderr",
     "output_type": "stream",
     "text": [
      "100%|██████████| 18/18 [00:00<00:00, 188.41it/s]\n"
     ]
    },
    {
     "name": "stdout",
     "output_type": "stream",
     "text": [
      "#epoch: 927 \n",
      " train_loss: 2.821e-01 train_acc: 0.903 \n",
      " val_loss: 5.095e+00 val_acc: 0.350 time: 56\n",
      "\n"
     ]
    },
    {
     "name": "stderr",
     "output_type": "stream",
     "text": [
      "100%|██████████| 18/18 [00:00<00:00, 131.59it/s]\n"
     ]
    },
    {
     "name": "stdout",
     "output_type": "stream",
     "text": [
      "#epoch: 928 \n",
      " train_loss: 2.358e-01 train_acc: 0.903 \n",
      " val_loss: 8.590e+00 val_acc: 0.450 time: 56\n",
      "\n"
     ]
    },
    {
     "name": "stderr",
     "output_type": "stream",
     "text": [
      "100%|██████████| 18/18 [00:00<00:00, 128.61it/s]\n"
     ]
    },
    {
     "name": "stdout",
     "output_type": "stream",
     "text": [
      "#epoch: 929 \n",
      " train_loss: 2.320e-01 train_acc: 0.903 \n",
      " val_loss: 6.126e+00 val_acc: 0.250 time: 56\n",
      "\n"
     ]
    },
    {
     "name": "stderr",
     "output_type": "stream",
     "text": [
      "100%|██████████| 18/18 [00:00<00:00, 158.16it/s]\n"
     ]
    },
    {
     "name": "stdout",
     "output_type": "stream",
     "text": [
      "#epoch: 930 \n",
      " train_loss: 1.075e-01 train_acc: 0.958 \n",
      " val_loss: 3.834e+00 val_acc: 0.250 time: 56\n",
      "\n"
     ]
    },
    {
     "name": "stderr",
     "output_type": "stream",
     "text": [
      "100%|██████████| 18/18 [00:00<00:00, 136.69it/s]\n"
     ]
    },
    {
     "name": "stdout",
     "output_type": "stream",
     "text": [
      "#epoch: 931 \n",
      " train_loss: 1.220e-01 train_acc: 0.931 \n",
      " val_loss: 7.234e+00 val_acc: 0.400 time: 56\n",
      "\n"
     ]
    },
    {
     "name": "stderr",
     "output_type": "stream",
     "text": [
      "100%|██████████| 18/18 [00:00<00:00, 156.85it/s]\n"
     ]
    },
    {
     "name": "stdout",
     "output_type": "stream",
     "text": [
      "#epoch: 932 \n",
      " train_loss: 1.094e-01 train_acc: 0.958 \n",
      " val_loss: 3.637e+00 val_acc: 0.400 time: 56\n",
      "\n"
     ]
    },
    {
     "name": "stderr",
     "output_type": "stream",
     "text": [
      "100%|██████████| 18/18 [00:00<00:00, 155.66it/s]\n"
     ]
    },
    {
     "name": "stdout",
     "output_type": "stream",
     "text": [
      "#epoch: 933 \n",
      " train_loss: 7.941e-02 train_acc: 0.986 \n",
      " val_loss: 3.709e+00 val_acc: 0.450 time: 56\n",
      "\n"
     ]
    },
    {
     "name": "stderr",
     "output_type": "stream",
     "text": [
      "100%|██████████| 18/18 [00:00<00:00, 136.93it/s]\n"
     ]
    },
    {
     "name": "stdout",
     "output_type": "stream",
     "text": [
      "#epoch: 934 \n",
      " train_loss: 1.333e-01 train_acc: 0.944 \n",
      " val_loss: 5.356e+00 val_acc: 0.400 time: 56\n",
      "\n"
     ]
    },
    {
     "name": "stderr",
     "output_type": "stream",
     "text": [
      "100%|██████████| 18/18 [00:00<00:00, 191.16it/s]\n"
     ]
    },
    {
     "name": "stdout",
     "output_type": "stream",
     "text": [
      "#epoch: 935 \n",
      " train_loss: 1.741e-01 train_acc: 0.944 \n",
      " val_loss: 3.708e+00 val_acc: 0.450 time: 56\n",
      "\n"
     ]
    },
    {
     "name": "stderr",
     "output_type": "stream",
     "text": [
      "100%|██████████| 18/18 [00:00<00:00, 150.79it/s]\n"
     ]
    },
    {
     "name": "stdout",
     "output_type": "stream",
     "text": [
      "#epoch: 936 \n",
      " train_loss: 1.550e-01 train_acc: 0.972 \n",
      " val_loss: 5.024e+00 val_acc: 0.300 time: 56\n",
      "\n"
     ]
    },
    {
     "name": "stderr",
     "output_type": "stream",
     "text": [
      "100%|██████████| 18/18 [00:00<00:00, 160.06it/s]\n"
     ]
    },
    {
     "name": "stdout",
     "output_type": "stream",
     "text": [
      "#epoch: 937 \n",
      " train_loss: 1.215e-01 train_acc: 0.944 \n",
      " val_loss: 4.952e+00 val_acc: 0.300 time: 56\n",
      "\n"
     ]
    },
    {
     "name": "stderr",
     "output_type": "stream",
     "text": [
      "100%|██████████| 18/18 [00:00<00:00, 123.74it/s]\n"
     ]
    },
    {
     "name": "stdout",
     "output_type": "stream",
     "text": [
      "#epoch: 938 \n",
      " train_loss: 1.218e-01 train_acc: 0.944 \n",
      " val_loss: 4.523e+00 val_acc: 0.350 time: 56\n",
      "\n"
     ]
    },
    {
     "name": "stderr",
     "output_type": "stream",
     "text": [
      "100%|██████████| 18/18 [00:00<00:00, 125.39it/s]\n"
     ]
    },
    {
     "name": "stdout",
     "output_type": "stream",
     "text": [
      "#epoch: 939 \n",
      " train_loss: 1.827e-01 train_acc: 0.889 \n",
      " val_loss: 3.815e+00 val_acc: 0.400 time: 56\n",
      "\n"
     ]
    },
    {
     "name": "stderr",
     "output_type": "stream",
     "text": [
      "100%|██████████| 18/18 [00:00<00:00, 163.92it/s]\n"
     ]
    },
    {
     "name": "stdout",
     "output_type": "stream",
     "text": [
      "#epoch: 940 \n",
      " train_loss: 5.770e-01 train_acc: 0.903 \n",
      " val_loss: 5.289e+00 val_acc: 0.350 time: 56\n",
      "\n"
     ]
    },
    {
     "name": "stderr",
     "output_type": "stream",
     "text": [
      "100%|██████████| 18/18 [00:00<00:00, 145.27it/s]\n"
     ]
    },
    {
     "name": "stdout",
     "output_type": "stream",
     "text": [
      "#epoch: 941 \n",
      " train_loss: 3.256e-01 train_acc: 0.847 \n",
      " val_loss: 6.162e+00 val_acc: 0.250 time: 56\n",
      "\n"
     ]
    },
    {
     "name": "stderr",
     "output_type": "stream",
     "text": [
      "100%|██████████| 18/18 [00:00<00:00, 157.73it/s]\n"
     ]
    },
    {
     "name": "stdout",
     "output_type": "stream",
     "text": [
      "#epoch: 942 \n",
      " train_loss: 2.761e-01 train_acc: 0.847 \n",
      " val_loss: 1.081e+01 val_acc: 0.300 time: 56\n",
      "\n"
     ]
    },
    {
     "name": "stderr",
     "output_type": "stream",
     "text": [
      "100%|██████████| 18/18 [00:00<00:00, 181.82it/s]\n"
     ]
    },
    {
     "name": "stdout",
     "output_type": "stream",
     "text": [
      "#epoch: 943 \n",
      " train_loss: 9.591e-01 train_acc: 0.778 \n",
      " val_loss: 3.148e+00 val_acc: 0.400 time: 56\n",
      "\n"
     ]
    },
    {
     "name": "stderr",
     "output_type": "stream",
     "text": [
      "100%|██████████| 18/18 [00:00<00:00, 181.94it/s]\n"
     ]
    },
    {
     "name": "stdout",
     "output_type": "stream",
     "text": [
      "#epoch: 944 \n",
      " train_loss: 4.079e-01 train_acc: 0.819 \n",
      " val_loss: 3.835e+00 val_acc: 0.250 time: 56\n",
      "\n"
     ]
    },
    {
     "name": "stderr",
     "output_type": "stream",
     "text": [
      "100%|██████████| 18/18 [00:00<00:00, 151.78it/s]\n"
     ]
    },
    {
     "name": "stdout",
     "output_type": "stream",
     "text": [
      "#epoch: 945 \n",
      " train_loss: 4.226e-01 train_acc: 0.819 \n",
      " val_loss: 4.039e+00 val_acc: 0.350 time: 56\n",
      "\n"
     ]
    },
    {
     "name": "stderr",
     "output_type": "stream",
     "text": [
      "100%|██████████| 18/18 [00:00<00:00, 64.40it/s]\n"
     ]
    },
    {
     "name": "stdout",
     "output_type": "stream",
     "text": [
      "#epoch: 946 \n",
      " train_loss: 6.092e-01 train_acc: 0.764 \n",
      " val_loss: 3.539e+00 val_acc: 0.250 time: 56\n",
      "\n"
     ]
    },
    {
     "name": "stderr",
     "output_type": "stream",
     "text": [
      "100%|██████████| 18/18 [00:00<00:00, 141.55it/s]\n"
     ]
    },
    {
     "name": "stdout",
     "output_type": "stream",
     "text": [
      "#epoch: 947 \n",
      " train_loss: 4.029e-01 train_acc: 0.819 \n",
      " val_loss: 3.608e+00 val_acc: 0.350 time: 56\n",
      "\n"
     ]
    },
    {
     "name": "stderr",
     "output_type": "stream",
     "text": [
      "100%|██████████| 18/18 [00:00<00:00, 131.29it/s]\n"
     ]
    },
    {
     "name": "stdout",
     "output_type": "stream",
     "text": [
      "#epoch: 948 \n",
      " train_loss: 3.277e-01 train_acc: 0.903 \n",
      " val_loss: 5.115e+00 val_acc: 0.400 time: 56\n",
      "\n"
     ]
    },
    {
     "name": "stderr",
     "output_type": "stream",
     "text": [
      "100%|██████████| 18/18 [00:00<00:00, 195.95it/s]\n"
     ]
    },
    {
     "name": "stdout",
     "output_type": "stream",
     "text": [
      "#epoch: 949 \n",
      " train_loss: 1.091e-01 train_acc: 0.972 \n",
      " val_loss: 3.414e+00 val_acc: 0.400 time: 56\n",
      "\n"
     ]
    },
    {
     "name": "stderr",
     "output_type": "stream",
     "text": [
      "100%|██████████| 18/18 [00:00<00:00, 157.47it/s]\n"
     ]
    },
    {
     "name": "stdout",
     "output_type": "stream",
     "text": [
      "#epoch: 950 \n",
      " train_loss: 2.767e-01 train_acc: 0.931 \n",
      " val_loss: 3.070e+00 val_acc: 0.400 time: 56\n",
      "\n"
     ]
    },
    {
     "name": "stderr",
     "output_type": "stream",
     "text": [
      "100%|██████████| 18/18 [00:00<00:00, 134.10it/s]\n"
     ]
    },
    {
     "name": "stdout",
     "output_type": "stream",
     "text": [
      "#epoch: 951 \n",
      " train_loss: 5.103e-01 train_acc: 0.819 \n",
      " val_loss: 2.554e+00 val_acc: 0.400 time: 56\n",
      "\n"
     ]
    },
    {
     "name": "stderr",
     "output_type": "stream",
     "text": [
      "100%|██████████| 18/18 [00:00<00:00, 124.01it/s]\n"
     ]
    },
    {
     "name": "stdout",
     "output_type": "stream",
     "text": [
      "#epoch: 952 \n",
      " train_loss: 3.597e-01 train_acc: 0.833 \n",
      " val_loss: 2.779e+00 val_acc: 0.400 time: 56\n",
      "\n"
     ]
    },
    {
     "name": "stderr",
     "output_type": "stream",
     "text": [
      "100%|██████████| 18/18 [00:00<00:00, 135.92it/s]\n"
     ]
    },
    {
     "name": "stdout",
     "output_type": "stream",
     "text": [
      "#epoch: 953 \n",
      " train_loss: 9.656e-02 train_acc: 0.972 \n",
      " val_loss: 4.174e+00 val_acc: 0.300 time: 56\n",
      "\n"
     ]
    },
    {
     "name": "stderr",
     "output_type": "stream",
     "text": [
      "100%|██████████| 18/18 [00:00<00:00, 134.98it/s]\n"
     ]
    },
    {
     "name": "stdout",
     "output_type": "stream",
     "text": [
      "#epoch: 954 \n",
      " train_loss: 1.313e-01 train_acc: 0.931 \n",
      " val_loss: 3.740e+00 val_acc: 0.500 time: 56\n",
      "\n"
     ]
    },
    {
     "name": "stderr",
     "output_type": "stream",
     "text": [
      "100%|██████████| 18/18 [00:00<00:00, 146.28it/s]\n"
     ]
    },
    {
     "name": "stdout",
     "output_type": "stream",
     "text": [
      "#epoch: 955 \n",
      " train_loss: 1.060e-01 train_acc: 0.986 \n",
      " val_loss: 3.415e+00 val_acc: 0.400 time: 56\n",
      "\n"
     ]
    },
    {
     "name": "stderr",
     "output_type": "stream",
     "text": [
      "100%|██████████| 18/18 [00:00<00:00, 178.42it/s]\n"
     ]
    },
    {
     "name": "stdout",
     "output_type": "stream",
     "text": [
      "#epoch: 956 \n",
      " train_loss: 1.060e-01 train_acc: 0.986 \n",
      " val_loss: 3.156e+00 val_acc: 0.350 time: 56\n",
      "\n"
     ]
    },
    {
     "name": "stderr",
     "output_type": "stream",
     "text": [
      "100%|██████████| 18/18 [00:00<00:00, 164.89it/s]\n"
     ]
    },
    {
     "name": "stdout",
     "output_type": "stream",
     "text": [
      "#epoch: 957 \n",
      " train_loss: 1.506e-01 train_acc: 0.944 \n",
      " val_loss: 3.906e+00 val_acc: 0.400 time: 56\n",
      "\n"
     ]
    },
    {
     "name": "stderr",
     "output_type": "stream",
     "text": [
      "100%|██████████| 18/18 [00:00<00:00, 187.20it/s]\n"
     ]
    },
    {
     "name": "stdout",
     "output_type": "stream",
     "text": [
      "#epoch: 958 \n",
      " train_loss: 8.836e-02 train_acc: 0.972 \n",
      " val_loss: 4.208e+00 val_acc: 0.200 time: 56\n",
      "\n"
     ]
    },
    {
     "name": "stderr",
     "output_type": "stream",
     "text": [
      "100%|██████████| 18/18 [00:00<00:00, 137.92it/s]\n"
     ]
    },
    {
     "name": "stdout",
     "output_type": "stream",
     "text": [
      "#epoch: 959 \n",
      " train_loss: 9.477e-02 train_acc: 0.958 \n",
      " val_loss: 4.066e+00 val_acc: 0.400 time: 56\n",
      "\n"
     ]
    },
    {
     "name": "stderr",
     "output_type": "stream",
     "text": [
      "100%|██████████| 18/18 [00:00<00:00, 169.32it/s]\n"
     ]
    },
    {
     "name": "stdout",
     "output_type": "stream",
     "text": [
      "#epoch: 960 \n",
      " train_loss: 9.210e-02 train_acc: 0.958 \n",
      " val_loss: 3.588e+00 val_acc: 0.400 time: 56\n",
      "\n"
     ]
    },
    {
     "name": "stderr",
     "output_type": "stream",
     "text": [
      "100%|██████████| 18/18 [00:00<00:00, 139.23it/s]\n"
     ]
    },
    {
     "name": "stdout",
     "output_type": "stream",
     "text": [
      "#epoch: 961 \n",
      " train_loss: 6.882e-02 train_acc: 0.972 \n",
      " val_loss: 3.722e+00 val_acc: 0.400 time: 56\n",
      "\n"
     ]
    },
    {
     "name": "stderr",
     "output_type": "stream",
     "text": [
      "100%|██████████| 18/18 [00:00<00:00, 153.93it/s]\n"
     ]
    },
    {
     "name": "stdout",
     "output_type": "stream",
     "text": [
      "#epoch: 962 \n",
      " train_loss: 8.026e-02 train_acc: 0.972 \n",
      " val_loss: 3.854e+00 val_acc: 0.300 time: 56\n",
      "\n"
     ]
    },
    {
     "name": "stderr",
     "output_type": "stream",
     "text": [
      "100%|██████████| 18/18 [00:00<00:00, 175.30it/s]\n"
     ]
    },
    {
     "name": "stdout",
     "output_type": "stream",
     "text": [
      "#epoch: 963 \n",
      " train_loss: 8.939e-02 train_acc: 0.958 \n",
      " val_loss: 3.924e+00 val_acc: 0.450 time: 56\n",
      "\n"
     ]
    },
    {
     "name": "stderr",
     "output_type": "stream",
     "text": [
      "100%|██████████| 18/18 [00:00<00:00, 155.14it/s]\n"
     ]
    },
    {
     "name": "stdout",
     "output_type": "stream",
     "text": [
      "#epoch: 964 \n",
      " train_loss: 1.547e-01 train_acc: 0.944 \n",
      " val_loss: 4.065e+00 val_acc: 0.400 time: 56\n",
      "\n"
     ]
    },
    {
     "name": "stderr",
     "output_type": "stream",
     "text": [
      "100%|██████████| 18/18 [00:00<00:00, 125.18it/s]\n"
     ]
    },
    {
     "name": "stdout",
     "output_type": "stream",
     "text": [
      "#epoch: 965 \n",
      " train_loss: 1.145e-01 train_acc: 0.958 \n",
      " val_loss: 4.178e+00 val_acc: 0.350 time: 56\n",
      "\n"
     ]
    },
    {
     "name": "stderr",
     "output_type": "stream",
     "text": [
      "100%|██████████| 18/18 [00:00<00:00, 134.07it/s]\n"
     ]
    },
    {
     "name": "stdout",
     "output_type": "stream",
     "text": [
      "#epoch: 966 \n",
      " train_loss: 1.681e-01 train_acc: 0.931 \n",
      " val_loss: 4.242e+00 val_acc: 0.400 time: 56\n",
      "\n"
     ]
    },
    {
     "name": "stderr",
     "output_type": "stream",
     "text": [
      "100%|██████████| 18/18 [00:00<00:00, 146.64it/s]\n"
     ]
    },
    {
     "name": "stdout",
     "output_type": "stream",
     "text": [
      "#epoch: 967 \n",
      " train_loss: 1.815e-01 train_acc: 0.944 \n",
      " val_loss: 4.898e+00 val_acc: 0.400 time: 56\n",
      "\n"
     ]
    },
    {
     "name": "stderr",
     "output_type": "stream",
     "text": [
      "100%|██████████| 18/18 [00:00<00:00, 141.50it/s]\n"
     ]
    },
    {
     "name": "stdout",
     "output_type": "stream",
     "text": [
      "#epoch: 968 \n",
      " train_loss: 1.031e-01 train_acc: 0.972 \n",
      " val_loss: 3.691e+00 val_acc: 0.400 time: 56\n",
      "\n"
     ]
    },
    {
     "name": "stderr",
     "output_type": "stream",
     "text": [
      "100%|██████████| 18/18 [00:00<00:00, 137.26it/s]\n"
     ]
    },
    {
     "name": "stdout",
     "output_type": "stream",
     "text": [
      "#epoch: 969 \n",
      " train_loss: 9.380e-02 train_acc: 0.944 \n",
      " val_loss: 4.310e+00 val_acc: 0.400 time: 56\n",
      "\n"
     ]
    },
    {
     "name": "stderr",
     "output_type": "stream",
     "text": [
      "100%|██████████| 18/18 [00:00<00:00, 136.46it/s]\n"
     ]
    },
    {
     "name": "stdout",
     "output_type": "stream",
     "text": [
      "#epoch: 970 \n",
      " train_loss: 6.097e-02 train_acc: 0.972 \n",
      " val_loss: 4.588e+00 val_acc: 0.400 time: 56\n",
      "\n"
     ]
    },
    {
     "name": "stderr",
     "output_type": "stream",
     "text": [
      "100%|██████████| 18/18 [00:00<00:00, 116.96it/s]\n"
     ]
    },
    {
     "name": "stdout",
     "output_type": "stream",
     "text": [
      "#epoch: 971 \n",
      " train_loss: 4.498e-02 train_acc: 1.000 \n",
      " val_loss: 3.723e+00 val_acc: 0.300 time: 56\n",
      "\n"
     ]
    },
    {
     "name": "stderr",
     "output_type": "stream",
     "text": [
      "100%|██████████| 18/18 [00:00<00:00, 110.12it/s]\n"
     ]
    },
    {
     "name": "stdout",
     "output_type": "stream",
     "text": [
      "#epoch: 972 \n",
      " train_loss: 4.919e-02 train_acc: 0.986 \n",
      " val_loss: 4.325e+00 val_acc: 0.450 time: 56\n",
      "\n"
     ]
    },
    {
     "name": "stderr",
     "output_type": "stream",
     "text": [
      "100%|██████████| 18/18 [00:00<00:00, 159.56it/s]\n"
     ]
    },
    {
     "name": "stdout",
     "output_type": "stream",
     "text": [
      "#epoch: 973 \n",
      " train_loss: 7.637e-02 train_acc: 0.972 \n",
      " val_loss: 3.440e+00 val_acc: 0.500 time: 56\n",
      "\n"
     ]
    },
    {
     "name": "stderr",
     "output_type": "stream",
     "text": [
      "100%|██████████| 18/18 [00:00<00:00, 175.37it/s]\n"
     ]
    },
    {
     "name": "stdout",
     "output_type": "stream",
     "text": [
      "#epoch: 974 \n",
      " train_loss: 5.253e-02 train_acc: 0.986 \n",
      " val_loss: 4.832e+00 val_acc: 0.400 time: 56\n",
      "\n"
     ]
    },
    {
     "name": "stderr",
     "output_type": "stream",
     "text": [
      "100%|██████████| 18/18 [00:00<00:00, 124.05it/s]\n"
     ]
    },
    {
     "name": "stdout",
     "output_type": "stream",
     "text": [
      "#epoch: 975 \n",
      " train_loss: 1.111e-01 train_acc: 0.986 \n",
      " val_loss: 4.980e+00 val_acc: 0.300 time: 56\n",
      "\n"
     ]
    },
    {
     "name": "stderr",
     "output_type": "stream",
     "text": [
      "100%|██████████| 18/18 [00:00<00:00, 116.20it/s]\n"
     ]
    },
    {
     "name": "stdout",
     "output_type": "stream",
     "text": [
      "#epoch: 976 \n",
      " train_loss: 9.519e-02 train_acc: 0.972 \n",
      " val_loss: 4.216e+00 val_acc: 0.350 time: 56\n",
      "\n"
     ]
    },
    {
     "name": "stderr",
     "output_type": "stream",
     "text": [
      "100%|██████████| 18/18 [00:00<00:00, 140.22it/s]\n"
     ]
    },
    {
     "name": "stdout",
     "output_type": "stream",
     "text": [
      "#epoch: 977 \n",
      " train_loss: 6.470e-02 train_acc: 0.986 \n",
      " val_loss: 3.177e+00 val_acc: 0.400 time: 56\n",
      "\n"
     ]
    },
    {
     "name": "stderr",
     "output_type": "stream",
     "text": [
      "100%|██████████| 18/18 [00:00<00:00, 163.29it/s]\n"
     ]
    },
    {
     "name": "stdout",
     "output_type": "stream",
     "text": [
      "#epoch: 978 \n",
      " train_loss: 8.998e-02 train_acc: 0.958 \n",
      " val_loss: 4.123e+00 val_acc: 0.400 time: 56\n",
      "\n"
     ]
    },
    {
     "name": "stderr",
     "output_type": "stream",
     "text": [
      "100%|██████████| 18/18 [00:00<00:00, 128.10it/s]\n"
     ]
    },
    {
     "name": "stdout",
     "output_type": "stream",
     "text": [
      "#epoch: 979 \n",
      " train_loss: 3.091e-02 train_acc: 1.000 \n",
      " val_loss: 4.387e+00 val_acc: 0.350 time: 56\n",
      "\n"
     ]
    },
    {
     "name": "stderr",
     "output_type": "stream",
     "text": [
      "100%|██████████| 18/18 [00:00<00:00, 122.61it/s]\n"
     ]
    },
    {
     "name": "stdout",
     "output_type": "stream",
     "text": [
      "#epoch: 980 \n",
      " train_loss: 4.704e-02 train_acc: 0.986 \n",
      " val_loss: 4.662e+00 val_acc: 0.300 time: 56\n",
      "\n"
     ]
    },
    {
     "name": "stderr",
     "output_type": "stream",
     "text": [
      "100%|██████████| 18/18 [00:00<00:00, 145.83it/s]\n"
     ]
    },
    {
     "name": "stdout",
     "output_type": "stream",
     "text": [
      "#epoch: 981 \n",
      " train_loss: 4.345e-02 train_acc: 0.986 \n",
      " val_loss: 4.576e+00 val_acc: 0.400 time: 56\n",
      "\n"
     ]
    },
    {
     "name": "stderr",
     "output_type": "stream",
     "text": [
      "100%|██████████| 18/18 [00:00<00:00, 138.03it/s]\n"
     ]
    },
    {
     "name": "stdout",
     "output_type": "stream",
     "text": [
      "#epoch: 982 \n",
      " train_loss: 6.229e-02 train_acc: 0.972 \n",
      " val_loss: 4.752e+00 val_acc: 0.350 time: 56\n",
      "\n"
     ]
    },
    {
     "name": "stderr",
     "output_type": "stream",
     "text": [
      "100%|██████████| 18/18 [00:00<00:00, 154.14it/s]\n"
     ]
    },
    {
     "name": "stdout",
     "output_type": "stream",
     "text": [
      "#epoch: 983 \n",
      " train_loss: 8.106e-02 train_acc: 0.958 \n",
      " val_loss: 4.032e+00 val_acc: 0.350 time: 56\n",
      "\n"
     ]
    },
    {
     "name": "stderr",
     "output_type": "stream",
     "text": [
      "100%|██████████| 18/18 [00:00<00:00, 134.26it/s]\n"
     ]
    },
    {
     "name": "stdout",
     "output_type": "stream",
     "text": [
      "#epoch: 984 \n",
      " train_loss: 4.576e-02 train_acc: 0.986 \n",
      " val_loss: 4.257e+00 val_acc: 0.400 time: 56\n",
      "\n"
     ]
    },
    {
     "name": "stderr",
     "output_type": "stream",
     "text": [
      "100%|██████████| 18/18 [00:00<00:00, 135.62it/s]\n"
     ]
    },
    {
     "name": "stdout",
     "output_type": "stream",
     "text": [
      "#epoch: 985 \n",
      " train_loss: 4.092e-01 train_acc: 0.819 \n",
      " val_loss: 3.649e+00 val_acc: 0.450 time: 56\n",
      "\n"
     ]
    },
    {
     "name": "stderr",
     "output_type": "stream",
     "text": [
      "100%|██████████| 18/18 [00:00<00:00, 115.73it/s]\n"
     ]
    },
    {
     "name": "stdout",
     "output_type": "stream",
     "text": [
      "#epoch: 986 \n",
      " train_loss: 2.848e-01 train_acc: 0.917 \n",
      " val_loss: 4.227e+00 val_acc: 0.300 time: 56\n",
      "\n"
     ]
    },
    {
     "name": "stderr",
     "output_type": "stream",
     "text": [
      "100%|██████████| 18/18 [00:00<00:00, 114.52it/s]\n"
     ]
    },
    {
     "name": "stdout",
     "output_type": "stream",
     "text": [
      "#epoch: 987 \n",
      " train_loss: 5.744e-01 train_acc: 0.806 \n",
      " val_loss: 9.128e+00 val_acc: 0.450 time: 56\n",
      "\n"
     ]
    },
    {
     "name": "stderr",
     "output_type": "stream",
     "text": [
      "100%|██████████| 18/18 [00:00<00:00, 186.55it/s]\n"
     ]
    },
    {
     "name": "stdout",
     "output_type": "stream",
     "text": [
      "#epoch: 988 \n",
      " train_loss: 1.012e+00 train_acc: 0.694 \n",
      " val_loss: 3.881e+00 val_acc: 0.300 time: 56\n",
      "\n"
     ]
    },
    {
     "name": "stderr",
     "output_type": "stream",
     "text": [
      "100%|██████████| 18/18 [00:00<00:00, 126.95it/s]\n"
     ]
    },
    {
     "name": "stdout",
     "output_type": "stream",
     "text": [
      "#epoch: 989 \n",
      " train_loss: 8.390e-01 train_acc: 0.764 \n",
      " val_loss: 4.899e+00 val_acc: 0.350 time: 56\n",
      "\n"
     ]
    },
    {
     "name": "stderr",
     "output_type": "stream",
     "text": [
      "100%|██████████| 18/18 [00:00<00:00, 107.90it/s]\n"
     ]
    },
    {
     "name": "stdout",
     "output_type": "stream",
     "text": [
      "#epoch: 990 \n",
      " train_loss: 5.939e-01 train_acc: 0.764 \n",
      " val_loss: 1.140e+01 val_acc: 0.350 time: 56\n",
      "\n"
     ]
    },
    {
     "name": "stderr",
     "output_type": "stream",
     "text": [
      "100%|██████████| 18/18 [00:00<00:00, 150.02it/s]\n"
     ]
    },
    {
     "name": "stdout",
     "output_type": "stream",
     "text": [
      "#epoch: 991 \n",
      " train_loss: 6.388e-01 train_acc: 0.722 \n",
      " val_loss: 2.386e+00 val_acc: 0.400 time: 56\n",
      "\n"
     ]
    },
    {
     "name": "stderr",
     "output_type": "stream",
     "text": [
      "100%|██████████| 18/18 [00:00<00:00, 138.31it/s]\n"
     ]
    },
    {
     "name": "stdout",
     "output_type": "stream",
     "text": [
      "#epoch: 992 \n",
      " train_loss: 2.810e-01 train_acc: 0.875 \n",
      " val_loss: 3.009e+00 val_acc: 0.400 time: 56\n",
      "\n"
     ]
    },
    {
     "name": "stderr",
     "output_type": "stream",
     "text": [
      "100%|██████████| 18/18 [00:00<00:00, 92.43it/s]\n"
     ]
    },
    {
     "name": "stdout",
     "output_type": "stream",
     "text": [
      "#epoch: 993 \n",
      " train_loss: 2.804e-01 train_acc: 0.889 \n",
      " val_loss: 3.846e+00 val_acc: 0.500 time: 56\n",
      "\n"
     ]
    },
    {
     "name": "stderr",
     "output_type": "stream",
     "text": [
      "100%|██████████| 18/18 [00:00<00:00, 115.68it/s]\n"
     ]
    },
    {
     "name": "stdout",
     "output_type": "stream",
     "text": [
      "#epoch: 994 \n",
      " train_loss: 1.907e-01 train_acc: 0.958 \n",
      " val_loss: 3.875e+00 val_acc: 0.350 time: 56\n",
      "\n"
     ]
    },
    {
     "name": "stderr",
     "output_type": "stream",
     "text": [
      "100%|██████████| 18/18 [00:00<00:00, 105.03it/s]\n"
     ]
    },
    {
     "name": "stdout",
     "output_type": "stream",
     "text": [
      "#epoch: 995 \n",
      " train_loss: 2.036e-01 train_acc: 0.917 \n",
      " val_loss: 3.989e+00 val_acc: 0.500 time: 56\n",
      "\n"
     ]
    },
    {
     "name": "stderr",
     "output_type": "stream",
     "text": [
      "100%|██████████| 18/18 [00:00<00:00, 111.24it/s]\n"
     ]
    },
    {
     "name": "stdout",
     "output_type": "stream",
     "text": [
      "#epoch: 996 \n",
      " train_loss: 1.450e-01 train_acc: 0.931 \n",
      " val_loss: 4.011e+00 val_acc: 0.300 time: 56\n",
      "\n"
     ]
    },
    {
     "name": "stderr",
     "output_type": "stream",
     "text": [
      "100%|██████████| 18/18 [00:00<00:00, 98.32it/s] \n"
     ]
    },
    {
     "name": "stdout",
     "output_type": "stream",
     "text": [
      "#epoch: 997 \n",
      " train_loss: 1.517e-01 train_acc: 0.931 \n",
      " val_loss: 4.730e+00 val_acc: 0.450 time: 56\n",
      "\n"
     ]
    },
    {
     "name": "stderr",
     "output_type": "stream",
     "text": [
      "100%|██████████| 18/18 [00:00<00:00, 129.09it/s]\n"
     ]
    },
    {
     "name": "stdout",
     "output_type": "stream",
     "text": [
      "#epoch: 998 \n",
      " train_loss: 1.010e-01 train_acc: 0.972 \n",
      " val_loss: 5.954e+00 val_acc: 0.400 time: 56\n",
      "\n"
     ]
    },
    {
     "name": "stderr",
     "output_type": "stream",
     "text": [
      "100%|██████████| 18/18 [00:00<00:00, 119.17it/s]\n"
     ]
    },
    {
     "name": "stdout",
     "output_type": "stream",
     "text": [
      "#epoch: 999 \n",
      " train_loss: 6.669e-02 train_acc: 1.000 \n",
      " val_loss: 5.591e+00 val_acc: 0.350 time: 56\n",
      "\n"
     ]
    },
    {
     "name": "stderr",
     "output_type": "stream",
     "text": [
      "100%|██████████| 18/18 [00:00<00:00, 139.11it/s]\n"
     ]
    },
    {
     "name": "stdout",
     "output_type": "stream",
     "text": [
      "#epoch: 1000 \n",
      " train_loss: 7.752e-02 train_acc: 0.972 \n",
      " val_loss: 4.320e+00 val_acc: 0.350 time: 56\n",
      "\n"
     ]
    },
    {
     "name": "stderr",
     "output_type": "stream",
     "text": [
      "100%|██████████| 18/18 [00:00<00:00, 107.61it/s]\n"
     ]
    },
    {
     "name": "stdout",
     "output_type": "stream",
     "text": [
      "#epoch: 1001 \n",
      " train_loss: 1.465e-01 train_acc: 0.944 \n",
      " val_loss: 5.021e+00 val_acc: 0.250 time: 56\n",
      "\n"
     ]
    },
    {
     "name": "stderr",
     "output_type": "stream",
     "text": [
      "100%|██████████| 18/18 [00:00<00:00, 118.94it/s]\n"
     ]
    },
    {
     "name": "stdout",
     "output_type": "stream",
     "text": [
      "#epoch: 1002 \n",
      " train_loss: 1.985e-01 train_acc: 0.917 \n",
      " val_loss: 3.697e+00 val_acc: 0.400 time: 56\n",
      "\n"
     ]
    },
    {
     "name": "stderr",
     "output_type": "stream",
     "text": [
      "100%|██████████| 18/18 [00:00<00:00, 112.94it/s]\n"
     ]
    },
    {
     "name": "stdout",
     "output_type": "stream",
     "text": [
      "#epoch: 1003 \n",
      " train_loss: 1.381e-01 train_acc: 0.944 \n",
      " val_loss: 4.399e+00 val_acc: 0.350 time: 56\n",
      "\n"
     ]
    },
    {
     "name": "stderr",
     "output_type": "stream",
     "text": [
      "100%|██████████| 18/18 [00:00<00:00, 95.09it/s]\n"
     ]
    },
    {
     "name": "stdout",
     "output_type": "stream",
     "text": [
      "#epoch: 1004 \n",
      " train_loss: 7.299e-02 train_acc: 0.958 \n",
      " val_loss: 3.835e+00 val_acc: 0.400 time: 56\n",
      "\n"
     ]
    },
    {
     "name": "stderr",
     "output_type": "stream",
     "text": [
      "100%|██████████| 18/18 [00:00<00:00, 56.51it/s]\n"
     ]
    },
    {
     "name": "stdout",
     "output_type": "stream",
     "text": [
      "#epoch: 1005 \n",
      " train_loss: 3.166e-01 train_acc: 0.944 \n",
      " val_loss: 7.830e+00 val_acc: 0.300 time: 56\n",
      "\n"
     ]
    },
    {
     "name": "stderr",
     "output_type": "stream",
     "text": [
      "100%|██████████| 18/18 [00:00<00:00, 112.43it/s]\n"
     ]
    },
    {
     "name": "stdout",
     "output_type": "stream",
     "text": [
      "#epoch: 1006 \n",
      " train_loss: 4.589e-01 train_acc: 0.806 \n",
      " val_loss: 3.523e+00 val_acc: 0.200 time: 56\n",
      "\n"
     ]
    },
    {
     "name": "stderr",
     "output_type": "stream",
     "text": [
      "100%|██████████| 18/18 [00:00<00:00, 144.05it/s]\n"
     ]
    },
    {
     "name": "stdout",
     "output_type": "stream",
     "text": [
      "#epoch: 1007 \n",
      " train_loss: 6.198e-01 train_acc: 0.889 \n",
      " val_loss: 1.983e+01 val_acc: 0.300 time: 56\n",
      "\n"
     ]
    },
    {
     "name": "stderr",
     "output_type": "stream",
     "text": [
      "100%|██████████| 18/18 [00:00<00:00, 165.66it/s]\n"
     ]
    },
    {
     "name": "stdout",
     "output_type": "stream",
     "text": [
      "#epoch: 1008 \n",
      " train_loss: 7.912e-01 train_acc: 0.708 \n",
      " val_loss: 1.733e+00 val_acc: 0.350 time: 56\n",
      "\n"
     ]
    },
    {
     "name": "stderr",
     "output_type": "stream",
     "text": [
      "100%|██████████| 18/18 [00:00<00:00, 191.29it/s]\n"
     ]
    },
    {
     "name": "stdout",
     "output_type": "stream",
     "text": [
      "#epoch: 1009 \n",
      " train_loss: 8.008e-01 train_acc: 0.722 \n",
      " val_loss: 3.128e+00 val_acc: 0.300 time: 56\n",
      "\n"
     ]
    },
    {
     "name": "stderr",
     "output_type": "stream",
     "text": [
      "100%|██████████| 18/18 [00:00<00:00, 133.61it/s]\n"
     ]
    },
    {
     "name": "stdout",
     "output_type": "stream",
     "text": [
      "#epoch: 1010 \n",
      " train_loss: 4.611e-01 train_acc: 0.819 \n",
      " val_loss: 3.384e+00 val_acc: 0.300 time: 56\n",
      "\n"
     ]
    },
    {
     "name": "stderr",
     "output_type": "stream",
     "text": [
      "100%|██████████| 18/18 [00:00<00:00, 144.52it/s]\n"
     ]
    },
    {
     "name": "stdout",
     "output_type": "stream",
     "text": [
      "#epoch: 1011 \n",
      " train_loss: 3.871e-01 train_acc: 0.847 \n",
      " val_loss: 4.220e+00 val_acc: 0.250 time: 56\n",
      "\n"
     ]
    },
    {
     "name": "stderr",
     "output_type": "stream",
     "text": [
      "100%|██████████| 18/18 [00:00<00:00, 180.83it/s]\n"
     ]
    },
    {
     "name": "stdout",
     "output_type": "stream",
     "text": [
      "#epoch: 1012 \n",
      " train_loss: 3.811e-01 train_acc: 0.847 \n",
      " val_loss: 4.177e+00 val_acc: 0.300 time: 56\n",
      "\n"
     ]
    },
    {
     "name": "stderr",
     "output_type": "stream",
     "text": [
      "100%|██████████| 18/18 [00:00<00:00, 183.95it/s]\n"
     ]
    },
    {
     "name": "stdout",
     "output_type": "stream",
     "text": [
      "#epoch: 1013 \n",
      " train_loss: 2.485e-01 train_acc: 0.903 \n",
      " val_loss: 2.784e+00 val_acc: 0.450 time: 56\n",
      "\n"
     ]
    },
    {
     "name": "stderr",
     "output_type": "stream",
     "text": [
      "100%|██████████| 18/18 [00:00<00:00, 192.53it/s]\n"
     ]
    },
    {
     "name": "stdout",
     "output_type": "stream",
     "text": [
      "#epoch: 1014 \n",
      " train_loss: 1.602e-01 train_acc: 0.931 \n",
      " val_loss: 3.528e+00 val_acc: 0.450 time: 56\n",
      "\n"
     ]
    },
    {
     "name": "stderr",
     "output_type": "stream",
     "text": [
      "100%|██████████| 18/18 [00:00<00:00, 183.75it/s]\n"
     ]
    },
    {
     "name": "stdout",
     "output_type": "stream",
     "text": [
      "#epoch: 1015 \n",
      " train_loss: 1.428e-01 train_acc: 0.944 \n",
      " val_loss: 3.884e+00 val_acc: 0.300 time: 56\n",
      "\n"
     ]
    },
    {
     "name": "stderr",
     "output_type": "stream",
     "text": [
      "100%|██████████| 18/18 [00:00<00:00, 161.15it/s]\n"
     ]
    },
    {
     "name": "stdout",
     "output_type": "stream",
     "text": [
      "#epoch: 1016 \n",
      " train_loss: 1.289e-01 train_acc: 0.958 \n",
      " val_loss: 3.709e+00 val_acc: 0.350 time: 56\n",
      "\n"
     ]
    },
    {
     "name": "stderr",
     "output_type": "stream",
     "text": [
      "100%|██████████| 18/18 [00:00<00:00, 143.09it/s]\n"
     ]
    },
    {
     "name": "stdout",
     "output_type": "stream",
     "text": [
      "#epoch: 1017 \n",
      " train_loss: 7.684e-02 train_acc: 0.986 \n",
      " val_loss: 3.459e+00 val_acc: 0.350 time: 56\n",
      "\n"
     ]
    },
    {
     "name": "stderr",
     "output_type": "stream",
     "text": [
      "100%|██████████| 18/18 [00:00<00:00, 155.94it/s]\n"
     ]
    },
    {
     "name": "stdout",
     "output_type": "stream",
     "text": [
      "#epoch: 1018 \n",
      " train_loss: 1.599e-01 train_acc: 0.917 \n",
      " val_loss: 3.552e+00 val_acc: 0.350 time: 56\n",
      "\n"
     ]
    },
    {
     "name": "stderr",
     "output_type": "stream",
     "text": [
      "100%|██████████| 18/18 [00:00<00:00, 149.64it/s]\n"
     ]
    },
    {
     "name": "stdout",
     "output_type": "stream",
     "text": [
      "#epoch: 1019 \n",
      " train_loss: 3.003e-01 train_acc: 0.903 \n",
      " val_loss: 3.925e+00 val_acc: 0.500 time: 56\n",
      "\n"
     ]
    },
    {
     "name": "stderr",
     "output_type": "stream",
     "text": [
      "100%|██████████| 18/18 [00:00<00:00, 158.67it/s]\n"
     ]
    },
    {
     "name": "stdout",
     "output_type": "stream",
     "text": [
      "#epoch: 1020 \n",
      " train_loss: 2.116e-01 train_acc: 0.903 \n",
      " val_loss: 6.341e+00 val_acc: 0.350 time: 56\n",
      "\n"
     ]
    },
    {
     "name": "stderr",
     "output_type": "stream",
     "text": [
      "100%|██████████| 18/18 [00:00<00:00, 186.05it/s]\n"
     ]
    },
    {
     "name": "stdout",
     "output_type": "stream",
     "text": [
      "#epoch: 1021 \n",
      " train_loss: 2.048e-01 train_acc: 0.931 \n",
      " val_loss: 2.963e+00 val_acc: 0.450 time: 56\n",
      "\n"
     ]
    },
    {
     "name": "stderr",
     "output_type": "stream",
     "text": [
      "100%|██████████| 18/18 [00:00<00:00, 182.74it/s]\n"
     ]
    },
    {
     "name": "stdout",
     "output_type": "stream",
     "text": [
      "#epoch: 1022 \n",
      " train_loss: 1.567e-01 train_acc: 0.958 \n",
      " val_loss: 4.240e+00 val_acc: 0.400 time: 56\n",
      "\n"
     ]
    },
    {
     "name": "stderr",
     "output_type": "stream",
     "text": [
      "100%|██████████| 18/18 [00:00<00:00, 154.06it/s]\n"
     ]
    },
    {
     "name": "stdout",
     "output_type": "stream",
     "text": [
      "#epoch: 1023 \n",
      " train_loss: 1.153e-01 train_acc: 0.944 \n",
      " val_loss: 3.846e+00 val_acc: 0.350 time: 56\n",
      "\n"
     ]
    },
    {
     "name": "stderr",
     "output_type": "stream",
     "text": [
      "100%|██████████| 18/18 [00:00<00:00, 176.73it/s]\n"
     ]
    },
    {
     "name": "stdout",
     "output_type": "stream",
     "text": [
      "#epoch: 1024 \n",
      " train_loss: 1.555e-01 train_acc: 0.944 \n",
      " val_loss: 3.293e+00 val_acc: 0.450 time: 56\n",
      "\n"
     ]
    },
    {
     "name": "stderr",
     "output_type": "stream",
     "text": [
      "100%|██████████| 18/18 [00:00<00:00, 194.70it/s]\n"
     ]
    },
    {
     "name": "stdout",
     "output_type": "stream",
     "text": [
      "#epoch: 1025 \n",
      " train_loss: 1.418e-01 train_acc: 0.931 \n",
      " val_loss: 4.045e+00 val_acc: 0.500 time: 56\n",
      "\n"
     ]
    },
    {
     "name": "stderr",
     "output_type": "stream",
     "text": [
      "100%|██████████| 18/18 [00:00<00:00, 163.60it/s]\n"
     ]
    },
    {
     "name": "stdout",
     "output_type": "stream",
     "text": [
      "#epoch: 1026 \n",
      " train_loss: 6.616e-02 train_acc: 1.000 \n",
      " val_loss: 4.802e+00 val_acc: 0.450 time: 56\n",
      "\n"
     ]
    },
    {
     "name": "stderr",
     "output_type": "stream",
     "text": [
      "100%|██████████| 18/18 [00:00<00:00, 179.62it/s]\n"
     ]
    },
    {
     "name": "stdout",
     "output_type": "stream",
     "text": [
      "#epoch: 1027 \n",
      " train_loss: 8.734e-02 train_acc: 0.958 \n",
      " val_loss: 4.651e+00 val_acc: 0.400 time: 56\n",
      "\n"
     ]
    },
    {
     "name": "stderr",
     "output_type": "stream",
     "text": [
      "100%|██████████| 18/18 [00:00<00:00, 151.04it/s]\n"
     ]
    },
    {
     "name": "stdout",
     "output_type": "stream",
     "text": [
      "#epoch: 1028 \n",
      " train_loss: 9.172e-02 train_acc: 0.972 \n",
      " val_loss: 4.117e+00 val_acc: 0.450 time: 56\n",
      "\n"
     ]
    },
    {
     "name": "stderr",
     "output_type": "stream",
     "text": [
      "100%|██████████| 18/18 [00:00<00:00, 181.24it/s]\n"
     ]
    },
    {
     "name": "stdout",
     "output_type": "stream",
     "text": [
      "#epoch: 1029 \n",
      " train_loss: 4.552e-02 train_acc: 1.000 \n",
      " val_loss: 4.027e+00 val_acc: 0.400 time: 56\n",
      "\n"
     ]
    },
    {
     "name": "stderr",
     "output_type": "stream",
     "text": [
      "100%|██████████| 18/18 [00:00<00:00, 165.26it/s]\n"
     ]
    },
    {
     "name": "stdout",
     "output_type": "stream",
     "text": [
      "#epoch: 1030 \n",
      " train_loss: 2.270e-01 train_acc: 0.931 \n",
      " val_loss: 3.932e+00 val_acc: 0.450 time: 56\n",
      "\n"
     ]
    },
    {
     "name": "stderr",
     "output_type": "stream",
     "text": [
      "100%|██████████| 18/18 [00:00<00:00, 185.88it/s]\n"
     ]
    },
    {
     "name": "stdout",
     "output_type": "stream",
     "text": [
      "#epoch: 1031 \n",
      " train_loss: 1.264e-01 train_acc: 0.958 \n",
      " val_loss: 3.950e+00 val_acc: 0.350 time: 56\n",
      "\n"
     ]
    },
    {
     "name": "stderr",
     "output_type": "stream",
     "text": [
      "100%|██████████| 18/18 [00:00<00:00, 180.52it/s]\n"
     ]
    },
    {
     "name": "stdout",
     "output_type": "stream",
     "text": [
      "#epoch: 1032 \n",
      " train_loss: 1.396e-01 train_acc: 0.944 \n",
      " val_loss: 7.203e+00 val_acc: 0.350 time: 56\n",
      "\n"
     ]
    },
    {
     "name": "stderr",
     "output_type": "stream",
     "text": [
      "100%|██████████| 18/18 [00:00<00:00, 168.42it/s]\n"
     ]
    },
    {
     "name": "stdout",
     "output_type": "stream",
     "text": [
      "#epoch: 1033 \n",
      " train_loss: 6.565e-02 train_acc: 0.986 \n",
      " val_loss: 4.221e+00 val_acc: 0.400 time: 56\n",
      "\n"
     ]
    },
    {
     "name": "stderr",
     "output_type": "stream",
     "text": [
      "100%|██████████| 18/18 [00:00<00:00, 147.55it/s]\n"
     ]
    },
    {
     "name": "stdout",
     "output_type": "stream",
     "text": [
      "#epoch: 1034 \n",
      " train_loss: 8.967e-02 train_acc: 0.958 \n",
      " val_loss: 4.305e+00 val_acc: 0.350 time: 56\n",
      "\n"
     ]
    },
    {
     "name": "stderr",
     "output_type": "stream",
     "text": [
      "100%|██████████| 18/18 [00:00<00:00, 141.39it/s]\n"
     ]
    },
    {
     "name": "stdout",
     "output_type": "stream",
     "text": [
      "#epoch: 1035 \n",
      " train_loss: 8.890e-02 train_acc: 0.958 \n",
      " val_loss: 4.019e+00 val_acc: 0.450 time: 56\n",
      "\n"
     ]
    },
    {
     "name": "stderr",
     "output_type": "stream",
     "text": [
      "100%|██████████| 18/18 [00:00<00:00, 184.56it/s]\n"
     ]
    },
    {
     "name": "stdout",
     "output_type": "stream",
     "text": [
      "#epoch: 1036 \n",
      " train_loss: 2.531e-01 train_acc: 0.903 \n",
      " val_loss: 3.795e+00 val_acc: 0.250 time: 56\n",
      "\n"
     ]
    },
    {
     "name": "stderr",
     "output_type": "stream",
     "text": [
      "100%|██████████| 18/18 [00:00<00:00, 189.14it/s]\n"
     ]
    },
    {
     "name": "stdout",
     "output_type": "stream",
     "text": [
      "#epoch: 1037 \n",
      " train_loss: 2.143e-01 train_acc: 0.903 \n",
      " val_loss: 3.880e+00 val_acc: 0.400 time: 56\n",
      "\n"
     ]
    },
    {
     "name": "stderr",
     "output_type": "stream",
     "text": [
      "100%|██████████| 18/18 [00:00<00:00, 187.11it/s]\n"
     ]
    },
    {
     "name": "stdout",
     "output_type": "stream",
     "text": [
      "#epoch: 1038 \n",
      " train_loss: 3.546e-01 train_acc: 0.847 \n",
      " val_loss: 4.282e+00 val_acc: 0.350 time: 56\n",
      "\n"
     ]
    },
    {
     "name": "stderr",
     "output_type": "stream",
     "text": [
      "100%|██████████| 18/18 [00:00<00:00, 190.19it/s]\n"
     ]
    },
    {
     "name": "stdout",
     "output_type": "stream",
     "text": [
      "#epoch: 1039 \n",
      " train_loss: 3.271e-01 train_acc: 0.847 \n",
      " val_loss: 4.042e+00 val_acc: 0.400 time: 56\n",
      "\n"
     ]
    },
    {
     "name": "stderr",
     "output_type": "stream",
     "text": [
      "100%|██████████| 18/18 [00:00<00:00, 135.37it/s]\n"
     ]
    },
    {
     "name": "stdout",
     "output_type": "stream",
     "text": [
      "#epoch: 1040 \n",
      " train_loss: 1.788e-01 train_acc: 0.917 \n",
      " val_loss: 4.474e+00 val_acc: 0.350 time: 56\n",
      "\n"
     ]
    },
    {
     "name": "stderr",
     "output_type": "stream",
     "text": [
      "100%|██████████| 18/18 [00:00<00:00, 182.57it/s]\n"
     ]
    },
    {
     "name": "stdout",
     "output_type": "stream",
     "text": [
      "#epoch: 1041 \n",
      " train_loss: 2.183e-01 train_acc: 0.875 \n",
      " val_loss: 4.358e+00 val_acc: 0.400 time: 56\n",
      "\n"
     ]
    },
    {
     "name": "stderr",
     "output_type": "stream",
     "text": [
      "100%|██████████| 18/18 [00:00<00:00, 170.59it/s]\n"
     ]
    },
    {
     "name": "stdout",
     "output_type": "stream",
     "text": [
      "#epoch: 1042 \n",
      " train_loss: 2.381e-01 train_acc: 0.903 \n",
      " val_loss: 4.904e+00 val_acc: 0.250 time: 56\n",
      "\n"
     ]
    },
    {
     "name": "stderr",
     "output_type": "stream",
     "text": [
      "100%|██████████| 18/18 [00:00<00:00, 169.25it/s]\n"
     ]
    },
    {
     "name": "stdout",
     "output_type": "stream",
     "text": [
      "#epoch: 1043 \n",
      " train_loss: 2.370e-01 train_acc: 0.903 \n",
      " val_loss: 3.552e+00 val_acc: 0.400 time: 56\n",
      "\n"
     ]
    },
    {
     "name": "stderr",
     "output_type": "stream",
     "text": [
      "100%|██████████| 18/18 [00:00<00:00, 152.04it/s]\n"
     ]
    },
    {
     "name": "stdout",
     "output_type": "stream",
     "text": [
      "#epoch: 1044 \n",
      " train_loss: 2.648e-01 train_acc: 0.875 \n",
      " val_loss: 5.260e+00 val_acc: 0.350 time: 56\n",
      "\n"
     ]
    },
    {
     "name": "stderr",
     "output_type": "stream",
     "text": [
      "100%|██████████| 18/18 [00:00<00:00, 112.21it/s]\n"
     ]
    },
    {
     "name": "stdout",
     "output_type": "stream",
     "text": [
      "#epoch: 1045 \n",
      " train_loss: 1.865e-01 train_acc: 0.917 \n",
      " val_loss: 3.971e+00 val_acc: 0.300 time: 56\n",
      "\n"
     ]
    },
    {
     "name": "stderr",
     "output_type": "stream",
     "text": [
      "100%|██████████| 18/18 [00:00<00:00, 135.15it/s]\n"
     ]
    },
    {
     "name": "stdout",
     "output_type": "stream",
     "text": [
      "#epoch: 1046 \n",
      " train_loss: 1.682e-01 train_acc: 0.958 \n",
      " val_loss: 4.280e+00 val_acc: 0.250 time: 56\n",
      "\n"
     ]
    },
    {
     "name": "stderr",
     "output_type": "stream",
     "text": [
      "100%|██████████| 18/18 [00:00<00:00, 152.06it/s]\n"
     ]
    },
    {
     "name": "stdout",
     "output_type": "stream",
     "text": [
      "#epoch: 1047 \n",
      " train_loss: 1.926e-01 train_acc: 0.931 \n",
      " val_loss: 1.015e+01 val_acc: 0.350 time: 56\n",
      "\n"
     ]
    },
    {
     "name": "stderr",
     "output_type": "stream",
     "text": [
      "100%|██████████| 18/18 [00:00<00:00, 170.44it/s]\n"
     ]
    },
    {
     "name": "stdout",
     "output_type": "stream",
     "text": [
      "#epoch: 1048 \n",
      " train_loss: 3.531e-01 train_acc: 0.875 \n",
      " val_loss: 3.216e+00 val_acc: 0.300 time: 56\n",
      "\n"
     ]
    },
    {
     "name": "stderr",
     "output_type": "stream",
     "text": [
      "100%|██████████| 18/18 [00:00<00:00, 148.87it/s]\n"
     ]
    },
    {
     "name": "stdout",
     "output_type": "stream",
     "text": [
      "#epoch: 1049 \n",
      " train_loss: 8.586e-02 train_acc: 0.958 \n",
      " val_loss: 3.522e+00 val_acc: 0.400 time: 56\n",
      "\n"
     ]
    },
    {
     "name": "stderr",
     "output_type": "stream",
     "text": [
      "100%|██████████| 18/18 [00:00<00:00, 96.71it/s]\n"
     ]
    },
    {
     "name": "stdout",
     "output_type": "stream",
     "text": [
      "#epoch: 1050 \n",
      " train_loss: 4.430e-02 train_acc: 0.986 \n",
      " val_loss: 4.052e+00 val_acc: 0.450 time: 56\n",
      "\n"
     ]
    },
    {
     "name": "stderr",
     "output_type": "stream",
     "text": [
      "100%|██████████| 18/18 [00:00<00:00, 101.31it/s]\n"
     ]
    },
    {
     "name": "stdout",
     "output_type": "stream",
     "text": [
      "#epoch: 1051 \n",
      " train_loss: 8.602e-02 train_acc: 0.986 \n",
      " val_loss: 3.708e+00 val_acc: 0.350 time: 56\n",
      "\n"
     ]
    },
    {
     "name": "stderr",
     "output_type": "stream",
     "text": [
      "100%|██████████| 18/18 [00:00<00:00, 103.45it/s]\n"
     ]
    },
    {
     "name": "stdout",
     "output_type": "stream",
     "text": [
      "#epoch: 1052 \n",
      " train_loss: 6.748e-02 train_acc: 0.972 \n",
      " val_loss: 3.752e+00 val_acc: 0.450 time: 56\n",
      "\n"
     ]
    },
    {
     "name": "stderr",
     "output_type": "stream",
     "text": [
      "100%|██████████| 18/18 [00:00<00:00, 124.46it/s]\n"
     ]
    },
    {
     "name": "stdout",
     "output_type": "stream",
     "text": [
      "#epoch: 1053 \n",
      " train_loss: 5.792e-02 train_acc: 0.986 \n",
      " val_loss: 4.023e+00 val_acc: 0.400 time: 56\n",
      "\n"
     ]
    },
    {
     "name": "stderr",
     "output_type": "stream",
     "text": [
      "100%|██████████| 18/18 [00:00<00:00, 134.38it/s]\n"
     ]
    },
    {
     "name": "stdout",
     "output_type": "stream",
     "text": [
      "#epoch: 1054 \n",
      " train_loss: 7.442e-02 train_acc: 0.958 \n",
      " val_loss: 4.422e+00 val_acc: 0.150 time: 56\n",
      "\n"
     ]
    },
    {
     "name": "stderr",
     "output_type": "stream",
     "text": [
      "100%|██████████| 18/18 [00:00<00:00, 98.53it/s] \n"
     ]
    },
    {
     "name": "stdout",
     "output_type": "stream",
     "text": [
      "#epoch: 1055 \n",
      " train_loss: 3.842e-01 train_acc: 0.903 \n",
      " val_loss: 5.310e+00 val_acc: 0.450 time: 56\n",
      "\n"
     ]
    },
    {
     "name": "stderr",
     "output_type": "stream",
     "text": [
      "100%|██████████| 18/18 [00:00<00:00, 125.83it/s]\n"
     ]
    },
    {
     "name": "stdout",
     "output_type": "stream",
     "text": [
      "#epoch: 1056 \n",
      " train_loss: 1.576e-01 train_acc: 0.958 \n",
      " val_loss: 3.960e+00 val_acc: 0.350 time: 56\n",
      "\n"
     ]
    },
    {
     "name": "stderr",
     "output_type": "stream",
     "text": [
      "100%|██████████| 18/18 [00:00<00:00, 136.07it/s]\n"
     ]
    },
    {
     "name": "stdout",
     "output_type": "stream",
     "text": [
      "#epoch: 1057 \n",
      " train_loss: 2.549e-01 train_acc: 0.875 \n",
      " val_loss: 5.572e+00 val_acc: 0.400 time: 56\n",
      "\n"
     ]
    },
    {
     "name": "stderr",
     "output_type": "stream",
     "text": [
      "100%|██████████| 18/18 [00:00<00:00, 118.54it/s]\n"
     ]
    },
    {
     "name": "stdout",
     "output_type": "stream",
     "text": [
      "#epoch: 1058 \n",
      " train_loss: 1.535e-01 train_acc: 0.958 \n",
      " val_loss: 3.932e+00 val_acc: 0.350 time: 56\n",
      "\n"
     ]
    },
    {
     "name": "stderr",
     "output_type": "stream",
     "text": [
      "100%|██████████| 18/18 [00:00<00:00, 105.30it/s]\n"
     ]
    },
    {
     "name": "stdout",
     "output_type": "stream",
     "text": [
      "#epoch: 1059 \n",
      " train_loss: 1.718e-01 train_acc: 0.917 \n",
      " val_loss: 3.498e+00 val_acc: 0.400 time: 56\n",
      "\n"
     ]
    },
    {
     "name": "stderr",
     "output_type": "stream",
     "text": [
      "100%|██████████| 18/18 [00:00<00:00, 115.11it/s]\n"
     ]
    },
    {
     "name": "stdout",
     "output_type": "stream",
     "text": [
      "#epoch: 1060 \n",
      " train_loss: 2.788e-01 train_acc: 0.931 \n",
      " val_loss: 3.661e+00 val_acc: 0.250 time: 56\n",
      "\n"
     ]
    },
    {
     "name": "stderr",
     "output_type": "stream",
     "text": [
      "100%|██████████| 18/18 [00:00<00:00, 118.36it/s]\n"
     ]
    },
    {
     "name": "stdout",
     "output_type": "stream",
     "text": [
      "#epoch: 1061 \n",
      " train_loss: 2.107e-01 train_acc: 0.917 \n",
      " val_loss: 7.319e+00 val_acc: 0.300 time: 56\n",
      "\n"
     ]
    },
    {
     "name": "stderr",
     "output_type": "stream",
     "text": [
      "100%|██████████| 18/18 [00:00<00:00, 133.42it/s]\n"
     ]
    },
    {
     "name": "stdout",
     "output_type": "stream",
     "text": [
      "#epoch: 1062 \n",
      " train_loss: 1.742e-01 train_acc: 0.958 \n",
      " val_loss: 4.617e+00 val_acc: 0.300 time: 56\n",
      "\n"
     ]
    },
    {
     "name": "stderr",
     "output_type": "stream",
     "text": [
      "100%|██████████| 18/18 [00:00<00:00, 95.36it/s]\n"
     ]
    },
    {
     "name": "stdout",
     "output_type": "stream",
     "text": [
      "#epoch: 1063 \n",
      " train_loss: 1.626e-01 train_acc: 0.903 \n",
      " val_loss: 5.124e+00 val_acc: 0.250 time: 56\n",
      "\n"
     ]
    },
    {
     "name": "stderr",
     "output_type": "stream",
     "text": [
      "100%|██████████| 18/18 [00:00<00:00, 134.17it/s]\n"
     ]
    },
    {
     "name": "stdout",
     "output_type": "stream",
     "text": [
      "#epoch: 1064 \n",
      " train_loss: 9.203e-02 train_acc: 0.958 \n",
      " val_loss: 5.827e+00 val_acc: 0.400 time: 56\n",
      "\n"
     ]
    },
    {
     "name": "stderr",
     "output_type": "stream",
     "text": [
      "100%|██████████| 18/18 [00:00<00:00, 112.99it/s]\n"
     ]
    },
    {
     "name": "stdout",
     "output_type": "stream",
     "text": [
      "#epoch: 1065 \n",
      " train_loss: 9.569e-02 train_acc: 0.944 \n",
      " val_loss: 4.847e+00 val_acc: 0.400 time: 56\n",
      "\n"
     ]
    },
    {
     "name": "stderr",
     "output_type": "stream",
     "text": [
      "100%|██████████| 18/18 [00:00<00:00, 173.54it/s]\n"
     ]
    },
    {
     "name": "stdout",
     "output_type": "stream",
     "text": [
      "#epoch: 1066 \n",
      " train_loss: 9.372e-02 train_acc: 0.958 \n",
      " val_loss: 5.484e+00 val_acc: 0.250 time: 56\n",
      "\n"
     ]
    },
    {
     "name": "stderr",
     "output_type": "stream",
     "text": [
      "100%|██████████| 18/18 [00:00<00:00, 135.33it/s]\n"
     ]
    },
    {
     "name": "stdout",
     "output_type": "stream",
     "text": [
      "#epoch: 1067 \n",
      " train_loss: 1.123e-01 train_acc: 0.958 \n",
      " val_loss: 4.988e+00 val_acc: 0.250 time: 56\n",
      "\n"
     ]
    },
    {
     "name": "stderr",
     "output_type": "stream",
     "text": [
      "100%|██████████| 18/18 [00:00<00:00, 121.62it/s]\n"
     ]
    },
    {
     "name": "stdout",
     "output_type": "stream",
     "text": [
      "#epoch: 1068 \n",
      " train_loss: 9.024e-02 train_acc: 0.958 \n",
      " val_loss: 4.902e+00 val_acc: 0.400 time: 56\n",
      "\n"
     ]
    },
    {
     "name": "stderr",
     "output_type": "stream",
     "text": [
      "100%|██████████| 18/18 [00:00<00:00, 128.88it/s]\n"
     ]
    },
    {
     "name": "stdout",
     "output_type": "stream",
     "text": [
      "#epoch: 1069 \n",
      " train_loss: 1.587e-01 train_acc: 0.917 \n",
      " val_loss: 3.951e+00 val_acc: 0.400 time: 56\n",
      "\n"
     ]
    },
    {
     "name": "stderr",
     "output_type": "stream",
     "text": [
      "100%|██████████| 18/18 [00:00<00:00, 126.99it/s]\n"
     ]
    },
    {
     "name": "stdout",
     "output_type": "stream",
     "text": [
      "#epoch: 1070 \n",
      " train_loss: 1.073e-01 train_acc: 0.944 \n",
      " val_loss: 3.725e+00 val_acc: 0.400 time: 56\n",
      "\n"
     ]
    },
    {
     "name": "stderr",
     "output_type": "stream",
     "text": [
      "100%|██████████| 18/18 [00:00<00:00, 158.42it/s]\n"
     ]
    },
    {
     "name": "stdout",
     "output_type": "stream",
     "text": [
      "#epoch: 1071 \n",
      " train_loss: 5.204e-02 train_acc: 0.972 \n",
      " val_loss: 3.679e+00 val_acc: 0.450 time: 56\n",
      "\n"
     ]
    },
    {
     "name": "stderr",
     "output_type": "stream",
     "text": [
      "100%|██████████| 18/18 [00:00<00:00, 164.50it/s]\n"
     ]
    },
    {
     "name": "stdout",
     "output_type": "stream",
     "text": [
      "#epoch: 1072 \n",
      " train_loss: 3.598e-02 train_acc: 0.972 \n",
      " val_loss: 4.611e+00 val_acc: 0.450 time: 56\n",
      "\n"
     ]
    },
    {
     "name": "stderr",
     "output_type": "stream",
     "text": [
      "100%|██████████| 18/18 [00:00<00:00, 157.15it/s]\n"
     ]
    },
    {
     "name": "stdout",
     "output_type": "stream",
     "text": [
      "#epoch: 1073 \n",
      " train_loss: 3.890e-02 train_acc: 0.972 \n",
      " val_loss: 4.090e+00 val_acc: 0.300 time: 56\n",
      "\n"
     ]
    },
    {
     "name": "stderr",
     "output_type": "stream",
     "text": [
      "100%|██████████| 18/18 [00:00<00:00, 148.46it/s]\n"
     ]
    },
    {
     "name": "stdout",
     "output_type": "stream",
     "text": [
      "#epoch: 1074 \n",
      " train_loss: 4.389e-02 train_acc: 0.986 \n",
      " val_loss: 4.619e+00 val_acc: 0.300 time: 56\n",
      "\n"
     ]
    },
    {
     "name": "stderr",
     "output_type": "stream",
     "text": [
      "100%|██████████| 18/18 [00:00<00:00, 193.36it/s]\n"
     ]
    },
    {
     "name": "stdout",
     "output_type": "stream",
     "text": [
      "#epoch: 1075 \n",
      " train_loss: 4.634e-02 train_acc: 0.972 \n",
      " val_loss: 4.832e+00 val_acc: 0.200 time: 56\n",
      "\n"
     ]
    },
    {
     "name": "stderr",
     "output_type": "stream",
     "text": [
      "100%|██████████| 18/18 [00:00<00:00, 164.98it/s]\n"
     ]
    },
    {
     "name": "stdout",
     "output_type": "stream",
     "text": [
      "#epoch: 1076 \n",
      " train_loss: 3.805e-02 train_acc: 1.000 \n",
      " val_loss: 5.246e+00 val_acc: 0.400 time: 56\n",
      "\n"
     ]
    },
    {
     "name": "stderr",
     "output_type": "stream",
     "text": [
      "100%|██████████| 18/18 [00:00<00:00, 184.63it/s]\n"
     ]
    },
    {
     "name": "stdout",
     "output_type": "stream",
     "text": [
      "#epoch: 1077 \n",
      " train_loss: 3.181e-02 train_acc: 0.986 \n",
      " val_loss: 4.751e+00 val_acc: 0.350 time: 56\n",
      "\n"
     ]
    },
    {
     "name": "stderr",
     "output_type": "stream",
     "text": [
      "100%|██████████| 18/18 [00:00<00:00, 163.73it/s]\n"
     ]
    },
    {
     "name": "stdout",
     "output_type": "stream",
     "text": [
      "#epoch: 1078 \n",
      " train_loss: 3.228e-02 train_acc: 1.000 \n",
      " val_loss: 4.406e+00 val_acc: 0.350 time: 56\n",
      "\n"
     ]
    },
    {
     "name": "stderr",
     "output_type": "stream",
     "text": [
      "100%|██████████| 18/18 [00:00<00:00, 166.84it/s]\n"
     ]
    },
    {
     "name": "stdout",
     "output_type": "stream",
     "text": [
      "#epoch: 1079 \n",
      " train_loss: 5.448e-02 train_acc: 1.000 \n",
      " val_loss: 5.360e+00 val_acc: 0.400 time: 56\n",
      "\n"
     ]
    },
    {
     "name": "stderr",
     "output_type": "stream",
     "text": [
      "100%|██████████| 18/18 [00:00<00:00, 189.32it/s]\n"
     ]
    },
    {
     "name": "stdout",
     "output_type": "stream",
     "text": [
      "#epoch: 1080 \n",
      " train_loss: 6.578e-02 train_acc: 0.972 \n",
      " val_loss: 3.443e+00 val_acc: 0.500 time: 56\n",
      "\n"
     ]
    },
    {
     "name": "stderr",
     "output_type": "stream",
     "text": [
      "100%|██████████| 18/18 [00:00<00:00, 150.46it/s]\n"
     ]
    },
    {
     "name": "stdout",
     "output_type": "stream",
     "text": [
      "#epoch: 1081 \n",
      " train_loss: 3.891e-02 train_acc: 0.986 \n",
      " val_loss: 3.737e+00 val_acc: 0.400 time: 56\n",
      "\n"
     ]
    },
    {
     "name": "stderr",
     "output_type": "stream",
     "text": [
      "100%|██████████| 18/18 [00:00<00:00, 155.09it/s]\n"
     ]
    },
    {
     "name": "stdout",
     "output_type": "stream",
     "text": [
      "#epoch: 1082 \n",
      " train_loss: 2.714e-02 train_acc: 1.000 \n",
      " val_loss: 3.720e+00 val_acc: 0.500 time: 56\n",
      "\n"
     ]
    },
    {
     "name": "stderr",
     "output_type": "stream",
     "text": [
      "100%|██████████| 18/18 [00:00<00:00, 182.95it/s]\n"
     ]
    },
    {
     "name": "stdout",
     "output_type": "stream",
     "text": [
      "#epoch: 1083 \n",
      " train_loss: 1.503e-01 train_acc: 0.944 \n",
      " val_loss: 3.797e+00 val_acc: 0.400 time: 56\n",
      "\n"
     ]
    },
    {
     "name": "stderr",
     "output_type": "stream",
     "text": [
      "100%|██████████| 18/18 [00:00<00:00, 193.20it/s]\n"
     ]
    },
    {
     "name": "stdout",
     "output_type": "stream",
     "text": [
      "#epoch: 1084 \n",
      " train_loss: 1.076e+00 train_acc: 0.764 \n",
      " val_loss: 3.928e+00 val_acc: 0.350 time: 56\n",
      "\n"
     ]
    },
    {
     "name": "stderr",
     "output_type": "stream",
     "text": [
      "100%|██████████| 18/18 [00:00<00:00, 114.82it/s]\n"
     ]
    },
    {
     "name": "stdout",
     "output_type": "stream",
     "text": [
      "#epoch: 1085 \n",
      " train_loss: 4.544e-01 train_acc: 0.819 \n",
      " val_loss: 5.284e+00 val_acc: 0.400 time: 56\n",
      "\n"
     ]
    },
    {
     "name": "stderr",
     "output_type": "stream",
     "text": [
      "100%|██████████| 18/18 [00:00<00:00, 168.41it/s]\n"
     ]
    },
    {
     "name": "stdout",
     "output_type": "stream",
     "text": [
      "#epoch: 1086 \n",
      " train_loss: 6.085e-01 train_acc: 0.792 \n",
      " val_loss: 4.437e+00 val_acc: 0.450 time: 56\n",
      "\n"
     ]
    },
    {
     "name": "stderr",
     "output_type": "stream",
     "text": [
      "100%|██████████| 18/18 [00:00<00:00, 125.75it/s]\n"
     ]
    },
    {
     "name": "stdout",
     "output_type": "stream",
     "text": [
      "#epoch: 1087 \n",
      " train_loss: 4.038e-01 train_acc: 0.889 \n",
      " val_loss: 3.117e+00 val_acc: 0.250 time: 56\n",
      "\n"
     ]
    },
    {
     "name": "stderr",
     "output_type": "stream",
     "text": [
      "100%|██████████| 18/18 [00:00<00:00, 130.52it/s]\n"
     ]
    },
    {
     "name": "stdout",
     "output_type": "stream",
     "text": [
      "#epoch: 1088 \n",
      " train_loss: 4.292e-01 train_acc: 0.861 \n",
      " val_loss: 3.206e+00 val_acc: 0.350 time: 56\n",
      "\n"
     ]
    },
    {
     "name": "stderr",
     "output_type": "stream",
     "text": [
      "100%|██████████| 18/18 [00:00<00:00, 130.32it/s]\n"
     ]
    },
    {
     "name": "stdout",
     "output_type": "stream",
     "text": [
      "#epoch: 1089 \n",
      " train_loss: 2.385e-01 train_acc: 0.903 \n",
      " val_loss: 6.207e+00 val_acc: 0.500 time: 56\n",
      "\n"
     ]
    },
    {
     "name": "stderr",
     "output_type": "stream",
     "text": [
      "100%|██████████| 18/18 [00:00<00:00, 121.01it/s]\n"
     ]
    },
    {
     "name": "stdout",
     "output_type": "stream",
     "text": [
      "#epoch: 1090 \n",
      " train_loss: 2.377e-01 train_acc: 0.917 \n",
      " val_loss: 4.663e+00 val_acc: 0.200 time: 56\n",
      "\n"
     ]
    },
    {
     "name": "stderr",
     "output_type": "stream",
     "text": [
      "100%|██████████| 18/18 [00:00<00:00, 107.73it/s]\n"
     ]
    },
    {
     "name": "stdout",
     "output_type": "stream",
     "text": [
      "#epoch: 1091 \n",
      " train_loss: 1.223e-01 train_acc: 0.958 \n",
      " val_loss: 3.718e+00 val_acc: 0.350 time: 56\n",
      "\n"
     ]
    },
    {
     "name": "stderr",
     "output_type": "stream",
     "text": [
      "100%|██████████| 18/18 [00:00<00:00, 117.37it/s]\n"
     ]
    },
    {
     "name": "stdout",
     "output_type": "stream",
     "text": [
      "#epoch: 1092 \n",
      " train_loss: 1.703e-01 train_acc: 0.944 \n",
      " val_loss: 4.138e+00 val_acc: 0.350 time: 56\n",
      "\n"
     ]
    },
    {
     "name": "stderr",
     "output_type": "stream",
     "text": [
      "100%|██████████| 18/18 [00:00<00:00, 146.19it/s]\n"
     ]
    },
    {
     "name": "stdout",
     "output_type": "stream",
     "text": [
      "#epoch: 1093 \n",
      " train_loss: 1.725e-01 train_acc: 0.944 \n",
      " val_loss: 3.634e+00 val_acc: 0.400 time: 56\n",
      "\n"
     ]
    },
    {
     "name": "stderr",
     "output_type": "stream",
     "text": [
      "100%|██████████| 18/18 [00:00<00:00, 182.52it/s]\n"
     ]
    },
    {
     "name": "stdout",
     "output_type": "stream",
     "text": [
      "#epoch: 1094 \n",
      " train_loss: 1.503e-01 train_acc: 0.917 \n",
      " val_loss: 4.341e+00 val_acc: 0.300 time: 56\n",
      "\n"
     ]
    },
    {
     "name": "stderr",
     "output_type": "stream",
     "text": [
      "100%|██████████| 18/18 [00:00<00:00, 141.11it/s]\n"
     ]
    },
    {
     "name": "stdout",
     "output_type": "stream",
     "text": [
      "#epoch: 1095 \n",
      " train_loss: 8.620e-02 train_acc: 0.986 \n",
      " val_loss: 4.254e+00 val_acc: 0.350 time: 56\n",
      "\n"
     ]
    },
    {
     "name": "stderr",
     "output_type": "stream",
     "text": [
      "100%|██████████| 18/18 [00:00<00:00, 143.01it/s]\n"
     ]
    },
    {
     "name": "stdout",
     "output_type": "stream",
     "text": [
      "#epoch: 1096 \n",
      " train_loss: 8.470e-02 train_acc: 0.972 \n",
      " val_loss: 4.415e+00 val_acc: 0.350 time: 56\n",
      "\n"
     ]
    },
    {
     "name": "stderr",
     "output_type": "stream",
     "text": [
      "100%|██████████| 18/18 [00:00<00:00, 125.49it/s]\n"
     ]
    },
    {
     "name": "stdout",
     "output_type": "stream",
     "text": [
      "#epoch: 1097 \n",
      " train_loss: 2.906e-02 train_acc: 1.000 \n",
      " val_loss: 3.801e+00 val_acc: 0.350 time: 56\n",
      "\n"
     ]
    },
    {
     "name": "stderr",
     "output_type": "stream",
     "text": [
      "100%|██████████| 18/18 [00:00<00:00, 131.73it/s]\n"
     ]
    },
    {
     "name": "stdout",
     "output_type": "stream",
     "text": [
      "#epoch: 1098 \n",
      " train_loss: 4.132e-02 train_acc: 1.000 \n",
      " val_loss: 4.304e+00 val_acc: 0.350 time: 56\n",
      "\n"
     ]
    },
    {
     "name": "stderr",
     "output_type": "stream",
     "text": [
      "100%|██████████| 18/18 [00:00<00:00, 143.98it/s]\n"
     ]
    },
    {
     "name": "stdout",
     "output_type": "stream",
     "text": [
      "#epoch: 1099 \n",
      " train_loss: 1.002e-01 train_acc: 0.958 \n",
      " val_loss: 3.792e+00 val_acc: 0.400 time: 56\n",
      "\n"
     ]
    },
    {
     "name": "stderr",
     "output_type": "stream",
     "text": [
      "100%|██████████| 18/18 [00:00<00:00, 178.18it/s]\n"
     ]
    },
    {
     "name": "stdout",
     "output_type": "stream",
     "text": [
      "#epoch: 1100 \n",
      " train_loss: 1.702e-01 train_acc: 0.931 \n",
      " val_loss: 4.118e+00 val_acc: 0.350 time: 56\n",
      "\n"
     ]
    },
    {
     "name": "stderr",
     "output_type": "stream",
     "text": [
      "100%|██████████| 18/18 [00:00<00:00, 186.10it/s]\n"
     ]
    },
    {
     "name": "stdout",
     "output_type": "stream",
     "text": [
      "#epoch: 1101 \n",
      " train_loss: 1.848e-01 train_acc: 0.931 \n",
      " val_loss: 3.723e+00 val_acc: 0.400 time: 56\n",
      "\n"
     ]
    },
    {
     "name": "stderr",
     "output_type": "stream",
     "text": [
      "100%|██████████| 18/18 [00:00<00:00, 138.89it/s]\n"
     ]
    },
    {
     "name": "stdout",
     "output_type": "stream",
     "text": [
      "#epoch: 1102 \n",
      " train_loss: 6.038e-02 train_acc: 0.986 \n",
      " val_loss: 3.738e+00 val_acc: 0.450 time: 56\n",
      "\n"
     ]
    },
    {
     "name": "stderr",
     "output_type": "stream",
     "text": [
      "100%|██████████| 18/18 [00:00<00:00, 143.38it/s]\n"
     ]
    },
    {
     "name": "stdout",
     "output_type": "stream",
     "text": [
      "#epoch: 1103 \n",
      " train_loss: 2.856e-02 train_acc: 1.000 \n",
      " val_loss: 3.888e+00 val_acc: 0.350 time: 56\n",
      "\n"
     ]
    },
    {
     "name": "stderr",
     "output_type": "stream",
     "text": [
      "100%|██████████| 18/18 [00:00<00:00, 186.43it/s]\n"
     ]
    },
    {
     "name": "stdout",
     "output_type": "stream",
     "text": [
      "#epoch: 1104 \n",
      " train_loss: 4.360e-02 train_acc: 1.000 \n",
      " val_loss: 4.336e+00 val_acc: 0.400 time: 56\n",
      "\n"
     ]
    },
    {
     "name": "stderr",
     "output_type": "stream",
     "text": [
      "100%|██████████| 18/18 [00:00<00:00, 176.03it/s]\n"
     ]
    },
    {
     "name": "stdout",
     "output_type": "stream",
     "text": [
      "#epoch: 1105 \n",
      " train_loss: 5.308e-02 train_acc: 0.972 \n",
      " val_loss: 4.179e+00 val_acc: 0.400 time: 56\n",
      "\n"
     ]
    },
    {
     "name": "stderr",
     "output_type": "stream",
     "text": [
      "100%|██████████| 18/18 [00:00<00:00, 161.28it/s]\n"
     ]
    },
    {
     "name": "stdout",
     "output_type": "stream",
     "text": [
      "#epoch: 1106 \n",
      " train_loss: 1.031e-01 train_acc: 0.958 \n",
      " val_loss: 3.693e+00 val_acc: 0.350 time: 56\n",
      "\n"
     ]
    },
    {
     "name": "stderr",
     "output_type": "stream",
     "text": [
      "100%|██████████| 18/18 [00:00<00:00, 155.81it/s]\n"
     ]
    },
    {
     "name": "stdout",
     "output_type": "stream",
     "text": [
      "#epoch: 1107 \n",
      " train_loss: 8.972e-02 train_acc: 0.958 \n",
      " val_loss: 4.047e+00 val_acc: 0.350 time: 56\n",
      "\n"
     ]
    },
    {
     "name": "stderr",
     "output_type": "stream",
     "text": [
      "100%|██████████| 18/18 [00:00<00:00, 187.83it/s]\n"
     ]
    },
    {
     "name": "stdout",
     "output_type": "stream",
     "text": [
      "#epoch: 1108 \n",
      " train_loss: 2.124e-01 train_acc: 0.931 \n",
      " val_loss: 5.346e+00 val_acc: 0.400 time: 56\n",
      "\n"
     ]
    },
    {
     "name": "stderr",
     "output_type": "stream",
     "text": [
      "100%|██████████| 18/18 [00:00<00:00, 129.65it/s]\n"
     ]
    },
    {
     "name": "stdout",
     "output_type": "stream",
     "text": [
      "#epoch: 1109 \n",
      " train_loss: 2.874e-02 train_acc: 1.000 \n",
      " val_loss: 5.067e+00 val_acc: 0.400 time: 56\n",
      "\n"
     ]
    },
    {
     "name": "stderr",
     "output_type": "stream",
     "text": [
      "100%|██████████| 18/18 [00:00<00:00, 159.74it/s]\n"
     ]
    },
    {
     "name": "stdout",
     "output_type": "stream",
     "text": [
      "#epoch: 1110 \n",
      " train_loss: 1.066e-01 train_acc: 0.944 \n",
      " val_loss: 3.824e+00 val_acc: 0.500 time: 56\n",
      "\n"
     ]
    },
    {
     "name": "stderr",
     "output_type": "stream",
     "text": [
      "100%|██████████| 18/18 [00:00<00:00, 198.11it/s]\n"
     ]
    },
    {
     "name": "stdout",
     "output_type": "stream",
     "text": [
      "#epoch: 1111 \n",
      " train_loss: 2.551e-01 train_acc: 0.889 \n",
      " val_loss: 3.742e+00 val_acc: 0.350 time: 56\n",
      "\n"
     ]
    },
    {
     "name": "stderr",
     "output_type": "stream",
     "text": [
      "100%|██████████| 18/18 [00:00<00:00, 177.38it/s]\n"
     ]
    },
    {
     "name": "stdout",
     "output_type": "stream",
     "text": [
      "#epoch: 1112 \n",
      " train_loss: 2.064e-01 train_acc: 0.917 \n",
      " val_loss: 6.349e+00 val_acc: 0.400 time: 56\n",
      "\n"
     ]
    },
    {
     "name": "stderr",
     "output_type": "stream",
     "text": [
      "100%|██████████| 18/18 [00:00<00:00, 186.25it/s]\n"
     ]
    },
    {
     "name": "stdout",
     "output_type": "stream",
     "text": [
      "#epoch: 1113 \n",
      " train_loss: 1.278e-01 train_acc: 0.944 \n",
      " val_loss: 4.023e+00 val_acc: 0.450 time: 56\n",
      "\n"
     ]
    },
    {
     "name": "stderr",
     "output_type": "stream",
     "text": [
      "100%|██████████| 18/18 [00:00<00:00, 208.10it/s]\n"
     ]
    },
    {
     "name": "stdout",
     "output_type": "stream",
     "text": [
      "#epoch: 1114 \n",
      " train_loss: 1.207e-01 train_acc: 0.931 \n",
      " val_loss: 3.660e+00 val_acc: 0.450 time: 56\n",
      "\n"
     ]
    },
    {
     "name": "stderr",
     "output_type": "stream",
     "text": [
      "100%|██████████| 18/18 [00:00<00:00, 176.81it/s]\n"
     ]
    },
    {
     "name": "stdout",
     "output_type": "stream",
     "text": [
      "#epoch: 1115 \n",
      " train_loss: 2.322e-01 train_acc: 0.861 \n",
      " val_loss: 4.607e+00 val_acc: 0.150 time: 56\n",
      "\n"
     ]
    },
    {
     "name": "stderr",
     "output_type": "stream",
     "text": [
      "100%|██████████| 18/18 [00:00<00:00, 140.02it/s]\n"
     ]
    },
    {
     "name": "stdout",
     "output_type": "stream",
     "text": [
      "#epoch: 1116 \n",
      " train_loss: 2.450e-01 train_acc: 0.875 \n",
      " val_loss: 3.080e+00 val_acc: 0.450 time: 56\n",
      "\n"
     ]
    },
    {
     "name": "stderr",
     "output_type": "stream",
     "text": [
      "100%|██████████| 18/18 [00:00<00:00, 158.34it/s]\n"
     ]
    },
    {
     "name": "stdout",
     "output_type": "stream",
     "text": [
      "#epoch: 1117 \n",
      " train_loss: 1.831e-01 train_acc: 0.931 \n",
      " val_loss: 5.724e+00 val_acc: 0.200 time: 56\n",
      "\n"
     ]
    },
    {
     "name": "stderr",
     "output_type": "stream",
     "text": [
      "100%|██████████| 18/18 [00:00<00:00, 189.92it/s]\n"
     ]
    },
    {
     "name": "stdout",
     "output_type": "stream",
     "text": [
      "#epoch: 1118 \n",
      " train_loss: 2.122e-01 train_acc: 0.931 \n",
      " val_loss: 3.856e+00 val_acc: 0.250 time: 56\n",
      "\n"
     ]
    },
    {
     "name": "stderr",
     "output_type": "stream",
     "text": [
      "100%|██████████| 18/18 [00:00<00:00, 165.15it/s]\n"
     ]
    },
    {
     "name": "stdout",
     "output_type": "stream",
     "text": [
      "#epoch: 1119 \n",
      " train_loss: 8.840e-02 train_acc: 0.958 \n",
      " val_loss: 4.476e+00 val_acc: 0.400 time: 56\n",
      "\n"
     ]
    },
    {
     "name": "stderr",
     "output_type": "stream",
     "text": [
      "100%|██████████| 18/18 [00:00<00:00, 154.13it/s]\n"
     ]
    },
    {
     "name": "stdout",
     "output_type": "stream",
     "text": [
      "#epoch: 1120 \n",
      " train_loss: 4.765e-02 train_acc: 0.986 \n",
      " val_loss: 4.271e+00 val_acc: 0.350 time: 56\n",
      "\n"
     ]
    },
    {
     "name": "stderr",
     "output_type": "stream",
     "text": [
      "100%|██████████| 18/18 [00:00<00:00, 168.84it/s]\n"
     ]
    },
    {
     "name": "stdout",
     "output_type": "stream",
     "text": [
      "#epoch: 1121 \n",
      " train_loss: 3.802e-02 train_acc: 1.000 \n",
      " val_loss: 4.612e+00 val_acc: 0.350 time: 56\n",
      "\n"
     ]
    },
    {
     "name": "stderr",
     "output_type": "stream",
     "text": [
      "100%|██████████| 18/18 [00:00<00:00, 170.65it/s]\n"
     ]
    },
    {
     "name": "stdout",
     "output_type": "stream",
     "text": [
      "#epoch: 1122 \n",
      " train_loss: 5.544e-02 train_acc: 0.972 \n",
      " val_loss: 3.819e+00 val_acc: 0.350 time: 56\n",
      "\n"
     ]
    },
    {
     "name": "stderr",
     "output_type": "stream",
     "text": [
      "100%|██████████| 18/18 [00:00<00:00, 158.57it/s]\n"
     ]
    },
    {
     "name": "stdout",
     "output_type": "stream",
     "text": [
      "#epoch: 1123 \n",
      " train_loss: 4.780e-02 train_acc: 1.000 \n",
      " val_loss: 5.550e+00 val_acc: 0.350 time: 56\n",
      "\n"
     ]
    },
    {
     "name": "stderr",
     "output_type": "stream",
     "text": [
      "100%|██████████| 18/18 [00:00<00:00, 162.48it/s]\n"
     ]
    },
    {
     "name": "stdout",
     "output_type": "stream",
     "text": [
      "#epoch: 1124 \n",
      " train_loss: 3.409e-02 train_acc: 1.000 \n",
      " val_loss: 3.683e+00 val_acc: 0.400 time: 56\n",
      "\n"
     ]
    },
    {
     "name": "stderr",
     "output_type": "stream",
     "text": [
      "100%|██████████| 18/18 [00:00<00:00, 134.19it/s]\n"
     ]
    },
    {
     "name": "stdout",
     "output_type": "stream",
     "text": [
      "#epoch: 1125 \n",
      " train_loss: 1.288e-02 train_acc: 1.000 \n",
      " val_loss: 3.923e+00 val_acc: 0.400 time: 56\n",
      "\n"
     ]
    },
    {
     "name": "stderr",
     "output_type": "stream",
     "text": [
      "100%|██████████| 18/18 [00:00<00:00, 192.19it/s]\n"
     ]
    },
    {
     "name": "stdout",
     "output_type": "stream",
     "text": [
      "#epoch: 1126 \n",
      " train_loss: 2.298e-02 train_acc: 1.000 \n",
      " val_loss: 4.124e+00 val_acc: 0.450 time: 56\n",
      "\n"
     ]
    },
    {
     "name": "stderr",
     "output_type": "stream",
     "text": [
      "100%|██████████| 18/18 [00:00<00:00, 187.20it/s]\n"
     ]
    },
    {
     "name": "stdout",
     "output_type": "stream",
     "text": [
      "#epoch: 1127 \n",
      " train_loss: 3.260e-02 train_acc: 1.000 \n",
      " val_loss: 4.487e+00 val_acc: 0.350 time: 56\n",
      "\n"
     ]
    },
    {
     "name": "stderr",
     "output_type": "stream",
     "text": [
      "100%|██████████| 18/18 [00:00<00:00, 165.12it/s]\n"
     ]
    },
    {
     "name": "stdout",
     "output_type": "stream",
     "text": [
      "#epoch: 1128 \n",
      " train_loss: 1.937e-02 train_acc: 1.000 \n",
      " val_loss: 4.026e+00 val_acc: 0.400 time: 56\n",
      "\n"
     ]
    },
    {
     "name": "stderr",
     "output_type": "stream",
     "text": [
      "100%|██████████| 18/18 [00:00<00:00, 161.08it/s]\n"
     ]
    },
    {
     "name": "stdout",
     "output_type": "stream",
     "text": [
      "#epoch: 1129 \n",
      " train_loss: 2.319e-02 train_acc: 1.000 \n",
      " val_loss: 4.257e+00 val_acc: 0.400 time: 56\n",
      "\n"
     ]
    },
    {
     "name": "stderr",
     "output_type": "stream",
     "text": [
      "100%|██████████| 18/18 [00:00<00:00, 199.14it/s]\n"
     ]
    },
    {
     "name": "stdout",
     "output_type": "stream",
     "text": [
      "#epoch: 1130 \n",
      " train_loss: 2.104e-02 train_acc: 1.000 \n",
      " val_loss: 3.967e+00 val_acc: 0.400 time: 56\n",
      "\n"
     ]
    },
    {
     "name": "stderr",
     "output_type": "stream",
     "text": [
      "100%|██████████| 18/18 [00:00<00:00, 167.03it/s]\n"
     ]
    },
    {
     "name": "stdout",
     "output_type": "stream",
     "text": [
      "#epoch: 1131 \n",
      " train_loss: 2.332e-02 train_acc: 1.000 \n",
      " val_loss: 4.457e+00 val_acc: 0.400 time: 56\n",
      "\n"
     ]
    },
    {
     "name": "stderr",
     "output_type": "stream",
     "text": [
      "100%|██████████| 18/18 [00:00<00:00, 157.15it/s]\n"
     ]
    },
    {
     "name": "stdout",
     "output_type": "stream",
     "text": [
      "#epoch: 1132 \n",
      " train_loss: 2.154e-02 train_acc: 1.000 \n",
      " val_loss: 3.811e+00 val_acc: 0.400 time: 56\n",
      "\n"
     ]
    },
    {
     "name": "stderr",
     "output_type": "stream",
     "text": [
      "100%|██████████| 18/18 [00:00<00:00, 147.50it/s]\n"
     ]
    },
    {
     "name": "stdout",
     "output_type": "stream",
     "text": [
      "#epoch: 1133 \n",
      " train_loss: 1.586e-02 train_acc: 1.000 \n",
      " val_loss: 3.981e+00 val_acc: 0.350 time: 56\n",
      "\n"
     ]
    },
    {
     "name": "stderr",
     "output_type": "stream",
     "text": [
      "100%|██████████| 18/18 [00:00<00:00, 183.49it/s]\n"
     ]
    },
    {
     "name": "stdout",
     "output_type": "stream",
     "text": [
      "#epoch: 1134 \n",
      " train_loss: 2.022e-02 train_acc: 1.000 \n",
      " val_loss: 4.534e+00 val_acc: 0.400 time: 56\n",
      "\n"
     ]
    },
    {
     "name": "stderr",
     "output_type": "stream",
     "text": [
      "100%|██████████| 18/18 [00:00<00:00, 166.10it/s]\n"
     ]
    },
    {
     "name": "stdout",
     "output_type": "stream",
     "text": [
      "#epoch: 1135 \n",
      " train_loss: 1.999e-02 train_acc: 1.000 \n",
      " val_loss: 4.492e+00 val_acc: 0.450 time: 56\n",
      "\n"
     ]
    },
    {
     "name": "stderr",
     "output_type": "stream",
     "text": [
      "100%|██████████| 18/18 [00:00<00:00, 184.29it/s]\n"
     ]
    },
    {
     "name": "stdout",
     "output_type": "stream",
     "text": [
      "#epoch: 1136 \n",
      " train_loss: 1.355e-01 train_acc: 0.944 \n",
      " val_loss: 5.388e+00 val_acc: 0.400 time: 56\n",
      "\n"
     ]
    },
    {
     "name": "stderr",
     "output_type": "stream",
     "text": [
      "100%|██████████| 18/18 [00:00<00:00, 139.92it/s]\n"
     ]
    },
    {
     "name": "stdout",
     "output_type": "stream",
     "text": [
      "#epoch: 1137 \n",
      " train_loss: 1.339e-01 train_acc: 0.958 \n",
      " val_loss: 4.583e+00 val_acc: 0.300 time: 56\n",
      "\n"
     ]
    },
    {
     "name": "stderr",
     "output_type": "stream",
     "text": [
      "100%|██████████| 18/18 [00:00<00:00, 179.27it/s]\n"
     ]
    },
    {
     "name": "stdout",
     "output_type": "stream",
     "text": [
      "#epoch: 1138 \n",
      " train_loss: 1.326e-01 train_acc: 0.958 \n",
      " val_loss: 4.938e+00 val_acc: 0.400 time: 56\n",
      "\n"
     ]
    },
    {
     "name": "stderr",
     "output_type": "stream",
     "text": [
      "100%|██████████| 18/18 [00:00<00:00, 173.57it/s]\n"
     ]
    },
    {
     "name": "stdout",
     "output_type": "stream",
     "text": [
      "#epoch: 1139 \n",
      " train_loss: 5.290e-02 train_acc: 1.000 \n",
      " val_loss: 4.563e+00 val_acc: 0.350 time: 56\n",
      "\n"
     ]
    },
    {
     "name": "stderr",
     "output_type": "stream",
     "text": [
      "100%|██████████| 18/18 [00:00<00:00, 153.91it/s]\n"
     ]
    },
    {
     "name": "stdout",
     "output_type": "stream",
     "text": [
      "#epoch: 1140 \n",
      " train_loss: 6.575e-02 train_acc: 0.986 \n",
      " val_loss: 4.770e+00 val_acc: 0.350 time: 56\n",
      "\n"
     ]
    },
    {
     "name": "stderr",
     "output_type": "stream",
     "text": [
      "100%|██████████| 18/18 [00:00<00:00, 71.89it/s]\n"
     ]
    },
    {
     "name": "stdout",
     "output_type": "stream",
     "text": [
      "#epoch: 1141 \n",
      " train_loss: 6.368e-02 train_acc: 0.986 \n",
      " val_loss: 5.039e+00 val_acc: 0.400 time: 56\n",
      "\n"
     ]
    },
    {
     "name": "stderr",
     "output_type": "stream",
     "text": [
      "100%|██████████| 18/18 [00:00<00:00, 158.95it/s]\n"
     ]
    },
    {
     "name": "stdout",
     "output_type": "stream",
     "text": [
      "#epoch: 1142 \n",
      " train_loss: 4.811e-02 train_acc: 0.986 \n",
      " val_loss: 4.337e+00 val_acc: 0.400 time: 56\n",
      "\n"
     ]
    },
    {
     "name": "stderr",
     "output_type": "stream",
     "text": [
      "100%|██████████| 18/18 [00:00<00:00, 174.45it/s]\n"
     ]
    },
    {
     "name": "stdout",
     "output_type": "stream",
     "text": [
      "#epoch: 1143 \n",
      " train_loss: 2.825e-02 train_acc: 1.000 \n",
      " val_loss: 4.636e+00 val_acc: 0.350 time: 56\n",
      "\n"
     ]
    },
    {
     "name": "stderr",
     "output_type": "stream",
     "text": [
      "100%|██████████| 18/18 [00:00<00:00, 134.40it/s]\n"
     ]
    },
    {
     "name": "stdout",
     "output_type": "stream",
     "text": [
      "#epoch: 1144 \n",
      " train_loss: 2.120e-02 train_acc: 1.000 \n",
      " val_loss: 4.533e+00 val_acc: 0.400 time: 56\n",
      "\n"
     ]
    },
    {
     "name": "stderr",
     "output_type": "stream",
     "text": [
      "100%|██████████| 18/18 [00:00<00:00, 180.10it/s]\n"
     ]
    },
    {
     "name": "stdout",
     "output_type": "stream",
     "text": [
      "#epoch: 1145 \n",
      " train_loss: 1.021e-02 train_acc: 1.000 \n",
      " val_loss: 4.351e+00 val_acc: 0.400 time: 56\n",
      "\n"
     ]
    },
    {
     "name": "stderr",
     "output_type": "stream",
     "text": [
      "100%|██████████| 18/18 [00:00<00:00, 165.45it/s]\n"
     ]
    },
    {
     "name": "stdout",
     "output_type": "stream",
     "text": [
      "#epoch: 1146 \n",
      " train_loss: 1.318e-01 train_acc: 0.958 \n",
      " val_loss: 3.922e+00 val_acc: 0.400 time: 56\n",
      "\n"
     ]
    },
    {
     "name": "stderr",
     "output_type": "stream",
     "text": [
      "100%|██████████| 18/18 [00:00<00:00, 136.23it/s]\n"
     ]
    },
    {
     "name": "stdout",
     "output_type": "stream",
     "text": [
      "#epoch: 1147 \n",
      " train_loss: 1.637e-01 train_acc: 0.944 \n",
      " val_loss: 4.938e+00 val_acc: 0.200 time: 56\n",
      "\n"
     ]
    },
    {
     "name": "stderr",
     "output_type": "stream",
     "text": [
      "100%|██████████| 18/18 [00:00<00:00, 198.87it/s]\n"
     ]
    },
    {
     "name": "stdout",
     "output_type": "stream",
     "text": [
      "#epoch: 1148 \n",
      " train_loss: 3.212e-01 train_acc: 0.917 \n",
      " val_loss: 1.345e+01 val_acc: 0.250 time: 56\n",
      "\n"
     ]
    },
    {
     "name": "stderr",
     "output_type": "stream",
     "text": [
      "100%|██████████| 18/18 [00:00<00:00, 146.70it/s]\n"
     ]
    },
    {
     "name": "stdout",
     "output_type": "stream",
     "text": [
      "#epoch: 1149 \n",
      " train_loss: 9.443e-01 train_acc: 0.736 \n",
      " val_loss: 4.543e+00 val_acc: 0.250 time: 56\n",
      "\n"
     ]
    },
    {
     "name": "stderr",
     "output_type": "stream",
     "text": [
      "100%|██████████| 18/18 [00:00<00:00, 141.09it/s]\n"
     ]
    },
    {
     "name": "stdout",
     "output_type": "stream",
     "text": [
      "#epoch: 1150 \n",
      " train_loss: 9.735e-01 train_acc: 0.750 \n",
      " val_loss: 2.901e+00 val_acc: 0.400 time: 56\n",
      "\n"
     ]
    },
    {
     "name": "stderr",
     "output_type": "stream",
     "text": [
      "100%|██████████| 18/18 [00:00<00:00, 174.89it/s]\n"
     ]
    },
    {
     "name": "stdout",
     "output_type": "stream",
     "text": [
      "#epoch: 1151 \n",
      " train_loss: 5.545e-01 train_acc: 0.861 \n",
      " val_loss: 3.145e+00 val_acc: 0.400 time: 56\n",
      "\n"
     ]
    },
    {
     "name": "stderr",
     "output_type": "stream",
     "text": [
      "100%|██████████| 18/18 [00:00<00:00, 149.28it/s]\n"
     ]
    },
    {
     "name": "stdout",
     "output_type": "stream",
     "text": [
      "#epoch: 1152 \n",
      " train_loss: 1.255e-01 train_acc: 0.944 \n",
      " val_loss: 3.417e+00 val_acc: 0.300 time: 56\n",
      "\n"
     ]
    },
    {
     "name": "stderr",
     "output_type": "stream",
     "text": [
      "100%|██████████| 18/18 [00:00<00:00, 174.49it/s]\n"
     ]
    },
    {
     "name": "stdout",
     "output_type": "stream",
     "text": [
      "#epoch: 1153 \n",
      " train_loss: 1.240e-01 train_acc: 0.944 \n",
      " val_loss: 3.503e+00 val_acc: 0.450 time: 56\n",
      "\n"
     ]
    },
    {
     "name": "stderr",
     "output_type": "stream",
     "text": [
      "100%|██████████| 18/18 [00:00<00:00, 152.50it/s]\n"
     ]
    },
    {
     "name": "stdout",
     "output_type": "stream",
     "text": [
      "#epoch: 1154 \n",
      " train_loss: 9.617e-02 train_acc: 0.958 \n",
      " val_loss: 4.195e+00 val_acc: 0.400 time: 56\n",
      "\n"
     ]
    },
    {
     "name": "stderr",
     "output_type": "stream",
     "text": [
      "100%|██████████| 18/18 [00:00<00:00, 191.99it/s]\n"
     ]
    },
    {
     "name": "stdout",
     "output_type": "stream",
     "text": [
      "#epoch: 1155 \n",
      " train_loss: 1.308e-01 train_acc: 0.944 \n",
      " val_loss: 4.346e+00 val_acc: 0.400 time: 56\n",
      "\n"
     ]
    },
    {
     "name": "stderr",
     "output_type": "stream",
     "text": [
      "100%|██████████| 18/18 [00:00<00:00, 100.46it/s]\n"
     ]
    },
    {
     "name": "stdout",
     "output_type": "stream",
     "text": [
      "#epoch: 1156 \n",
      " train_loss: 7.804e-02 train_acc: 0.972 \n",
      " val_loss: 5.155e+00 val_acc: 0.300 time: 56\n",
      "\n"
     ]
    },
    {
     "name": "stderr",
     "output_type": "stream",
     "text": [
      "100%|██████████| 18/18 [00:00<00:00, 119.83it/s]\n"
     ]
    },
    {
     "name": "stdout",
     "output_type": "stream",
     "text": [
      "#epoch: 1157 \n",
      " train_loss: 4.337e-02 train_acc: 0.986 \n",
      " val_loss: 4.746e+00 val_acc: 0.350 time: 56\n",
      "\n"
     ]
    },
    {
     "name": "stderr",
     "output_type": "stream",
     "text": [
      "100%|██████████| 18/18 [00:00<00:00, 143.68it/s]\n"
     ]
    },
    {
     "name": "stdout",
     "output_type": "stream",
     "text": [
      "#epoch: 1158 \n",
      " train_loss: 1.816e-01 train_acc: 0.958 \n",
      " val_loss: 4.231e+00 val_acc: 0.400 time: 56\n",
      "\n"
     ]
    },
    {
     "name": "stderr",
     "output_type": "stream",
     "text": [
      "100%|██████████| 18/18 [00:00<00:00, 125.48it/s]\n"
     ]
    },
    {
     "name": "stdout",
     "output_type": "stream",
     "text": [
      "#epoch: 1159 \n",
      " train_loss: 5.279e-02 train_acc: 0.986 \n",
      " val_loss: 3.975e+00 val_acc: 0.350 time: 56\n",
      "\n"
     ]
    },
    {
     "name": "stderr",
     "output_type": "stream",
     "text": [
      "100%|██████████| 18/18 [00:00<00:00, 144.41it/s]\n"
     ]
    },
    {
     "name": "stdout",
     "output_type": "stream",
     "text": [
      "#epoch: 1160 \n",
      " train_loss: 4.514e-02 train_acc: 0.986 \n",
      " val_loss: 4.562e+00 val_acc: 0.400 time: 56\n",
      "\n"
     ]
    },
    {
     "name": "stderr",
     "output_type": "stream",
     "text": [
      "100%|██████████| 18/18 [00:00<00:00, 167.41it/s]\n"
     ]
    },
    {
     "name": "stdout",
     "output_type": "stream",
     "text": [
      "#epoch: 1161 \n",
      " train_loss: 6.170e-02 train_acc: 0.972 \n",
      " val_loss: 4.248e+00 val_acc: 0.400 time: 56\n",
      "\n"
     ]
    },
    {
     "name": "stderr",
     "output_type": "stream",
     "text": [
      "100%|██████████| 18/18 [00:00<00:00, 166.42it/s]\n"
     ]
    },
    {
     "name": "stdout",
     "output_type": "stream",
     "text": [
      "#epoch: 1162 \n",
      " train_loss: 2.988e-02 train_acc: 1.000 \n",
      " val_loss: 4.393e+00 val_acc: 0.400 time: 56\n",
      "\n"
     ]
    },
    {
     "name": "stderr",
     "output_type": "stream",
     "text": [
      "100%|██████████| 18/18 [00:00<00:00, 174.26it/s]\n"
     ]
    },
    {
     "name": "stdout",
     "output_type": "stream",
     "text": [
      "#epoch: 1163 \n",
      " train_loss: 2.971e-02 train_acc: 1.000 \n",
      " val_loss: 4.155e+00 val_acc: 0.450 time: 56\n",
      "\n"
     ]
    },
    {
     "name": "stderr",
     "output_type": "stream",
     "text": [
      "100%|██████████| 18/18 [00:00<00:00, 159.46it/s]\n"
     ]
    },
    {
     "name": "stdout",
     "output_type": "stream",
     "text": [
      "#epoch: 1164 \n",
      " train_loss: 2.507e-02 train_acc: 1.000 \n",
      " val_loss: 4.104e+00 val_acc: 0.450 time: 56\n",
      "\n"
     ]
    },
    {
     "name": "stderr",
     "output_type": "stream",
     "text": [
      "100%|██████████| 18/18 [00:00<00:00, 173.69it/s]\n"
     ]
    },
    {
     "name": "stdout",
     "output_type": "stream",
     "text": [
      "#epoch: 1165 \n",
      " train_loss: 2.931e-02 train_acc: 1.000 \n",
      " val_loss: 5.426e+00 val_acc: 0.350 time: 56\n",
      "\n"
     ]
    },
    {
     "name": "stderr",
     "output_type": "stream",
     "text": [
      "100%|██████████| 18/18 [00:00<00:00, 187.61it/s]\n"
     ]
    },
    {
     "name": "stdout",
     "output_type": "stream",
     "text": [
      "#epoch: 1166 \n",
      " train_loss: 9.764e-02 train_acc: 0.972 \n",
      " val_loss: 4.614e+00 val_acc: 0.350 time: 56\n",
      "\n"
     ]
    },
    {
     "name": "stderr",
     "output_type": "stream",
     "text": [
      "100%|██████████| 18/18 [00:00<00:00, 197.25it/s]\n"
     ]
    },
    {
     "name": "stdout",
     "output_type": "stream",
     "text": [
      "#epoch: 1167 \n",
      " train_loss: 3.136e-02 train_acc: 1.000 \n",
      " val_loss: 5.657e+00 val_acc: 0.350 time: 56\n",
      "\n"
     ]
    },
    {
     "name": "stderr",
     "output_type": "stream",
     "text": [
      "100%|██████████| 18/18 [00:00<00:00, 197.45it/s]\n"
     ]
    },
    {
     "name": "stdout",
     "output_type": "stream",
     "text": [
      "#epoch: 1168 \n",
      " train_loss: 1.246e-01 train_acc: 0.958 \n",
      " val_loss: 4.392e+00 val_acc: 0.350 time: 56\n",
      "\n"
     ]
    },
    {
     "name": "stderr",
     "output_type": "stream",
     "text": [
      "100%|██████████| 18/18 [00:00<00:00, 227.76it/s]\n"
     ]
    },
    {
     "name": "stdout",
     "output_type": "stream",
     "text": [
      "#epoch: 1169 \n",
      " train_loss: 5.187e-02 train_acc: 0.972 \n",
      " val_loss: 4.765e+00 val_acc: 0.400 time: 56\n",
      "\n"
     ]
    },
    {
     "name": "stderr",
     "output_type": "stream",
     "text": [
      "100%|██████████| 18/18 [00:00<00:00, 204.02it/s]\n"
     ]
    },
    {
     "name": "stdout",
     "output_type": "stream",
     "text": [
      "#epoch: 1170 \n",
      " train_loss: 2.507e-02 train_acc: 0.986 \n",
      " val_loss: 5.271e+00 val_acc: 0.350 time: 56\n",
      "\n"
     ]
    },
    {
     "name": "stderr",
     "output_type": "stream",
     "text": [
      "100%|██████████| 18/18 [00:00<00:00, 228.71it/s]\n"
     ]
    },
    {
     "name": "stdout",
     "output_type": "stream",
     "text": [
      "#epoch: 1171 \n",
      " train_loss: 3.900e-02 train_acc: 1.000 \n",
      " val_loss: 5.362e+00 val_acc: 0.400 time: 56\n",
      "\n"
     ]
    },
    {
     "name": "stderr",
     "output_type": "stream",
     "text": [
      "100%|██████████| 18/18 [00:00<00:00, 221.06it/s]\n"
     ]
    },
    {
     "name": "stdout",
     "output_type": "stream",
     "text": [
      "#epoch: 1172 \n",
      " train_loss: 1.162e-02 train_acc: 1.000 \n",
      " val_loss: 4.681e+00 val_acc: 0.200 time: 56\n",
      "\n"
     ]
    },
    {
     "name": "stderr",
     "output_type": "stream",
     "text": [
      "100%|██████████| 18/18 [00:00<00:00, 190.20it/s]\n"
     ]
    },
    {
     "name": "stdout",
     "output_type": "stream",
     "text": [
      "#epoch: 1173 \n",
      " train_loss: 5.246e-02 train_acc: 0.972 \n",
      " val_loss: 5.604e+00 val_acc: 0.400 time: 56\n",
      "\n"
     ]
    },
    {
     "name": "stderr",
     "output_type": "stream",
     "text": [
      "100%|██████████| 18/18 [00:00<00:00, 193.89it/s]\n"
     ]
    },
    {
     "name": "stdout",
     "output_type": "stream",
     "text": [
      "#epoch: 1174 \n",
      " train_loss: 2.960e-02 train_acc: 0.986 \n",
      " val_loss: 4.804e+00 val_acc: 0.300 time: 56\n",
      "\n"
     ]
    },
    {
     "name": "stderr",
     "output_type": "stream",
     "text": [
      "100%|██████████| 18/18 [00:00<00:00, 156.01it/s]\n"
     ]
    },
    {
     "name": "stdout",
     "output_type": "stream",
     "text": [
      "#epoch: 1175 \n",
      " train_loss: 2.738e-02 train_acc: 1.000 \n",
      " val_loss: 4.596e+00 val_acc: 0.300 time: 56\n",
      "\n"
     ]
    },
    {
     "name": "stderr",
     "output_type": "stream",
     "text": [
      "100%|██████████| 18/18 [00:00<00:00, 218.64it/s]\n"
     ]
    },
    {
     "name": "stdout",
     "output_type": "stream",
     "text": [
      "#epoch: 1176 \n",
      " train_loss: 3.529e-02 train_acc: 1.000 \n",
      " val_loss: 4.783e+00 val_acc: 0.400 time: 56\n",
      "\n"
     ]
    },
    {
     "name": "stderr",
     "output_type": "stream",
     "text": [
      "100%|██████████| 18/18 [00:00<00:00, 213.12it/s]\n"
     ]
    },
    {
     "name": "stdout",
     "output_type": "stream",
     "text": [
      "#epoch: 1177 \n",
      " train_loss: 3.309e-02 train_acc: 1.000 \n",
      " val_loss: 5.383e+00 val_acc: 0.350 time: 56\n",
      "\n"
     ]
    },
    {
     "name": "stderr",
     "output_type": "stream",
     "text": [
      "100%|██████████| 18/18 [00:00<00:00, 187.16it/s]\n"
     ]
    },
    {
     "name": "stdout",
     "output_type": "stream",
     "text": [
      "#epoch: 1178 \n",
      " train_loss: 4.510e-02 train_acc: 0.986 \n",
      " val_loss: 4.841e+00 val_acc: 0.300 time: 56\n",
      "\n"
     ]
    },
    {
     "name": "stderr",
     "output_type": "stream",
     "text": [
      "100%|██████████| 18/18 [00:00<00:00, 82.22it/s]\n"
     ]
    },
    {
     "name": "stdout",
     "output_type": "stream",
     "text": [
      "#epoch: 1179 \n",
      " train_loss: 7.109e-02 train_acc: 0.958 \n",
      " val_loss: 5.825e+00 val_acc: 0.400 time: 56\n",
      "\n"
     ]
    },
    {
     "name": "stderr",
     "output_type": "stream",
     "text": [
      "100%|██████████| 18/18 [00:00<00:00, 165.22it/s]\n"
     ]
    },
    {
     "name": "stdout",
     "output_type": "stream",
     "text": [
      "#epoch: 1180 \n",
      " train_loss: 9.863e-02 train_acc: 0.972 \n",
      " val_loss: 4.291e+00 val_acc: 0.350 time: 56\n",
      "\n"
     ]
    },
    {
     "name": "stderr",
     "output_type": "stream",
     "text": [
      "100%|██████████| 18/18 [00:00<00:00, 219.88it/s]\n"
     ]
    },
    {
     "name": "stdout",
     "output_type": "stream",
     "text": [
      "#epoch: 1181 \n",
      " train_loss: 8.211e-02 train_acc: 0.972 \n",
      " val_loss: 5.353e+00 val_acc: 0.300 time: 56\n",
      "\n"
     ]
    },
    {
     "name": "stderr",
     "output_type": "stream",
     "text": [
      "100%|██████████| 18/18 [00:00<00:00, 224.98it/s]\n"
     ]
    },
    {
     "name": "stdout",
     "output_type": "stream",
     "text": [
      "#epoch: 1182 \n",
      " train_loss: 1.032e-01 train_acc: 0.986 \n",
      " val_loss: 4.321e+00 val_acc: 0.300 time: 56\n",
      "\n"
     ]
    },
    {
     "name": "stderr",
     "output_type": "stream",
     "text": [
      "100%|██████████| 18/18 [00:00<00:00, 217.46it/s]\n"
     ]
    },
    {
     "name": "stdout",
     "output_type": "stream",
     "text": [
      "#epoch: 1183 \n",
      " train_loss: 5.051e-02 train_acc: 0.972 \n",
      " val_loss: 5.402e+00 val_acc: 0.350 time: 56\n",
      "\n"
     ]
    },
    {
     "name": "stderr",
     "output_type": "stream",
     "text": [
      "100%|██████████| 18/18 [00:00<00:00, 214.78it/s]\n"
     ]
    },
    {
     "name": "stdout",
     "output_type": "stream",
     "text": [
      "#epoch: 1184 \n",
      " train_loss: 3.483e-02 train_acc: 0.986 \n",
      " val_loss: 4.214e+00 val_acc: 0.350 time: 56\n",
      "\n"
     ]
    },
    {
     "name": "stderr",
     "output_type": "stream",
     "text": [
      "100%|██████████| 18/18 [00:00<00:00, 151.82it/s]\n"
     ]
    },
    {
     "name": "stdout",
     "output_type": "stream",
     "text": [
      "#epoch: 1185 \n",
      " train_loss: 3.888e-02 train_acc: 0.986 \n",
      " val_loss: 4.250e+00 val_acc: 0.450 time: 56\n",
      "\n"
     ]
    },
    {
     "name": "stderr",
     "output_type": "stream",
     "text": [
      "100%|██████████| 18/18 [00:00<00:00, 215.98it/s]\n"
     ]
    },
    {
     "name": "stdout",
     "output_type": "stream",
     "text": [
      "#epoch: 1186 \n",
      " train_loss: 6.671e-02 train_acc: 0.972 \n",
      " val_loss: 5.249e+00 val_acc: 0.400 time: 56\n",
      "\n"
     ]
    },
    {
     "name": "stderr",
     "output_type": "stream",
     "text": [
      "100%|██████████| 18/18 [00:00<00:00, 225.62it/s]\n"
     ]
    },
    {
     "name": "stdout",
     "output_type": "stream",
     "text": [
      "#epoch: 1187 \n",
      " train_loss: 3.007e-02 train_acc: 1.000 \n",
      " val_loss: 4.586e+00 val_acc: 0.350 time: 56\n",
      "\n"
     ]
    },
    {
     "name": "stderr",
     "output_type": "stream",
     "text": [
      "100%|██████████| 18/18 [00:00<00:00, 225.34it/s]\n"
     ]
    },
    {
     "name": "stdout",
     "output_type": "stream",
     "text": [
      "#epoch: 1188 \n",
      " train_loss: 1.146e-02 train_acc: 1.000 \n",
      " val_loss: 4.237e+00 val_acc: 0.400 time: 56\n",
      "\n"
     ]
    },
    {
     "name": "stderr",
     "output_type": "stream",
     "text": [
      "100%|██████████| 18/18 [00:00<00:00, 183.90it/s]\n"
     ]
    },
    {
     "name": "stdout",
     "output_type": "stream",
     "text": [
      "#epoch: 1189 \n",
      " train_loss: 4.205e-02 train_acc: 1.000 \n",
      " val_loss: 4.559e+00 val_acc: 0.350 time: 56\n",
      "\n"
     ]
    },
    {
     "name": "stderr",
     "output_type": "stream",
     "text": [
      "100%|██████████| 18/18 [00:00<00:00, 196.06it/s]\n"
     ]
    },
    {
     "name": "stdout",
     "output_type": "stream",
     "text": [
      "#epoch: 1190 \n",
      " train_loss: 2.200e-02 train_acc: 1.000 \n",
      " val_loss: 4.541e+00 val_acc: 0.350 time: 56\n",
      "\n"
     ]
    },
    {
     "name": "stderr",
     "output_type": "stream",
     "text": [
      "100%|██████████| 18/18 [00:00<00:00, 177.85it/s]\n"
     ]
    },
    {
     "name": "stdout",
     "output_type": "stream",
     "text": [
      "#epoch: 1191 \n",
      " train_loss: 2.554e-02 train_acc: 0.986 \n",
      " val_loss: 4.803e+00 val_acc: 0.400 time: 56\n",
      "\n"
     ]
    },
    {
     "name": "stderr",
     "output_type": "stream",
     "text": [
      "100%|██████████| 18/18 [00:00<00:00, 141.22it/s]\n"
     ]
    },
    {
     "name": "stdout",
     "output_type": "stream",
     "text": [
      "#epoch: 1192 \n",
      " train_loss: 2.522e-02 train_acc: 0.986 \n",
      " val_loss: 5.167e+00 val_acc: 0.400 time: 56\n",
      "\n"
     ]
    },
    {
     "name": "stderr",
     "output_type": "stream",
     "text": [
      "100%|██████████| 18/18 [00:00<00:00, 170.50it/s]\n"
     ]
    },
    {
     "name": "stdout",
     "output_type": "stream",
     "text": [
      "#epoch: 1193 \n",
      " train_loss: 7.984e-03 train_acc: 1.000 \n",
      " val_loss: 4.584e+00 val_acc: 0.350 time: 56\n",
      "\n"
     ]
    },
    {
     "name": "stderr",
     "output_type": "stream",
     "text": [
      "100%|██████████| 18/18 [00:00<00:00, 196.00it/s]\n"
     ]
    },
    {
     "name": "stdout",
     "output_type": "stream",
     "text": [
      "#epoch: 1194 \n",
      " train_loss: 7.565e-03 train_acc: 1.000 \n",
      " val_loss: 4.465e+00 val_acc: 0.350 time: 56\n",
      "\n"
     ]
    },
    {
     "name": "stderr",
     "output_type": "stream",
     "text": [
      "100%|██████████| 18/18 [00:00<00:00, 165.56it/s]\n"
     ]
    },
    {
     "name": "stdout",
     "output_type": "stream",
     "text": [
      "#epoch: 1195 \n",
      " train_loss: 1.379e-02 train_acc: 1.000 \n",
      " val_loss: 5.118e+00 val_acc: 0.350 time: 56\n",
      "\n"
     ]
    },
    {
     "name": "stderr",
     "output_type": "stream",
     "text": [
      "100%|██████████| 18/18 [00:00<00:00, 225.74it/s]\n"
     ]
    },
    {
     "name": "stdout",
     "output_type": "stream",
     "text": [
      "#epoch: 1196 \n",
      " train_loss: 6.595e-03 train_acc: 1.000 \n",
      " val_loss: 4.640e+00 val_acc: 0.300 time: 56\n",
      "\n"
     ]
    },
    {
     "name": "stderr",
     "output_type": "stream",
     "text": [
      "100%|██████████| 18/18 [00:00<00:00, 188.24it/s]\n"
     ]
    },
    {
     "name": "stdout",
     "output_type": "stream",
     "text": [
      "#epoch: 1197 \n",
      " train_loss: 3.007e-02 train_acc: 0.986 \n",
      " val_loss: 4.650e+00 val_acc: 0.350 time: 56\n",
      "\n"
     ]
    },
    {
     "name": "stderr",
     "output_type": "stream",
     "text": [
      "100%|██████████| 18/18 [00:00<00:00, 169.02it/s]\n"
     ]
    },
    {
     "name": "stdout",
     "output_type": "stream",
     "text": [
      "#epoch: 1198 \n",
      " train_loss: 5.031e-02 train_acc: 0.986 \n",
      " val_loss: 5.578e+00 val_acc: 0.250 time: 56\n",
      "\n"
     ]
    },
    {
     "name": "stderr",
     "output_type": "stream",
     "text": [
      "100%|██████████| 18/18 [00:00<00:00, 203.14it/s]\n"
     ]
    },
    {
     "name": "stdout",
     "output_type": "stream",
     "text": [
      "#epoch: 1199 \n",
      " train_loss: 8.299e-02 train_acc: 0.958 \n",
      " val_loss: 8.223e+00 val_acc: 0.300 time: 56\n",
      "\n"
     ]
    }
   ],
   "source": [
    "# 初始化\n",
    "device = torch.device(\"cuda\" if torch.cuda.is_available() else \"cpu\")\n",
    "torch.manual_seed(666)\n",
    "torch.cuda.manual_seed(666)\n",
    "\n",
    "# # 训练TENG&压力数据一起\n",
    "# # 参数可选：\"1D-CNN\", \"ResCNN\", \"LSTM-FCN\", \"InceptionTime\"\n",
    "train_main(model_select=\"1D-CNN\", inplanes=7, num_classes=3, batch_size=4, learning_rate=5*1e-2, epoch_max=1200)\n",
    "\n",
    "# train_main(model_select=\"InceptionTime\", inplanes=1, num_classes=10, batch_size=128, learning_rate=5*1e-2, epoch_max=40)\n",
    "\n",
    "# train_main(model_select=\"ResCNN\", inplanes=19, num_classes=12, batch_size=32, learning_rate=5*1e-2, epoch_max=100)\n",
    "\n",
    "# train_main(model_select=\"LSTM-FCN\", inplanes=1, num_classes=10, batch_size=128, learning_rate=5*1e-2, epoch_max=40)\n",
    "\n",
    "# train_main(model_select=\"FR_CNN_Net\", inplanes=1, num_classes=10 ,batch_size=64, learning_rate=5*1e-2, epoch_max=100)\n"
   ]
  },
  {
   "cell_type": "markdown",
   "metadata": {},
   "source": []
  },
  {
   "cell_type": "markdown",
   "metadata": {},
   "source": []
  },
  {
   "cell_type": "code",
   "execution_count": 69,
   "metadata": {},
   "outputs": [],
   "source": [
    "\n",
    "# 打印网络结构\n",
    "# 每次运行需要重启，清空之前缓存变量\n",
    "# 姿态识别所用网络参数结构5*8\n",
    "# models.print_1D_CNN_structure(2,10)\n",
    "# models.print_ResCNN_net_structure(inplanes=2, num_classes=10)\n",
    "# models.print_InceptionTime_net_structure(inplanes=2, num_classes=10)\n",
    "# models.print_LSTM_FCN_net_structure(2, 10)\n",
    "# models.print_FR_CNN_net_structure(inplanes=2, num_classes=10)\n",
    "\n"
   ]
  },
  {
   "cell_type": "code",
   "execution_count": 70,
   "metadata": {},
   "outputs": [
    {
     "name": "stdout",
     "output_type": "stream",
     "text": [
      "[1, 1, 1, 1, 1, 1, 1, 2, 0, 1, 1, 0, 1, 0, 1, 1, 0, 0, 1, 2]\n",
      "[1. 0. 1. 0. 0. 2. 0. 1. 0. 1. 0. 2. 2. 0. 0. 2. 1. 0. 2. 0.]\n"
     ]
    }
   ],
   "source": [
    "\n",
    "# 测试函数\n",
    "# def test_main(\n",
    "\n",
    "inplanes=7\n",
    "num_classes=3\n",
    "state_dict_file='./1D-CNN/Train_20231109-2228/model_20231109-2228/current_w.pth'\n",
    "dataset_file='./1D-CNN/Train_20231109-2228/data_20231109-2228.pth'\n",
    "model = models.Conv1dNet(inplanes, num_classes)\n",
    "model = model.to(device)\n",
    "model.load_state_dict(torch.load(state_dict_file)['state_dict'])\n",
    "test_dataset = torch.load(dataset_file)['val']\n",
    "test_label = torch.load(dataset_file)['label_val']\n",
    "inputs = torch.Tensor(test_dataset).to(device)\n",
    "output = F.log_softmax(model(inputs), dim=1)\n",
    "pred = output.argmax(dim=1)\n",
    "pred_new = pred.cpu().numpy()\n",
    "# pred_count = []\n",
    "# expand = 20\n",
    "# for i in range(len(pred_new) // expand):\n",
    "#     c = np.bincount(pred_new[i * expand:(i + 1) * expand])\n",
    "#     pred_count.append(np.argmax(c))\n",
    "#     print(pred_new[i * expand:(i + 1) * expand].tolist())\n",
    "print(pred_new.tolist())\n",
    "print(test_label)\n",
    "\n",
    "\n",
    "# test_main(inplanes=7, num_classes=3,)"
   ]
  },
  {
   "cell_type": "markdown",
   "metadata": {},
   "source": []
  },
  {
   "cell_type": "code",
   "execution_count": 71,
   "metadata": {},
   "outputs": [
    {
     "name": "stdout",
     "output_type": "stream",
     "text": [
      "tensor(False)\n",
      "tensor(False)\n"
     ]
    }
   ],
   "source": [
    "print(torch.isnan(torch.Tensor(inputs)).any())\n",
    "print(torch.isinf(torch.Tensor(X_train)).any())\n"
   ]
  },
  {
   "cell_type": "code",
   "execution_count": 72,
   "metadata": {},
   "outputs": [
    {
     "name": "stdout",
     "output_type": "stream",
     "text": [
      "tensor([], size=(0, 3), dtype=torch.int64)\n"
     ]
    }
   ],
   "source": [
    "nan_mask = torch.isnan(inputs)\n",
    "nan_indices = torch.nonzero(nan_mask, as_tuple=False)\n",
    "\n",
    "print(nan_indices)"
   ]
  }
 ],
 "metadata": {
  "kernelspec": {
   "display_name": "Python 3.8.0 ('torch')",
   "language": "python",
   "name": "python3"
  },
  "language_info": {
   "codemirror_mode": {
    "name": "ipython",
    "version": 3
   },
   "file_extension": ".py",
   "mimetype": "text/x-python",
   "name": "python",
   "nbconvert_exporter": "python",
   "pygments_lexer": "ipython3",
   "version": "3.8.18"
  },
  "orig_nbformat": 4,
  "vscode": {
   "interpreter": {
    "hash": "815b3c1a48a52fb51e48f639e683a5517ab8baa28b179340773f01ba08445c55"
   }
  }
 },
 "nbformat": 4,
 "nbformat_minor": 2
}
